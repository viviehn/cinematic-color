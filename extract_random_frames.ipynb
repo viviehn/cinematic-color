{
 "cells": [
  {
   "cell_type": "code",
   "execution_count": 2,
   "metadata": {},
   "outputs": [],
   "source": [
    "import cv2\n",
    "import os\n",
    "import glob"
   ]
  },
  {
   "cell_type": "code",
   "execution_count": 25,
   "metadata": {},
   "outputs": [],
   "source": [
    "def extract_every_n_frames(vid_path, frames_dir_path='casual_frames/', n=100):\n",
    "    vid_str = os.path.splitext(os.path.basename(vid_path))[0]\n",
    "    print(vid_str)\n",
    "    cam = cv2.VideoCapture(vid_path)\n",
    "    try: \n",
    "\n",
    "        # creating a folder named data \n",
    "        if not os.path.exists(frames_dir_path): \n",
    "            os.makedirs(frames_dir_path) \n",
    "\n",
    "    # if not created then raise error \n",
    "    except OSError: \n",
    "        print ('Error: Creating directory of data') \n",
    "\n",
    "    # frame \n",
    "    currentframe = 0\n",
    "\n",
    "    while(True): \n",
    "\n",
    "        # reading from frame \n",
    "        ret,frame = cam.read() \n",
    "\n",
    "        if ret and currentframe > 0 and currentframe % n == 0: \n",
    "            # if video is still left continue creating images \n",
    "            name = './{}/{}_{}.jpg'.format(frames_dir_path,vid_str, currentframe)\n",
    "            print ('Creating...' + name) \n",
    "\n",
    "            # writing the extracted images \n",
    "            cv2.imwrite(name, frame) \n",
    "\n",
    "            # increasing counter so that it will \n",
    "            # show how many frames are created \n",
    "        elif not ret: \n",
    "            break\n",
    "        currentframe += 1\n",
    "    # Release all space and windows once done \n",
    "#     cam.release() \n",
    "#     cv2.destroyAllWindows() "
   ]
  },
  {
   "cell_type": "code",
   "execution_count": 3,
   "metadata": {},
   "outputs": [
    {
     "name": "stdout",
     "output_type": "stream",
     "text": [
      "casual_videos\n"
     ]
    }
   ],
   "source": [
    "for vid in glob.glob('casual_videos'):\n",
    "    print(vid)\n",
    "# extract_every_n_frames('casual_videos/vjkOwwGarDc.mp4',n=10)"
   ]
  },
  {
   "cell_type": "code",
   "execution_count": 4,
   "metadata": {},
   "outputs": [],
   "source": [
    "!ls casual_videos"
   ]
  },
  {
   "cell_type": "code",
   "execution_count": null,
   "metadata": {},
   "outputs": [],
   "source": []
  }
 ],
 "metadata": {
  "kernelspec": {
   "display_name": "Python 3",
   "language": "python",
   "name": "python3"
  },
  "language_info": {
   "codemirror_mode": {
    "name": "ipython",
    "version": 3
   },
   "file_extension": ".py",
   "mimetype": "text/x-python",
   "name": "python",
   "nbconvert_exporter": "python",
   "pygments_lexer": "ipython3",
   "version": "3.7.4"
  }
 },
 "nbformat": 4,
 "nbformat_minor": 4
}
