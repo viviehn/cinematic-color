{
 "cells": [
  {
   "cell_type": "code",
   "execution_count": 7,
   "metadata": {
    "scrolled": true
   },
   "outputs": [],
   "source": [
    "# Uncomment to install dependencies\n",
    "#!pip install pandas\n",
    "#!pip install youtube_dl\n",
    "#!pip install --upgrade google-api-python-client google-auth-httplib2 google-auth-oauthlib"
   ]
  },
  {
   "cell_type": "code",
   "execution_count": 8,
   "metadata": {},
   "outputs": [],
   "source": [
    "import pandas as pd\n",
    "import random\n",
    "import json\n",
    "import os\n",
    "from youtube_dl import YoutubeDL\n",
    "\n",
    "from google_auth_oauthlib.flow import InstalledAppFlow\n",
    "from apiclient.discovery import build\n",
    "from apiclient.http import MediaFileUpload\n",
    "from apiclient import errors\n",
    "\n",
    "yt_url_prefix = 'https://www.youtube.com/watch?v='\n",
    "output_folder = 'outputs/'"
   ]
  },
  {
   "cell_type": "code",
   "execution_count": 17,
   "metadata": {},
   "outputs": [
    {
     "name": "stdout",
     "output_type": "stream",
     "text": [
      "Please visit this URL to authorize this application: https://accounts.google.com/o/oauth2/auth?response_type=code&client_id=786879558582-eh0bho168rp2k1qord3av8r5u10q64sl.apps.googleusercontent.com&redirect_uri=http%3A%2F%2Flocalhost%3A56858%2F&scope=https%3A%2F%2Fwww.googleapis.com%2Fauth%2Fdrive&state=Lq5R98UsAek63CkDGzxWZ53RiZXgkC&access_type=offline\n"
     ]
    }
   ],
   "source": [
    "# GOOGLE DRIVE API CONSTANTS\n",
    "flow = InstalledAppFlow.from_client_secrets_file('credentials.json', ['https://www.googleapis.com/auth/drive'])\n",
    "creds = flow.run_local_server(port=0)\n",
    "folder_id = '1UnDIe4VHMM8bZzIfKEG8NJdQGnNrrxEG'\n",
    "drive_api = build('drive', 'v3', credentials=creds)"
   ]
  },
  {
   "cell_type": "code",
   "execution_count": 34,
   "metadata": {
    "collapsed": true
   },
   "outputs": [],
   "source": [
    "# Helpful function\n",
    "def get_file_list_from_folder(service, folder_id):\n",
    "    \"\"\"Print files belonging to a folder.\n",
    "\n",
    "    Args:\n",
    "    service: Drive API service instance.\n",
    "    folder_id: ID of the folder to print files from.\n",
    "    \"\"\"\n",
    "    kwargs = {\n",
    "        \"q\": \"'{}' in parents\".format(folder_id)\n",
    "    }\n",
    "    request = service.files().list(**kwargs)\n",
    "    files = []\n",
    "    while request is not None:\n",
    "        response = request.execute()\n",
    "        # Do stuff with response['files']\n",
    "        files.extend(response['files'])\n",
    "        request = service.files().list_next(request, response)\n",
    "    return files"
   ]
  },
  {
   "cell_type": "code",
   "execution_count": 35,
   "metadata": {},
   "outputs": [],
   "source": [
    "trailers = pd.read_csv(\"trailers.csv\", index_col=0)\n",
    "#trailers"
   ]
  },
  {
   "cell_type": "code",
   "execution_count": 40,
   "metadata": {},
   "outputs": [
    {
     "name": "stdout",
     "output_type": "stream",
     "text": [
      "remaining trailers (len(1507)) {'mp2SbaK8dDg', '8VOAxzgq42A', 'tFMo3UJ4B4g', 'uW_GNKVuZ1c', 'VdCRypsfZDE', 'IRVJwH3hBd0', 'ajhZRL1j7a0', 'MJsDuGRiLqM', 'ePbKGoIGAXY', 'F5-Lv4CJmFM', 'tx6_JMDFfWI', 'Ymoh5SIqgtw', 'rl2bysiyltg', 'foiRWtJTmo0', 'V75dMMIW2B4', 'fcb68kAOvt4', 'rk-dF1lIbIg', 'uSDNZeRX_1Y', 'Fxp32VHaYdE', 'eOrNdBpGMv8', 'dtKMEAXyPkg', '6acRHWnfZAE', 'gJAMYJkA2Uc', 'vco0SpSz17g', 'HdVvjvW_OEo', 'aFtzNHTB4C0', 'K4xD8ZMdJms', 'SbXIj2T-_uk', 'NQu-153MnGQ', '-qJjiq72WOo', 'qP755JkDxyM', 'IIEmUFGJPSw', 'CZIt20emgLY', 'tW17tB8Xwkw', 'xBOAmtjsZeA', 'fAIX12F6958', 'gKTVQPOH8ZA', '5bP1f_1o-zo', 'uEXsOqdzYhE', 'PYPK3jPZkYI', '6SKI9rgqFck', 'oJsRRVXNj4M', '34cEo0VhfGE', 'wmiIUN-7qhE', 'uJQZdk5jMEg', 'AGACeWVdFqo', 'rTL1FmvVCuA', 'gsYKF8ecC8g', 'b_KllgySsPo', 'n6BVyk7hty8', 'jOGDozdW9Yo', 'OvgyXKDXdZY', 'S3AVcCggRnU', '0XAlutSwY0I', '4bqeLmhNbfI', 'hWjlUj7Czlk', 'jN4mg2rESLU', 'qLTDtbYmdWM', 'ue80QwXMRHg', 'rNhV8dk6W2M', 'SCTzYY95Aw4', '2-2x3r1m2I4', 'vmSpCLefjnw', 'ekshABiptOY', 'nijccxWvyXU', 'LxwPUSWRaJo', 'cISh0wmeZBQ', '4Y6T7At_lTk', 's0f3JeDVeEo', '2LeOH9AGJQM', 'eZwnZqKfvzw', '4SerZm7DheA', 'VG9AGf66tXM', 'lTnl4J5y5rw', 'VnmPUW1lAKw', 'puKWa8hrvA8', 'S1x76DoACB8', 'LpKDhoD8PMg', 'iqyxxMFOFa0', 'crrYiYreaLk', 'Kq02sBe5xko', 'ONHBaC-pfsk', 'dKrVegVI0Us', 'LoebZZ8K5N0', '6_m6FXJtIOM', '-CKPj4O5_9s', 'qxjPjPzQ1iU', '86ss__OIscQ', '2ilzidi_J8Q', 'E80GplS1OG8', 'HMfC-vDB10c', 'cl4B9AU45P4', 'Pk0l07gqkvY', 'Hksyh33N5dg', 'E-Sg_zJrDxc', 'LlbN5cQKZik', 'dF-Iy7vIOJA', 'SsjVBE5bE60', 'Aj7ty6sViiU', 'zBvTd9iFqG8', 'y1fZg0hhBX8', 'Gkh_fL_8IzQ', 'R_C_dPHEWN0', 'dSJqhmjYw-o', 'WZAttjca0b8', 'C_Tsj_wTJkQ', '23VflsU3kZE', 'gQT5k8qsI34', 'tg52up16eq0', '-JZ_moituIo', 'J0obOvGGb1U', 'vLkBUix_D3U', 'Vi1uewVWxos', 'Ee92mDZu_PI', '56vPzBENK9Y', 'cVwCxYiKCO0', 'GYF65Vc2MeI', 'PcL24s-S6ns', 'Ut_DsYTMOrQ', 'CfMMosvPHfQ', 'YsqZosCj-qw', 'Im4odVLNxqo', 'W_9rhPDLHWk', '1Er_EeF2Ozc', 'KR5UBtAxseo', '7L8p7_SLzvU', 'uU-ET1FAv3Y', 'SPHfeNgogVs', '6UjbmIoM_aE', 'WIASqPZqnhs', 'JpoabtbEJOI', 'tGpTpVyI_OQ', 'kmJLuwP3MbY', 'TNMpa5yBf5o', 'ImMGNQ2OEjo', 'wZC5FoJ-cPU', 'XsQqMwacZQw', 'bZ7Li5w2I-k', 'jj7eN9avhEc', 'J9DlV9qwtF0', 'vgqG3ITMv1Q', 'xmwfpf9lBwk', 'Ze8Gshk53Y8', 'Q0CbN8sfihY', '2zmy91OrGMA', 'Gvq6cMtT5nA', '6Eey3D-Lybk', 'GOlV6wZLkjY', '6CJUQr4Vs40', 'qg-TZ22fXzg', 'PqxpC_jYncE', 'T0MmkG_nG1U', 'YR8cerFfWZo', 'm_1UrKgvKb0', 'dpFyds_pS2E', 'HHnKnVUySJU', 'BoohRoVA9WQ', 'UHhsEYDg8GI', 'y6ZW7KXaXYk', 'pYrrEUgnT6s', 'o3bUDQv9R3s', 'oaGOEUVl-U8', 'oBfMOmR4S9M', 'gg0VF_EnFI4', 'jsHR77oQKEY', 'z4UDNzXD3qA', '5sEaYB4rLFQ', '0WWzgGyAH6Y', 'NW4a-KBONqg', '0vh908t2W-8', 'SVCHSiRWjJM', '8hYlB38asDY', 'qNggvk8QtaY', 'MxfaGMuiniI', 'lPnY2NjSjrg', 'ZBvK6ni97W8', 'Vso5o11LuGU', 'sd6lb0fPl7g', 'lCkVr1n1eCA', 'LMPyILBePfI', 'BV_nssS6Zkg', 'YxLbHHYGzkg', '4-BTxXm8KSg', 'hHUBpMznFJI', 'HkZYbOH0ujw', '9ZJqxgR-5Xc', 'eogpIG53Cis', 'JdJS07wKUAw', 'sqK_P0yU9jk', 'uQBy6jqbmlU', 'tPq4EJcioKQ', 'AK6EbfdnTHg', 'ejMMn0t58Lc', 'Q8xOgO7_eT8', 'HUECWi5pX7o', 'wUn05hdkhjM', 'oNC3NYWh1vI', '4w8lohkQtbY', 'Tvq3y8BhZ2s', '0f1_fbdB6RQ', '74Cl_KOO-sE', '_MC3XuMvsDI', 'FyKWUTwSYAs', 'bI6Mbg_bMzQ', 'Ww1GiTIJF_Y', 'VpUeQV8sdOc', 'UEXXdpEsmBk', 'BjRNY3u3bUw', 'ZfB8QwYBPxY', 'fPcNbsW69Eg', 'h2_iEZtLEUs', 'KM1OouzGxPM', 'sCytaMge7bY', 'zVCozSQj8TQ', 'aRmhneo5A48', 'XZAvWkBAhkk', 'si3E43eaRac', 'AiAHlZVgXjk', 'eLu3z4Ikwes', 'OrlLcb7zYmw', 'S-UPJyEHmM0', 'grwMv86Af1Y', 'YvV3g8hLlyU', 'wAbGAkkOgcM', 'ORFWdXl_zJ4', 'rC8VJ9aeB_g', 'rFpWpkxsVI8', 'JsPW6Fj3BUI', '4jsFpmFWOSs', 'T7O7BtBnsG4', '-tnxzJ0SSOw', 'iQXmlf3Sefg', 'DN1uhnnKscY', 'R_F-lVhSfx8', 'owK1qxDselE', 'ayTnvVpj9t4', 'bzD8H6o1awQ', 'IT_ufPxiXl8', 'wISRAOb6xm0', 'isx2fYWGmcg', 'r6UmqNuMdY4', '_flR9_6msik', 'aoCP_JHzBUM', 'Z2oSceSYLic', 'jPEYpryMp2s', '10r9ozshGVE', 'UuWmCVdwhKg', '7OIFdWk83no', 'S_9OSktlm6s', 'pK2zYHWDZKo', 'nJCc5HRPxYA', 'yxqrzWe0Ggc', 'IyaFEBI_L24', 'oleuD8479uM', 'x6WRXAJ4jC0', 'u1VCP3O8wG0', '2fRDxdrKH7k', '1Ay_H0p2YDk', 'hB-jNPVK674', 'msxe3yJPfyY', 'XRVD32rnzOw', '7TavVZMewpY', 'w1tfLWxcEzw', 'nX5PwfEMBM0', 'MkvUNfySGQU', 'LHgQSwgKygk', 'TlbtLfWvFbo', 'YtQq0T3ExLs', 'FC6biTjEyZw', '1TxqmlIv1Iw', 'Jvurpf91omw', 'Bgw394ZKsis', 'SziPDANik18', 'VFsmuRPClr4', 'YfQnRjkuvaY', 'SmdsIIdJXrI', 'PqPNksLZIAk', 'x7CAjpdRaXU', '704EXbJ-b5k', 'Qv4Jv15OSGI', '8IdMPpKMdcc', 'ofMkaGkyAPw', 'D86RtevtfrA', 'dwXFsrp6WBs', 'QWBKEmWWL38', 'K0SKf0K3bxg', 'iwROgK94zcM', 'SX9y5JPuRHY', 'F_UxLEqd074', 'qv-6dNqqnMA', 'ufaDurSCKOk', 'by2yMNLmCDs', '3LPANjHlPxo', 'dJ0oNfjzx4k', 'fpj7i2CPt8M', 'OXrcDonY-B8', '8m9EVP8X7N8', 'Bnsesxk5LF4', 'yeMYbwCk91g', 'vHLgob-PpIk', 'vPP6aIw1vgY', 'aCjnUJjWb38', 'IvNkGm8mxiM', 'oBUAQGwzGk0', 'Df1xkYYbYrY', 'zdYYI_2Tudg', 'JQoqsKoJVDw', 'xHuOtLTQ_1I', 'FlNGXOs_vSM', 'P1GRO31ve5Q', 'w5jeBvjcJe4', '336qJITnDi0', 'u9Mv98Gr5pY', 'fSeWHl1PaKs', 'd4RiUy23e9s', 'vZ734NWnAHA', 'RLoKtb4c4W0', 'xKJmEC5ieOk', 'K-H35Mpj4uk', 'ar-IaAx7s8k', 'h6w7Dh-QxzY', '_kbQAJR9YWQ', 'x_-x4Dwz-rU', 'mP0VHJYFOAU', 'hc4CiTvQ-YE', '6PSSxAGSiCY', '8bYBOVWLNIs', 'bN7ksFEVO9U', 'TOQsDiEc7nk', 'YLorLVa95Xo', 'LY19rHKAaAg', 'lwSysg9o7wE', '1OPwZYDgmaY', 'F8_GUrqe5tc', 'zf3KAiimeUg', 'akX3Is3qBpw', 'bUXjqQ4GKRg', 'xU47nhruN-Q', '-43MBOJnVks', 'WDkg3h8PCVU', 'juFmTNbFh8g', 'ZU3Xban0Y6A', 'sipflRaq2vg', 'KecVAykkfCM', 'y-J9bBvO5dk', 'wcra0-0Gu4U', 'oDcaZ3StTfI', '_rRoD28-WgU', 'jfhHg3eeqS0', 'CzYRlISYE8Y', 'GWPfFDAFvNk', 'MVzDKTh49zs', 'LTnCE_SaU38', 'SqSE6Kzuht0', 'Rt2LHkSwdPQ', 'loTIzXAS7v4', '21jdGrCtSak', '0Int9oeZN5o', 'zzjv-GUEDfg', 'X2i9Zz_AqTg', 'LiBzbNk0lZ0', 'cMKX2tE5Luk', 'KLkRbCRWDMQ', 'N8u2L-CqHX8', 'rGSxss7gWak', 'AxQajgTyLcM', '5jaI1XOB-bs', 'SRKjf8b4f2E', 'xBzPioph8CI', 'F2-_OQL9fBk', 'kg_jH47u480', 'W6Mm8Sbe__o', 'S3o-OuxPTog', '50_Ala5BKBo', 'PUhh_g8Hk3w', 'Hjvy8vc39kw', 'UM-Xo8aSbcI', '2v9z9EACSnU', 'c_dNIXwrbzY', 'M4MNNw9ZhrA', 'RLJxoJM_ZbY', '8IAIJQpQuSM', 'z2z857RSfhk', 'FNppLrmdyug', 'xg3znoE9m7I', 's9ZaML_FeaU', 'kk1M_HwmFMM', 'o9-NreR2Ji0', 'tRplNRHOtS0', 'jc86EFjLFV4', 'c5Qph47c2uE', 'Jit3YhGx5pU', '_shrCoqWh9k', '-T3wnP91OnI', '6dzikBZTUy8', 'cdnoqCViqUo', 'ufsrgE0BYf0', '79lG2kyhzm8', 'pq1UChDxlvw', '1RgKlnG5aQY', '1Y0erVF9cLI', '3MBXBMkcUNo', 'd2iy5y0YjGM', 'zSWdZVtXT7E', 'RYExstiQlLc', 'Y2OLRrocn3s', 'm41gObaKgOw', 'KtEIMC58sZo', 'KZkbSUSdqX4', 'G6Hr7wFRmqc', 'FeBa2s4ldU4', 'MKIXQdv4G7o', 'OqVgCfZX-yE', 'HBTObecD93s', 'T_yzxWNEOu8', '7wkih9Yvxq0', 'kQ9_7d7Udjw', 'j2jRs4EAvWM', 'c_Ne5g5F-WY', 'B-RdUcXAKiw', 'n5LoVcVsiSQ', 'Tjtv8tVtVRw', 'A2sGw3w8_HA', 'AMSITikqKiM', 'mJgGUnV9i54', 'bD7bpG-zDJQ', 'pAYEQP8gx3w', 'H0fuHY4U1UA', '2QKg5SZ_35I', 'uxjNDE2fMjI', '9j4htMPgjDc', '_eOI3AamSm8', 'dLmKio67pVQ', '2ywOPNNii9w', 'RPJ4EQ2Eh9I', '-m_GmDZ7pSY', 'UeFni9dOv7c', 'yFLlx-VIQys', 'E_Ci-pAL4eE', 'T3nqmGgnJe8', 'ErjP5xMTc8I', 'LbduDRH2m2M', 'M7XM597XO94', 'V1tE1eGkvL0', 'Z9AYPxH5NTM', '368_ovPsJk8', 'Salz7uGp72c', 'juaP_vRyIGY', '7NWtW699XME', '9FozQnaEZl8', '5kIe6UZHSXw', 'DlM2CWNTQ84', 'TUnylyz5mqQ', '9hXH0Ackz6w', 'frdj1zb9sMY', 'rzH7Jc83eQI', 'uJfLoE6hanc', 'RVzb956kdgc', 'DTBcGQWmQ1c', 'G7nNDKrTrag', 'vn2nCuzTd4w', 'cSo0k5a0l0w', 'dgC9Q0uhX70', '-hQGiozwHiI', 'IA2wo6ap1Wk', 'MyGIlUnX5yI', 'bggUmgeMCdc', 'hpHwdcKDRfI', 'AXCTMGYUg9A', 'Y6Fv5StfAxA', 'JY3u7bB7dZk', 'Fx8gzJIA_gs', 'PQNLfo-SOR4', 'igD-fXiHRRY', 'HIoctqfxNYY', '5TdZQDbRNKU', 'TlbnGSMJQbQ', 'ntxIBzJ0tU8', 'aNQqoExfQsg', 'ejxQOv53lXs', 'KNbPnqyvItk', 'cC6rtOXgn8M', '0KHOVlEpMyY', 'FQ63rqSRrEI', 'lcjN7zkgELM', '5kQnlBW02tI', 'iNamaSjhMbI', 'YbzkK06MJjE', 'QJDRdGxGw8U', 'FKFDkpHCQz4', 'mjKEXxO2KNE', '7bZFr2IA0Bo', 'lOHIvonvjDQ', '-UaGUdNJdRQ', '9ItBvH5J6ss', 'zoKj7TdJk98', '-nEB0oCwgxI', '4GVdbBpVVoc', 'xhYUaR5QiUs', '4P8OxWKgo5E', 'XSF6GPNXr9Y', 'pFc6I0rgmgY', 'rKHL5PyAPzs', 'vSXUgkCjdBM', 'xlnPHQ3TLX8', 'zTvJJnoWIPk', 'sxl4aOyHSwo', 'XPG0MqIcby8', 'O9Y7DTCn7Cc', 'GZ0Bey4YUGI', 'ne6p6MfLBxc', 'Z1BCujX3pw8', '_qApXdc1WPY', 'vlnUa_dNsRQ', 'QKAr42gxjhM', 'KisPhy7T__Q', '4BBiscp2f6g', 'KLIqErnQCuw', 'aVsOXRgjeeU', 'XHk5kCIiGoM', 'zmBDY-fSlIs', 'D_PQhGHnU8Q', '2yJFCSiyTT4', 'W8E1s-XN90c', '3rqc-cFPYKw', 'PHkW3TOl0-0', 'jr9QtXwC9vc', 'azvR__GRQic', 'bY73vFGhSVk', 'AL8jpJkKUnM', 'WtO3CsleMDg', 'Tjes7u9Vewc', 'VQvuC7_qgTE', 'mwbLivFNZok', '6d1Uc68wt3c', '8RHU0X5CYpU', 'VFd3M_qcvi8', 'Zvjmt4pwtdg', 'L_hgrfZVlJA', 'A85EtOalcsM', 'M3ar1tBj_Zk', '0eup3tFOgbk', 'JerVrbLldXw', 'ubn4zeM40tk', 'jvWXV-c2hWo', 'oprJX5BomEc', 'CmRih_VtVAs', 'K9AT3tQGbIk', 'eh_qPcQoFK0', '5AwUdTIbA8I', 'INLzqh7rZ-U', 'eFDq1K4ZTls', '8K0k0EkgXdk', 'F_PfTl63qQQ', 'MZoO8QVMxkk', 'VvHquOz-lDU', 'Du4jTG7-93k', 'BdJKm16Co6M', 'nODrjQUR5YU', 's4C1gnqdrew', 'rFGiHm5WMLk', 'yQy-ANhnUpE', 'xV5udqNpP94', 'pOvfmpgbzHI', 'i-vsILeJ8_8', 'TAqNRH6arUI', '0fvqnGmr9S8', 'U3D2vmWD88w', 'MwTUHhUenWw', 'Slj4-Sv-YNA', 'IfcHoXTlMX0', 'zutiIw_2e2g', 'etEkugzg8zA', 'cxCE9gDm1vo', '0poXFSvX0_4', '7IM9e3yYLzM', '6Vtf0MszgP8', 'YWNWi-ZWL3c', 'eGjXwDYpOLE', 'fdu10cX3pWA', 'utriEZFno0E', 'xayTebKKGDY', '8TQ-gD4UCmI', 'UkDxTQDg10U', '9FhdYOZoKcs', 'uwysOfnX2Qg', 'Kpl79jNEVBI', 'KGN-_J8Hk2s', 'vIu85WQTPRc', 'kJ27kgmhI6Q', 'mbZXAyw_fK0', 'SDnYMbYB-nU', 'FnCdOQsX5kc', 'T6DJcgm3wNY', 'xF9FW5_yDxs', 'UZJVc_JTI_w', 'H34OqD_XmD0', 'eqa5NqcH2og', 'vP0cUBi4hwE', 'e5sGjBIwlAQ', '0pdqf4P9MB8', '2HCR4c1zPyk', 'Ajcdb4FAL7A', 'xjDjIWPwcPU', 'CfsyUyi_FJM', 'NhWg7AQLI_8', 'JuWOj27MyMg', 'gOW_azQbOjw', '7W1m5ER3I1Y', 'BE77igZczlI', 'hJ9tLLLFJu0', '7BWWWQzTpNU', '_PLIHzGLLhs', 'YqcQv3dt_hY', 'VDoNfrBlY3o', 'ngiK1gQKgK8', 'X7bRikS7C3o', 'CZzW6_hR068', 'P3nQP9IZ_pA', 'Div0iP65aZo', '_BcYBFC6zfY', '7PAOsS3HM78', '_kF_sV4-nV8', 'lP4Psj7d1ZI', 'n3iorawVQkw', 'l3XVW676Rus', 'JPSQOomMWro', '40hHA9n4C2o', 'jeKBMdYaM3U', '8qrB9I3DM80', '9xXBjtAGIzE', 'T40uC-SznNs', 'rJrdbpjUaQ8', '7wf8LEeoVS4', 'kdQYcYmvvP0', 'W37DlG1i61s', 'euz-KBBfAAo', 'BNxsaFCzqxc', 'ujmoYyEyDP8', 'sC9abcLLQpI', 'YMmrKORgNFc', 'QvoofruuWk8', 'WfaTlmYvTA8', 'DpSaTrW4leg', 'kKLDqC0rLIY', '44LdLqgOpjo', 'XAHprLW48no', 'LFoz8ZJWmPs', 'JEsqrtp8SAk', 'cp3646Zf8rg', '0G0C-vMHcQY', 'h6hZkvrFIj0', 'Qsr6SgcKNiM', 'I0u9-5lPP4Q', '3sHMCRaS3ao', 'QZ40WlshNwU', 'xa_z57UatDY', 'YxC_JNz5Vbg', 'EYkguxpqsrg', 'yUmSVcttXnI', 'Jgj9Znp76PE', '_pgmFAOgm5E', 'iszwuX1AK6A', 'f6dKhzYgksc', 'lgo3Hb5vWLE', 'RFL8b1p1ELY', '4UPqJsjswG4', 'oQhX4JxGHtw', 'XQ8RMEC6S2E', '0Vsy5KzsieQ', 'KCxBHM17y-4', 'gCcx85zbxz4', '__b9Su1kubg', 'BBEB9OSfeCA', '1NTaDm3atkc', 'hn1j2AywoJw', 'Y_e_XzgStHk', 'bvomHFZO0mk', 'St8oi5wgHYY', 'EjZkJa6Z-SY', 'dOMTh9Jd81w', 'pt6bMHUoE6I', 'UCrBICYM0yM', '3zebJ_NoduE', 'luh9S2bUaFk', 'mbSzbfN9QQA', 'EJXDMwGWhoA', 'r73tMMDKjas', 'RThYD4l1iSc', 'slfrrjPndV4', '4mcVodJmBlU', '1VX7g_4IVfU', '14oNcFxiVaQ', 'bz24m8jAMHM', 'asM2-YAMWxg', '1roy4o4tqQM', 'xNstK5rbzcw', '6bfooooTKyM', '8IBNZ6O2kMk', 'QywEmtslLFI', 'ThMZMdH3gVA', 'B45XU3v9sPw', 'Uv554B7YHk4', 'g4Hbz2jLxvQ', 'HKPy5RWuqNA', '705yRfs6Dbs', 'enJYNuWBJ9g', 'APUqyhgtCfk', 'FsyBwLYDidA', 'JNwNXF9Y6kY', 'ssWbGKTgXFc', 'pzD9zGcUNrw', 'b5_tLazM1_Q', '_9I55rBqzV8', 'I18wDlx6WzI', 'C7pKqaPtMiA', 'T2Dj6ktPU5c', '2ZAdcWHuCmY', '280qnrHpuc8', '_pIEzZVqwFs', 'pna8QJDfJUE', 'iQZL28DywEA', 'doLdmYhpNyc', 'KATn_m-AX9I', 'yXymzwz0V2g', 'gB2bILnrypc', 'o-_IA-MY0mI', '-ziu6JzJTZ0', 'WAVj7WQfMaI', 'YaM5BRXWIHY', 'dr8hmqAgbtg', 'idZPTuwcMJA', 'ety5kOjlXoU', '9NJj12tJzqc', 'suZcGoRLXkU', 'Cj6i2htlkO4', '6EZCBSsBxko', 'W6C6qcCW2JE', 'iYSwdh-GznY', 'AX2uz2XYkbo', '-PAGAOrv6UI', '0FIm5ATyAY0', 'myTaigPrbsg', 'VFwHs7fEUNs', 'JhvrQeY3doI', 'xTPvnQ2wDlI', 'Ci8L9OL95FQ', 'yY9Nm4RF-K0', '1-q8C_c-nlM', '34O01bCEU4A', '20DF6U1HcGQ', '65AjY_nRdqE', '__oEU4P_rL8', '7wd5KEaOtm4', 'gbRDCWKqvEc', 'WcXt9aUMbBk', 'eNj53-mu7xw', 'pDrSA1gTuKc', 'ouVDDB-Oo90', 'Xs7fzOrUopc', 'gsjtg7m1MMM', 'JAUoeqvedMo', 'FHtCaVtryiE', '5guMumPFBag', '6NEtaNmTgwE', 'J1NZJXo-Lso', 'kleG7XCqOb4', 'fgFPIh5mvNc', 'k-OOfW6wWyQ', 'GuyNP-XyFHs', 'rRNvUp4bkbA', 'V9cPxenX1-0', 'CdLxCiVWjnU', 'i3_gKCX4Cik', 'WaG1KZqrLvM', 'XtcpuO4LbUg', 'oquZifON8Eg', 'kMsRpBAEu3g', 'PF5FjuSYU_0', '2wn6pAIRjjY', 'iVc6ZF-urbA', '5CKZwKpV06U', 'xO__UDkLdhU', '43NWzay3W4s', 'jGEERBDelH8', 'w_Ky4KPzKwY', '4sYSyuuLk5g', 'fq2FZdvQXXg', 'LbfMDwc4azU', '7H9jrnOu0rQ', 'e45rAwndek8', 'KHGHEpUeUwo', 'SpKbZ_3zlb0', 'oGYcxjywx0o', 'wBSg5HOpXgs', 'VSB4wGIdDwo', '0KF2XpFyxXk', 'o3VOZUiehpA', 'k64P4l2Wmeg', 'x3ErWNBX9Rc', '0sH0__SpV88', 'XBEVwaJEgaA', 'he21BE70f1Y', 'lyy7y0QOK-0', 'pQmi0vECEqk', 'jIM4-HLtUM0', 'I_tOrWWRivM', 'h5Cb4SFt7gE', '3VUblDwa648', '4OiMOHRDs14', 'AyAg2gu6z0I', 'm6wXYp-AMgs', '7UzSekc0LoQ', '2CkcwPi20ms', 'nSbzyEJ8X9E', 'rGzig4ugMJ0', 'q5VugO68swI', '2LIQ2-PZBC8', 'CI4EjV_x_PQ', 'xbqNb2PFKKA', 'yRUAzGQ3nSY', 'gvxNaSIB_WI', 'cNi_HC839Wo', 'nbNcULQFojc', 'R69laoH02xg', '8ndhidEmUbI', '2tqK_3mKQUw', 'y98AuG2-yU4', '92EBSmxinus', '9XEh7arNSms', 'e3ZtOS4MCkk', 'r9-DM9uBtVI', 'Bkc9c7VXmn8', 'X6qjouwpFho', 'z68frP9Q7XA', 'cB3NW3O_OfE', 'wNAnW6asWEQ', 'EbCoDf44oCE', 'lQ1q_fTC-a8', 'HMnVs287AJ4', 'IXshQ5mv1K8', 'WvAvEcxwglI', 'zVuuooZqVaU', 'rb9a00bXf-U', 'MdENmefJRpw', '-lOUnBsjGuY', 'LKFuXETZUsI', '5NYt1qirBWg', '_axcdhxe_NU', 'cRbAXWfthtA', 'JzcYyzCZdiM', 'Mq4m3yAoW8E', 'KmkVWuP_sO0', 'ErGy23X0B9Q', 'q9y3z-lx-ZE', 'rwTNJgffMco', '8dItOM6eYXY', 'wIKG4s_uSRg', 'JGX4XwYVoIg', 'YU-42pvbBdI', 'z3biFxZIJOQ', 'DzPHzAR9GYw', 'daFnEiLEx70', 'wb49-oV0F78', 'zsgrsiZoymA', 'G9F6VhFY4wY', 'DqQe3OrsMKI', 'EuOlYPSEzSc', 'D2WofresyA4', 'h2tY82z3xXU', 'm4NCribDx4U', 'hSW_xo9bKdQ', '7bfS6seiLhk', '2TQ-pOvI6Xo', 'w3ugHP-yZXw', 'j9Hjrs6WQ8M', 'zlk4aE69iRc', 'vn9mMeWcgoM', 'rGlsxVfCSyQ', 'Yr3tv1hW1gg', 'q-RBA0xoaWU', 'vadCbBuUM0E', 'ijXruSzfGEc', 'UUkn-enk2RU', 'AMaBjE91x4s', 'nI7HVnZlleo', 'KA56LqFszYI', 's2-1hz1juBI', 'AXgyoER0aRc', 'jNuIn4T-CLk', 'PK0xIcWlz9Q', 'PzfEgYJcedw', 'bILE5BEyhdo', '6BS27ngZtxg', 'X6Jtro93YlY', '_13J_9B5jEk', 'B8_dgqfPXFg', 'PfBVIHgQbYk', 'YT9VyEbUkCo', 'zFjaJbihWwc', 'iFFas72-dTY', 'TG5_hQaUUHs', '98Nkqlp_hrg', '5PSNL1qE6VY', '2iQuhsmtfHw', 'cnM-v3p1vvw', 'R1QArbkQsVw', 'go6GEIrcvFY', 'jWM0ct-OLsM', 'U1fu_sA7XhE', 'sCM3HhGUJsM', '62E4FJTwSuc', '2zqy21Z29ps', 'I7NR9MLK5W4', 'C1no75lpOiw', '05y-uHUJtkk', 'aStYWD25fAQ', '2AUmvWm5ZDQ', 'W7w07MLhhb4', 'rvpsiIe2vBE', '7-oN5IEjwIQ', 'v_TJKwJwN0E', 'rGQUKzSDhrg', 'w4GtJB5WAlQ', 'P-Z2mIKWFcg', 'ts7CnU0u4Zk', 'xbQdPBiF3Co', 'wAtaSKQ4-T0', 'nPE0f-MB_bQ', 'Im7n8HGOQMs', 'ip_CYHdyUBs', 'ker49kN5Agk', 'Skpu5HaVkOc', 'neY2xVmOfUM', 'ZS_8btMjx2U', 'DyLUwOcR5pk', 'FAfR8omt-CY', 'ZR5xUl2Suew', 'QlSAiI3xMh4', 'eruwOiHoTTo', 'eWDVBQkBBoE', 'WTt8cCIvGYI', '5ZQVpPiOji0', '6LiKKFZyhRU', 'LRIZ4mCi5Ps', 'iKCw-kqo3cs', '4gQ9oJYLG48', 'I18TOdCvvdM', 'pPi8EQzJ2Bg', 'ftTX4FoBWlE', 'cMVxECWC-vk', 'M3YVTgTl-F0', 'aMcDeNo6KUs', 'NcE2fj-EtJY', 'e3Nl_TCQXuw', 'nPdloBDcDDA', 'RDM75-oXGmQ', 'mdBm8vBpvAc', 'jSeXR0gQHQI', '8lsIrASLD-Q', 'yIUube1pSC0', 'CE3e3hGF2jc', 'EYFhFYoDAo4', 'dZOaI_Fn5o4', 'Gb-jRz7HWqs', 'P1yKN0llkrY', '3jBFwltrxJw', '5_RsHRmIRBY', '0RqDiYnFxTk', 'HydiAICZq6I', 'VlAlF2mL0CQ', 'hIR8Ar-Z4hw', 'w-XO4XiRop0', '097uj1HjkbM', 'DvsZtGxsvV0', 'aylCi6thmHM', 'kliQSsD_npo', 'mpi0qsp3v_w', 't2LI5OOifsQ', '5lGoQhFb4NM', 'NKE-RXR_XIs', 'Biigna1PMOw', 'Yt7ofokzn04', 'LRWJxhP-9n4', 'INJ2bPFy108', 'P_CWNb9zA9U', 'g2eR6j8eocE', 'qmxMAdV6s4U', '53giwyPSDnM', '8BAhwgjMvnM', 'rsBx_eTVSpQ', '6vfCFxwa2kE', '0DpvqzPdXoc', 'kYNqYC_jNAg', 'kl8F-8tR8to', 'w7pYhpJaJW8', 'YG28rBUkgf8', 'ryVsMV9uJVE', '1S8RTKL5cW8', 'xLBZ1_J1xvM', 'sGbxmsDFVnE', 'n-7K_OjsDCQ', 'u5dKMfc2vPo', '5YnGhW4UEhc', 'b6Kq4s0GPfE', 'ArdNQUUcZOM', 'eFFj2gS9UWs', 'MonFNCgK4WE', 'QRmKa7vvct4', 'fGPPfZIvtCw', 'oFTfAdauCOo', 'p4NJHqoojOU', '6kw1UVovByw', 'uUKqXFdH-ck', '1akixU65dDY', 'c3W5HUz7vyY', 'SEJuBrGzPZ4', 'aBJyp2LFHgk', 'sutgWjz10sM', '9PSXjr1gbjc', 'YmvHzCLP6ug', 'gVwycnRGuVs', 'q94n3eWOWXM', '6rbPTQIdjmY', 'o54dMG8TTFs', 'TaA9wnc7mmY', 'sNVGDZHRJXM', 'XrR4SFtr0wg', '-oO6pCRe3pM', 'r5X-hFf6Bwo', 'sRfnevzM9kQ', '4vYQby_hDDU', 'q9Pk_Eq4BUc', '8q-7trUd8Vw', '64-iSYVmMVY', 'q3Zyy4ZXegE', 'dkibUFXnzq4', 'lcOqUE0u1LM', 'z8h3LVb8cl8', 'lcwmDAYt22k', 'pU8-7BX9uxs', 'Dbt7ewqYvRA', 'B-suuEQyoVc', 'WXgcE6_xfR0', 'C6RU5y2fU6s', 'uxdS8TP37I4', 'kWumEBO97l4', '4RI0QvaGoiI', 'jbI1mX9twOs', 'sDdguwKzyWE', '5wfrDhgUMGI', '15syDwC000k', 'g4SiWDIoFhE', 'GmQqhuKmECc', 'OyxfXQ4MGLQ', 'urQVzgEO_w8', 'coOKvrsmQiI', 'mlmkMeWNmc0', 'SRoj3jK37Vc', 'WBQnM3m4SFY', 'jdl6eAIx2K4', 'NWWzve8Z90s', 'IyJo6ESSiMY', 'Y07I_KER5fE', 'jevaUcKLoMY', 'QrB7tmqWrAY', 'MkRWtLG0xks', 'kaU2A7KyOu4', 'w7Z6mGI6dC0', '27zlBpzdOZg', 'vtfwgaHD5_w', 'rX1Lwrt9Bj8', '0XBxoKumlqQ', 'QWbMckU3AOQ', 'WgnrwwiIDlI', 'BBqYaFEWBxI', 'TcMBFSGVi1c', 'fUjicxMPDzs', 'twmQRJJZpfQ', 'MxEw3elSJ8M', '1ovgxN2VWNc', 'NlOF03DUoWc', 'brCu_ifpE28', '9dc5iiT0f1s', 'MbGNcoB2Y4I', '2xD9uTlh5hI', 'TKPmGjVFbrY', '8_rTIAOohas', '6uBC7tvG__Y', 'NwpvjQKdpvI', 'D6WOoUG1eNo', 'lfqHb6INj3w', '6ZfuNTqbHE8', 'VucDGKVqdQA', 'xZ96tl5MrfU', 'C_puVuHoR6o', 'eDDh50B6kA4', '4eaZ_48ZYog', '-jHhRi_rr4g', 'vw61gCe2oqI', 'NkTrG-gpIzE', 'JDJj9X0ZAsM', 'GQR5zsLHbYw', 'MJNR58zaStE', 'PsD0NpFSADM', 'pWdKf3MneyI', 'pMiCJefpn9Q', 'HYoTGYT0-I4', 'ECJNnWRM_xA', '8ZwgoVmILQU', 'cTZAzVzFShw', 'Vtgi55Yz-rE', 'C6PbWhWGUrY', 'GjwfqXTebIY', 'jDtocnE8uKs', 'DdA0CrY1xks', 'xabuZwG3XyM', 'PMA-taGtfXs', 'nrXlY6gzTTM', 'ek1ePFp-nBI', 'WV8bbMxPBdc', 'lvQzb1YMdtY', 'ohkW_xbPl9A', 'eWI_Jsw9qUs', '8L4KvJv_O-c', 'l7zAV_MDC68', 'Ud8j5GaqH3c', '9c3-mpDxX-A', 'jj6wcUes1no', 't6PS196uCzQ', 'ST16k80bDYE', 'XgB4gaY2dWE', 'j3hFD9xqTCU', 'KUTaNMJJBa8', 'JQ9OhBYjTds', 'pHt58hJKfkg', 'ymPUAsPsTwg', 'vzWVVla8WWA', 'xpu9yRO_rvU', 'hFo7eJR2cvc', 'Zm7r491n-8o', 'OiEG3Zr_Jxs', 'oIBtePb-dGY', 'cvCktPUwkW0', 'JM-0Ywc7wNY', 'cuA-xqBw4jE', 'XzFCDqKE4yA', 'XpICoc65uh0', 'kAbxn_F8lps', 's6VmSWkCqWg', 'hA6hldpSTF8', 'rxY9fKgK5OQ', 'MHMdWUeYudk', '76yBTNDB6vU', '2DwNb-ZGVjE', '_mDvXaRJcTM', 'SYb-wkehT1g', 'GzorZUuZqEI', 'IjHgzkQM2Sg', 'm0Xb9BhfVjY', 'sYPXeNzpDJE', '2VVEAkYlA8o', 'Sp1yQfhwvK4', 'YK5hbs4LOI8', 'JcOfJwN0bdY', '16-l-rO5B64', '2PR9MOPTI7g', '1x4OmSgR714', 'DjGf2v2Z-3E', 'bJcLRFWxRno', '2Byk9Is3TjY', 'hZxJzhIPTTg', 'pEI4hHSJsjY', 'Yj4GeCk5SBk', 'EI_3ywJLQio', 'N4wNv1zuYDc', '1HFv47QHWJU', '0LyEE7eR0nM', 'UT5mRId7qUQ', '-44_igsZtgU', 'o2AsIXSh2xo', 'LCywVLaNqCg', 'I5kzcwcQA1Q', 'yqN7nHM1YTA', '0cPJ1ifjBDs', 'WpOXa4uqqfA', 'TVowQ4LgwLk', 'WCN5JJY_wiA', 'HyNJ3UrGk_I', 'KIpGKumxiGg', 'u8jVN5UAji8', 'SzRbK9qIhBs', 'Q7ztHi9ejp4', 'ELeMaP8EPAA', 'N_XACOc1S_Y', '5PwwJ-18Y9g', '7NiYVoqBt-8', 'yISKeT6sDOg', 'fomWLkyO_SY', 'sjp58RDeeIg', 'LdsdcPJ9mcA', '8emJD-rR9Cs', '27dZ5mJBnBY', 'AcVPM3kscww', 'ReIJ1lbL-Q8', '3b946aGm0zs', 'A67eVTHqYAE', '0F8_qdd8iho', 'oHKGx1pzczg', 'EH9CWWqb-6E', 'O7NHfAzg7Yg', 'eEqhj05_v1Q', 'nYHt8SdUj-U', '4haJD6W136c', 'OvW_L8sTu5E', 'Wfql_DoHRKc', 'R1hZNHPVVAQ', 'xLCn88bfW1o', '8NNQqHsIc-4', 'PVgUZ2NSzBo', 'WD79bRPQeAc', 'cPNVNqn4T9I', '0LHxvxdRnYc', 'CvUxdQ4q-Lg', '6FDTMRK7-24', 'ZeUSo8voIXM', 'TfyunOnMGqM', 'AAgnQdiZFsQ', '4OtM9j2lcUA', 'RbcRO1uosiI', 'Sq5CIH0duMk', 'WCWJL6D1SZA', 'dxWvtMOGAhw', 'DiTECkLZ8HM', 'gYbW1F_c9eM', 'wYbXWzef1RM', 'OeaUokzE9fI', 'n2igjYFojUo', '-76o69txkZs', 'aVvgt3jIUsc', '9O1Iy9od7-A', 'omcxaMEGha0', '1zPLzpqjO4U', 'OIx8OGeEh9c', 'QCR_fgG0ydY', 'b75lZw8nkvo', 'vXJJ6fUHNk8', 'ASAGdtAJPnU', 'LebmJcJX3Ck', 'tDMuPw33mQI', '7FIZGHax55c', '2LqzF5WauAw', 'S014oGZiSdI', '8-_9n5DtKOc', 'cSp1dM2Vj48', 'PmUL6wMpMWw', 'YCrqh3aF8gc', 'JYLdTuL9Wjw', 'twuScTcDP_Q', 'PlkWVkpP59U', 'Cn075_DMils', 'KGQHeW5tUC8', 'VVZQ39i5G1s', 't6TRwfxDICM', 'TbQm5doF_Uc', '0iNmVVlmmv8', '-OFKC3nv0oQ', 'T73h5bmD8Dc', 'or_J4mMOH1w', 'tV_IhWE4LP0', '_gdEuuxW-zk', '9oVzgybbU3M', '6Tbkbx4Hz8Q', 'lDVvFUbnqEM', 'oFkulzWMotY', '5yvAWO_HwYY', 'OgPm-yaLoyo', 'qc4-3QmiFak', 'mspnr56tnLA', 'j-IPN9mQnEU', '555oiY9RWM4', '_g-LYqYL3OY', 'OiTiKOy59o4', 't0O2XsTxe3o', '2c3rxHgfRTo', 'TuLX50_5UAI', 'IRsFc2gguEg', 'HSzx-zryEgM', 'nO4j6y9D3A4', 'qc6tL8cd9KQ', 'EH3zcuRQXNo', '7EOTp_QPzY0', '_TLXORFumu0', '4t2tdKD9tPs', 'PLLQK9la6Go', 'bsoJaQ2gZh4', '3CqymRQ1uUU', 'YXu7kqD1JLs', 'Yw-Av9BpC-w', 'xGEJwJ32oBs', 'A2oDiEVXuDo', 'ykHeGtN4m94', 'tRlzmyveDHE', 'CZgN0dpFoaE', 'RXMp9fBomJw', 'vZH0Nf4KLBo', '5Y1ju8QwpQM', 'UrIbxk7idYA', 'ZpqxW0QyCuQ', '9VoNgLnjzVg', 'z7zl_t48CMc', '71rDQ7z4eFg', 'kyQKi5-k0UU', 'T29kIOXpj6o', '2PpgPxjzbkA', 't9QePUT-Yt8', 'c1JKWi7Mc8U', 'Ihb8vCrj2kc', 'WWMGZe6iucw', 'gQHKolIqBGs', 'JbeFIfS8uno', '1kQc3mmtH-o', 'VewQ4Yv6304', 'r0fq5dd0C60', '7Cn716jv61s', '-WdC4DaYIeQ', '63hdx4iYs7k', 'UUxD4-dEzn0', 'tquIfapGVqs', 'uiA4B5Y63IQ', 'YW97nCUE3ZA', 'MEOOas3JZt0', 'xsuG2JUgs_8', 'uvDMfWrNywU', 'MmexgVvm4o8', 'LbkQTB-OJsk', 'PPuk2JQgMkU', 'JF1rLFCdewU', 'e73J71RZRn8', 'xPLSpmAtc1Q', 'gWyQ7euVgFQ', 'bTCaVjQ8nU4', 'bkU7Cl2SSvI', 'k0kJieJ1k6k', 'iBSYxd38eic', 'DEa508Xmmio', 'Uw4wtObPv4k', 'YCysyv0Cfz4', 'wH6PNeTy6Nc', '9fbo_pQvU7M', 'H0RQOT14lck', 'exyzEFrmLuM', '91SMVT1RiPA', 'ByXuk9QqQkk', '2gx8Sx8Ushk', 'Mm9vF4WPGD8', 'aNGhnNMSopI', 'ItJpt-_pdhE', 'ZZGkV_xWGw4', 'mAC-nh9PU5s', 'HcgJRQWxKnw', 'BN4p7XhR16A', 'Mh2ebPxhoLs', 'aXEtR6Hn_nA', 'gUthyrYwXUc', 'HSCQWX-pUSg', 'dP-xFvTIdNk', 'Hgeu5rhoxxY', 'iL8fUQZhPbc', 'mn4O3iQ8B_s', '6kCcZCMYw38', 'HJQDvUVdmJg', 'rAqMlh0b2HU', 'Z2UZwaEUeE0', 'ol-U0ibnVD4', 'bsLk0NPRFAc', 'ltijEmlyqlg', 'TWB_icm5M38', 'oiXdPolca5w', '1Fg5iWmQjwk', 'XNPAd4if3gY', 'gDMa68ptp2w', 'uf2fa08xrIk', '827FNDpQWrQ', 'LwbNYKBKb70', 'QwievZ1Tx-8', 'wsHCoKGxjLk', 'iuAzsEKD_vI', 'jfaqVegF2mo', '2wcj6SrX4zw', 'iGAHnZ555nI', 'P9-FCC6I7u0', '7E_Sg27AXC8', 'JudjRVhIgns', 'oEPbXtiiEGA', 'KlB_Ttvug3Q', 'gIUIefO_2x0', 'H_nTMprod00', 'aw9hlZ2uiII', 'YH9ju47g4x0', 'AjCebKn4iic', 'lwb1cLtWzpE', 'VPg4RgEapwo', 'eyKOgnaf0BU', 'JcpWXaA2qeg', 'HKSZtp_OGHY', 'JU9PdgB3rsk', '3WRxsmqercg', 'NbkyyBu4NF8', 'm9hZ40TJ0zs', 'ytTzLXX2Hek', '2Rxoz13Bthc', 'fis-9Zqu2Ro', '_eFmi1E3s3w', '2RZbwGItfd0', 'BFwGqLa_oAo', 'u_jE7-6Uv7E', 'DwG56k6VGOE', 'bXAwGb6_nEE', 'KwYa7UpoWtM', 'CfBewQPFdKE', '5DEdq57E5ls', 'HZaDbUofNgE', 'Sithad108Og', 'VfYBKDyF-Dk', 'RU3eJmbyqzA', 'G_O0xYCy1cg', 'DBvv2_0EV54', 's9aIuPSvXX8', 'xitHF0IPJSQ', 'QE7CGX1d6LU', '89OP78l9oF0', '-F5WcFPDzko', 'hiMR5DFzPjY', 'THVFkk-sEus', 'JUEofxUjbpM', 'sX9-l0iO5w4', 'mOV86u8Uwho', 'cx3joJnXydc', 'VY67V0wOlz8', 'foyufD52aog', 'p6wk1XySBTk', '5g1SLGRM6qU', 'GNiEbVN-rJk', 'WIj9DYJ5EKk', 'sFNPNT_4Qww', 'YQUkX_XowqI', 'mObK5XD8udk', 'yaqeXXuoD7I', '3KkhD0MnaJU', '6z5Wykasdls', 'p4-6qJzeb3A', 'zefYX6e1g3Y', 'aEr6K1bwIVs', 'a6JB2suJYHM', 'i5qOzqD9Rms', 't-8YsulfxVI', 'ngWBddVNVZs', 'nefD7UOhLCo', 'D_eZxSYRhco', 'hNCmb-4oXJA', 'DfqPjRMsRP0', 'bEOQbdo6MbY', 'Hv3obL9HqyY', 'VhpmWK1nVck', 'lIETukJ-l7c', 'g8evyE9TuYk', '6k8qeqZycgE', 'yPxybc_aJWU', 'WFJgUm7iOKw', 'z02Ie8wKKRg', 'OgBqfw0hINM', 'qMObsIYkqxU', 'FFGaS6MDknY', 'XiHiW4N7-bo', 'GrqpKEOF8uw', 'KzdNrWmAV0E', 'JOsEU5oYpTA', '1Q8fG0TtVAY', 'b7yOuhI1dzU', 'FKp91KONPvY', 'g06k4HOlEbg', 'lcNtt0f6KdM', 'PXi3Mv6KMzY', 'YG_a8lw512A', 'XVjDcUCui0w', 'MFWF9dU5Zc0', 'SEQ8jyvmYtw', 'VsEdmjAudSI', 'Ljk2YJ53_WI', 'CO6qLC4cL8E', 'w9dRrsKRwgA', 'YddkQoxkZMQ', '3B7HG8_xbDw', 'Q61YhARNOPg', 'gPkMx_pfJ5w', 'RXZY_XRjABs', 'GX33bIOA5aA', 'XM0xWpBYlNM', 'flvz5RMRx7E', 'IzgsaBGwap8', 'IpKmt4MpctM', 'N2jJOy8rzog', '1cfklE3-Kes', '4ZhSjX4Mjag', 'adPvbscBK_8', 'bKeW-MGu-qQ'}\n"
     ]
    }
   ],
   "source": [
    "ydl_opts = {\n",
    "    'outtmpl': output_folder + '%(id)s.%(ext)s',\n",
    "    'format': 'bestvideo'\n",
    "}\n",
    "\n",
    "uploaded = get_file_list_from_folder(drive_api, folder_id)\n",
    "#print(uploaded)\n",
    "uploaded = [d['name'].split('.')[0] for d in uploaded]\n",
    "duplicates = pd.Series(uploaded).value_counts()\n",
    "uploaded = set(uploaded)\n",
    "#print(duplicates)\n",
    "#print(f'files already uploaded {uploaded}')\n",
    "\n",
    "all_to_download = set(trailers['youtube_key'])\n",
    "#print(f'files already uploaded & requested for upload{uploaded & all_to_download}')\n",
    "remaining_trailers = all_to_download - uploaded\n",
    "print(f'remaining trailers (len({len(remaining_trailers)})) {remaining_trailers}')"
   ]
  },
  {
   "cell_type": "code",
   "execution_count": null,
   "metadata": {
    "scrolled": true
   },
   "outputs": [
    {
     "name": "stdout",
     "output_type": "stream",
     "text": [
      "Downloading mp2SbaK8dDg\n",
      "[youtube] mp2SbaK8dDg: Downloading webpage\n",
      "[youtube] mp2SbaK8dDg: Downloading video info webpage\n",
      "[download] outputs/mp2SbaK8dDg.mp4 has already been downloaded\n",
      "[download] 100% of 56.20MiB\n",
      "mp2SbaK8dDg.mp4\n",
      "Uploading file mp2SbaK8dDg.mp4...\n",
      "Created file 'mp2SbaK8dDg.mp4' id '1bEv5uG8j0eqv0OXZ5e3Vg9Ebz9hW2DJQ'.\n",
      "Removed mp2SbaK8dDg.mp4\n",
      "Success!\n",
      "\n",
      "Downloading 8VOAxzgq42A\n",
      "[youtube] 8VOAxzgq42A: Downloading webpage\n",
      "[youtube] 8VOAxzgq42A: Downloading video info webpage\n",
      "[download] outputs/8VOAxzgq42A.mp4 has already been downloaded\n",
      "[download] 100% of 35.17MiB\n",
      "8VOAxzgq42A.mp4\n",
      "Uploading file 8VOAxzgq42A.mp4...\n",
      "Created file '8VOAxzgq42A.mp4' id '1i5qGnH8pYxR1rwlCuAJgH0BEJzjaIgE4'.\n",
      "Removed 8VOAxzgq42A.mp4\n",
      "Success!\n",
      "\n",
      "Downloading tFMo3UJ4B4g\n",
      "[youtube] tFMo3UJ4B4g: Downloading webpage\n",
      "[youtube] tFMo3UJ4B4g: Downloading video info webpage\n",
      "[download] outputs/tFMo3UJ4B4g.webm has already been downloaded\n",
      "[download] 100% of 13.86MiB\n",
      "tFMo3UJ4B4g.webm\n",
      "Uploading file tFMo3UJ4B4g.webm...\n",
      "Created file 'tFMo3UJ4B4g.webm' id '1Jo0Gj68hWz0WWBX5_q_nrofEVLQsze32'.\n",
      "Removed tFMo3UJ4B4g.webm\n",
      "Success!\n",
      "\n",
      "Downloading uW_GNKVuZ1c\n",
      "[youtube] uW_GNKVuZ1c: Downloading webpage\n",
      "[youtube] uW_GNKVuZ1c: Downloading video info webpage\n",
      "[download] Resuming download at byte 12858898\n",
      "[download] Destination: outputs/uW_GNKVuZ1c.mp4\n",
      "[download] 100% of 16.70MiB in 00:0103MiB/s ETA 00:006\n",
      "uW_GNKVuZ1c.mp4\n",
      "Uploading file uW_GNKVuZ1c.mp4...\n",
      "Created file 'uW_GNKVuZ1c.mp4' id '1W75HVgV7SQZYYHH6rgCR01MCWEldt08u'.\n",
      "Removed uW_GNKVuZ1c.mp4\n",
      "Success!\n",
      "\n",
      "Downloading VdCRypsfZDE\n",
      "[youtube] VdCRypsfZDE: Downloading webpage\n",
      "[youtube] VdCRypsfZDE: Downloading video info webpage\n",
      "[youtube] VdCRypsfZDE: Downloading MPD manifest\n",
      "[dashsegments] Total fragments: 23\n",
      "[download] Destination: outputs/VdCRypsfZDE.mp4\n",
      "[download] 100% of 50.98MiB in 00:25.46MiB/s ETA 00:0007:44\n",
      "VdCRypsfZDE.mp4\n",
      "Uploading file VdCRypsfZDE.mp4...\n"
     ]
    }
   ],
   "source": [
    "with YoutubeDL(ydl_opts) as ydl:\n",
    "    for t in remaining_trailers:\n",
    "        try:\n",
    "            # Helpful Constants\n",
    "            yt_link = yt_url_prefix + t\n",
    "\n",
    "            # Download Video\n",
    "            print(f\"Downloading {t}\")\n",
    "            trailer_yt_info = ydl.extract_info(yt_link, download=True)\n",
    "            \n",
    "            # Determine File Name\n",
    "            file_name = [f for f in os.listdir(output_folder) if t in f][0]\n",
    "            print(file_name)\n",
    "\n",
    "            # Upload to Drive\n",
    "            print(f\"Uploading file {file_name}...\")\n",
    "            body = {'name': file_name, 'parents': [folder_id]}\n",
    "            media = MediaFileUpload(output_folder + file_name)\n",
    "            fiahl = drive_api.files().create(body=body, media_body=media).execute()\n",
    "            print(f\"Created file '{fiahl.get('name')}' id '{fiahl.get('id')}'.\")\n",
    "\n",
    "            # Delete video from hard drive\n",
    "            os.remove(output_folder + file_name)\n",
    "            print(f\"Removed {file_name}\")\n",
    "            print(\"Success!\")\n",
    "        except Exception as e:\n",
    "            print(f\"Failed with exception {e}\")\n",
    "        print()\n",
    "        \n"
   ]
  },
  {
   "cell_type": "code",
   "execution_count": null,
   "metadata": {
    "collapsed": true
   },
   "outputs": [],
   "source": []
  }
 ],
 "metadata": {
  "kernelspec": {
   "display_name": "Python 3",
   "language": "python",
   "name": "python3"
  },
  "language_info": {
   "codemirror_mode": {
    "name": "ipython",
    "version": 3
   },
   "file_extension": ".py",
   "mimetype": "text/x-python",
   "name": "python",
   "nbconvert_exporter": "python",
   "pygments_lexer": "ipython3",
   "version": "3.6.3"
  }
 },
 "nbformat": 4,
 "nbformat_minor": 4
}
