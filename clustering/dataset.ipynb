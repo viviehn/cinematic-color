{
 "cells": [
  {
   "cell_type": "code",
   "execution_count": 1,
   "metadata": {},
   "outputs": [],
   "source": [
    "%load_ext autoreload\n",
    "%autoreload 2\n",
    "# Helper libraries\n",
    "import matplotlib\n",
    "from matplotlib import gridspec\n",
    "from matplotlib import pyplot as plt\n",
    "import numpy as np\n",
    "from PIL import Image\n",
    "import cv2 as cv\n",
    "from tqdm import tqdm\n",
    "import IPython\n",
    "from sklearn.metrics import confusion_matrix\n",
    "from tabulate import tabulate\n",
    "import os\n",
    "\n",
    "import glob\n",
    "import pandas as pd\n",
    "import random\n",
    "from colour.plotting import *\n",
    "\n",
    "from mpl_toolkits.mplot3d import Axes3D\n",
    "from matplotlib import cm\n",
    "from matplotlib import colors\n",
    "import data_utils as data_utils\n",
    "import tqdm\n",
    "\n",
    "import multiprocessing\n",
    "from functools import partial"
   ]
  },
  {
   "cell_type": "markdown",
   "metadata": {},
   "source": [
    "## Load data from csv and json"
   ]
  },
  {
   "cell_type": "code",
   "execution_count": 2,
   "metadata": {},
   "outputs": [
    {
     "name": "stdout",
     "output_type": "stream",
     "text": [
      "Column names are , tmdb_id, tmdb_title, trailer_title, trailer_youtube_key\n",
      "1187\n"
     ]
    }
   ],
   "source": [
    "csv_path = '../data/trailers.csv'\n",
    "metadata_path = '../data/movie_details.json'\n",
    "\n",
    "metadata = data_utils.load_json(metadata_path, csv_path)\n",
    "print(len(metadata))"
   ]
  },
  {
   "cell_type": "code",
   "execution_count": 48,
   "metadata": {},
   "outputs": [
    {
     "name": "stdout",
     "output_type": "stream",
     "text": [
      "All genres in this dataset:  dict_keys(['Drama', 'Crime', 'History', 'War', 'Romance', 'Animation', 'Family', 'Fantasy', 'Thriller', 'Comedy', 'Action', 'Adventure', 'ScienceFiction', 'Horror', 'Western', 'Music', 'Mystery', 'TVMovie'])\n"
     ]
    }
   ],
   "source": [
    "all_genres = {}\n",
    "for vid_key in metadata.keys():\n",
    "    genres =  metadata[vid_key]['genres']\n",
    "    genre_names = [''.join(g['name'].split(' ')) for g in genres]\n",
    "    for genre in genres:\n",
    "        genre_name = ''.join(genre['name'].split(' '))\n",
    "        if genre_name not in all_genres.keys():\n",
    "            all_genres[genre_name] = [{metadata[vid_key]['yt_filename']: genre_names}]\n",
    "        else:\n",
    "            all_genres[genre_name].append({metadata[vid_key]['yt_filename']: genre_names})\n",
    "print('All genres in this dataset: ', all_genres.keys())"
   ]
  },
  {
   "cell_type": "code",
   "execution_count": 49,
   "metadata": {},
   "outputs": [
    {
     "name": "stdout",
     "output_type": "stream",
     "text": [
      "['Action', 'Family', 'Fantasy', 'Romance', 'Thriller', 'Comedy', 'Horror', 'ScienceFiction']\n",
      "448\n",
      "199\n",
      "234\n",
      "158\n",
      "334\n",
      "343\n",
      "117\n",
      "260\n",
      "{'kmJLuwP3MbY': ['Drama', 'Action', 'Crime', 'Thriller']}\n"
     ]
    }
   ],
   "source": [
    "with open('classes.txt') as f:\n",
    "    class_list = [line.rstrip() for line in f]\n",
    "print(class_list)\n",
    "for c in class_list:\n",
    "    print(len(all_genres[c]))\n",
    "    \n",
    "print(all_genres['Action'][0])"
   ]
  },
  {
   "cell_type": "markdown",
   "metadata": {},
   "source": [
    "## Split videos from /data dir into frames"
   ]
  },
  {
   "cell_type": "code",
   "execution_count": 5,
   "metadata": {},
   "outputs": [
    {
     "name": "stderr",
     "output_type": "stream",
     "text": [
      "100%|██████████| 35/35 [02:53<00:00,  4.96s/it]\n"
     ]
    }
   ],
   "source": [
    "genre = 'War'\n",
    "save_path = os.path.join('/home/bmild/comp-color/data', genre)\n",
    "if not os.path.exists(save_path):\n",
    "    os.makedirs(save_path)\n",
    "vid_paths = [os.path.join('/home/bmild/comp-color/data', video_path + '.mp4') for video_path in all_genres[genre]]\n",
    "#     print(vid_paths[0])\n",
    "#     print(save_path)\n",
    "#     data_utils.extract_every_n_frames(vid_paths[0], frames_dir_path=save_path, n=10)\n",
    "\n",
    "objPool = multiprocessing.Pool(8)\n",
    "r = list(tqdm.tqdm(objPool.imap(partial(data_utils.extract_every_n_frames, frames_dir_path=save_path, n=10), \n",
    "                  vid_paths), total=len(vid_paths)))\n",
    "objPool.close()\n",
    "objPool.join()"
   ]
  },
  {
   "cell_type": "code",
   "execution_count": null,
   "metadata": {},
   "outputs": [],
   "source": [
    "for genre in class_list:\n",
    "    vid_paths = ['/home/bmild/comp-color/data/{}/{}'.format(genre, video_path) for video_path in all_genres[genre]]\n",
    "    objPool = multiprocessing.Pool(8)\n",
    "    r = list(tqdm.tqdm(objPool.imap(partial(data_utils.clean_frames, remove_beg_end=True, secs_to_remove=5, incr=10), \n",
    "                      vid_paths), total=len(vid_paths)))\n",
    "    objPool.close()\n",
    "    objPool.join()"
   ]
  },
  {
   "cell_type": "code",
   "execution_count": 7,
   "metadata": {},
   "outputs": [
    {
     "name": "stdout",
     "output_type": "stream",
     "text": [
      "158\n",
      "891\n"
     ]
    }
   ],
   "source": [
    "no_anim_keys = []\n",
    "for vid_key in metadata.keys():\n",
    "    genres = [g['name'] for g in metadata[vid_key]['genres']]\n",
    "    if 'Animation' not in genres:\n",
    "        no_anim_keys.append(vid_key)\n",
    "        \n",
    "random.shuffle(no_anim_keys)\n",
    "split = int(len(no_anim_keys)*.85)\n",
    "train_vids = no_anim_keys[:split]\n",
    "val_vids = no_anim_keys[split:]\n",
    "print(len(val_vids))\n",
    "print(len(train_vids))"
   ]
  },
  {
   "cell_type": "code",
   "execution_count": 8,
   "metadata": {},
   "outputs": [
    {
     "name": "stdout",
     "output_type": "stream",
     "text": [
      "['Action', 'Family', 'Fantasy', 'Romance', 'Thriller', 'Comedy', 'Horror', 'ScienceFiction']\n"
     ]
    }
   ],
   "source": [
    "with open('classes.txt') as f:\n",
    "    class_list = [line.rstrip() for line in f]\n",
    "print(class_list)"
   ]
  },
  {
   "cell_type": "code",
   "execution_count": 16,
   "metadata": {},
   "outputs": [
    {
     "name": "stderr",
     "output_type": "stream",
     "text": [
      "100%|██████████| 891/891 [02:08<00:00,  6.94it/s]\n"
     ]
    }
   ],
   "source": [
    "text_path = 'train_6.txt'\n",
    "vid_list = train_vids\n",
    "\n",
    "\n",
    "with open(text_path, 'w+') as f:\n",
    "    for v in tqdm.tqdm(vid_list):\n",
    "        genres = [g['name'] for g in metadata[v]['genres']]\n",
    "        sampled_frames = None\n",
    "        for g in genres:\n",
    "            filename = metadata[v]['yt_filename']\n",
    "            search_file = '/home/bmild/comp-color/data/{}/{}_*.jpg'.format(g, filename)\n",
    "#             print(search_file)\n",
    "            vid_frames = glob.glob(search_file)\n",
    "            if len(vid_frames) != 0:\n",
    "                if len(vid_frames) >= 20:\n",
    "                    for i in range(10):\n",
    "                        sampled_frames = random.sample(vid_frames, 20)\n",
    "                        vid_class_nums = np.intersect1d(genres, class_list, return_indices=True)[2].reshape(-1)\n",
    "                        one_hot_classes = np.zeros(len(class_list))\n",
    "                        np.put(one_hot_classes, vid_class_nums, 1)\n",
    "                        one_hot_str = ''\n",
    "                        for c in one_hot_classes:\n",
    "                            one_hot_str += str(int(c)) + ','\n",
    "                        one_hot_str = one_hot_str[:-1]\n",
    "                        f.write(','.join(sampled_frames) + ',' + one_hot_str + '\\n')        "
   ]
  },
  {
   "cell_type": "code",
   "execution_count": 17,
   "metadata": {},
   "outputs": [],
   "source": [
    "text_path = 'train_5.txt'\n",
    "with open(text_path) as f:\n",
    "    data = [l for l in f]\n",
    "random.shuffle(data)\n",
    "with open(text_path, 'w') as f:\n",
    "    for d in data:\n",
    "        f.write(d)"
   ]
  },
  {
   "cell_type": "code",
   "execution_count": 35,
   "metadata": {},
   "outputs": [
    {
     "data": {
      "text/plain": [
       "1"
      ]
     },
     "execution_count": 35,
     "metadata": {},
     "output_type": "execute_result"
    }
   ],
   "source": [
    "len(glob.glob('/home/bmild/comp-color/data/Action/'))"
   ]
  },
  {
   "cell_type": "code",
   "execution_count": 51,
   "metadata": {},
   "outputs": [
    {
     "name": "stdout",
     "output_type": "stream",
     "text": [
      "['Action', 'Family', 'Fantasy', 'Romance', 'Thriller', 'Comedy', 'Horror', 'ScienceFiction']\n"
     ]
    }
   ],
   "source": [
    "list(all_genres['ScienceFiction'][0].values())[0]\n",
    "print(class_list)"
   ]
  },
  {
   "cell_type": "code",
   "execution_count": 52,
   "metadata": {},
   "outputs": [],
   "source": [
    "train_path = 'train_6.txt'\n",
    "val_path = 'val_6.txt'\n",
    "from random import shuffle\n",
    "with open(train_path, 'w+') as f:\n",
    "    with open(val_path, 'w+') as f2:\n",
    "\n",
    "        for g in class_list:\n",
    "            count = 0\n",
    "            genre_vids = all_genres[g].copy()\n",
    "            shuffle(genre_vids)\n",
    "            idx = 0\n",
    "            while count < 100:\n",
    "                vid_id = list(genre_vids[idx].keys())[0]\n",
    "                genres = list(genre_vids[idx].values())\n",
    "                if 'Animation' not in genres:\n",
    "                    vid_frames = glob.glob('/home/bmild/comp-color/data/{}/{}_*.jpg'.format(g, vid_id))\n",
    "                    if len(vid_frames) != 0:\n",
    "                        if len(vid_frames) >= 20:\n",
    "                            for i in range(10):\n",
    "                                sampled_frames = random.sample(vid_frames, 20)\n",
    "                                vid_class_nums = np.intersect1d(genres, class_list, return_indices=True)[2].reshape(-1)\n",
    "                                one_hot_classes = np.zeros(len(class_list))\n",
    "                                np.put(one_hot_classes, vid_class_nums, 1)\n",
    "                                one_hot_str = ''\n",
    "                                for c in one_hot_classes:\n",
    "                                    one_hot_str += str(int(c)) + ','\n",
    "                                one_hot_str = one_hot_str[:-1]\n",
    "                                if count < 85:\n",
    "                                    f.write(','.join(sampled_frames) + ',' + one_hot_str + '\\n')\n",
    "                                else:\n",
    "                                    f2.write(','.join(sampled_frames) + ',' + one_hot_str + '\\n')\n",
    "                    count += 1\n",
    "                idx += 1\n",
    "        "
   ]
  },
  {
   "cell_type": "code",
   "execution_count": 53,
   "metadata": {},
   "outputs": [],
   "source": [
    "text_path = 'train_6.txt'\n",
    "with open(text_path) as f:\n",
    "    data = [l for l in f]\n",
    "random.shuffle(data)\n",
    "with open(text_path, 'w') as f:\n",
    "    for d in data:\n",
    "        f.write(d)\n",
    "        \n",
    "text_path = 'val_6.txt'\n",
    "with open(text_path) as f:\n",
    "    data = [l for l in f]\n",
    "random.shuffle(data)\n",
    "with open(text_path, 'w') as f:\n",
    "    for d in data:\n",
    "        f.write(d)"
   ]
  },
  {
   "cell_type": "code",
   "execution_count": null,
   "metadata": {},
   "outputs": [],
   "source": []
  }
 ],
 "metadata": {
  "kernelspec": {
   "display_name": "Python 3",
   "language": "python",
   "name": "python3"
  },
  "language_info": {
   "codemirror_mode": {
    "name": "ipython",
    "version": 3
   },
   "file_extension": ".py",
   "mimetype": "text/x-python",
   "name": "python",
   "nbconvert_exporter": "python",
   "pygments_lexer": "ipython3",
   "version": "3.7.4"
  }
 },
 "nbformat": 4,
 "nbformat_minor": 4
}
