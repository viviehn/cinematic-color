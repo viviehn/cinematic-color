{
 "cells": [
  {
   "cell_type": "code",
   "execution_count": 19,
   "metadata": {},
   "outputs": [],
   "source": [
    "import pandas as pd\n",
    "import random\n",
    "import json\n",
    "from youtube_dl import YoutubeDL\n",
    "\n",
    "download_dir = \"outputs\""
   ]
  },
  {
   "cell_type": "code",
   "execution_count": 20,
   "metadata": {},
   "outputs": [],
   "source": [
    "trailers = pd.read_csv(\"trailers.csv\", index_col=0)\n",
    "#trailers"
   ]
  },
  {
   "cell_type": "code",
   "execution_count": 21,
   "metadata": {},
   "outputs": [],
   "source": [
    "trailer_yt_links = 'https://www.youtube.com/watch?v=' + trailers['youtube_key']\n",
    "#trailer_yt_links"
   ]
  },
  {
   "cell_type": "code",
   "execution_count": null,
   "metadata": {},
   "outputs": [
    {
     "name": "stdout",
     "output_type": "stream",
     "text": [
      "[youtube] K_tLp7T6U1c: Downloading webpage\n",
      "[youtube] K_tLp7T6U1c: Downloading embed webpage\n",
      "[youtube] K_tLp7T6U1c: Refetching age-gated info webpage\n",
      "[download] outputs/The Shawshank Redemption - Trailer.mp4 has already been downloaded\n",
      "[download] 100% of 9.62MiB\n",
      "[youtube] uMwECVb1q54: Downloading webpage\n",
      "[youtube] uMwECVb1q54: Downloading embed webpage\n",
      "[youtube] uMwECVb1q54: Refetching age-gated info webpage\n",
      "[download] outputs/The Shawshank Redemption - Trailer.mp4 has already been downloaded\n",
      "[download] 100% of 9.62MiB\n",
      "[youtube] BXUEUwwgIyU: Downloading webpage\n",
      "[youtube] BXUEUwwgIyU: Downloading video info webpage\n",
      "[youtube] BXUEUwwgIyU: Downloading MPD manifest\n",
      "[download] outputs/The Shawshank Redemption (1994) Re-Release Trailer.mp4 has already been downloaded\n",
      "[download] 100% of 37.99MiB\n",
      "[youtube] EsHlXpbMPOc: Downloading webpage\n",
      "[youtube] EsHlXpbMPOc: Downloading video info webpage\n",
      "[youtube] EsHlXpbMPOc: Downloading MPD manifest\n",
      "[dashsegments] Total fragments: 25\n",
      "[download] Destination: outputs/The Shawshank Redemption (1994) — Remastered Original Trailer.mp4\n",
      "[download] 100% of 42.07MiB in 00:21.77MiB/s ETA 00:00005\n",
      "[youtube] _IqFJLdV13o: Downloading webpage\n",
      "[youtube] _IqFJLdV13o: Downloading video info webpage\n",
      "[download] Destination: outputs/The Godfather - Official® Trailer [HD].mp4\n",
      "[download]  52.6% of 60.35MiB at 846.59KiB/s ETA 00:3411"
     ]
    }
   ],
   "source": [
    "ydl_opts = {\n",
    "    'outtmpl': download_dir + '/%(title)s.%(ext)s',\n",
    "    'format': 'bestvideo'\n",
    "}\n",
    "num_trailers_max = 100\n",
    "with YoutubeDL(ydl_opts) as ydl:\n",
    "    for t in trailer_yt_links[:num_trailers_max]:\n",
    "        ydl.download([t])\n"
   ]
  },
  {
   "cell_type": "code",
   "execution_count": null,
   "metadata": {
    "collapsed": true
   },
   "outputs": [],
   "source": []
  }
 ],
 "metadata": {
  "kernelspec": {
   "display_name": "Python 3",
   "language": "python",
   "name": "python3"
  },
  "language_info": {
   "codemirror_mode": {
    "name": "ipython",
    "version": 3
   },
   "file_extension": ".py",
   "mimetype": "text/x-python",
   "name": "python",
   "nbconvert_exporter": "python",
   "pygments_lexer": "ipython3",
   "version": "3.6.3"
  }
 },
 "nbformat": 4,
 "nbformat_minor": 4
}
