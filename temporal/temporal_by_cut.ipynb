{
 "cells": [
  {
   "cell_type": "code",
   "execution_count": 1,
   "metadata": {},
   "outputs": [],
   "source": [
    "# Install Dependencies\n",
    "#!pip install scikit-image\n",
    "#!pip install scenedetect[opencv,progress_bar]"
   ]
  },
  {
   "cell_type": "code",
   "execution_count": 2,
   "metadata": {},
   "outputs": [],
   "source": [
    "from __future__ import print_function\n",
    "import io\n",
    "import os\n",
    "\n",
    "import pandas as pd\n",
    "import numpy as np\n",
    "\n",
    "from skimage import color\n",
    "import cv2\n",
    "\n",
    "import scenedetect\n",
    "from scenedetect.video_manager import VideoManager\n",
    "from scenedetect.scene_manager import SceneManager\n",
    "from scenedetect.frame_timecode import FrameTimecode\n",
    "from scenedetect.stats_manager import StatsManager\n",
    "from scenedetect.detectors import ContentDetector\n",
    "\n",
    "STATS_FILE_PATH = 'testvideo.stats.csv'\n",
    "dataset_folder = \"../../data/\"\n",
    "cuts_folder = \"../../data/cuts/\"\n",
    "analysis_folder = \"../../data/analysis/variation\""
   ]
  },
  {
   "cell_type": "code",
   "execution_count": 3,
   "metadata": {},
   "outputs": [],
   "source": [
    "downloaded = [f for f in os.listdir(dataset_folder) if os.path.isfile(os.path.join(dataset_folder, f))]"
   ]
  },
  {
   "cell_type": "markdown",
   "metadata": {},
   "source": [
    "# Find video cuts"
   ]
  },
  {
   "cell_type": "code",
   "execution_count": 4,
   "metadata": {},
   "outputs": [
    {
     "name": "stdout",
     "output_type": "stream",
     "text": [
      "Finding cuts of Video ../../data/7TavVZMewpY.mp4: 2002/20022\r"
     ]
    }
   ],
   "source": [
    "for i, vid_file in enumerate(downloaded):\n",
    "    video_dir = os.path.join(dataset_folder, vid_file)\n",
    "    print(f\"Finding cuts of Video {video_dir}: {i+1}/{len(downloaded)}\", end='\\r')\n",
    "    \n",
    "    # Check for already existing files and skip if already calculated\n",
    "    yt_id = vid_file.split('.')[0]\n",
    "    vid_cut_file = f'{yt_id}_cuts.npy'\n",
    "    vid_cut_dir = os.path.join(cuts_folder, vid_cut_file)\n",
    "    if os.path.exists(vid_cut_dir):\n",
    "        continue\n",
    "    \n",
    "    # Create a video_manager point to video file testvideo.mp4. Note that multiple\n",
    "    # videos can be appended by simply specifying more file paths in the list\n",
    "    # passed to the VideoManager constructor. Note that appending multiple videos\n",
    "    # requires that they all have the same frame size, and optionally, framerate.\n",
    "    try:\n",
    "        video_manager = VideoManager([video_dir])\n",
    "        stats_manager = StatsManager()\n",
    "        scene_manager = SceneManager(stats_manager)\n",
    "        # Add ContentDetector algorithm (constructor takes detector options like threshold).\n",
    "        scene_manager.add_detector(ContentDetector())\n",
    "        base_timecode = video_manager.get_base_timecode()\n",
    "\n",
    "        try:\n",
    "            # Set downscale factor to improve processing speed (no args means default).\n",
    "            video_manager.set_downscale_factor()\n",
    "\n",
    "            # Start video_manager.\n",
    "            video_manager.start()\n",
    "\n",
    "            # Perform scene detection on video_manager.\n",
    "            scene_manager.detect_scenes(frame_source=video_manager)\n",
    "\n",
    "            # Obtain list of detected scenes.\n",
    "            scene_list = scene_manager.get_scene_list(base_timecode)\n",
    "            # Like FrameTimecodes, each scene in the scene_list can be sorted if the\n",
    "            # list of scenes becomes unsorted.\n",
    "\n",
    "            times = np.array([s[0].get_frames() for s in scene_list])\n",
    "            np.save(vid_cut_dir, times)\n",
    "        finally:\n",
    "            video_manager.release()\n",
    "    except:\n",
    "        pass"
   ]
  },
  {
   "cell_type": "markdown",
   "metadata": {},
   "source": [
    "# Collect histogram variation between frames and cuts"
   ]
  },
  {
   "cell_type": "code",
   "execution_count": 5,
   "metadata": {},
   "outputs": [],
   "source": [
    "# histogram similarity metrics\n",
    "def norm_hist(H):\n",
    "    return H / H.size\n",
    "\n",
    "def hist_correlation(H1, H2):\n",
    "    H1_bar = H1.mean()\n",
    "    H2_bar = H2.mean()\n",
    "    num = ((H1 - H1_bar)*(H2 - H2_bar)).sum()\n",
    "    denom = ((H1 - H1_bar)**2).sum() * ((H2 - H2_bar)**2).sum()\n",
    "    denom = denom ** 0.5\n",
    "    return num / denom\n",
    "\n",
    "def hist_intersection(H1, H2):\n",
    "    return np.minimum(H1, H2).sum()\n",
    "\n",
    "def hist_bhattacharyya(H1, H2):\n",
    "    return -np.log(np.sqrt(H1*H2).sum())\n",
    "\n",
    "def compare_histograms(H1, H2, data_dict=None, comparison_functions=[hist_correlation, hist_intersection, hist_bhattacharyya]):\n",
    "    H1, H2 = norm_hist(H1), norm_hist(H2) # Convert to probability distribution\n",
    "    if data_dict is None:\n",
    "        data_dict = {f.__name__: [] for f in comparison_functions} \n",
    "    for f in comparison_functions:\n",
    "        data_dict[f.__name__].append(f(H1, H2))\n",
    "    return data_dict"
   ]
  },
  {
   "cell_type": "code",
   "execution_count": 6,
   "metadata": {},
   "outputs": [],
   "source": [
    "def collect_video_stats(video_file_name):\n",
    "    vid_file = os.path.basename(video_file_name)\n",
    "    yt_id = vid_file.split(\".\")[0]\n",
    "    vid_cut_file = f'{yt_id}_cuts.npy'\n",
    "    vid_cut_dir = os.path.join(cuts_folder, vid_cut_file)\n",
    "    vid_cuts = np.load(vid_cut_dir)\n",
    "    print(f\"Vid Cuts: {vid_cuts}\")\n",
    "    \n",
    "    vid = cv2.VideoCapture(video_file_name)\n",
    "    frame_count = int(vid.get(cv2.CAP_PROP_FRAME_COUNT))\n",
    "    \n",
    "    i = 0\n",
    "    H_frame_prev = None\n",
    "    H_cut = None\n",
    "    H_cut_prev = None\n",
    "    frame_wise_data = None # Signals to compare_histograms that we need to replace this with a data structure\n",
    "    cut_wise_data = None # Signals to compare_histograms that we need to replace this with a data structure\n",
    "\n",
    "    while True:\n",
    "        # Read image and make histogram\n",
    "        success, im = vid.read()\n",
    "        \n",
    "        # Break if no more frames left\n",
    "        if not success:# or i > 100:\n",
    "            break\n",
    "        \n",
    "        # Print status update if there are more frames to process\n",
    "        print(f\"Processing Frame {i}/{frame_count}\", end=\"\\r\")\n",
    "        \n",
    "        # Reset our histogram and collect data if we have encountered a cut\n",
    "        if i in vid_cuts:\n",
    "            \n",
    "            # Collect cut_wise stats\n",
    "            if H_cut_prev is not None:\n",
    "                cut_wise_data = compare_histograms(H_cut, H_cut_prev, cut_wise_data)\n",
    "            # (Re)set aggregation variables\n",
    "            H_cut_prev = H_cut\n",
    "            H_cut = np.zeros((255, 255, 255))\n",
    "\n",
    "        # Make Histogram\n",
    "        im = np.flip(im, axis=2) # Switch BGR (openCV standard) to RGB\n",
    "        im = color.rgb2hsv(im) # Convert RGB to space for different viewing\n",
    "        H_frame, _ = np.histogramdd(\n",
    "            im.reshape(-1, im.shape[-1]),  #flattened image for input to histogramdd\n",
    "            bins=(255, 255, 255)\n",
    "        )\n",
    "        \n",
    "        # Collect frame_wise stats\n",
    "        if H_cut_prev is not None:\n",
    "            frame_wise_data = compare_histograms(H_frame, H_frame_prev, frame_wise_data)\n",
    "\n",
    "        # Increment\n",
    "        H_cut += H_frame\n",
    "        H_frame_prev = H_frame\n",
    "        i += 1\n",
    "    \n",
    "    # Make DataFrame\n",
    "    return pd.DataFrame(frame_wise_data), pd.DataFrame(cut_wise_data)"
   ]
  },
  {
   "cell_type": "code",
   "execution_count": null,
   "metadata": {},
   "outputs": [
    {
     "name": "stdout",
     "output_type": "stream",
     "text": [
      "Processing Video ../../data/xV5udqNpP94.mp4\n",
      "Vid Cuts: [   0   39   89  207  251  290  341  368  389  423  459  480  615  646\n",
      "  663  687  711  744  775  827  878  915  971  991 1014 1040 1064 1095\n",
      " 1115 1141 1193 1227 1271 1300 1339 1365 1402 1463 1503 1535 1599 1620\n",
      " 1643 1687 1747 1823 1838 1877 1942 1982 2001 2041 2082 2099 2139 2154\n",
      " 2173 2194 2213 2231 2252 2299 2324 2341 2360 2383 2408 2427 2451 2470\n",
      " 2491 2515 2535 2555 2659 2680 2757]\n",
      "Processing Frame 0/2954\r"
     ]
    },
    {
     "name": "stderr",
     "output_type": "stream",
     "text": [
      "/home/bmild/anaconda2/envs/comp-color/lib/python3.7/site-packages/skimage/color/colorconv.py:264: RuntimeWarning: divide by zero encountered in true_divide\n",
      "  out[idx, 0] = (arr[idx, 1] - arr[idx, 2]) / delta[idx]\n",
      "/home/bmild/anaconda2/envs/comp-color/lib/python3.7/site-packages/skimage/color/colorconv.py:268: RuntimeWarning: divide by zero encountered in true_divide\n",
      "  out[idx, 0] = 2. + (arr[idx, 2] - arr[idx, 0]) / delta[idx]\n",
      "/home/bmild/anaconda2/envs/comp-color/lib/python3.7/site-packages/skimage/color/colorconv.py:272: RuntimeWarning: divide by zero encountered in true_divide\n",
      "  out[idx, 0] = 4. + (arr[idx, 0] - arr[idx, 1]) / delta[idx]\n"
     ]
    },
    {
     "name": "stdout",
     "output_type": "stream",
     "text": [
      "Processing Frame 39/2954\r"
     ]
    },
    {
     "name": "stderr",
     "output_type": "stream",
     "text": [
      "/home/bmild/anaconda2/envs/comp-color/lib/python3.7/site-packages/ipykernel_launcher.py:17: RuntimeWarning: divide by zero encountered in log\n"
     ]
    },
    {
     "name": "stdout",
     "output_type": "stream",
     "text": [
      "Processing Frame 42/2954\r"
     ]
    },
    {
     "name": "stderr",
     "output_type": "stream",
     "text": [
      "/home/bmild/anaconda2/envs/comp-color/lib/python3.7/site-packages/skimage/color/colorconv.py:258: RuntimeWarning: divide by zero encountered in true_divide\n",
      "  out_s = delta / out_v\n"
     ]
    },
    {
     "name": "stdout",
     "output_type": "stream",
     "text": [
      "Processing Video ../../data/TKPmGjVFbrY.mp4\n",
      "Vid Cuts: [   0  546  644  662  682  783  958 1005 1073 1147 1218 1279 1327 1414\n",
      " 1509 1552 1716 1786 1813 1920 1968 1983 2005 2027 2046 2080 2172 2211\n",
      " 2228 2255 2278 2304 2462 2595 2628 2670 2709 2806 2821 2860 2961 3104\n",
      " 3120 3147 3207 3238 3253 3291 3323 3342 3393 3412 3434 3470 3760 3866\n",
      " 4117 4211]\n",
      "Processing Video ../../data/uiA4B5Y63IQ.mp4\n",
      "Vid Cuts: [   0   48   78  208  247  304  334  374  406  452  517  560  636  709\n",
      "  731  748  773  811  849  937  985 1016 1040 1071 1096 1118 1146 1168\n",
      " 1191 1222 1248 1278 1303 1332 1358 1388 1414 1466 1489 1518 1542 1569\n",
      " 1595 1653 1692 1719 1747 1777 1807 1825 1849 1882 1898 1914 1929 1945\n",
      " 1982 2003 2018 2047 2078 2107 2140 2165 2182 2243 2288 2322 2341 2389\n",
      " 2437 2500 2549 2598 2624 2643 2673 2700 2725 2747 2773 2790 2817 2842\n",
      " 2868 2900 2916 2931 2947 2997 3018 3077 3103 3119 3134 3154 3174 3189\n",
      " 3330]\n",
      "Processing Video ../../data/LeLsJfGmY_Y.mp4\n",
      "Vid Cuts: [   0   22   42   62   92  120  253  336  358  534  583  609  673  714\n",
      "  862  892  928 1067 1101 1150 1173 1194 1228 1253 1283 1324 1352 1386\n",
      " 1427 1467 1500 1541 1593 1624 1647 1681 1723 1788 1805 1834 1852 1877\n",
      " 1966 1985 2000 2029 2047 2067 2089 2141 2171 2196 2221 2242 2288 2312\n",
      " 2334 2362 2380 2405 2448 2491 2674 2790]\n",
      "Processing Video ../../data/0WWzgGyAH6Y.mp4\n",
      "Vid Cuts: [   0  271  359  487  541  594  663  728  952 1165 1393 1555 1697 1731\n",
      " 1751 1781 1842 1868 1920 1996 2070 2197 2274 2326 2461 2594 2656 2756\n",
      " 2785 2912 3089 3104 3122 3140 3155 3211 3232 3249 3279 3333 3469 3511\n",
      " 3565 3587 3625 3642 3676 3723 3765 3798 3824 3851 3869 3885 3912 3929\n",
      " 3972 3998 4019 4055 4070 4110 4126 4154 4192 4208 4249 4287 4308 4335\n",
      " 4355 4488 4617 4682 4795 5088]\n",
      "Processing Frame 718/5255\r"
     ]
    },
    {
     "name": "stderr",
     "output_type": "stream",
     "text": [
      "IOPub message rate exceeded.\n",
      "The notebook server will temporarily stop sending output\n",
      "to the client in order to avoid crashing it.\n",
      "To change this limit, set the config variable\n",
      "`--NotebookApp.iopub_msg_rate_limit`.\n",
      "\n",
      "Current values:\n",
      "NotebookApp.iopub_msg_rate_limit=1000.0 (msgs/sec)\n",
      "NotebookApp.rate_limit_window=3.0 (secs)\n",
      "\n"
     ]
    },
    {
     "name": "stdout",
     "output_type": "stream",
     "text": [
      "Processing Video ../../data/QJDRdGxGw8U.mp4\n",
      "Vid Cuts: [   0   23   68  104  146  176  197  232  254  275  304  332  350  367\n",
      "  382  417  467  483  514  533  553  586  601  625  653  708  725  750\n",
      "  778  802  849  869  895  913  931  960 1010 1033 1060 1081 1106 1121\n",
      " 1138 1163 1186 1205 1224 1253 1268 1296 1352 1390 1426 1448 1472 1490\n",
      " 1506 1525 1564 1595 1625 1642 1677 1719 1735 1750 1795 1830 1846 1874\n",
      " 1899 1922 1960 1977 2004 2033 2048 2095 2111 2132 2151 2173 2195 2226\n",
      " 2241 2292 2320 2337 2402 2468 2488 2504 2543 2613]\n",
      "Processing Frame 1551/2861\r"
     ]
    },
    {
     "name": "stderr",
     "output_type": "stream",
     "text": [
      "IOPub message rate exceeded.\n",
      "The notebook server will temporarily stop sending output\n",
      "to the client in order to avoid crashing it.\n",
      "To change this limit, set the config variable\n",
      "`--NotebookApp.iopub_msg_rate_limit`.\n",
      "\n",
      "Current values:\n",
      "NotebookApp.iopub_msg_rate_limit=1000.0 (msgs/sec)\n",
      "NotebookApp.rate_limit_window=3.0 (secs)\n",
      "\n"
     ]
    },
    {
     "name": "stdout",
     "output_type": "stream",
     "text": [
      "Processing Video ../../data/h2_iEZtLEUs.mp4\n",
      "Vid Cuts: [   0   75  434  742  912 1010 1082 1175 1552 1609 1688 1720 1764 1803\n",
      " 1840 1883 1942 1960 1980 1998 2019 2047 2063 2078 2095 2140 2164 2224\n",
      " 2260 2295 2315 2337 2359 2420 2455 2473 2488 2505 2523 2539 2565 2588\n",
      " 2625 2647 2662 2690 2769 2792 2835 2883 2967 3003 3044 3105 3120 3140\n",
      " 3167 3183 3214 3230 3245 3264 3305 3328 3343 3362 3389 3410 3429 3495\n",
      " 3552 3653 3677 3699 3720 3744 3765 3785 3820 3835 3862 3918 3957 3980\n",
      " 4094 4357]\n",
      "Processing Frame 1051/4390\r"
     ]
    },
    {
     "name": "stderr",
     "output_type": "stream",
     "text": [
      "IOPub message rate exceeded.\n",
      "The notebook server will temporarily stop sending output\n",
      "to the client in order to avoid crashing it.\n",
      "To change this limit, set the config variable\n",
      "`--NotebookApp.iopub_msg_rate_limit`.\n",
      "\n",
      "Current values:\n",
      "NotebookApp.iopub_msg_rate_limit=1000.0 (msgs/sec)\n",
      "NotebookApp.rate_limit_window=3.0 (secs)\n",
      "\n"
     ]
    },
    {
     "name": "stdout",
     "output_type": "stream",
     "text": [
      "Processing Video ../../data/3zebJ_NoduE.mp4\n",
      "Vid Cuts: [   0   24   88 1432 1450 1469 1506 1547 1568 1618 1637 1661 1692 1716\n",
      " 1732 1763 1789 1805 1820 1836 1857 1872 1888 1913 1947 1976 1997 2018\n",
      " 2042 2057 2092 2127 2145 2169 2186 2210 2227 2256 2272 2292 2307 2386\n",
      " 2434 2481 2499 2521 2544 2563 2583 2611 2703 2742]\n",
      "Processing Frame 2611/2934\r"
     ]
    },
    {
     "name": "stderr",
     "output_type": "stream",
     "text": [
      "IOPub message rate exceeded.\n",
      "The notebook server will temporarily stop sending output\n",
      "to the client in order to avoid crashing it.\n",
      "To change this limit, set the config variable\n",
      "`--NotebookApp.iopub_msg_rate_limit`.\n",
      "\n",
      "Current values:\n",
      "NotebookApp.iopub_msg_rate_limit=1000.0 (msgs/sec)\n",
      "NotebookApp.rate_limit_window=3.0 (secs)\n",
      "\n"
     ]
    },
    {
     "name": "stdout",
     "output_type": "stream",
     "text": [
      "Processing Video ../../data/8NNQqHsIc-4.mp4\n",
      "Vid Cuts: [   0  121  157  176  275  301  326  371  415  497  668  695  724  754\n",
      "  771  788  807  822  840  868  887  902  917  935  951  966  987 1004\n",
      " 1029 1049 1073 1094 1119 1137 1153 1169 1185 1221 1297 1339 1405 1425\n",
      " 1453 1469 1489 1518 1537 1559 1600 1623 1638 1672 1694 1728 1748 1770\n",
      " 1791 1827 1843 1858 1886 1952 1969 1987 2036 2056 2177 2196 2220 2246\n",
      " 2265 2287 2304 2354 2389 2423 2524 2553 2641 2661 2696 2733 2784 2799\n",
      " 2814 2829 2846 2878 2900 2924 2944 2959 2980 3010 3118 3140]\n",
      "Processing Frame 2123/3168\r"
     ]
    },
    {
     "name": "stderr",
     "output_type": "stream",
     "text": [
      "IOPub message rate exceeded.\n",
      "The notebook server will temporarily stop sending output\n",
      "to the client in order to avoid crashing it.\n",
      "To change this limit, set the config variable\n",
      "`--NotebookApp.iopub_msg_rate_limit`.\n",
      "\n",
      "Current values:\n",
      "NotebookApp.iopub_msg_rate_limit=1000.0 (msgs/sec)\n",
      "NotebookApp.rate_limit_window=3.0 (secs)\n",
      "\n"
     ]
    },
    {
     "name": "stdout",
     "output_type": "stream",
     "text": [
      "Processing Video ../../data/Gkh_fL_8IzQ.mp4\n",
      "Vid Cuts: [   0   25   94  130  162  216  241  260  281  301  330  351  389  413\n",
      "  494  539  562  585  609  630  651  666  682  697  712  729  748  767\n",
      "  790  810  839  871  898  921  939  957  991 1014 1031 1050 1071 1089\n",
      " 1115 1139 1168 1189 1205 1235 1260 1284 1315 1347 1372 1398 1430 1458\n",
      " 1494 1510 1533 1558 1574 1589 1606 1621 1636 1654 1677 1694 1710 1744\n",
      " 1761 1776 1804 1822 1838 1853 1877 1895 1923 1945 1971 1996 2018 2049\n",
      " 2073 2097 2122 2141 2165 2187 2207 2244 2259 2281 2307 2326 2353 2394\n",
      " 2411 2432 2453 2468 2483 2500 2518 2537 2552 2568 2583 2601 2616 2650\n",
      " 2672 2687 2704 2720 2737 2767 2782 2797 2813 2830 2857 2903 2928 2973\n",
      " 2988 3014 3036 3064 3117 3132 3168 3257]\n",
      "Processing Frame 1465/3288\r"
     ]
    },
    {
     "name": "stderr",
     "output_type": "stream",
     "text": [
      "IOPub message rate exceeded.\n",
      "The notebook server will temporarily stop sending output\n",
      "to the client in order to avoid crashing it.\n",
      "To change this limit, set the config variable\n",
      "`--NotebookApp.iopub_msg_rate_limit`.\n",
      "\n",
      "Current values:\n",
      "NotebookApp.iopub_msg_rate_limit=1000.0 (msgs/sec)\n",
      "NotebookApp.rate_limit_window=3.0 (secs)\n",
      "\n"
     ]
    },
    {
     "name": "stdout",
     "output_type": "stream",
     "text": [
      "Processing Video ../../data/xGEJwJ32oBs.mp4\n",
      "Vid Cuts: [   0   31  181  569  592  701  716  970 1314 1333 1370 1385 1408 1427\n",
      " 1442 1458 1476 1491 1506 1528 1547 1567 1597 1648 1663 1680 1701 1717\n",
      " 1732 1762 1778 1803 1828 1848 1867 1893 1923 1943 1958 1986 2001 2028\n",
      " 2043 2089 2182 2198 2243]\n",
      "Processing Frame 2153/2444\r"
     ]
    },
    {
     "name": "stderr",
     "output_type": "stream",
     "text": [
      "IOPub message rate exceeded.\n",
      "The notebook server will temporarily stop sending output\n",
      "to the client in order to avoid crashing it.\n",
      "To change this limit, set the config variable\n",
      "`--NotebookApp.iopub_msg_rate_limit`.\n",
      "\n",
      "Current values:\n",
      "NotebookApp.iopub_msg_rate_limit=1000.0 (msgs/sec)\n",
      "NotebookApp.rate_limit_window=3.0 (secs)\n",
      "\n"
     ]
    },
    {
     "name": "stdout",
     "output_type": "stream",
     "text": [
      "Processing Video ../../data/Yt7ofokzn04.mp4\n",
      "Vid Cuts: [   0   33  129  166  220  268  306  358  385  412  468  580  596  622\n",
      "  656  714  744  787  830  878  951  986 1044 1077 1094 1115 1139 1154\n",
      " 1171 1186 1201 1218 1277 1300 1329 1360 1393 1423 1487 1571 1595 1617\n",
      " 1638 1670 1694 1714 1754 1791 1855 1909 1946 1970 2004 2028 2050 2078\n",
      " 2107 2126 2150 2165 2181 2206 2225 2260 2291 2332 2354 2379 2402 2420\n",
      " 2443 2459 2474 2504 2556 2588 2645 2700 2772 2849 2882 2912 2952 2983\n",
      " 2999 3014 3029 3047 3075 3118 3138 3159 3182 3213 3292 3346 3380 3401]\n",
      "Processing Video ../../data/4SerZm7DheA.mp4\n",
      "Vid Cuts: [   0  110  158  189  278  487  522  553  598  635  657  690  721  751\n",
      "  791  824  865  935  985 1019 1047 1079 1104 1154 1193 1223 1238 1263\n",
      " 1278 1306 1321 1338 1358 1377 1404 1426 1448 1484 1500 1567 1582 1614\n",
      " 1650 1672 1705 1753 1850 1881 1939 1961 1992 2009 2031 2048 2070 2086\n",
      " 2111 2129 2156 2171 2186 2226 2257 2288 2335 2371 2393 2410 2430 2449\n",
      " 2469 2501 2529 2555 2575 2592 2619 2634 2657 2684 2706 2728 2761 2788\n",
      " 2807 2828 2843 2862 2879 2911 2975 2990 3017 3035 3126 3188 3254 3294\n",
      " 3408]\n",
      "Processing Video ../../data/tAz9Aqbpcco.mp4\n",
      "Vid Cuts: [   0   73  306  469  499  801  817  905  924 1011 1144 1727 1770 1823\n",
      " 1852 1996 2036 2051 2181 2198 2216 2314 2333 2457 2632 2670 2694 2758\n",
      " 2858 2873 2947]\n",
      "Processing Video ../../data/0vh908t2W-8.mp4\n",
      "Vid Cuts: [   0   41  328  365  400  440  490  522  555  610  635  666  776  852\n",
      "  891  917  973 1002 1035 1061 1115 1192 1231 1266 1321 1368 1430 1476\n",
      " 1491 1540 1586 1643 1703 1743 1782 1821 1866 1923 1963 2003 2053 2071\n",
      " 2232 2353 2382]\n",
      "Processing Video ../../data/SDofO3P2HpE.webm\n",
      "Vid Cuts: [   0   25   60  181  203  228  245  263  282  298  314  371  409  442\n",
      "  496  542  624  642  695  732  757  779  824  856  878  904  935  960\n",
      " 1005 1043 1096 1126 1166 1203 1220 1241 1269 1300 1328 1366 1388 1445\n",
      " 1495 1538 1569 1584 1606 1629 1649 1668 1694 1716 1741 1756 1772 1788\n",
      " 1812 1838 1863 1878 1903 1921 1944 1963 2003 2045 2060 2080 2104 2145\n",
      " 2168 2192 2208 2226 2242 2259 2285 2308 2326 2343 2359 2382 2402 2417\n",
      " 2446 2474 2492 2515 2540 2559 2574 2604 2627 2643 2662 2682 2700 2726\n",
      " 2745 2772 2790 2807 2833 2848 2879 2902 3017 3040 3120 3180 3227]\n",
      "Processing Video ../../data/-ziu6JzJTZ0.mp4\n",
      "Vid Cuts: [   0   18   40   69   85  110  145  178  199  222  241  265  284  308\n",
      "  331  347  364  379  396  420  452  479  516  555  594  629  647  712\n",
      "  739  763  783  805  827  845  869  885  913  932  947 1001 1018 1051\n",
      " 1099 1135 1155 1173 1224 1258 1293 1311 1333 1351 1368 1398 1427 1469\n",
      " 1497 1521 1542 1563 1594 1639 1660 1675 1700 1728 1751 1771 1796 1817\n",
      " 1835 1938 1970 2010 2040 2071 2099 2115 2135 2154 2174 2205 2237 2254\n",
      " 2270 2287 2306 2394 2433 2469 2496 2514 2530 2555 2584 2603 2619 2646\n",
      " 2663 2687 2710 2747 2767 2784 2801 2829 2860 2881 2913 2942 2957 2980\n",
      " 3010 3052 3068 3094 3122 3158 3182 3207 3249 3269 3309 3333 3349 3367\n",
      " 3473 3531]\n",
      "Processing Frame 1574/3613\r"
     ]
    },
    {
     "name": "stderr",
     "output_type": "stream",
     "text": [
      "IOPub message rate exceeded.\n",
      "The notebook server will temporarily stop sending output\n",
      "to the client in order to avoid crashing it.\n",
      "To change this limit, set the config variable\n",
      "`--NotebookApp.iopub_msg_rate_limit`.\n",
      "\n",
      "Current values:\n",
      "NotebookApp.iopub_msg_rate_limit=1000.0 (msgs/sec)\n",
      "NotebookApp.rate_limit_window=3.0 (secs)\n",
      "\n"
     ]
    },
    {
     "name": "stdout",
     "output_type": "stream",
     "text": [
      "Processing Video ../../data/Kq02sBe5xko.mp4\n",
      "Vid Cuts: [   0   14   36   55   72   91  126  155  183  205  220  261  284  309\n",
      "  355  379  410  431  469  491  527  550  598  640  696  739  761  804\n",
      "  834  871  893  919  941  960  982 1016 1053 1089 1105 1134 1165 1189\n",
      " 1238 1276 1338 1355 1396 1423 1451 1469 1499 1554 1601 1768 1795 1827\n",
      " 1863 1904 1991 2011 2033 2050 2089 2131 2152 2176 2210 2237 2252 2277\n",
      " 2292 2307 2417 2470 2499 2534 2551 2642 2713 2736 2757 2779 2864 2900\n",
      " 2981 2999 3081 3112 3171 3217]\n",
      "Processing Frame 1577/3369\r"
     ]
    },
    {
     "name": "stderr",
     "output_type": "stream",
     "text": [
      "IOPub message rate exceeded.\n",
      "The notebook server will temporarily stop sending output\n",
      "to the client in order to avoid crashing it.\n",
      "To change this limit, set the config variable\n",
      "`--NotebookApp.iopub_msg_rate_limit`.\n",
      "\n",
      "Current values:\n",
      "NotebookApp.iopub_msg_rate_limit=1000.0 (msgs/sec)\n",
      "NotebookApp.rate_limit_window=3.0 (secs)\n",
      "\n"
     ]
    },
    {
     "name": "stdout",
     "output_type": "stream",
     "text": [
      "Processing Video ../../data/0poXFSvX0_4.mp4\n",
      "Vid Cuts: [   0   49  133  161  183  210  225  328  347  365  388  403  424  448\n",
      "  508  536  551  614  631  654  722  745  785  813  829  862  893  942\n",
      "  967  992 1007 1023 1055 1119 1143 1163 1230 1258 1279 1296 1321 1343\n",
      " 1366 1386 1403 1427 1450 1473 1490 1508 1527 1544 1559 1578 1609 1624\n",
      " 1648 1665 1682 1722 1745 1779 1795 1823 1838 1853 1868 1909 1932 1947\n",
      " 1967 1982 2028]\n",
      "Processing Video ../../data/pOvfmpgbzHI.mp4\n",
      "Vid Cuts: [   0   24  144  168  184  200  217  233  295  310  356  428  556  594\n",
      "  660  693  716  733  754  781  807  858  879  917  942  959 1040 1059\n",
      " 1076 1103 1164 1188 1203 1220 1235 1267 1296 1336 1412 1440 1480 1496\n",
      " 1519 1535 1561 1579 1606 1645 1664 1687 1706 1725 1744 1763 1786 1816\n",
      " 1841 1895 1913 1928 1967 1988 2007 2032 2064 2088 2116 2131 2147 2162\n",
      " 2177 2196 2266 2282 2298 2320 2347 2382 2402 2424 2457 2492 2513 2534\n",
      " 2572 2602 2619 2648 2667 2682 2703 2723 2789 2912 2931 2983 3006 3037\n",
      " 3066 3154]\n",
      "Processing Video ../../data/CO6qLC4cL8E.mp4\n",
      "Vid Cuts: [   0    2   30   48   70   86  107  159  175  210  556  602  649  674\n",
      "  698  742  771  793  834  860  894  925  949  988 1019 1047 1077 1128\n",
      " 1187 1210 1237 1264 1298 1329 1362 1428 1511 1547 1581 1604 1622 1645\n",
      " 1666 1687 1709 1727 1745 1764 1794 1822 1853 1871 1967 2013 2041 2059\n",
      " 2086 2107 2149 2194 2220 2236 2253 2276 2296 2313 2337 2366 2391 2425\n",
      " 2454 2472 2491 2572 2603 2636 2656 2691 2737 2775 2792 2813 2832 2858\n",
      " 2879 2903 2931 2967 2986 3005 3032 3057 3085 3106 3158 3187 3221 3239\n",
      " 3259 3275 3305 3323 3340 3368 3396 3429 3472 3490 3513]\n",
      "Processing Video ../../data/rJrdbpjUaQ8.mp4\n",
      "Vid Cuts: [   0   33  128  172  370  386  401  416  432  520  538  568  592  612\n",
      "  640  678  700  715  737  766  787  846  861  891  909  926  960  995\n",
      " 1018 1053 1084 1117 1138 1164 1197 1236 1275 1368 1427 1454 1471 1489\n",
      " 1507 1538 1564 1582 1597 1695 1737 2244 2393]\n",
      "Processing Video ../../data/suZcGoRLXkU.mp4\n",
      "Vid Cuts: [   0   94  154  217  328  350  424  493  526  582  608  632  649  672\n",
      "  694  714  741  765  786  809  833  854  881  900  948  977  996 1014\n",
      " 1055 1071 1100 1124 1144 1186 1230 1266 1290 1314 1343 1444 1462 1479\n",
      " 1507 1533 1572 1597 1624 1643 1663 1704 1798 1819 1840 1858 1876 1896\n",
      " 1924 1950 1981 2018 2040 2058 2082 2097 2118 2162 2205 2233 2255 2271\n",
      " 2302 2322 2344 2366 2390 2414 2436 2467 2488 2513 2601 2619 2710 2738\n",
      " 2781 2801 2818 2843 2872 2890 2938 2968 2988 3010 3029 3335]\n",
      "Processing Video ../../data/l3XVW676Rus.mp4\n",
      "Vid Cuts: [   0   25  145  184  204  238  283  329  361  395  459  496  512  535\n",
      "  562  584  604  631  672  708  742  763  781  805  820  865  888  913\n",
      "  942  975  994 1085 1112 1137 1160 1180 1198 1217 1240 1259 1279 1302\n",
      " 1320 1347 1371 1405 1429 1496 1535 1594 1609 1656 1671 1697 1721 1749\n",
      " 1779 1822 1852 1885 1903 1929 1952 1979 2001 2020 2043 2096 2127 2201\n",
      " 2237 2267 2290 2311 2328 2347 2374 2390 2406 2422 2467 2499 2521 2538\n",
      " 2559 2585 2611 2634 2656 2675 2721 2744 2801 2857 2887 2930 2980 3008\n",
      " 3029 3072 3087 3111 3129 3182 3215 3245 3263 3280 3345 3378 3421 3529]\n",
      "Processing Frame 403/3578\r"
     ]
    }
   ],
   "source": [
    "for vid_file in downloaded:\n",
    "    yt_id = vid_file.split(\".\")[0]\n",
    "    file_dir = os.path.join(dataset_folder, vid_file)\n",
    "    print(f\"Processing Video {file_dir}\")\n",
    "    frame_wise_stats, cut_wise_stats = collect_video_stats(file_dir)\n",
    "    frame_wise_stats.to_csv(os.path.join(analysis_folder, f\"{yt_id}_byFrame.csv\"))\n",
    "    cut_wise_stats.to_csv(os.path.join(analysis_folder, f\"{yt_id}_byCut.csv\"))"
   ]
  },
  {
   "cell_type": "code",
   "execution_count": null,
   "metadata": {},
   "outputs": [],
   "source": []
  }
 ],
 "metadata": {
  "kernelspec": {
   "display_name": "Python 3",
   "language": "python",
   "name": "python3"
  },
  "language_info": {
   "codemirror_mode": {
    "name": "ipython",
    "version": 3
   },
   "file_extension": ".py",
   "mimetype": "text/x-python",
   "name": "python",
   "nbconvert_exporter": "python",
   "pygments_lexer": "ipython3",
   "version": "3.7.4"
  }
 },
 "nbformat": 4,
 "nbformat_minor": 4
}
