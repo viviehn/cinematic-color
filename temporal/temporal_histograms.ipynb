{
 "cells": [
  {
   "cell_type": "markdown",
   "metadata": {},
   "source": [
    "# Histogram Plot over time qualitative analysis"
   ]
  },
  {
   "cell_type": "code",
   "execution_count": 3,
   "metadata": {},
   "outputs": [],
   "source": [
    "# Install Dependencies\n",
    "#!pip install scikit-image\n",
    "#!pip install scenedetect[opencv,progress_bar]"
   ]
  },
  {
   "cell_type": "code",
   "execution_count": 4,
   "metadata": {},
   "outputs": [],
   "source": [
    "import pandas as pd\n",
    "import numpy as np\n",
    "import io\n",
    "import os\n",
    "import matplotlib.pyplot as plt\n",
    "from mpl_toolkits.mplot3d import Axes3D\n",
    "from skimage import color\n",
    "\n",
    "import cv2\n",
    "\n",
    "yt_url_prefix = 'https://www.youtube.com/watch?v='\n",
    "dataset_folder = \"../../data\""
   ]
  },
  {
   "cell_type": "code",
   "execution_count": 5,
   "metadata": {},
   "outputs": [],
   "source": [
    "downloaded = os.listdir(dataset_folder)"
   ]
  },
  {
   "cell_type": "code",
   "execution_count": 6,
   "metadata": {},
   "outputs": [],
   "source": [
    "def plotColor3D(im, rgb_to_space, space_to_rgb, axes=\"XYZ\"):\n",
    "    \"\"\"Expects an input image from openCV of channel order BGR.\n",
    "    Expects two skimage functions to map to and from RGB and desired color space.\"\"\"\n",
    "    im = np.flip(im, axis=2) # Switch BGR (openCV standard) to RGB\n",
    "    im = rgb_to_space(im) # Convert RGB to space for different viewing\n",
    "    \n",
    "    H, _ = np.histogramdd(\n",
    "        im.reshape(-1, im.shape[-1]),  #flattened image\n",
    "        bins=(255, 255, 255)\n",
    "    )\n",
    "\n",
    "    # Determine x, y, z pairs of points to plot\n",
    "    nz = H.nonzero()\n",
    "    xs, ys, zs = nz\n",
    "    \n",
    "    # Determing colors of those points\n",
    "    colors = np.array(nz).T\n",
    "    colors_rgb = np.array([colors], dtype='uint8')\n",
    "    colors_rgb = space_to_rgb(colors_rgb)[0]\n",
    "    #colors_rgb *= 255\n",
    "    #colors_rgb = colors.astype('uint8')\n",
    "    \n",
    "    # Determine size of points\n",
    "    sizes = H[H.nonzero()]\n",
    "    sizes = np.log(sizes) * 10\n",
    "\n",
    "    # Plot figure\n",
    "    fig = plt.figure(figsize=(20, 20))\n",
    "    # Axis ordering 1\n",
    "    ax = fig.add_subplot(221, projection='3d')\n",
    "    _ = ax.scatter(\n",
    "        xs = xs,\n",
    "        ys = ys,\n",
    "        zs = zs,\n",
    "        s = sizes,\n",
    "        c = colors_rgb\n",
    "    )\n",
    "    ax.set_xlabel(axes[0], fontsize=20)\n",
    "    ax.set_ylabel(axes[1], fontsize=20)\n",
    "    ax.set_zlabel(axes[2], fontsize=20)\n",
    "    ax.set_xlim3d(0, 255)\n",
    "    ax.set_ylim3d(0, 255)\n",
    "    ax.set_zlim3d(0, 255)\n",
    "    # Axis ordering 2\n",
    "    ax = fig.add_subplot(222, projection='3d')\n",
    "    _ = ax.scatter(\n",
    "        xs = ys,\n",
    "        ys = zs,\n",
    "        zs = xs,\n",
    "        s = sizes,\n",
    "        c = colors_rgb\n",
    "    )\n",
    "    ax.set_xlabel(axes[1], fontsize=20)\n",
    "    ax.set_ylabel(axes[2], fontsize=20)\n",
    "    ax.set_zlabel(axes[0], fontsize=20)\n",
    "    ax.set_xlim3d(0, 255)\n",
    "    ax.set_ylim3d(0, 255)\n",
    "    ax.set_zlim3d(0, 255)\n",
    "    # Axis ordering 3\n",
    "    ax = fig.add_subplot(223, projection='3d')\n",
    "    _ = ax.scatter(\n",
    "        xs = zs,\n",
    "        ys = xs,\n",
    "        zs = ys,\n",
    "        s = sizes,\n",
    "        c = colors_rgb\n",
    "    )\n",
    "    ax.set_xlabel(axes[2], fontsize=20)\n",
    "    ax.set_ylabel(axes[0], fontsize=20)\n",
    "    ax.set_zlabel(axes[1], fontsize=20)\n",
    "    ax.set_xlim3d(0, 255)\n",
    "    ax.set_ylim3d(0, 255)\n",
    "    ax.set_zlim3d(0, 255)\n",
    "    # Save Figure\n",
    "    fig.savefig('hist.png', dpi = 50)\n",
    "    hist_rgb = cv2.imread('hist.png').astype('uint8')\n",
    "    plt.close('all')\n",
    "\n",
    "    return H, hist_rgb\n"
   ]
  },
  {
   "cell_type": "code",
   "execution_count": 7,
   "metadata": {},
   "outputs": [],
   "source": [
    "def make_rgbt_hists(video_file_name):\n",
    "    vid = cv2.VideoCapture(video_file_name)\n",
    "    frame_count = int(vid.get(cv2.CAP_PROP_FRAME_COUNT))\n",
    "    vid_file = os.path.basename(video_file_name)\n",
    "    yt_id = vid_file.split(\".\")[0]\n",
    "\n",
    "    vid_rgb = cv2.VideoWriter(f\"{yt_id}_rgb.avi\", cv2.VideoWriter_fourcc(*\"MJPG\"), 23.98, (1000, 1000))\n",
    "    vid_hsv = cv2.VideoWriter(f\"{yt_id}_hsv.avi\", cv2.VideoWriter_fourcc(*\"MJPG\"), 23.98, (1000, 1000))\n",
    "    vid_lab = cv2.VideoWriter(f\"{yt_id}_lab.avi\", cv2.VideoWriter_fourcc(*\"MJPG\"), 23.98, (1000, 1000))  \n",
    "\n",
    "    i = 0\n",
    "    \n",
    "    while True:\n",
    "        # Read image and make histogram\n",
    "        success, image = vid.read()\n",
    "        \n",
    "        # Break if no more frames left\n",
    "        if not success:\n",
    "            break\n",
    "\n",
    "        # Print status update if there are more frames to process\n",
    "        print(f\"Processing Frame {i}/{frame_count}\", end=\"\\r\")   \n",
    "        \n",
    "        # Process Histogram\n",
    "        H_rgb, H_rgb_image = plotColor3D(\n",
    "            image, \n",
    "            lambda x: x,\n",
    "            lambda x: x.astype('float64')/255,\n",
    "            'RGB'\n",
    "        )\n",
    "        vid_rgb.write(H_rgb_image)\n",
    "        H_hsv, H_hsv_image = plotColor3D(\n",
    "            image, \n",
    "            color.rgb2hsv,\n",
    "            color.hsv2rgb,\n",
    "            'HSV'\n",
    "        )\n",
    "        vid_hsv.write(H_hsv_image)\n",
    "        H_lab, H_lab_image = plotColor3D(\n",
    "            image, \n",
    "            color.rgb2lab,\n",
    "            color.lab2rgb,\n",
    "            'LAB'\n",
    "        )\n",
    "        vid_lab.write(H_lab_image)\n",
    "\n",
    "        i += 1\n",
    "    \n",
    "    # Close video streams\n",
    "    vid_rgb.release()\n",
    "    vid_hsv.release()\n",
    "    vid_lab.release()\n",
    "    "
   ]
  },
  {
   "cell_type": "code",
   "execution_count": null,
   "metadata": {
    "scrolled": true
   },
   "outputs": [
    {
     "name": "stdout",
     "output_type": "stream",
     "text": [
      "Processing Video ../../data/TKPmGjVFbrY.mp4\n",
      "Processing Frame 0/4269\r"
     ]
    },
    {
     "name": "stderr",
     "output_type": "stream",
     "text": [
      "/home/bmild/anaconda2/envs/comp-color/lib/python3.7/site-packages/skimage/color/colorconv.py:258: RuntimeWarning: divide by zero encountered in true_divide\n",
      "  out_s = delta / out_v\n",
      "/home/bmild/anaconda2/envs/comp-color/lib/python3.7/site-packages/skimage/color/colorconv.py:264: RuntimeWarning: divide by zero encountered in true_divide\n",
      "  out[idx, 0] = (arr[idx, 1] - arr[idx, 2]) / delta[idx]\n",
      "/home/bmild/anaconda2/envs/comp-color/lib/python3.7/site-packages/skimage/color/colorconv.py:268: RuntimeWarning: divide by zero encountered in true_divide\n",
      "  out[idx, 0] = 2. + (arr[idx, 2] - arr[idx, 0]) / delta[idx]\n",
      "/home/bmild/anaconda2/envs/comp-color/lib/python3.7/site-packages/skimage/color/colorconv.py:272: RuntimeWarning: divide by zero encountered in true_divide\n",
      "  out[idx, 0] = 4. + (arr[idx, 0] - arr[idx, 1]) / delta[idx]\n"
     ]
    },
    {
     "name": "stdout",
     "output_type": "stream",
     "text": [
      "Processing Frame 461/4269\r"
     ]
    }
   ],
   "source": [
    "for file in downloaded[1:5]:\n",
    "    file_dir = os.path.join(dataset_folder, file)\n",
    "    print(f\"Processing Video {file_dir}\")\n",
    "    make_rgbt_hists(file_dir)"
   ]
  },
  {
   "cell_type": "code",
   "execution_count": null,
   "metadata": {},
   "outputs": [],
   "source": []
  },
  {
   "cell_type": "code",
   "execution_count": null,
   "metadata": {},
   "outputs": [],
   "source": []
  }
 ],
 "metadata": {
  "kernelspec": {
   "display_name": "Python 3",
   "language": "python",
   "name": "python3"
  },
  "language_info": {
   "codemirror_mode": {
    "name": "ipython",
    "version": 3
   },
   "file_extension": ".py",
   "mimetype": "text/x-python",
   "name": "python",
   "nbconvert_exporter": "python",
   "pygments_lexer": "ipython3",
   "version": "3.7.4"
  }
 },
 "nbformat": 4,
 "nbformat_minor": 4
}
