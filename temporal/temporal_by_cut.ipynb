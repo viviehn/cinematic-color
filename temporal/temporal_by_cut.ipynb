{
 "cells": [
  {
   "cell_type": "code",
   "execution_count": 4,
   "metadata": {},
   "outputs": [],
   "source": [
    "# Install Dependencies\n",
    "#!pip install scikit-image\n",
    "#!pip install scenedetect[opencv,progress_bar]"
   ]
  },
  {
   "cell_type": "code",
   "execution_count": 14,
   "metadata": {},
   "outputs": [],
   "source": [
    "from __future__ import print_function\n",
    "import os\n",
    "\n",
    "import numpy as np\n",
    "\n",
    "import scenedetect\n",
    "from scenedetect.video_manager import VideoManager\n",
    "from scenedetect.scene_manager import SceneManager\n",
    "from scenedetect.frame_timecode import FrameTimecode\n",
    "from scenedetect.stats_manager import StatsManager\n",
    "from scenedetect.detectors import ContentDetector\n",
    "\n",
    "STATS_FILE_PATH = 'testvideo.stats.csv'\n",
    "dataset_folder = \"../../data\""
   ]
  },
  {
   "cell_type": "code",
   "execution_count": 25,
   "metadata": {},
   "outputs": [],
   "source": [
    "downloaded = os.listdir(dataset_folder)"
   ]
  },
  {
   "cell_type": "markdown",
   "metadata": {},
   "source": [
    "# Find video cuts"
   ]
  },
  {
   "cell_type": "code",
   "execution_count": null,
   "metadata": {},
   "outputs": [
    {
     "name": "stderr",
     "output_type": "stream",
     "text": [
      "  0%|          | 0/2021 [00:00<?, ?frames/s]"
     ]
    },
    {
     "name": "stdout",
     "output_type": "stream",
     "text": [
      "Finding cuts of Video ../../data/NWLv9XCM3fs.mp4: 1438/20022\r"
     ]
    },
    {
     "name": "stderr",
     "output_type": "stream",
     "text": [
      "100%|██████████| 2021/2021 [00:11<00:00, 170.21frames/s]\n",
      "  0%|          | 10/3602 [00:00<00:38, 92.16frames/s]"
     ]
    },
    {
     "name": "stdout",
     "output_type": "stream",
     "text": [
      "Finding cuts of Video ../../data/iQXmlf3Sefg.webm: 1439/2002\r"
     ]
    },
    {
     "name": "stderr",
     "output_type": "stream",
     "text": [
      " 94%|█████████▍| 3398/3602 [00:18<00:01, 180.93frames/s]\n",
      "  0%|          | 17/3504 [00:00<00:20, 167.45frames/s]"
     ]
    },
    {
     "name": "stdout",
     "output_type": "stream",
     "text": [
      "Finding cuts of Video ../../data/0pdqf4P9MB8.mp4: 1440/2002\r"
     ]
    },
    {
     "name": "stderr",
     "output_type": "stream",
     "text": [
      "100%|██████████| 3504/3504 [00:19<00:00, 181.71frames/s]\n",
      "  1%|          | 29/3346 [00:00<00:11, 288.19frames/s]"
     ]
    },
    {
     "name": "stdout",
     "output_type": "stream",
     "text": [
      "Finding cuts of Video ../../data/PRtz8JQw01A.mp4: 1441/2002\r"
     ]
    },
    {
     "name": "stderr",
     "output_type": "stream",
     "text": [
      "100%|██████████| 3346/3346 [00:09<00:00, 338.66frames/s]\n",
      "  0%|          | 15/3602 [00:00<00:25, 142.65frames/s]"
     ]
    },
    {
     "name": "stdout",
     "output_type": "stream",
     "text": [
      "Finding cuts of Video ../../data/1Q8fG0TtVAY.mp4: 1442/2002\r"
     ]
    },
    {
     "name": "stderr",
     "output_type": "stream",
     "text": [
      "100%|██████████| 3602/3602 [00:19<00:00, 182.96frames/s]\n",
      "  0%|          | 15/3962 [00:00<00:27, 144.92frames/s]"
     ]
    },
    {
     "name": "stdout",
     "output_type": "stream",
     "text": [
      "Finding cuts of Video ../../data/G9F6VhFY4wY.mp4: 1443/2002\r"
     ]
    },
    {
     "name": "stderr",
     "output_type": "stream",
     "text": [
      "100%|██████████| 3962/3962 [00:21<00:00, 181.22frames/s]\n",
      "  0%|          | 0/4028 [00:00<?, ?frames/s]"
     ]
    },
    {
     "name": "stdout",
     "output_type": "stream",
     "text": [
      "Finding cuts of Video ../../data/ECFAMTEnvqw.mp4: 1444/2002\r"
     ]
    },
    {
     "name": "stderr",
     "output_type": "stream",
     "text": [
      "100%|██████████| 4028/4028 [00:22<00:00, 175.99frames/s]\n",
      "  0%|          | 14/3782 [00:00<00:28, 133.43frames/s]"
     ]
    },
    {
     "name": "stdout",
     "output_type": "stream",
     "text": [
      "Finding cuts of Video ../../data/KisPhy7T__Q.mp4: 1445/2002\r"
     ]
    },
    {
     "name": "stderr",
     "output_type": "stream",
     "text": [
      "100%|██████████| 3782/3782 [00:20<00:00, 181.09frames/s]\n"
     ]
    },
    {
     "name": "stdout",
     "output_type": "stream",
     "text": [
      "Finding cuts of Video ../../data/LebmJcJX3Ck.mp4: 1446/2002\r"
     ]
    },
    {
     "name": "stderr",
     "output_type": "stream",
     "text": [
      "100%|██████████| 3670/3670 [00:16<00:00, 217.73frames/s]\n",
      "  0%|          | 16/3624 [00:00<00:23, 155.54frames/s]"
     ]
    },
    {
     "name": "stdout",
     "output_type": "stream",
     "text": [
      "Finding cuts of Video ../../data/UCrBICYM0yM.webm: 1447/2002\r"
     ]
    },
    {
     "name": "stderr",
     "output_type": "stream",
     "text": [
      " 95%|█████████▍| 3431/3624 [00:19<00:01, 179.83frames/s]\n",
      "  1%|          | 16/3186 [00:00<00:19, 158.73frames/s]"
     ]
    },
    {
     "name": "stdout",
     "output_type": "stream",
     "text": [
      "Finding cuts of Video ../../data/ouVDDB-Oo90.mp4: 1448/2002\r"
     ]
    },
    {
     "name": "stderr",
     "output_type": "stream",
     "text": [
      "100%|██████████| 3186/3186 [00:13<00:00, 229.36frames/s]\n",
      "  4%|▍         | 120/2795 [00:00<00:02, 1191.92frames/s]"
     ]
    },
    {
     "name": "stdout",
     "output_type": "stream",
     "text": [
      "Finding cuts of Video ../../data/p35JDJLa9ec.mp4: 1449/2002\r"
     ]
    },
    {
     "name": "stderr",
     "output_type": "stream",
     "text": [
      "100%|██████████| 2795/2795 [00:02<00:00, 1050.68frames/s]\n",
      "  1%|          | 19/3456 [00:00<00:18, 184.31frames/s]"
     ]
    },
    {
     "name": "stdout",
     "output_type": "stream",
     "text": [
      "Finding cuts of Video ../../data/6ZfuNTqbHE8.mp4: 1450/2002\r"
     ]
    },
    {
     "name": "stderr",
     "output_type": "stream",
     "text": [
      "100%|██████████| 3456/3456 [00:14<00:00, 234.67frames/s]\n",
      "  1%|          | 18/2545 [00:00<00:14, 176.03frames/s]"
     ]
    },
    {
     "name": "stdout",
     "output_type": "stream",
     "text": [
      "Finding cuts of Video ../../data/SziPDANik18.mp4: 1451/2002\r"
     ]
    },
    {
     "name": "stderr",
     "output_type": "stream",
     "text": [
      "100%|██████████| 2545/2545 [00:14<00:00, 177.92frames/s]\n",
      "  0%|          | 18/4185 [00:00<00:23, 178.05frames/s]"
     ]
    },
    {
     "name": "stdout",
     "output_type": "stream",
     "text": [
      "Finding cuts of Video ../../data/WtO3CsleMDg.mp4: 1452/2002\r"
     ]
    },
    {
     "name": "stderr",
     "output_type": "stream",
     "text": [
      "100%|██████████| 4185/4185 [00:23<00:00, 175.02frames/s]\n",
      "  0%|          | 14/3121 [00:00<00:22, 138.94frames/s]"
     ]
    },
    {
     "name": "stdout",
     "output_type": "stream",
     "text": [
      "Finding cuts of Video ../../data/Rvr68u6k5sI.mp4: 1453/2002\r"
     ]
    },
    {
     "name": "stderr",
     "output_type": "stream",
     "text": [
      "100%|██████████| 3121/3121 [00:13<00:00, 231.34frames/s]\n",
      "  0%|          | 14/3794 [00:00<00:27, 138.47frames/s]"
     ]
    },
    {
     "name": "stdout",
     "output_type": "stream",
     "text": [
      "Finding cuts of Video ../../data/XAHprLW48no.mp4: 1454/2002\r"
     ]
    },
    {
     "name": "stderr",
     "output_type": "stream",
     "text": [
      "100%|██████████| 3794/3794 [00:20<00:00, 180.90frames/s]\n",
      "  0%|          | 14/3603 [00:00<00:25, 139.56frames/s]"
     ]
    },
    {
     "name": "stdout",
     "output_type": "stream",
     "text": [
      "Finding cuts of Video ../../data/F5-Lv4CJmFM.mp4: 1455/2002\r"
     ]
    },
    {
     "name": "stderr",
     "output_type": "stream",
     "text": [
      "100%|██████████| 3603/3603 [00:19<00:00, 182.20frames/s]\n",
      "  1%|          | 16/2999 [00:00<00:18, 159.09frames/s]"
     ]
    },
    {
     "name": "stdout",
     "output_type": "stream",
     "text": [
      "Finding cuts of Video ../../data/oprJX5BomEc.webm: 1456/2002\r"
     ]
    },
    {
     "name": "stderr",
     "output_type": "stream",
     "text": [
      " 92%|█████████▏| 2769/2999 [00:15<00:01, 177.48frames/s]\n",
      "  2%|▏         | 35/2049 [00:00<00:05, 342.32frames/s]"
     ]
    },
    {
     "name": "stdout",
     "output_type": "stream",
     "text": [
      "Finding cuts of Video ../../data/LVw9YdP1O-0.mp4: 1457/2002\r"
     ]
    },
    {
     "name": "stderr",
     "output_type": "stream",
     "text": [
      "100%|██████████| 2049/2049 [00:05<00:00, 351.95frames/s]\n",
      "  0%|          | 8/3319 [00:00<00:43, 76.65frames/s]"
     ]
    },
    {
     "name": "stdout",
     "output_type": "stream",
     "text": [
      "Finding cuts of Video ../../data/puKWa8hrvA8.mp4: 1458/2002\r"
     ]
    },
    {
     "name": "stderr",
     "output_type": "stream",
     "text": [
      "100%|██████████| 3319/3319 [00:18<00:00, 175.29frames/s]\n",
      "  0%|          | 14/3489 [00:00<00:26, 133.48frames/s]"
     ]
    },
    {
     "name": "stdout",
     "output_type": "stream",
     "text": [
      "Finding cuts of Video ../../data/j2jRs4EAvWM.webm: 1459/2002\r"
     ]
    },
    {
     "name": "stderr",
     "output_type": "stream",
     "text": [
      " 96%|█████████▌| 3334/3489 [00:17<00:00, 185.59frames/s]\n",
      "  0%|          | 10/3437 [00:00<00:34, 98.37frames/s]"
     ]
    },
    {
     "name": "stdout",
     "output_type": "stream",
     "text": [
      "Finding cuts of Video ../../data/vPP6aIw1vgY.webm: 1460/2002\r"
     ]
    },
    {
     "name": "stderr",
     "output_type": "stream",
     "text": [
      " 94%|█████████▍| 3244/3437 [00:18<00:01, 179.83frames/s]\n",
      "  0%|          | 14/3264 [00:00<00:23, 136.38frames/s]"
     ]
    },
    {
     "name": "stdout",
     "output_type": "stream",
     "text": [
      "Finding cuts of Video ../../data/KATn_m-AX9I.mp4: 1461/2002\r"
     ]
    },
    {
     "name": "stderr",
     "output_type": "stream",
     "text": [
      "3265frames [00:18, 179.44frames/s]                      \n",
      "  1%|          | 11/1441 [00:00<00:14, 101.65frames/s]"
     ]
    },
    {
     "name": "stdout",
     "output_type": "stream",
     "text": [
      "Finding cuts of Video ../../data/7W1m5ER3I1Y.webm: 1462/2002\r"
     ]
    },
    {
     "name": "stderr",
     "output_type": "stream",
     "text": [
      " 92%|█████████▏| 1320/1441 [00:07<00:00, 168.48frames/s]\n",
      "  0%|          | 16/3576 [00:00<00:23, 152.32frames/s]"
     ]
    },
    {
     "name": "stdout",
     "output_type": "stream",
     "text": [
      "Finding cuts of Video ../../data/f6dKhzYgksc.mp4: 1463/2002\r"
     ]
    },
    {
     "name": "stderr",
     "output_type": "stream",
     "text": [
      "100%|██████████| 3576/3576 [00:20<00:00, 177.60frames/s]\n",
      "  0%|          | 16/3673 [00:00<00:23, 157.17frames/s]"
     ]
    },
    {
     "name": "stdout",
     "output_type": "stream",
     "text": [
      "Finding cuts of Video ../../data/gQHKolIqBGs.mp4: 1464/2002\r"
     ]
    },
    {
     "name": "stderr",
     "output_type": "stream",
     "text": [
      "100%|██████████| 3673/3673 [00:21<00:00, 172.85frames/s]\n",
      "  1%|          | 25/3901 [00:00<00:15, 244.41frames/s]"
     ]
    },
    {
     "name": "stdout",
     "output_type": "stream",
     "text": [
      "Finding cuts of Video ../../data/2-2x3r1m2I4.mp4: 1465/2002\r"
     ]
    },
    {
     "name": "stderr",
     "output_type": "stream",
     "text": [
      "100%|██████████| 3901/3901 [00:16<00:00, 235.26frames/s]\n",
      "  1%|▏         | 22/1475 [00:00<00:06, 209.51frames/s]"
     ]
    },
    {
     "name": "stdout",
     "output_type": "stream",
     "text": [
      "Finding cuts of Video ../../data/yxqrzWe0Ggc.mp4: 1466/2002\r"
     ]
    },
    {
     "name": "stderr",
     "output_type": "stream",
     "text": [
      "100%|██████████| 1475/1475 [00:02<00:00, 581.12frames/s]\n",
      "  0%|          | 21/4557 [00:00<00:22, 206.00frames/s]"
     ]
    },
    {
     "name": "stdout",
     "output_type": "stream",
     "text": [
      "Finding cuts of Video ../../data/ejxQOv53lXs.mp4: 1467/2002\r"
     ]
    },
    {
     "name": "stderr",
     "output_type": "stream",
     "text": [
      "100%|██████████| 4557/4557 [00:18<00:00, 243.01frames/s]\n",
      "  1%|          | 37/3365 [00:00<00:09, 366.43frames/s]"
     ]
    },
    {
     "name": "stdout",
     "output_type": "stream",
     "text": [
      "Finding cuts of Video ../../data/CvUxdQ4q-Lg.mp4: 1468/2002\r"
     ]
    },
    {
     "name": "stderr",
     "output_type": "stream",
     "text": [
      "100%|██████████| 3365/3365 [00:07<00:00, 444.29frames/s]\n",
      "  1%|          | 28/2988 [00:00<00:10, 272.66frames/s]"
     ]
    },
    {
     "name": "stdout",
     "output_type": "stream",
     "text": [
      "Finding cuts of Video ../../data/GLPJSmUHZvU.mp4: 1469/2002\r"
     ]
    },
    {
     "name": "stderr",
     "output_type": "stream",
     "text": [
      "100%|██████████| 2988/2988 [00:08<00:00, 341.47frames/s]\n",
      "  2%|▏         | 70/3241 [00:00<00:04, 697.66frames/s]"
     ]
    },
    {
     "name": "stdout",
     "output_type": "stream",
     "text": [
      "Finding cuts of Video ../../data/ucmnTmYpGhI.mp4: 1470/2002\r"
     ]
    },
    {
     "name": "stderr",
     "output_type": "stream",
     "text": [
      "100%|██████████| 3241/3241 [00:05<00:00, 613.19frames/s]\n",
      "  0%|          | 15/3720 [00:00<00:25, 146.58frames/s]"
     ]
    },
    {
     "name": "stdout",
     "output_type": "stream",
     "text": [
      "Finding cuts of Video ../../data/q9Pk_Eq4BUc.webm: 1471/2002\r"
     ]
    },
    {
     "name": "stderr",
     "output_type": "stream",
     "text": [
      " 95%|█████████▍| 3517/3720 [00:19<00:01, 181.78frames/s]\n",
      "  1%|          | 20/3125 [00:00<00:15, 194.62frames/s]"
     ]
    },
    {
     "name": "stdout",
     "output_type": "stream",
     "text": [
      "Finding cuts of Video ../../data/CE3e3hGF2jc.webm: 1472/2002\r"
     ]
    },
    {
     "name": "stderr",
     "output_type": "stream",
     "text": [
      " 95%|█████████▍| 2958/3125 [00:16<00:00, 183.09frames/s]\n",
      "  0%|          | 15/3444 [00:00<00:23, 144.57frames/s]"
     ]
    },
    {
     "name": "stdout",
     "output_type": "stream",
     "text": [
      "Finding cuts of Video ../../data/20bpjtCbCz0.mp4: 1473/2002\r"
     ]
    },
    {
     "name": "stderr",
     "output_type": "stream",
     "text": [
      "100%|██████████| 3444/3444 [00:19<00:00, 176.87frames/s]\n",
      "  1%|          | 15/1442 [00:00<00:09, 145.45frames/s]"
     ]
    },
    {
     "name": "stdout",
     "output_type": "stream",
     "text": [
      "Finding cuts of Video ../../data/oFkulzWMotY.mp4: 1474/2002\r"
     ]
    },
    {
     "name": "stderr",
     "output_type": "stream",
     "text": [
      "100%|██████████| 1442/1442 [00:08<00:00, 170.46frames/s]\n",
      "  1%|          | 19/2819 [00:00<00:14, 189.34frames/s]"
     ]
    },
    {
     "name": "stdout",
     "output_type": "stream",
     "text": [
      "Finding cuts of Video ../../data/mObK5XD8udk.mp4: 1475/2002\r"
     ]
    },
    {
     "name": "stderr",
     "output_type": "stream",
     "text": [
      "100%|██████████| 2819/2819 [00:12<00:00, 226.44frames/s]\n",
      "  1%|          | 16/1805 [00:00<00:11, 156.28frames/s]"
     ]
    },
    {
     "name": "stdout",
     "output_type": "stream",
     "text": [
      "Finding cuts of Video ../../data/8lsIrASLD-Q.mp4: 1476/2002\r"
     ]
    },
    {
     "name": "stderr",
     "output_type": "stream",
     "text": [
      "100%|██████████| 1805/1805 [00:07<00:00, 239.29frames/s]\n",
      "  0%|          | 13/4353 [00:00<00:34, 126.62frames/s]"
     ]
    },
    {
     "name": "stdout",
     "output_type": "stream",
     "text": [
      "Finding cuts of Video ../../data/2AUmvWm5ZDQ.webm: 1477/2002\r"
     ]
    },
    {
     "name": "stderr",
     "output_type": "stream",
     "text": [
      " 94%|█████████▍| 4093/4353 [00:22<00:01, 185.76frames/s]\n",
      "  5%|▍         | 61/1266 [00:00<00:02, 594.09frames/s]"
     ]
    },
    {
     "name": "stdout",
     "output_type": "stream",
     "text": [
      "Finding cuts of Video ../../data/SmdsIIdJXrI.mp4: 1478/2002\r"
     ]
    },
    {
     "name": "stderr",
     "output_type": "stream",
     "text": [
      "1267frames [00:01, 786.81frames/s]                      \n",
      "  1%|          | 20/3625 [00:00<00:18, 195.00frames/s]"
     ]
    },
    {
     "name": "stdout",
     "output_type": "stream",
     "text": [
      "Finding cuts of Video ../../data/WmjawuFvDu4.mp4: 1479/2002\r"
     ]
    },
    {
     "name": "stderr",
     "output_type": "stream",
     "text": [
      "100%|██████████| 3625/3625 [00:15<00:00, 235.59frames/s]\n",
      "  1%|          | 26/3996 [00:00<00:15, 252.97frames/s]"
     ]
    },
    {
     "name": "stdout",
     "output_type": "stream",
     "text": [
      "Finding cuts of Video ../../data/G7HkBDNZV7s.mp4: 1480/2002\r"
     ]
    },
    {
     "name": "stderr",
     "output_type": "stream",
     "text": [
      "100%|██████████| 3996/3996 [00:11<00:00, 349.89frames/s]\n",
      "  3%|▎         | 73/2890 [00:00<00:03, 721.28frames/s]"
     ]
    },
    {
     "name": "stdout",
     "output_type": "stream",
     "text": [
      "Finding cuts of Video ../../data/rNhV8dk6W2M.mp4: 1481/2002\r"
     ]
    },
    {
     "name": "stderr",
     "output_type": "stream",
     "text": [
      "100%|██████████| 2890/2890 [00:04<00:00, 719.33frames/s]\n",
      "  1%|          | 19/2835 [00:00<00:14, 189.34frames/s]"
     ]
    },
    {
     "name": "stdout",
     "output_type": "stream",
     "text": [
      "Finding cuts of Video ../../data/gUthyrYwXUc.mp4: 1482/2002\r"
     ]
    },
    {
     "name": "stderr",
     "output_type": "stream",
     "text": [
      "100%|██████████| 2835/2835 [00:15<00:00, 182.17frames/s]\n",
      "  0%|          | 15/4471 [00:00<00:31, 140.10frames/s]"
     ]
    },
    {
     "name": "stdout",
     "output_type": "stream",
     "text": [
      "Finding cuts of Video ../../data/qsR8-zxV-3E.mp4: 1483/2002\r"
     ]
    },
    {
     "name": "stderr",
     "output_type": "stream",
     "text": [
      "100%|██████████| 4471/4471 [00:24<00:00, 178.93frames/s]\n",
      "  0%|          | 13/3948 [00:00<00:31, 126.72frames/s]"
     ]
    },
    {
     "name": "stdout",
     "output_type": "stream",
     "text": [
      "Finding cuts of Video ../../data/8q-7trUd8Vw.mp4: 1484/2002\r"
     ]
    },
    {
     "name": "stderr",
     "output_type": "stream",
     "text": [
      "100%|██████████| 3948/3948 [00:22<00:00, 175.21frames/s]\n",
      "  0%|          | 11/4465 [00:00<00:41, 107.20frames/s]"
     ]
    },
    {
     "name": "stdout",
     "output_type": "stream",
     "text": [
      "Finding cuts of Video ../../data/O7NHfAzg7Yg.mp4: 1485/2002\r"
     ]
    },
    {
     "name": "stderr",
     "output_type": "stream",
     "text": [
      "100%|██████████| 4465/4465 [00:25<00:00, 176.95frames/s]\n",
      "  2%|▏         | 34/1442 [00:00<00:04, 333.85frames/s]"
     ]
    },
    {
     "name": "stdout",
     "output_type": "stream",
     "text": [
      "Finding cuts of Video ../../data/WgnrwwiIDlI.mp4: 1486/2002\r"
     ]
    },
    {
     "name": "stderr",
     "output_type": "stream",
     "text": [
      "100%|██████████| 1442/1442 [00:03<00:00, 361.24frames/s]\n",
      "  0%|          | 18/4265 [00:00<00:23, 178.72frames/s]"
     ]
    },
    {
     "name": "stdout",
     "output_type": "stream",
     "text": [
      "Finding cuts of Video ../../data/P9-FCC6I7u0.mp4: 1487/2002\r"
     ]
    },
    {
     "name": "stderr",
     "output_type": "stream",
     "text": [
      "100%|██████████| 4265/4265 [00:23<00:00, 177.87frames/s]\n",
      "  1%|          | 38/3872 [00:00<00:10, 376.54frames/s]"
     ]
    },
    {
     "name": "stdout",
     "output_type": "stream",
     "text": [
      "Finding cuts of Video ../../data/K9AT3tQGbIk.mp4: 1488/2002\r"
     ]
    },
    {
     "name": "stderr",
     "output_type": "stream",
     "text": [
      "100%|██████████| 3872/3872 [00:08<00:00, 464.83frames/s]\n",
      "  1%|          | 31/3623 [00:00<00:11, 304.80frames/s]"
     ]
    },
    {
     "name": "stdout",
     "output_type": "stream",
     "text": [
      "Finding cuts of Video ../../data/u7__TG7swg0.mp4: 1489/2002\r"
     ]
    },
    {
     "name": "stderr",
     "output_type": "stream",
     "text": [
      "100%|██████████| 3623/3623 [00:10<00:00, 339.16frames/s]\n",
      "  1%|          | 19/1642 [00:00<00:08, 187.02frames/s]"
     ]
    },
    {
     "name": "stdout",
     "output_type": "stream",
     "text": [
      "Finding cuts of Video ../../data/S_9OSktlm6s.mp4: 1490/2002\r"
     ]
    },
    {
     "name": "stderr",
     "output_type": "stream",
     "text": [
      "100%|██████████| 1642/1642 [00:08<00:00, 182.90frames/s]\n",
      "  1%|          | 31/3672 [00:00<00:12, 303.36frames/s]"
     ]
    },
    {
     "name": "stdout",
     "output_type": "stream",
     "text": [
      "Finding cuts of Video ../../data/D6WOoUG1eNo.mp4: 1491/2002\r"
     ]
    },
    {
     "name": "stderr",
     "output_type": "stream",
     "text": [
      "100%|██████████| 3672/3672 [00:10<00:00, 350.92frames/s]\n",
      "  0%|          | 9/3624 [00:00<00:42, 84.68frames/s]"
     ]
    },
    {
     "name": "stdout",
     "output_type": "stream",
     "text": [
      "Finding cuts of Video ../../data/kleG7XCqOb4.mp4: 1492/2002\r"
     ]
    },
    {
     "name": "stderr",
     "output_type": "stream",
     "text": [
      "100%|██████████| 3624/3624 [00:20<00:00, 177.74frames/s]\n",
      "  1%|          | 38/4212 [00:00<00:11, 375.16frames/s]"
     ]
    },
    {
     "name": "stdout",
     "output_type": "stream",
     "text": [
      "Finding cuts of Video ../../data/V75dMMIW2B4.mp4: 1493/2002\r"
     ]
    },
    {
     "name": "stderr",
     "output_type": "stream",
     "text": [
      "100%|██████████| 4212/4212 [00:11<00:00, 353.18frames/s]\n",
      "  0%|          | 0/1792 [00:00<?, ?frames/s]"
     ]
    },
    {
     "name": "stdout",
     "output_type": "stream",
     "text": [
      "Finding cuts of Video ../../data/uLUqN8YG-s4.mp4: 1494/2002\r"
     ]
    },
    {
     "name": "stderr",
     "output_type": "stream",
     "text": [
      "100%|██████████| 1792/1792 [00:08<00:00, 222.50frames/s]\n",
      "  0%|          | 17/3792 [00:00<00:22, 168.90frames/s]"
     ]
    },
    {
     "name": "stdout",
     "output_type": "stream",
     "text": [
      "Finding cuts of Video ../../data/NQu-153MnGQ.mp4: 1495/2002\r"
     ]
    },
    {
     "name": "stderr",
     "output_type": "stream",
     "text": [
      "100%|██████████| 3792/3792 [00:21<00:00, 179.31frames/s]\n",
      "  2%|▏         | 52/2715 [00:00<00:05, 510.89frames/s]"
     ]
    },
    {
     "name": "stdout",
     "output_type": "stream",
     "text": [
      "Finding cuts of Video ../../data/lcjN7zkgELM.mp4: 1496/2002\r"
     ]
    },
    {
     "name": "stderr",
     "output_type": "stream",
     "text": [
      "100%|██████████| 2715/2715 [00:05<00:00, 509.22frames/s]\n",
      "  1%|          | 20/3094 [00:00<00:15, 193.09frames/s]"
     ]
    },
    {
     "name": "stdout",
     "output_type": "stream",
     "text": [
      "Finding cuts of Video ../../data/xLBZ1_J1xvM.webm: 1497/2002\r"
     ]
    },
    {
     "name": "stderr",
     "output_type": "stream",
     "text": [
      " 92%|█████████▏| 2856/3094 [00:16<00:01, 175.27frames/s]\n",
      "  1%|          | 24/2329 [00:00<00:09, 238.37frames/s]"
     ]
    },
    {
     "name": "stdout",
     "output_type": "stream",
     "text": [
      "Finding cuts of Video ../../data/9oVzgybbU3M.mp4: 1498/2002\r"
     ]
    },
    {
     "name": "stderr",
     "output_type": "stream",
     "text": [
      "100%|██████████| 2329/2329 [00:06<00:00, 349.72frames/s]\n",
      "  0%|          | 12/3849 [00:00<00:33, 115.49frames/s]"
     ]
    },
    {
     "name": "stdout",
     "output_type": "stream",
     "text": [
      "Finding cuts of Video ../../data/Lgj4GjqCFlY.mp4: 1499/2002\r"
     ]
    },
    {
     "name": "stderr",
     "output_type": "stream",
     "text": [
      "100%|██████████| 3849/3849 [00:21<00:00, 182.12frames/s]\n",
      "  3%|▎         | 72/2265 [00:00<00:03, 716.94frames/s]"
     ]
    },
    {
     "name": "stdout",
     "output_type": "stream",
     "text": [
      "Finding cuts of Video ../../data/mlmkMeWNmc0.mp4: 1500/2002\r"
     ]
    },
    {
     "name": "stderr",
     "output_type": "stream",
     "text": [
      "2266frames [00:03, 656.17frames/s]                      \n",
      "  0%|          | 11/4204 [00:00<00:39, 105.95frames/s]"
     ]
    },
    {
     "name": "stdout",
     "output_type": "stream",
     "text": [
      "Finding cuts of Video ../../data/GjwfqXTebIY.mp4: 1501/2002\r"
     ]
    },
    {
     "name": "stderr",
     "output_type": "stream",
     "text": [
      "100%|██████████| 4204/4204 [00:23<00:00, 179.77frames/s]\n",
      "  1%|          | 16/2830 [00:00<00:17, 159.94frames/s]"
     ]
    },
    {
     "name": "stdout",
     "output_type": "stream",
     "text": [
      "Finding cuts of Video ../../data/1Er_EeF2Ozc.mp4: 1502/2002\r"
     ]
    },
    {
     "name": "stderr",
     "output_type": "stream",
     "text": [
      "2831frames [00:14, 188.95frames/s]                      \n",
      "  0%|          | 0/3203 [00:00<?, ?frames/s]"
     ]
    },
    {
     "name": "stdout",
     "output_type": "stream",
     "text": [
      "Finding cuts of Video ../../data/_TLXORFumu0.mp4: 1503/2002\r"
     ]
    },
    {
     "name": "stderr",
     "output_type": "stream",
     "text": [
      "100%|██████████| 3203/3203 [00:14<00:00, 223.51frames/s]\n",
      "  2%|▏         | 72/3999 [00:00<00:05, 711.34frames/s]"
     ]
    },
    {
     "name": "stdout",
     "output_type": "stream",
     "text": [
      "Finding cuts of Video ../../data/6kCcZCMYw38.mp4: 1504/2002\r"
     ]
    },
    {
     "name": "stderr",
     "output_type": "stream",
     "text": [
      "4000frames [00:05, 777.63frames/s]                      \n",
      "  1%|          | 40/3430 [00:00<00:08, 394.28frames/s]"
     ]
    },
    {
     "name": "stdout",
     "output_type": "stream",
     "text": [
      "Finding cuts of Video ../../data/2wn6pAIRjjY.mp4: 1505/2002\r"
     ]
    },
    {
     "name": "stderr",
     "output_type": "stream",
     "text": [
      "100%|██████████| 3430/3430 [00:08<00:00, 421.31frames/s]\n",
      "  0%|          | 13/3650 [00:00<00:27, 129.91frames/s]"
     ]
    },
    {
     "name": "stdout",
     "output_type": "stream",
     "text": [
      "Finding cuts of Video ../../data/w7pYhpJaJW8.mp4: 1506/2002\r"
     ]
    },
    {
     "name": "stderr",
     "output_type": "stream",
     "text": [
      "100%|██████████| 3650/3650 [00:20<00:00, 180.85frames/s]\n",
      "  0%|          | 0/3145 [00:00<?, ?frames/s]"
     ]
    },
    {
     "name": "stdout",
     "output_type": "stream",
     "text": [
      "Finding cuts of Video ../../data/PzfEgYJcedw.mp4: 1507/2002\r"
     ]
    },
    {
     "name": "stderr",
     "output_type": "stream",
     "text": [
      "100%|██████████| 3145/3145 [00:13<00:00, 227.74frames/s]\n",
      "  4%|▎         | 95/2658 [00:00<00:02, 940.78frames/s]"
     ]
    },
    {
     "name": "stdout",
     "output_type": "stream",
     "text": [
      "Finding cuts of Video ../../data/Ajcdb4FAL7A.mp4: 1508/2002\r"
     ]
    },
    {
     "name": "stderr",
     "output_type": "stream",
     "text": [
      "2659frames [00:02, 894.26frames/s]                      \n",
      "  1%|          | 19/3652 [00:00<00:19, 183.11frames/s]"
     ]
    },
    {
     "name": "stdout",
     "output_type": "stream",
     "text": [
      "Finding cuts of Video ../../data/5NYt1qirBWg.mp4: 1509/2002\r"
     ]
    },
    {
     "name": "stderr",
     "output_type": "stream",
     "text": [
      "100%|██████████| 3652/3652 [00:16<00:00, 225.91frames/s]\n",
      "  1%|          | 18/3586 [00:00<00:21, 167.53frames/s]"
     ]
    },
    {
     "name": "stdout",
     "output_type": "stream",
     "text": [
      "Finding cuts of Video ../../data/aoCP_JHzBUM.webm: 1510/2002\r"
     ]
    },
    {
     "name": "stderr",
     "output_type": "stream",
     "text": [
      " 95%|█████████▌| 3410/3586 [00:18<00:00, 188.11frames/s]\n",
      "  0%|          | 0/3695 [00:00<?, ?frames/s]"
     ]
    },
    {
     "name": "stdout",
     "output_type": "stream",
     "text": [
      "Finding cuts of Video ../../data/LdsdcPJ9mcA.mp4: 1511/2002\r"
     ]
    },
    {
     "name": "stderr",
     "output_type": "stream",
     "text": [
      "100%|██████████| 3695/3695 [00:16<00:00, 224.51frames/s]\n",
      "  1%|          | 15/2794 [00:00<00:19, 143.06frames/s]"
     ]
    },
    {
     "name": "stdout",
     "output_type": "stream",
     "text": [
      "Finding cuts of Video ../../data/5sEaYB4rLFQ.webm: 1512/2002\r"
     ]
    },
    {
     "name": "stderr",
     "output_type": "stream",
     "text": [
      " 94%|█████████▎| 2613/2794 [00:14<00:01, 176.24frames/s]\n",
      "  0%|          | 16/3603 [00:00<00:22, 158.26frames/s]"
     ]
    },
    {
     "name": "stdout",
     "output_type": "stream",
     "text": [
      "Finding cuts of Video ../../data/9fbo_pQvU7M.mp4: 1513/2002\r"
     ]
    },
    {
     "name": "stderr",
     "output_type": "stream",
     "text": [
      "100%|██████████| 3603/3603 [00:20<00:00, 174.37frames/s]\n",
      "  1%|▏         | 19/1343 [00:00<00:07, 185.13frames/s]"
     ]
    },
    {
     "name": "stdout",
     "output_type": "stream",
     "text": [
      "Finding cuts of Video ../../data/jfhHg3eeqS0.mp4: 1514/2002\r"
     ]
    },
    {
     "name": "stderr",
     "output_type": "stream",
     "text": [
      "100%|██████████| 1343/1343 [00:07<00:00, 179.48frames/s]\n",
      "  0%|          | 9/2359 [00:00<00:26, 88.59frames/s]"
     ]
    },
    {
     "name": "stdout",
     "output_type": "stream",
     "text": [
      "Finding cuts of Video ../../data/tGpTpVyI_OQ.mp4: 1515/2002\r"
     ]
    },
    {
     "name": "stderr",
     "output_type": "stream",
     "text": [
      "100%|██████████| 2359/2359 [00:13<00:00, 179.32frames/s]\n",
      "  0%|          | 0/3480 [00:00<?, ?frames/s]"
     ]
    },
    {
     "name": "stdout",
     "output_type": "stream",
     "text": [
      "Finding cuts of Video ../../data/eqa5NqcH2og.mp4: 1516/2002\r"
     ]
    },
    {
     "name": "stderr",
     "output_type": "stream",
     "text": [
      "100%|██████████| 3480/3480 [00:20<00:00, 172.65frames/s]\n",
      "  0%|          | 15/3983 [00:00<00:27, 144.84frames/s]"
     ]
    },
    {
     "name": "stdout",
     "output_type": "stream",
     "text": [
      "Finding cuts of Video ../../data/bD7bpG-zDJQ.mp4: 1517/2002\r"
     ]
    },
    {
     "name": "stderr",
     "output_type": "stream",
     "text": [
      "100%|██████████| 3983/3983 [00:22<00:00, 176.55frames/s]\n",
      "  2%|▏         | 49/2868 [00:00<00:05, 488.87frames/s]"
     ]
    },
    {
     "name": "stdout",
     "output_type": "stream",
     "text": [
      "Finding cuts of Video ../../data/pEI4hHSJsjY.mp4: 1518/2002\r"
     ]
    },
    {
     "name": "stderr",
     "output_type": "stream",
     "text": [
      "100%|██████████| 2868/2868 [00:04<00:00, 590.39frames/s]\n",
      "  1%|          | 32/3624 [00:00<00:11, 319.90frames/s]"
     ]
    },
    {
     "name": "stdout",
     "output_type": "stream",
     "text": [
      "Finding cuts of Video ../../data/YvV3g8hLlyU.mp4: 1519/2002\r"
     ]
    },
    {
     "name": "stderr",
     "output_type": "stream",
     "text": [
      "100%|██████████| 3624/3624 [00:10<00:00, 339.72frames/s]\n",
      "  0%|          | 12/3673 [00:00<00:33, 110.93frames/s]"
     ]
    },
    {
     "name": "stdout",
     "output_type": "stream",
     "text": [
      "Finding cuts of Video ../../data/vgqG3ITMv1Q.mp4: 1520/2002\r"
     ]
    },
    {
     "name": "stderr",
     "output_type": "stream",
     "text": [
      "100%|██████████| 3673/3673 [00:20<00:00, 180.20frames/s]\n",
      "  0%|          | 10/2942 [00:00<00:30, 97.30frames/s]"
     ]
    },
    {
     "name": "stdout",
     "output_type": "stream",
     "text": [
      "Finding cuts of Video ../../data/QF903RaKLvs.mp4: 1521/2002\r"
     ]
    },
    {
     "name": "stderr",
     "output_type": "stream",
     "text": [
      "100%|██████████| 2942/2942 [00:16<00:00, 179.02frames/s]\n",
      "  2%|▏         | 73/3933 [00:00<00:05, 722.93frames/s]"
     ]
    },
    {
     "name": "stdout",
     "output_type": "stream",
     "text": [
      "Finding cuts of Video ../../data/TOQsDiEc7nk.mp4: 1522/2002\r"
     ]
    },
    {
     "name": "stderr",
     "output_type": "stream",
     "text": [
      "100%|██████████| 3933/3933 [00:04<00:00, 844.41frames/s]\n",
      "  1%|          | 43/3590 [00:00<00:08, 426.93frames/s]"
     ]
    },
    {
     "name": "stdout",
     "output_type": "stream",
     "text": [
      "Finding cuts of Video ../../data/uO12W35DpsQ.mp4: 1523/2002\r"
     ]
    },
    {
     "name": "stderr",
     "output_type": "stream",
     "text": [
      "100%|██████████| 3590/3590 [00:08<00:00, 429.48frames/s]\n",
      "  0%|          | 0/3153 [00:00<?, ?frames/s]"
     ]
    },
    {
     "name": "stdout",
     "output_type": "stream",
     "text": [
      "Finding cuts of Video ../../data/E80GplS1OG8.mp4: 1524/2002\r"
     ]
    },
    {
     "name": "stderr",
     "output_type": "stream",
     "text": [
      "100%|██████████| 3153/3153 [00:14<00:00, 219.91frames/s]\n",
      "  0%|          | 19/4178 [00:00<00:23, 180.44frames/s]"
     ]
    },
    {
     "name": "stdout",
     "output_type": "stream",
     "text": [
      "Finding cuts of Video ../../data/fGPPfZIvtCw.mp4: 1525/2002\r"
     ]
    },
    {
     "name": "stderr",
     "output_type": "stream",
     "text": [
      "100%|██████████| 4178/4178 [00:22<00:00, 183.05frames/s]\n",
      "  1%|          | 16/2160 [00:00<00:13, 154.71frames/s]"
     ]
    },
    {
     "name": "stdout",
     "output_type": "stream",
     "text": [
      "Finding cuts of Video ../../data/GX33bIOA5aA.mp4: 1526/2002\r"
     ]
    },
    {
     "name": "stderr",
     "output_type": "stream",
     "text": [
      "100%|██████████| 2160/2160 [00:12<00:00, 175.99frames/s]\n",
      "  1%|          | 19/3600 [00:00<00:19, 185.63frames/s]"
     ]
    },
    {
     "name": "stdout",
     "output_type": "stream",
     "text": [
      "Finding cuts of Video ../../data/Mh2ebPxhoLs.webm: 1527/2002\r"
     ]
    },
    {
     "name": "stderr",
     "output_type": "stream",
     "text": [
      " 95%|█████████▍| 3411/3600 [00:18<00:01, 181.97frames/s]\n",
      "  0%|          | 19/3808 [00:00<00:21, 178.95frames/s]"
     ]
    },
    {
     "name": "stdout",
     "output_type": "stream",
     "text": [
      "Finding cuts of Video ../../data/336qJITnDi0.mp4: 1528/2002\r"
     ]
    },
    {
     "name": "stderr",
     "output_type": "stream",
     "text": [
      "100%|██████████| 3808/3808 [00:20<00:00, 181.48frames/s]\n",
      "  1%|          | 18/2986 [00:00<00:17, 173.23frames/s]"
     ]
    },
    {
     "name": "stdout",
     "output_type": "stream",
     "text": [
      "Finding cuts of Video ../../data/cvCktPUwkW0.mp4: 1529/2002\r"
     ]
    },
    {
     "name": "stderr",
     "output_type": "stream",
     "text": [
      "100%|██████████| 2986/2986 [00:16<00:00, 178.40frames/s]\n",
      "  2%|▏         | 65/3058 [00:00<00:04, 642.39frames/s]"
     ]
    },
    {
     "name": "stdout",
     "output_type": "stream",
     "text": [
      "Finding cuts of Video ../../data/u_jE7-6Uv7E.mp4: 1530/2002\r"
     ]
    },
    {
     "name": "stderr",
     "output_type": "stream",
     "text": [
      "100%|██████████| 3058/3058 [00:04<00:00, 614.62frames/s]\n",
      "  1%|          | 23/3652 [00:00<00:15, 229.15frames/s]"
     ]
    },
    {
     "name": "stdout",
     "output_type": "stream",
     "text": [
      "Finding cuts of Video ../../data/vSXUgkCjdBM.mp4: 1531/2002\r"
     ]
    },
    {
     "name": "stderr",
     "output_type": "stream",
     "text": [
      "100%|██████████| 3652/3652 [00:15<00:00, 236.20frames/s]\n",
      "  1%|          | 17/2761 [00:00<00:16, 167.38frames/s]"
     ]
    },
    {
     "name": "stdout",
     "output_type": "stream",
     "text": [
      "Finding cuts of Video ../../data/w7Z6mGI6dC0.mp4: 1532/2002\r"
     ]
    },
    {
     "name": "stderr",
     "output_type": "stream",
     "text": [
      "100%|██████████| 2761/2761 [00:15<00:00, 174.63frames/s]\n",
      "  0%|          | 16/4016 [00:00<00:25, 155.33frames/s]"
     ]
    },
    {
     "name": "stdout",
     "output_type": "stream",
     "text": [
      "Finding cuts of Video ../../data/kl8F-8tR8to.webm: 1533/2002\r"
     ]
    },
    {
     "name": "stderr",
     "output_type": "stream",
     "text": [
      " 94%|█████████▍| 3788/4016 [00:20<00:01, 180.49frames/s]\n",
      "  1%|          | 38/3947 [00:00<00:10, 375.69frames/s]"
     ]
    },
    {
     "name": "stdout",
     "output_type": "stream",
     "text": [
      "Finding cuts of Video ../../data/40hHA9n4C2o.mp4: 1534/2002\r"
     ]
    },
    {
     "name": "stderr",
     "output_type": "stream",
     "text": [
      "100%|██████████| 3947/3947 [00:11<00:00, 339.78frames/s]\n",
      "  0%|          | 8/3294 [00:00<00:41, 79.76frames/s]"
     ]
    },
    {
     "name": "stdout",
     "output_type": "stream",
     "text": [
      "Finding cuts of Video ../../data/cMVxECWC-vk.mp4: 1535/2002\r"
     ]
    },
    {
     "name": "stderr",
     "output_type": "stream",
     "text": [
      "100%|██████████| 3294/3294 [00:19<00:00, 172.78frames/s]\n",
      "  0%|          | 15/4039 [00:00<00:29, 138.57frames/s]"
     ]
    },
    {
     "name": "stdout",
     "output_type": "stream",
     "text": [
      "Finding cuts of Video ../../data/yqN7nHM1YTA.mp4: 1536/2002\r"
     ]
    },
    {
     "name": "stderr",
     "output_type": "stream",
     "text": [
      "100%|██████████| 4039/4039 [00:22<00:00, 179.04frames/s]\n",
      "  2%|▏         | 93/5131 [00:00<00:05, 929.28frames/s]"
     ]
    },
    {
     "name": "stdout",
     "output_type": "stream",
     "text": [
      "Finding cuts of Video ../../data/zFjaJbihWwc.mp4: 1537/2002\r"
     ]
    },
    {
     "name": "stderr",
     "output_type": "stream",
     "text": [
      "100%|██████████| 5131/5131 [00:06<00:00, 852.65frames/s]\n",
      "  0%|          | 12/3354 [00:00<00:30, 111.25frames/s]"
     ]
    },
    {
     "name": "stdout",
     "output_type": "stream",
     "text": [
      "Finding cuts of Video ../../data/tD3WKbQRvQw.mp4: 1538/2002\r"
     ]
    },
    {
     "name": "stderr",
     "output_type": "stream",
     "text": [
      "100%|██████████| 3354/3354 [00:19<00:00, 171.23frames/s]\n",
      "  1%|          | 13/1524 [00:00<00:12, 124.98frames/s]"
     ]
    },
    {
     "name": "stdout",
     "output_type": "stream",
     "text": [
      "Finding cuts of Video ../../data/q9y3z-lx-ZE.mp4: 1539/2002\r"
     ]
    },
    {
     "name": "stderr",
     "output_type": "stream",
     "text": [
      "100%|██████████| 1524/1524 [00:08<00:00, 175.09frames/s]\n",
      "  0%|          | 16/3601 [00:00<00:22, 158.94frames/s]"
     ]
    },
    {
     "name": "stdout",
     "output_type": "stream",
     "text": [
      "Finding cuts of Video ../../data/0lzccY1-PNs.mp4: 1540/2002\r"
     ]
    },
    {
     "name": "stderr",
     "output_type": "stream",
     "text": [
      "100%|██████████| 3601/3601 [00:19<00:00, 189.44frames/s]\n",
      "  0%|          | 14/4270 [00:00<00:30, 137.67frames/s]"
     ]
    },
    {
     "name": "stdout",
     "output_type": "stream",
     "text": [
      "Finding cuts of Video ../../data/wNAnW6asWEQ.mp4: 1541/2002\r"
     ]
    },
    {
     "name": "stderr",
     "output_type": "stream",
     "text": [
      "100%|██████████| 4270/4270 [00:25<00:00, 170.18frames/s]\n",
      "  6%|▌         | 113/1965 [00:00<00:01, 1123.22frames/s]"
     ]
    },
    {
     "name": "stdout",
     "output_type": "stream",
     "text": [
      "Finding cuts of Video ../../data/bkU7Cl2SSvI.mp4: 1542/2002\r"
     ]
    },
    {
     "name": "stderr",
     "output_type": "stream",
     "text": [
      "100%|██████████| 1965/1965 [00:01<00:00, 1007.76frames/s]\n",
      "  1%|          | 20/3529 [00:00<00:18, 193.85frames/s]"
     ]
    },
    {
     "name": "stdout",
     "output_type": "stream",
     "text": [
      "Finding cuts of Video ../../data/XZAvWkBAhkk.mp4: 1543/2002\r"
     ]
    },
    {
     "name": "stderr",
     "output_type": "stream",
     "text": [
      "100%|██████████| 3529/3529 [00:15<00:00, 225.93frames/s]\n",
      "  1%|          | 15/1595 [00:00<00:11, 140.74frames/s]"
     ]
    },
    {
     "name": "stdout",
     "output_type": "stream",
     "text": [
      "Finding cuts of Video ../../data/zoKj7TdJk98.mp4: 1544/2002\r"
     ]
    },
    {
     "name": "stderr",
     "output_type": "stream",
     "text": [
      "100%|██████████| 1595/1595 [00:09<00:00, 177.06frames/s]\n",
      "  1%|          | 19/3618 [00:00<00:19, 183.09frames/s]"
     ]
    },
    {
     "name": "stdout",
     "output_type": "stream",
     "text": [
      "Finding cuts of Video ../../data/npvJ9FTgZbM.mp4: 1545/2002\r"
     ]
    },
    {
     "name": "stderr",
     "output_type": "stream",
     "text": [
      "100%|██████████| 3618/3618 [00:19<00:00, 182.38frames/s]\n",
      "  0%|          | 11/3672 [00:00<00:35, 103.87frames/s]"
     ]
    },
    {
     "name": "stdout",
     "output_type": "stream",
     "text": [
      "Finding cuts of Video ../../data/dwXFsrp6WBs.mp4: 1546/2002\r"
     ]
    },
    {
     "name": "stderr",
     "output_type": "stream",
     "text": [
      "100%|██████████| 3672/3672 [00:20<00:00, 175.78frames/s]\n",
      "  0%|          | 0/3491 [00:00<?, ?frames/s]"
     ]
    },
    {
     "name": "stdout",
     "output_type": "stream",
     "text": [
      "Finding cuts of Video ../../data/vzWVVla8WWA.mp4: 1547/2002\r"
     ]
    },
    {
     "name": "stderr",
     "output_type": "stream",
     "text": [
      "100%|██████████| 3491/3491 [00:19<00:00, 176.32frames/s]\n",
      "  1%|          | 18/3434 [00:00<00:19, 175.83frames/s]"
     ]
    },
    {
     "name": "stdout",
     "output_type": "stream",
     "text": [
      "Finding cuts of Video ../../data/4eaZ_48ZYog.mp4: 1548/2002\r"
     ]
    },
    {
     "name": "stderr",
     "output_type": "stream",
     "text": [
      "100%|██████████| 3434/3434 [00:18<00:00, 186.92frames/s]\n",
      "  0%|          | 15/3893 [00:00<00:26, 147.34frames/s]"
     ]
    },
    {
     "name": "stdout",
     "output_type": "stream",
     "text": [
      "Finding cuts of Video ../../data/7BWWWQzTpNU.webm: 1549/2002\r"
     ]
    },
    {
     "name": "stderr",
     "output_type": "stream",
     "text": [
      " 95%|█████████▌| 3713/3893 [00:21<00:01, 176.67frames/s]\n",
      "  1%|          | 18/3557 [00:00<00:19, 179.08frames/s]"
     ]
    },
    {
     "name": "stdout",
     "output_type": "stream",
     "text": [
      "Finding cuts of Video ../../data/4sYSyuuLk5g.mp4: 1550/2002\r"
     ]
    },
    {
     "name": "stderr",
     "output_type": "stream",
     "text": [
      "100%|██████████| 3557/3557 [00:20<00:00, 175.73frames/s]\n",
      "  0%|          | 18/4264 [00:00<00:25, 164.54frames/s]"
     ]
    },
    {
     "name": "stdout",
     "output_type": "stream",
     "text": [
      "Finding cuts of Video ../../data/48S3ogRGpjM.mp4: 1551/2002\r"
     ]
    },
    {
     "name": "stderr",
     "output_type": "stream",
     "text": [
      "100%|██████████| 4264/4264 [00:12<00:00, 342.55frames/s]\n",
      "  0%|          | 19/4199 [00:00<00:22, 186.20frames/s]"
     ]
    },
    {
     "name": "stdout",
     "output_type": "stream",
     "text": [
      "Finding cuts of Video ../../data/tJs8-Ytu0oA.mp4: 1552/2002\r"
     ]
    },
    {
     "name": "stderr",
     "output_type": "stream",
     "text": [
      "100%|██████████| 4199/4199 [00:24<00:00, 173.99frames/s]\n",
      "  0%|          | 15/4142 [00:00<00:27, 148.49frames/s]"
     ]
    },
    {
     "name": "stdout",
     "output_type": "stream",
     "text": [
      "Finding cuts of Video ../../data/95ghQs5AmNk.mp4: 1553/2002\r"
     ]
    },
    {
     "name": "stderr",
     "output_type": "stream",
     "text": [
      "100%|██████████| 4142/4142 [00:21<00:00, 192.82frames/s]\n",
      "  0%|          | 16/3235 [00:00<00:20, 156.62frames/s]"
     ]
    },
    {
     "name": "stdout",
     "output_type": "stream",
     "text": [
      "Finding cuts of Video ../../data/5XnptKCeaJE.mp4: 1554/2002\r"
     ]
    },
    {
     "name": "stderr",
     "output_type": "stream",
     "text": [
      "100%|██████████| 3235/3235 [00:18<00:00, 176.59frames/s]\n",
      "  1%|          | 17/1656 [00:00<00:09, 164.95frames/s]"
     ]
    },
    {
     "name": "stdout",
     "output_type": "stream",
     "text": [
      "Finding cuts of Video ../../data/7nXygV0QgnY.mp4: 1555/2002\r"
     ]
    },
    {
     "name": "stderr",
     "output_type": "stream",
     "text": [
      "100%|██████████| 1656/1656 [00:09<00:00, 177.27frames/s]\n",
      "  0%|          | 17/3852 [00:00<00:23, 164.99frames/s]"
     ]
    },
    {
     "name": "stdout",
     "output_type": "stream",
     "text": [
      "Finding cuts of Video ../../data/SX9y5JPuRHY.mp4: 1556/2002\r"
     ]
    },
    {
     "name": "stderr",
     "output_type": "stream",
     "text": [
      "100%|██████████| 3852/3852 [00:21<00:00, 178.46frames/s]\n",
      "  1%|          | 23/3590 [00:00<00:15, 229.87frames/s]"
     ]
    },
    {
     "name": "stdout",
     "output_type": "stream",
     "text": [
      "Finding cuts of Video ../../data/g7ArZ7VD-QQ.mp4: 1557/2002\r"
     ]
    },
    {
     "name": "stderr",
     "output_type": "stream",
     "text": [
      "100%|██████████| 3590/3590 [00:16<00:00, 222.75frames/s]\n",
      "  0%|          | 0/2275 [00:00<?, ?frames/s]"
     ]
    },
    {
     "name": "stdout",
     "output_type": "stream",
     "text": [
      "Finding cuts of Video ../../data/7H9jrnOu0rQ.mp4: 1558/2002\r"
     ]
    },
    {
     "name": "stderr",
     "output_type": "stream",
     "text": [
      "100%|██████████| 2275/2275 [00:12<00:00, 176.80frames/s]\n",
      "  1%|          | 20/3515 [00:00<00:18, 193.99frames/s]"
     ]
    },
    {
     "name": "stdout",
     "output_type": "stream",
     "text": [
      "Finding cuts of Video ../../data/Wlo-sYrADlw.mp4: 1559/2002\r"
     ]
    },
    {
     "name": "stderr",
     "output_type": "stream",
     "text": [
      "100%|██████████| 3515/3515 [00:19<00:00, 176.25frames/s]\n",
      "  1%|▏         | 41/2798 [00:00<00:06, 403.56frames/s]"
     ]
    },
    {
     "name": "stdout",
     "output_type": "stream",
     "text": [
      "Finding cuts of Video ../../data/oJsRRVXNj4M.mp4: 1560/2002\r"
     ]
    },
    {
     "name": "stderr",
     "output_type": "stream",
     "text": [
      "100%|██████████| 2798/2798 [00:07<00:00, 367.03frames/s]\n",
      "  1%|          | 18/2640 [00:00<00:15, 172.01frames/s]"
     ]
    },
    {
     "name": "stdout",
     "output_type": "stream",
     "text": [
      "Finding cuts of Video ../../data/__oEU4P_rL8.mp4: 1561/2002\r"
     ]
    },
    {
     "name": "stderr",
     "output_type": "stream",
     "text": [
      "100%|██████████| 2640/2640 [00:14<00:00, 177.42frames/s]\n",
      "  8%|▊         | 30/371 [00:00<00:01, 295.11frames/s]"
     ]
    },
    {
     "name": "stdout",
     "output_type": "stream",
     "text": [
      "Finding cuts of Video ../../data/YCrqh3aF8gc.mp4: 1562/2002\r"
     ]
    },
    {
     "name": "stderr",
     "output_type": "stream",
     "text": [
      "100%|██████████| 371/371 [00:00<00:00, 609.87frames/s]\n",
      "  2%|▏         | 69/3607 [00:00<00:05, 689.31frames/s]"
     ]
    },
    {
     "name": "stdout",
     "output_type": "stream",
     "text": [
      "Finding cuts of Video ../../data/4sj1MT05lAA.mp4: 1563/2002\r"
     ]
    },
    {
     "name": "stderr",
     "output_type": "stream",
     "text": [
      "100%|██████████| 3607/3607 [00:04<00:00, 768.28frames/s]\n",
      "  0%|          | 11/3932 [00:00<00:35, 108.96frames/s]"
     ]
    },
    {
     "name": "stdout",
     "output_type": "stream",
     "text": [
      "Finding cuts of Video ../../data/JF1rLFCdewU.mp4: 1564/2002\r"
     ]
    },
    {
     "name": "stderr",
     "output_type": "stream",
     "text": [
      "100%|██████████| 3932/3932 [00:21<00:00, 185.23frames/s]\n",
      "  2%|▏         | 16/768 [00:00<00:04, 159.69frames/s]"
     ]
    },
    {
     "name": "stdout",
     "output_type": "stream",
     "text": [
      "Finding cuts of Video ../../data/_PLIHzGLLhs.mp4: 1565/2002\r"
     ]
    },
    {
     "name": "stderr",
     "output_type": "stream",
     "text": [
      "100%|██████████| 768/768 [00:04<00:00, 165.33frames/s]\n",
      "  1%|          | 25/2074 [00:00<00:08, 242.62frames/s]"
     ]
    },
    {
     "name": "stdout",
     "output_type": "stream",
     "text": [
      "Finding cuts of Video ../../data/oFTfAdauCOo.mp4: 1566/2002\r"
     ]
    },
    {
     "name": "stderr",
     "output_type": "stream",
     "text": [
      "100%|██████████| 2074/2074 [00:08<00:00, 233.67frames/s]\n",
      "  1%|          | 23/3613 [00:00<00:15, 228.62frames/s]"
     ]
    },
    {
     "name": "stdout",
     "output_type": "stream",
     "text": [
      "Finding cuts of Video ../../data/7SlILk2WMTI.mp4: 1567/2002\r"
     ]
    },
    {
     "name": "stderr",
     "output_type": "stream",
     "text": [
      "100%|██████████| 3613/3613 [00:15<00:00, 237.70frames/s]\n",
      "  0%|          | 0/2821 [00:00<?, ?frames/s]"
     ]
    },
    {
     "name": "stdout",
     "output_type": "stream",
     "text": [
      "Finding cuts of Video ../../data/_gdEuuxW-zk.mp4: 1568/2002\r"
     ]
    },
    {
     "name": "stderr",
     "output_type": "stream",
     "text": [
      "100%|██████████| 2821/2821 [00:08<00:00, 335.02frames/s]\n",
      "  1%|          | 20/3398 [00:00<00:17, 197.53frames/s]"
     ]
    },
    {
     "name": "stdout",
     "output_type": "stream",
     "text": [
      "Finding cuts of Video ../../data/JY3u7bB7dZk.mp4: 1569/2002\r"
     ]
    },
    {
     "name": "stderr",
     "output_type": "stream",
     "text": [
      "100%|██████████| 3398/3398 [00:15<00:00, 220.07frames/s]\n",
      "  1%|          | 34/3653 [00:00<00:10, 337.80frames/s]"
     ]
    },
    {
     "name": "stdout",
     "output_type": "stream",
     "text": [
      "Finding cuts of Video ../../data/2ywOPNNii9w.mp4: 1570/2002\r"
     ]
    },
    {
     "name": "stderr",
     "output_type": "stream",
     "text": [
      "100%|██████████| 3653/3653 [00:10<00:00, 345.56frames/s]\n",
      "  2%|▏         | 50/3100 [00:00<00:06, 490.35frames/s]"
     ]
    },
    {
     "name": "stdout",
     "output_type": "stream",
     "text": [
      "Finding cuts of Video ../../data/K_tLp7T6U1c.mp4: 1571/2002\r"
     ]
    },
    {
     "name": "stderr",
     "output_type": "stream",
     "text": [
      "100%|██████████| 3100/3100 [00:05<00:00, 558.93frames/s]\n",
      "  0%|          | 12/4290 [00:00<00:37, 113.40frames/s]"
     ]
    },
    {
     "name": "stdout",
     "output_type": "stream",
     "text": [
      "Finding cuts of Video ../../data/LFoz8ZJWmPs.mp4: 1572/2002\r"
     ]
    },
    {
     "name": "stderr",
     "output_type": "stream",
     "text": [
      "100%|██████████| 4290/4290 [00:24<00:00, 177.77frames/s]\n",
      "  0%|          | 16/3577 [00:00<00:22, 156.63frames/s]"
     ]
    },
    {
     "name": "stdout",
     "output_type": "stream",
     "text": [
      "Finding cuts of Video ../../data/l7zAV_MDC68.mp4: 1573/2002\r"
     ]
    },
    {
     "name": "stderr",
     "output_type": "stream",
     "text": [
      "100%|██████████| 3577/3577 [00:19<00:00, 180.07frames/s]\n"
     ]
    },
    {
     "name": "stdout",
     "output_type": "stream",
     "text": [
      "Finding cuts of Video ../../data/7FIZGHax55c.mp4: 1574/2002\r"
     ]
    },
    {
     "name": "stderr",
     "output_type": "stream",
     "text": [
      "100%|██████████| 4012/4012 [00:22<00:00, 180.32frames/s]\n",
      "  0%|          | 16/3387 [00:00<00:21, 154.10frames/s]"
     ]
    },
    {
     "name": "stdout",
     "output_type": "stream",
     "text": [
      "Finding cuts of Video ../../data/A2sGw3w8_HA.mp4: 1575/2002\r"
     ]
    },
    {
     "name": "stderr",
     "output_type": "stream",
     "text": [
      "100%|██████████| 3387/3387 [00:19<00:00, 177.81frames/s]\n",
      "  1%|          | 28/3645 [00:00<00:13, 273.78frames/s]"
     ]
    },
    {
     "name": "stdout",
     "output_type": "stream",
     "text": [
      "Finding cuts of Video ../../data/3rqc-cFPYKw.mp4: 1576/2002\r"
     ]
    },
    {
     "name": "stderr",
     "output_type": "stream",
     "text": [
      "100%|██████████| 3645/3645 [00:10<00:00, 332.31frames/s]\n",
      "  1%|          | 20/3704 [00:00<00:18, 195.82frames/s]"
     ]
    },
    {
     "name": "stdout",
     "output_type": "stream",
     "text": [
      "Finding cuts of Video ../../data/w1tfLWxcEzw.webm: 1577/2002\r"
     ]
    },
    {
     "name": "stderr",
     "output_type": "stream",
     "text": [
      " 92%|█████████▏| 3416/3704 [00:19<00:01, 175.42frames/s]\n",
      "  1%|          | 21/4188 [00:00<00:20, 201.51frames/s]"
     ]
    },
    {
     "name": "stdout",
     "output_type": "stream",
     "text": [
      "Finding cuts of Video ../../data/nijccxWvyXU.mp4: 1578/2002\r"
     ]
    },
    {
     "name": "stderr",
     "output_type": "stream",
     "text": [
      "100%|██████████| 4188/4188 [00:18<00:00, 228.48frames/s]\n",
      "  4%|▎         | 94/2590 [00:00<00:02, 931.53frames/s]"
     ]
    },
    {
     "name": "stdout",
     "output_type": "stream",
     "text": [
      "Finding cuts of Video ../../data/Mm9vF4WPGD8.mp4: 1579/2002\r"
     ]
    },
    {
     "name": "stderr",
     "output_type": "stream",
     "text": [
      "100%|██████████| 2590/2590 [00:02<00:00, 914.90frames/s] \n",
      "  0%|          | 12/3475 [00:00<00:30, 112.13frames/s]"
     ]
    },
    {
     "name": "stdout",
     "output_type": "stream",
     "text": [
      "Finding cuts of Video ../../data/_hLRtchRPE0.mp4: 1580/2002\r"
     ]
    },
    {
     "name": "stderr",
     "output_type": "stream",
     "text": [
      "100%|██████████| 3475/3475 [00:19<00:00, 179.18frames/s]\n",
      "  4%|▍         | 73/1641 [00:00<00:02, 718.11frames/s]"
     ]
    },
    {
     "name": "stdout",
     "output_type": "stream",
     "text": [
      "Finding cuts of Video ../../data/16-l-rO5B64.mp4: 1581/2002\r"
     ]
    },
    {
     "name": "stderr",
     "output_type": "stream",
     "text": [
      "100%|██████████| 1641/1641 [00:02<00:00, 634.99frames/s]\n",
      "  1%|          | 15/2995 [00:00<00:20, 146.26frames/s]"
     ]
    },
    {
     "name": "stdout",
     "output_type": "stream",
     "text": [
      "Finding cuts of Video ../../data/lwSysg9o7wE.mp4: 1582/2002\r"
     ]
    },
    {
     "name": "stderr",
     "output_type": "stream",
     "text": [
      "100%|██████████| 2995/2995 [00:16<00:00, 179.27frames/s]\n",
      "  1%|          | 20/3841 [00:00<00:19, 192.52frames/s]"
     ]
    },
    {
     "name": "stdout",
     "output_type": "stream",
     "text": [
      "Finding cuts of Video ../../data/aJJrkyHas78.mp4: 1583/2002\r"
     ]
    },
    {
     "name": "stderr",
     "output_type": "stream",
     "text": [
      "100%|██████████| 3841/3841 [00:22<00:00, 173.56frames/s]\n",
      "  1%|▏         | 29/1979 [00:00<00:06, 286.25frames/s]"
     ]
    },
    {
     "name": "stdout",
     "output_type": "stream",
     "text": [
      "Finding cuts of Video ../../data/JuWOj27MyMg.mp4: 1584/2002\r"
     ]
    },
    {
     "name": "stderr",
     "output_type": "stream",
     "text": [
      "1980frames [00:05, 351.31frames/s]                      \n",
      "  0%|          | 0/4100 [00:00<?, ?frames/s]"
     ]
    },
    {
     "name": "stdout",
     "output_type": "stream",
     "text": [
      "Finding cuts of Video ../../data/0KF2XpFyxXk.mp4: 1585/2002\r"
     ]
    },
    {
     "name": "stderr",
     "output_type": "stream",
     "text": [
      "100%|██████████| 4100/4100 [00:18<00:00, 218.89frames/s]\n",
      "  0%|          | 16/3923 [00:00<00:24, 156.86frames/s]"
     ]
    },
    {
     "name": "stdout",
     "output_type": "stream",
     "text": [
      "Finding cuts of Video ../../data/hbE8eGzUXLI.mp4: 1586/2002\r"
     ]
    },
    {
     "name": "stderr",
     "output_type": "stream",
     "text": [
      "3924frames [00:22, 174.41frames/s]                      \n",
      "  1%|          | 31/2758 [00:00<00:08, 306.04frames/s]"
     ]
    },
    {
     "name": "stdout",
     "output_type": "stream",
     "text": [
      "Finding cuts of Video ../../data/adPvbscBK_8.mp4: 1587/2002\r"
     ]
    },
    {
     "name": "stderr",
     "output_type": "stream",
     "text": [
      "2759frames [00:08, 342.14frames/s]                      \n",
      "  0%|          | 0/2313 [00:00<?, ?frames/s]"
     ]
    },
    {
     "name": "stdout",
     "output_type": "stream",
     "text": [
      "Finding cuts of Video ../../data/mSBHbGduo5I.mp4: 1588/2002\r"
     ]
    },
    {
     "name": "stderr",
     "output_type": "stream",
     "text": [
      "100%|██████████| 2313/2313 [00:09<00:00, 237.21frames/s]\n",
      "  1%|          | 19/3673 [00:00<00:19, 186.05frames/s]"
     ]
    },
    {
     "name": "stdout",
     "output_type": "stream",
     "text": [
      "Finding cuts of Video ../../data/Rt2LHkSwdPQ.mp4: 1589/2002\r"
     ]
    },
    {
     "name": "stderr",
     "output_type": "stream",
     "text": [
      "100%|██████████| 3673/3673 [00:19<00:00, 185.94frames/s]\n",
      "  0%|          | 16/4513 [00:00<00:28, 155.54frames/s]"
     ]
    },
    {
     "name": "stdout",
     "output_type": "stream",
     "text": [
      "Finding cuts of Video ../../data/5UnjrG_N8hU.mp4: 1590/2002\r"
     ]
    },
    {
     "name": "stderr",
     "output_type": "stream",
     "text": [
      "100%|██████████| 4513/4513 [00:25<00:00, 180.39frames/s]\n",
      "  1%|          | 33/3484 [00:00<00:10, 327.34frames/s]"
     ]
    },
    {
     "name": "stdout",
     "output_type": "stream",
     "text": [
      "Finding cuts of Video ../../data/F2-_OQL9fBk.mp4: 1591/2002\r"
     ]
    },
    {
     "name": "stderr",
     "output_type": "stream",
     "text": [
      "100%|██████████| 3484/3484 [00:10<00:00, 340.88frames/s]\n",
      "  1%|          | 31/3799 [00:00<00:12, 306.03frames/s]"
     ]
    },
    {
     "name": "stdout",
     "output_type": "stream",
     "text": [
      "Finding cuts of Video ../../data/MKIXQdv4G7o.mp4: 1592/2002\r"
     ]
    },
    {
     "name": "stderr",
     "output_type": "stream",
     "text": [
      "100%|██████████| 3799/3799 [00:10<00:00, 368.64frames/s]\n",
      "  1%|          | 21/3217 [00:00<00:15, 204.67frames/s]"
     ]
    },
    {
     "name": "stdout",
     "output_type": "stream",
     "text": [
      "Finding cuts of Video ../../data/YxC_JNz5Vbg.mp4: 1593/2002\r"
     ]
    },
    {
     "name": "stderr",
     "output_type": "stream",
     "text": [
      " 19%|█▊        | 600/3217 [00:01<00:07, 371.22frames/s]"
     ]
    }
   ],
   "source": [
    "for i, vid_file in enumerate(downloaded):\n",
    "    video_dir = os.path.join(dataset_folder, vid_file)\n",
    "    print(f\"Finding cuts of Video {video_dir}: {i+1}/{len(downloaded)}\", end='\\r')\n",
    "    \n",
    "    # Check for already existing files and skip if already calculated\n",
    "    yt_id = vid_file.split('.')[0]\n",
    "    cut_times_file = f\"{yt_id}_cuts.npy\"\n",
    "    if os.path.exists(cut_times_file):\n",
    "        continue\n",
    "    \n",
    "    # Create a video_manager point to video file testvideo.mp4. Note that multiple\n",
    "    # videos can be appended by simply specifying more file paths in the list\n",
    "    # passed to the VideoManager constructor. Note that appending multiple videos\n",
    "    # requires that they all have the same frame size, and optionally, framerate.\n",
    "    try:\n",
    "        video_manager = VideoManager([video_dir])\n",
    "        stats_manager = StatsManager()\n",
    "        scene_manager = SceneManager(stats_manager)\n",
    "        # Add ContentDetector algorithm (constructor takes detector options like threshold).\n",
    "        scene_manager.add_detector(ContentDetector())\n",
    "        base_timecode = video_manager.get_base_timecode()\n",
    "\n",
    "        try:\n",
    "            # Set downscale factor to improve processing speed (no args means default).\n",
    "            video_manager.set_downscale_factor()\n",
    "\n",
    "            # Start video_manager.\n",
    "            video_manager.start()\n",
    "\n",
    "            # Perform scene detection on video_manager.\n",
    "            scene_manager.detect_scenes(frame_source=video_manager)\n",
    "\n",
    "            # Obtain list of detected scenes.\n",
    "            scene_list = scene_manager.get_scene_list(base_timecode)\n",
    "            # Like FrameTimecodes, each scene in the scene_list can be sorted if the\n",
    "            # list of scenes becomes unsorted.\n",
    "\n",
    "            times = np.array([s[0].get_frames() for s in scene_list])\n",
    "            np.save(cut_times_file, times)\n",
    "        finally:\n",
    "            video_manager.release()\n",
    "    except:\n",
    "        pass"
   ]
  },
  {
   "cell_type": "markdown",
   "metadata": {},
   "source": [
    "# Analyze histograms between cuts"
   ]
  },
  {
   "cell_type": "code",
   "execution_count": null,
   "metadata": {},
   "outputs": [],
   "source": [
    "# histogram similarity metrics\n",
    "def norm_hist(H):\n",
    "    return H / H.size\n",
    "\n",
    "def hist_correlation(H1, H2):\n",
    "    H1_bar = H1.mean()\n",
    "    H2_bar = H2.mean()\n",
    "    num = ((H1 - H1_bar)*(H2 - H2_bar)).sum()\n",
    "    denom = ((H1 - H1_bar)**2).sum() * ((H2 - H2_bar)**2).sum()\n",
    "    denom = denom ** 0.5\n",
    "    return num / denom\n",
    "\n",
    "def hist_intersection(H1, H2):\n",
    "    return np.minimum(H1, H2).sum()\n",
    "\n",
    "def hist_bhattacharyya(H1, H2):\n",
    "    return -np.log(np.sqrt(H1*H2).sum())\n",
    "\n",
    "def compare_histograms(H1, H2, data_dict=None, comparison_functions=[hist_correlation, hist_intersection, hist_bhattacharyya])\n",
    "    H1, H2 = norm_hist(H1), norm_hist(H2) # Convert to probability distribution\n",
    "    if data_dict is None:\n",
    "        data_dict = {f.__name__: [] for f in comparison_functions} \n",
    "    for f in comparison_functions:\n",
    "        data_dict[f.__name__].append(f(H1, H2))\n",
    "    return data_dict"
   ]
  },
  {
   "cell_type": "code",
   "execution_count": null,
   "metadata": {},
   "outputs": [],
   "source": [
    "def collect_video_stats(video_file_name):\n",
    "    vid_file = os.path.basename(video_file_name)\n",
    "    yt_id = vid_file.split(\".\")[0]\n",
    "    vid_cuts = np.load(f'{yt_id}_cuts.npy')\n",
    "    print(f\"Vid Cuts: {vid_cuts}\")\n",
    "    \n",
    "    vid = cv2.VideoCapture(video_file_name)\n",
    "    frame_count = int(vid.get(cv2.CAP_PROP_FRAME_COUNT))\n",
    "    \n",
    "    i = 0\n",
    "    H_frame_prev = None\n",
    "    H_cut_prev = None\n",
    "    frame_wise_data = None # Signals to compare_histograms that we need to replace this with a data structure\n",
    "    cut_wise_data = None # Signals to compare_histograms that we need to replace this with a data structure\n",
    "\n",
    "    while True:\n",
    "        # Read image and make histogram\n",
    "        success, im = vid.read()\n",
    "        \n",
    "        # Break if no more frames left\n",
    "        if not success:# or i > 100:\n",
    "            break\n",
    "        \n",
    "        # Print status update if there are more frames to process\n",
    "        print(f\"Processing Frame {i}/{frame_count}\", end=\"\\r\")\n",
    "        \n",
    "        # Reset our histogram and collect data if we have encountered a cut\n",
    "        if i in vid_cuts:\n",
    "            # Collect cut_wise stats\n",
    "            if H_cut_prev is not None:\n",
    "                cut_wise_data = compare_histograms(H_cut, H_cut_prev, cut_wise_data)\n",
    "            # (Re)set aggregation variables\n",
    "            H_cut_prev = H_cut\n",
    "            H_cut = np.zeros((255, 255, 255))\n",
    "\n",
    "        # Make Histogram\n",
    "        im = np.flip(im, axis=2) # Switch BGR (openCV standard) to RGB\n",
    "        im = color.rgb2hsv(im) # Convert RGB to space for different viewing\n",
    "\n",
    "        H_frame, _ = np.histogramdd(\n",
    "            im.reshape(-1, im.shape[-1]),  #flattened image for input to histogramdd\n",
    "            bins=(255, 255, 255)\n",
    "        )\n",
    "        \n",
    "        # Collect frame_wise stats\n",
    "        if H_cut_prev is not None:\n",
    "            frame_wise_data = compare_histograms(H_frame, H_frame_prev, frame_wise_data)\n",
    "\n",
    "        # Increment\n",
    "        H_cut += H_frame\n",
    "        H_frame_prev = H_frame\n",
    "        i += 1\n",
    "    \n",
    "    # Make DataFrame\n",
    "    return pd.DataFrame(frame_wise_data), pd.DataFrame(cut_wise_data)"
   ]
  }
 ],
 "metadata": {
  "kernelspec": {
   "display_name": "Python 3",
   "language": "python",
   "name": "python3"
  },
  "language_info": {
   "codemirror_mode": {
    "name": "ipython",
    "version": 3
   },
   "file_extension": ".py",
   "mimetype": "text/x-python",
   "name": "python",
   "nbconvert_exporter": "python",
   "pygments_lexer": "ipython3",
   "version": "3.7.4"
  }
 },
 "nbformat": 4,
 "nbformat_minor": 4
}
