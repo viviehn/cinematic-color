{
 "cells": [
  {
   "cell_type": "code",
   "execution_count": null,
   "metadata": {},
   "outputs": [],
   "source": [
    "import pandas as pd\n",
    "import random\n",
    "import json\n",
    "from youtube_dl import YoutubeDL\n",
    "\n",
    "YCAC_DATASET = 'YCAC_metadata.csv'\n",
    "YT_DL_DATASET = 'YTDL_metadata.csv'\n",
    "download_dir = 'yt-music'"
   ]
  },
  {
   "cell_type": "code",
   "execution_count": null,
   "metadata": {},
   "outputs": [],
   "source": [
    "music_data = pd.read_csv(YCAC_DATASET)\n",
    "music_df = pd.DataFrame(music_data)\n",
    "music_df.fillna('')\n",
    "yt_df = pd.DataFrame(data=None, columns=music_df.columns, index=None)\n",
    "\n",
    "num_samples = 50"
   ]
  },
  {
   "cell_type": "code",
   "execution_count": null,
   "metadata": {},
   "outputs": [],
   "source": [
    "#video = \"http://www.youtube.com/watch?v=BaW_jenozKc\"\n",
    "ydl_opts = {\n",
    "    'outtmpl': download_dir + '/%(title)s.%(ext)s',\n",
    "    'format': 'bestaudio/best',\n",
    "    'postprocessors': [{\n",
    "        'key': 'FFmpegExtractAudio',\n",
    "        'preferredcodec': 'wav',\n",
    "        'preferredquality': '192',\n",
    "    }],\n",
    "}\n",
    "with YoutubeDL(ydl_opts) as ydl:\n",
    "    for i in range(num_samples):\n",
    "        try:\n",
    "            idx = random.randint(0,len(music_df))\n",
    "            row = music_df.iloc[idx]\n",
    "            search_string = 'ytsearch1:' + str(row['canonical_title']) + ' ' + str(row['original_composer'])\n",
    "            info_dict = ydl.extract_info(search_string, download=True)['entries'][0]\n",
    "            wav_path = download_dir + '/' + info_dict.get('title', None) + '.wav'\n",
    "            url = info_dict.get('webpage_url')\n",
    "            #print(info_dict)\n",
    "            music_df.loc[idx, 'audio_filename'] = wav_path\n",
    "            music_df.loc[idx, 'webpage_url'] = url\n",
    "            yt_df = yt_df.append(music_df.iloc[idx])\n",
    "            print(wav_path)\n",
    "            print(url)\n",
    "        except:\n",
    "            print(\"An exception occurred.\")\n",
    "\n",
    "\n",
    "yt_df.to_csv(YT_DL_DATASET)    \n",
    "#yt_df.to_csv(YT_DL_DATASET, mode='a', header=False)\n",
    "#output = !youtube-dl -x --audio-format 'wav' --print-json -o '{download_dir}/%(title)s.%(ext)s' '{search_string}'\n"
   ]
  },
  {
   "cell_type": "code",
   "execution_count": null,
   "metadata": {},
   "outputs": [],
   "source": []
  },
  {
   "cell_type": "code",
   "execution_count": null,
   "metadata": {},
   "outputs": [],
   "source": []
  },
  {
   "cell_type": "code",
   "execution_count": null,
   "metadata": {},
   "outputs": [],
   "source": []
  },
  {
   "cell_type": "code",
   "execution_count": null,
   "metadata": {},
   "outputs": [],
   "source": []
  }
 ],
 "metadata": {
  "kernelspec": {
   "display_name": "Python 3",
   "language": "python",
   "name": "python3"
  },
  "language_info": {
   "codemirror_mode": {
    "name": "ipython",
    "version": 3
   },
   "file_extension": ".py",
   "mimetype": "text/x-python",
   "name": "python",
   "nbconvert_exporter": "python",
   "pygments_lexer": "ipython3",
   "version": "3.6.0"
  }
 },
 "nbformat": 4,
 "nbformat_minor": 4
}
