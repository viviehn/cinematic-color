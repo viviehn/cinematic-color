{
 "cells": [
  {
   "cell_type": "code",
   "execution_count": 1,
   "metadata": {},
   "outputs": [
    {
     "name": "stdout",
     "output_type": "stream",
     "text": [
      "WARNING:tensorflow:From /home/bmild/anaconda2/envs/comp-color/lib/python3.7/site-packages/tensorflow/python/ops/init_ops.py:1288: calling VarianceScaling.__init__ (from tensorflow.python.ops.init_ops) with dtype is deprecated and will be removed in a future version.\n",
      "Instructions for updating:\n",
      "Call initializer instance with the dtype argument instead of passing it to the constructor\n"
     ]
    }
   ],
   "source": [
    "import dataset as dataset\n",
    "import importlib\n",
    "importlib.reload(dataset)\n",
    "import utils as utils\n",
    "import tensorflow as tf\n",
    "import numpy as np\n",
    "import model as model\n",
    "\n",
    "# tf.compat.v1.enable_eager_execution()\n",
    "num_classes = 8"
   ]
  },
  {
   "cell_type": "markdown",
   "metadata": {},
   "source": [
    "## Define architecture"
   ]
  },
  {
   "cell_type": "code",
   "execution_count": 2,
   "metadata": {},
   "outputs": [],
   "source": [
    "class Mlpnet(tf.keras.Model):\n",
    "    def __init__(self, strName, intChans, numIn):\n",
    "        super(Mlpnet, self).__init__(name=strName)\n",
    "        self.moduleIn = tf.keras.Sequential(\n",
    "            [model.net_dense(\"dense_1\", intChans[0], input_shape=(numIn * 3,))], name=\"in_0\")\n",
    "        self.moduleMain = model.Mlpnet(\"main\", intChans)\n",
    "        self.moduleOut = tf.keras.Sequential(\n",
    "            [tf.keras.layers.Dense(num_classes, activation=None)], name=\"out_0\")\n",
    "    \n",
    "    def call(self, tenIn):\n",
    "        tenOut = self.moduleIn(tenIn)\n",
    "        tenOut = self.moduleMain(tenOut)\n",
    "        return self.moduleOut(tenOut)"
   ]
  },
  {
   "cell_type": "markdown",
   "metadata": {},
   "source": [
    "## Import dataset"
   ]
  },
  {
   "cell_type": "code",
   "execution_count": 3,
   "metadata": {},
   "outputs": [
    {
     "name": "stdout",
     "output_type": "stream",
     "text": [
      "WARNING:tensorflow:From /home/bmild/comp-color/cinematic-color/clustering/utils.py:5: The name tf.read_file is deprecated. Please use tf.io.read_file instead.\n",
      "\n",
      "WARNING:tensorflow:From /home/bmild/comp-color/cinematic-color/clustering/dataset.py:16: The name tf.string_to_number is deprecated. Please use tf.strings.to_number instead.\n",
      "\n",
      "WARNING:tensorflow:From /home/bmild/comp-color/cinematic-color/clustering/dataset.py:47: The name tf.log is deprecated. Please use tf.math.log instead.\n",
      "\n",
      "WARNING:tensorflow:From /home/bmild/comp-color/cinematic-color/clustering/dataset.py:50: to_float (from tensorflow.python.ops.math_ops) is deprecated and will be removed in a future version.\n",
      "Instructions for updating:\n",
      "Use `tf.cast` instead.\n",
      "WARNING:tensorflow:From /home/bmild/comp-color/cinematic-color/clustering/dataset.py:189: DatasetV1.make_one_shot_iterator (from tensorflow.python.data.ops.dataset_ops) is deprecated and will be removed in a future version.\n",
      "Instructions for updating:\n",
      "Use `for ... in dataset:` to iterate over a dataset. If using `tf.estimator`, return the `Dataset` object directly from your input function. As a last resort, you can use `tf.compat.v1.data.make_one_shot_iterator(dataset)`.\n",
      "(1, 8)\n"
     ]
    }
   ],
   "source": [
    "train_txt = './train_6.txt'\n",
    "val_txt = './val_6.txt'\n",
    "batch_size = 1\n",
    "size = (128, 256)\n",
    "num_bins = 128\n",
    "architecture_depth = []\n",
    "for i in range(4):\n",
    "    architecture_depth.insert(0, np.power(2, (8 - i)))\n",
    "# mainmodel = Unet('main', architecture_depth, 'regular')\n",
    "mainmodel = Mlpnet('main', architecture_depth, num_bins)\n",
    "next_batch = dataset.input_fn(\n",
    "    dataset_name='hist',\n",
    "    train_txt_paths=[train_txt],\n",
    "    eval_txt_paths=[val_txt],\n",
    "    is_train=True,\n",
    "    image_size=size,\n",
    "    batch_size=batch_size)\n",
    "next_batch_val = dataset.input_fn(\n",
    "    dataset_name='hist',\n",
    "    train_txt_paths=[train_txt],\n",
    "    eval_txt_paths=[val_txt],\n",
    "    is_train=False,\n",
    "    image_size=size,\n",
    "    batch_size=batch_size)\n",
    "inputs = next_batch['hist']\n",
    "inputs_val = next_batch_val['hist']\n",
    "\n",
    "inputs.set_shape([batch_size, num_bins * 3])\n",
    "inputs_val.set_shape([batch_size, num_bins * 3])\n",
    "\n",
    "class_predict = mainmodel(inputs)\n",
    "class_predict_val = mainmodel(inputs_val)\n",
    "\n",
    "class_gt = next_batch['label']  # a scalar of int32\n",
    "class_gt_val = next_batch_val['label']\n",
    "\n",
    "class_gt = tf.cast(class_gt, tf.float32)\n",
    "class_gt_val = tf.cast(class_gt_val, tf.float32)\n",
    "\n",
    "print(class_gt.shape)"
   ]
  },
  {
   "cell_type": "markdown",
   "metadata": {},
   "source": [
    "## Define losses"
   ]
  },
  {
   "cell_type": "code",
   "execution_count": 4,
   "metadata": {},
   "outputs": [
    {
     "name": "stdout",
     "output_type": "stream",
     "text": [
      "WARNING:tensorflow:From /home/bmild/anaconda2/envs/comp-color/lib/python3.7/site-packages/tensorflow/python/ops/nn_impl.py:180: add_dispatch_support.<locals>.wrapper (from tensorflow.python.ops.array_ops) is deprecated and will be removed in a future version.\n",
      "Instructions for updating:\n",
      "Use tf.where in 2.0, which has the same broadcast rule as np.where\n",
      "WARNING:tensorflow:From <ipython-input-4-fddea8bfb65d>:6: to_int32 (from tensorflow.python.ops.math_ops) is deprecated and will be removed in a future version.\n",
      "Instructions for updating:\n",
      "Use `tf.cast` instead.\n"
     ]
    }
   ],
   "source": [
    "# define losses\n",
    "loss = tf.nn.sigmoid_cross_entropy_with_logits(\n",
    "    labels=class_gt, logits=class_predict)\n",
    "# loss = tf.reduce_mean(tf.abs(class_one_hot - class_predict))\n",
    "# Evaluation metrics\n",
    "prediction = tf.to_int32(tf.argmax(class_predict, 1))\n",
    "ground_truth = tf.to_int32(tf.argmax(class_gt, 1))\n",
    "correct_prediction = tf.equal(prediction, ground_truth)\n",
    "\n",
    "prediction_val = tf.to_int32(tf.argmax(class_predict_val, 1))\n",
    "ground_truth_val = tf.to_int32(tf.argmax(class_gt_val, 1))\n",
    "correct_prediction_val = tf.equal(prediction_val, ground_truth_val)\n",
    "\n",
    "accuracy = tf.reduce_mean(tf.cast(correct_prediction, tf.float32))\n",
    "accuracy_val = tf.reduce_mean(tf.cast(correct_prediction_val, tf.float32))\n",
    "\n",
    "global_step = tf.compat.v1.train.get_or_create_global_step()\n",
    "learning_rate = tf.compat.v1.train.exponential_decay(\n",
    "  5e-5, global_step, 5000, 0.9, staircase=False)\n",
    "opt = tf.compat.v1.train.AdamOptimizer(\n",
    "    learning_rate=learning_rate).minimize(loss, global_step=global_step)"
   ]
  },
  {
   "cell_type": "code",
   "execution_count": null,
   "metadata": {},
   "outputs": [
    {
     "name": "stdout",
     "output_type": "stream",
     "text": [
      "Accuracy: 0.0\n",
      "Validation Accuracy: 0.0\n",
      "Correct class label: [[0. 0. 1. 0. 0. 0. 0. 0.]]\n",
      "Class prediction: [[-0.15356557  0.02323409 -0.07816968 -0.163486    0.17665854  0.01192298\n",
      "  -0.07722808 -0.02853729]]\n",
      "Average loss: 0.6863294839859009\n",
      "Accuracy: 0.0\n",
      "Validation Accuracy: 0.0\n",
      "Correct class label: [[0. 0. 1. 0. 0. 1. 1. 0.]]\n",
      "Class prediction: [[-0.22656521 -0.14413366 -0.2274531  -0.40031627  0.01383089 -0.14537083\n",
      "  -0.25758913 -0.17823054]]\n",
      "Average loss: 0.6675944139461706\n",
      "Accuracy: 0.0\n",
      "Validation Accuracy: 0.0\n",
      "Correct class label: [[0. 1. 0. 0. 0. 0. 0. 1.]]\n",
      "Class prediction: [[-0.29939586 -0.32293263 -0.37350422 -0.60831034 -0.05525733 -0.35594064\n",
      "  -0.4467829  -0.29536593]]\n",
      "Average loss: 0.6458070135828274\n",
      "Accuracy: 0.0\n",
      "Validation Accuracy: 0.0\n",
      "Correct class label: [[0. 0. 0. 1. 0. 1. 0. 0.]]\n",
      "Class prediction: [[-0.5149768  -0.62922823 -0.86804366 -1.1219192  -0.28847918 -0.6016092\n",
      "  -1.1868861  -0.5941465 ]]\n",
      "Average loss: 0.6291548836468858\n",
      "Accuracy: 0.0\n",
      "Validation Accuracy: 0.0\n",
      "Correct class label: [[1. 0. 0. 0. 1. 0. 0. 0.]]\n",
      "Class prediction: [[-0.47114554 -0.7018879  -0.809357   -1.0749617  -0.4682082  -0.5046243\n",
      "  -1.3086536  -0.6986169 ]]\n",
      "Average loss: 0.6217042072455484\n"
     ]
    }
   ],
   "source": [
    "restore = False\n",
    "max_steps = 1000000\n",
    "fetch_list = [opt, accuracy, accuracy_val, class_predict, class_gt, loss]\n",
    "trainable_var_list = [\n",
    "      var for var in tf.compat.v1.trainable_variables()\n",
    "  ]\n",
    "saver = tf.compat.v1.train.Saver(trainable_var_list, max_to_keep=5)\n",
    "sess = tf.compat.v1.Session()\n",
    "sess.run(tf.compat.v1.global_variables_initializer())\n",
    "\n",
    "if restore:\n",
    "    model_path = '/home/bmild/comp-color/data/ckpts_hist'\n",
    "    saver_restore = tf.train.Saver(trainable_var_list)\n",
    "    ckpt = tf.train.get_checkpoint_state(model_path)\n",
    "    restore_path = ckpt.model_checkpoint_path\n",
    "    saver_restore.restore(sess, restore_path)\n",
    "\n",
    "\n",
    "all_loss = np.zeros(max_steps, dtype=float)\n",
    "sses = np.zeros(max_steps)\n",
    "for step in range(max_steps):\n",
    "    _, out_accuracy, out_accuracy_val, out_class_predict, out_class_gt, out_loss = sess.run(fetch_list)\n",
    "    all_loss[step] = np.mean(out_loss)\n",
    "    if step % 100 == 0:\n",
    "        print('Accuracy:', out_accuracy)\n",
    "        print('Validation Accuracy:', out_accuracy_val)\n",
    "        print('Correct class label:', out_class_gt)\n",
    "        print('Class prediction:', out_class_predict)\n",
    "        print('Average loss:', np.mean(all_loss[np.where(all_loss)]))\n",
    "    if step % 1000 == 0:\n",
    "        saver.save(sess, '%s/model.ckpt' % ('/home/bmild/comp-color/data/ckpts_hist_2'), global_step=step)"
   ]
  },
  {
   "cell_type": "markdown",
   "metadata": {},
   "source": [
    "## Inference"
   ]
  },
  {
   "cell_type": "code",
   "execution_count": null,
   "metadata": {},
   "outputs": [],
   "source": [
    "import dataset as dataset\n",
    "import importlib\n",
    "importlib.reload(dataset)\n",
    "import utils as utils\n",
    "import tensorflow as tf\n",
    "import numpy as np\n",
    "import model as model\n",
    "\n",
    "# tf.compat.v1.enable_eager_execution()\n",
    "num_classes = 8\n",
    "\n",
    "val_txt = './val_5.txt'\n",
    "model_path = '/home/bmild/comp-color/data/ckpts_hist_2'\n",
    "batch_size = 1\n",
    "size = (128, 256)\n",
    "num_bins = 128\n",
    "architecture_depth = []\n",
    "for i in range(4):\n",
    "    architecture_depth.insert(0, np.power(2, (8 - i)))\n",
    "# mainmodel = Unet('main', architecture_depth, 'regular')\n",
    "mainmodel = Mlpnet('main', architecture_depth, num_bins)\n",
    "\n",
    "next_batch_val = dataset.input_fn(\n",
    "    dataset_name='hist',\n",
    "    train_txt_paths=[val_txt],\n",
    "    eval_txt_paths=[val_txt],\n",
    "    is_train=False,\n",
    "    image_size=size,\n",
    "    batch_size=1)\n",
    "\n",
    "inputs_val = next_batch_val['hist']\n",
    "inputs_val.set_shape([batch_size, num_bins * 3])\n",
    "class_predict_val = mainmodel(inputs_val)\n",
    "class_gt_val = next_batch_val['label']\n",
    "class_gt_val = tf.cast(class_gt_val, tf.float32)\n",
    "prediction = tf.to_int32(tf.argmax(class_predict_val, 1))\n",
    "ground_truth = tf.to_int32(tf.argmax(class_gt_val, 1))\n",
    "correct_prediction = tf.equal(prediction, ground_truth)\n",
    "\n",
    "sess = tf.compat.v1.Session()\n",
    "sess.run(tf.compat.v1.global_variables_initializer())\n",
    "saver_restore = tf.train.Saver([var for var in tf.trainable_variables()])\n",
    "ckpt = tf.train.get_checkpoint_state(model_path)\n",
    "restore_path = ckpt.model_checkpoint_path\n",
    "saver_restore.restore(sess, restore_path)\n"
   ]
  },
  {
   "cell_type": "code",
   "execution_count": 6,
   "metadata": {},
   "outputs": [
    {
     "name": "stdout",
     "output_type": "stream",
     "text": [
      "[ -0.47116312  -3.5936399   -2.1529863   -2.2205079   -1.7188723\n",
      "  -0.06718905  -2.0934513   -1.2862848   -1.4550506  -23.14672   ] 4 False\n",
      "[ -0.39790112  -3.3776274   -1.9372824   -1.495935    -2.2132423\n",
      "   0.21198168  -1.0917614   -1.7422239   -0.91719276 -18.856697  ] 4 False\n",
      "[-1.3634561e+00 -2.6857610e+00 -1.9391211e+00 -3.3749790e+00\n",
      "  1.5654112e-03 -1.4042482e+00 -3.4593453e+00  8.8915843e-01\n",
      " -2.3431592e+00 -2.3541700e+01] 1 False\n",
      "[  1.0438582   -3.040932    -1.2767026   -3.0318205   -2.699772\n",
      "   0.22297412  -2.9615626   -1.9401095   -1.6524581  -27.029957  ] 0 True\n",
      "[ -0.43805772  -3.4790962   -2.0038986   -1.5399768   -2.2158258\n",
      "   0.22002046  -1.1179491   -1.7420232   -0.9502665  -19.253777  ] 4 False\n",
      "[ -0.94792306  -1.342066    -1.045492    -3.6616716    0.04958381\n",
      "  -1.4688106   -4.1825023    0.89450127  -2.4150283  -22.24811   ] 4 False\n",
      "[ -0.08828539  -2.6347406   -1.5565059   -2.9484575   -1.45545\n",
      "  -0.41627336  -3.1871834   -0.7041108   -1.9606556  -24.777657  ] 3 False\n",
      "[ -1.1827838  -3.2629523  -2.3439417  -3.6681566  -0.3578471  -1.2915477\n",
      "  -3.4449952   0.7782415  -2.5582342 -26.77511  ] 0 False\n",
      "[ -0.43925133  -2.8800986   -1.6299092   -2.4993615   -1.2683315\n",
      "  -0.09575355  -2.6935163   -0.9867962   -1.5959761  -22.132801  ] 4 False\n",
      "[  0.8220172   -2.6841142   -1.2023479   -3.0848277   -2.0756192\n",
      "   0.06511607  -3.2054837   -1.3646581   -1.8332382  -25.637577  ] 0 True\n",
      "[ -0.3128308   -3.0577855   -2.158843    -3.797615    -1.2084858\n",
      "  -1.1550487   -3.6073544    0.47291422  -2.6965818  -29.435818  ] 0 False\n",
      "[  0.3347524   -2.0559933   -0.93834955  -2.8405578   -2.1768267\n",
      "  -0.287402    -2.883753    -1.3582036   -1.5916281  -23.460087  ] 0 True\n",
      "[ -0.10648584  -1.704818    -0.89385724  -3.2787564   -0.7400737\n",
      "  -0.56395024  -3.6788418   -0.22538224  -1.9698954  -21.742548  ] 0 True\n",
      "[  1.245579    -3.3368764   -1.6395322   -2.9718463   -2.9558694\n",
      "   0.29432234  -2.9584427   -1.7690293   -1.8296753  -28.583334  ] 5 False\n",
      "[  1.1422837  -3.3809164  -1.5809896  -2.8462405  -3.0846052   0.3894574\n",
      "  -2.7425137  -2.0505807  -1.7224705 -28.130625 ] 0 True\n",
      "[  0.09001553  -2.4901664   -1.3813598   -2.7770762   -1.3929927\n",
      "  -0.2420029   -2.9427872   -0.62530005  -1.8120902  -22.757753  ] 5 False\n",
      "[  0.34518883  -2.370054    -1.3778712   -3.8659816   -1.4003971\n",
      "  -0.6849861   -4.0687556   -0.2286361   -2.5388827  -28.18497   ] 0 True\n",
      "[  1.0265605   -3.3565438   -1.493801    -3.4224553   -2.3158288\n",
      "   0.43527558  -3.4323032   -1.6682222   -1.8349509  -28.402922  ] 0 True\n",
      "[  1.5574602   -2.4666183   -1.2765348   -4.2783003   -2.1629806\n",
      "  -0.343627    -4.4294443   -0.34069917  -2.7531726  -31.494923  ] 1 False\n",
      "[  0.7973919   -1.1539972   -0.7354596   -4.14354     -1.563896\n",
      "  -1.3713204   -4.238107     0.41080916  -2.7808187  -27.793787  ] 0 True\n",
      "[  0.5012191   -2.9363723   -1.1620345   -3.2618067   -2.480327\n",
      "   0.12803367  -3.352456    -2.1417043   -1.3941317  -27.163317  ] 1 False\n",
      "[  0.9713694   -1.4557354   -0.5778225   -3.629837    -2.302329\n",
      "  -0.9134436   -3.4874558   -0.77825874  -2.3351226  -27.011614  ] 0 True\n",
      "[ -0.53581107  -2.8726003   -2.2341096   -3.9536145   -0.9369937\n",
      "  -1.650057    -3.6470542    0.8991722   -2.8583624  -29.414892  ] 6 False\n",
      "[  1.269713    -2.4353018   -1.0483621   -3.271696    -2.7409508\n",
      "  -0.26150894  -3.191678    -1.5218253   -1.8661724  -27.558882  ] 0 True\n",
      "[-3.4225476e-01 -3.9419456e+00 -2.3076046e+00 -2.5278244e+00\n",
      " -1.6646309e+00 -1.5184196e-02 -2.2166617e+00 -9.7482711e-01\n",
      " -1.7159650e+00 -2.4637617e+01] 0 False\n",
      "[  0.10341784  -4.457082    -2.6934175   -3.141824    -2.1401343\n",
      "  -0.38591498  -2.499078    -0.80008477  -2.222356   -30.44832   ] 3 False\n",
      "[ -1.1857157   -2.1653383   -1.4310414   -3.662522     0.09632117\n",
      "  -1.2114397   -4.0938444    0.5581876   -2.3437161  -23.419466  ] 5 False\n",
      "[  0.45192665  -3.279852    -1.1564819   -2.2831612   -2.4583964\n",
      "   0.555594    -2.123511    -2.340518    -0.89518774 -21.725925  ] 0 False\n",
      "[  0.28649312  -3.9347723   -2.1887589   -2.4236944   -2.316953\n",
      "   0.4158956   -2.350148    -1.694184    -1.5869566  -25.914291  ] 0 False\n",
      "[  0.4535652  -4.2094545  -2.236828   -2.5817618  -2.5252995   0.302177\n",
      "  -2.255473   -1.7217183  -1.7505456 -27.673681 ] 3 False\n",
      "[  0.5659693   -3.0292516   -1.6458702   -2.4509115   -2.470931\n",
      "   0.22465466  -2.510234    -1.6350772   -1.5452278  -24.599348  ] 0 True\n",
      "[ -0.22770777  -3.2660515   -2.0920968   -3.3822002   -1.3595006\n",
      "  -0.63519067  -3.4807951   -0.22131513  -2.3063726  -28.024075  ] 0 False\n",
      "[  0.42816684  -4.277482    -1.8650581   -2.3450105   -2.9383245\n",
      "   0.9321382   -2.1663468   -2.6741507   -1.0597707  -25.659212  ] 0 False\n",
      "[  1.5375823  -4.689109   -2.1400583  -3.5324688  -3.0601857   1.0407009\n",
      "  -3.4543772  -2.3168638  -2.1193452 -33.45388  ] 0 True\n",
      "[  1.2567586   -2.3527298   -1.1739563   -3.122957    -2.6122649\n",
      "  -0.23383468  -3.1132512   -1.2336694   -1.9598225  -26.911339  ] 0 True\n",
      "[  1.1274368  -2.5354478  -1.1446747  -3.6844041  -2.440808   -0.2836278\n",
      "  -3.7978263  -1.3424422  -2.1587937 -29.579975 ] 0 True\n",
      "[  0.22180003  -2.8764017   -1.0929024   -2.7544665   -2.7001278\n",
      "   0.22003236  -2.7704468   -2.449202    -1.1209028  -24.948961  ] 8 False\n",
      "[  1.3624517   -3.994283    -1.8877454   -3.0774102   -3.031352\n",
      "   0.58027196  -3.0524528   -2.0666876   -1.8773699  -30.26599   ] 5 False\n",
      "[  0.5002769   -2.4455955   -1.3180583   -2.7185469   -2.5250547\n",
      "  -0.27614728  -2.588325    -1.3041875   -1.8117431  -24.97111   ] 5 False\n",
      "[  0.92795885  -2.9306643   -1.6101593   -3.2011118   -2.422711\n",
      "  -0.1394512   -3.2916284   -1.1527733   -2.1187713  -28.482733  ] 0 True\n",
      "[  0.6376084   -3.450092    -1.7187785   -2.3123512   -2.3996344\n",
      "   0.58231616  -2.3233654   -1.836029    -1.3958573  -23.590466  ] 0 True\n",
      "[  0.47919738  -3.9943025   -2.0758123   -2.45775     -2.4854865\n",
      "   0.65005267  -2.2796898   -1.8368716   -1.5608     -25.930256  ] 0 False\n",
      "[  0.785721   -4.61587    -2.1874473  -2.6245217  -2.9584084   1.0664905\n",
      "  -2.4453437  -2.514821   -1.4659498 -28.16382  ] 0 False\n",
      "[  0.29473427  -3.2278457   -1.8569537   -2.2374294   -2.2363114\n",
      "   0.2439523   -2.2751434   -1.5269208   -1.5006921  -23.610523  ] 0 True\n",
      "[ 8.4821093e-01 -2.8269191e+00 -9.4133371e-01 -3.1063323e+00\n",
      " -3.7582202e+00  1.4945468e-02 -2.7676892e+00 -2.7276628e+00\n",
      " -1.2590232e+00 -2.8495073e+01] 0 True\n",
      "[  0.80415887  -3.198793    -1.1854128   -2.4671698   -2.5047581\n",
      "   0.686096    -2.5157676   -2.387738    -0.9887579  -22.902262  ] 0 True\n",
      "[ -0.3233186  -3.7157269  -2.6371188  -4.139442   -1.2444044  -1.301709\n",
      "  -3.7918289   0.6114562  -2.9569473 -32.66839  ] 4 False\n",
      "[  0.6608602   -0.53381264  -0.3401012   -4.277829    -1.4941847\n",
      "  -1.5959322   -4.325568     0.41543213  -2.8048964  -27.017138  ] 0 True\n",
      "[  0.83847857  -3.0146928   -1.7835608   -3.761408    -1.9608428\n",
      "  -0.39610133  -3.7679553   -0.33903384  -2.564585   -30.20518   ] 1 False\n",
      "[  0.8147985   -0.70134115  -0.08097585  -4.046663    -1.3436337\n",
      "  -1.1899842   -4.1878924   -0.25167075  -2.366495   -24.975542  ] 0 True\n",
      "[ -0.1620506   -2.1710691   -1.0962604   -3.3500943   -0.58687896\n",
      "  -0.4143856   -3.705679    -0.14477608  -1.996856   -22.165031  ] 0 False\n",
      "[  1.0567199  -2.949859   -1.1939474  -2.91633    -2.5018075   0.2758525\n",
      "  -2.876076   -1.8937666  -1.5295652 -25.534473 ] 0 True\n",
      "[  0.26196393  -3.2500803   -1.3530352   -2.7847807   -2.3278778\n",
      "   0.46080852  -2.8791544   -2.196335    -1.2856568  -25.248613  ] 0 False\n",
      "[  1.2004617   -2.4356194   -0.7918001   -3.6283133   -2.349111\n",
      "   0.04202658  -3.6482036   -1.8311576   -1.717228   -27.36315   ] 7 False\n",
      "[  0.85991365  -2.0139585   -1.1659566   -3.6778343   -1.862138\n",
      "  -0.7580114   -3.7968647   -0.28887105  -2.4544408  -27.707664  ] 0 True\n",
      "[  0.45737985  -3.0831037   -1.7889792   -2.3576558   -2.6905346\n",
      "  -0.05084328  -2.0902994   -1.4742914   -1.6388414  -24.924229  ] 0 True\n",
      "[ -1.1139909   -3.1719315   -2.1656022   -3.5741994   -0.5495662\n",
      "  -1.1710521   -3.527872     0.37950215  -2.4770968  -27.028067  ] 4 False\n",
      "[ -0.08959956  -2.5697165   -1.5699402   -3.4986854   -0.81369627\n",
      "  -0.6906281   -3.7085826    0.1269586   -2.2972248  -25.071516  ] 0 False\n",
      "[  0.9461955   -2.7940972   -1.060611    -2.6682405   -2.4477386\n",
      "   0.48783475  -2.812872    -2.155585    -1.2204139  -23.505178  ] 0 True\n",
      "[  0.3871528   -3.3142223   -1.3382528   -2.9271033   -2.6336927\n",
      "   0.29714972  -2.8798852   -2.3249247   -1.3709676  -26.765768  ] 0 True\n",
      "[ -1.1302413   -2.0492659   -1.142679    -3.3600125    0.11615346\n",
      "  -0.98754257  -3.5555542    0.2766723   -2.0061998  -20.647017  ] 0 False\n",
      "[ -0.7278379   -2.250302    -1.3370419   -3.7678397   -0.24526091\n",
      "  -0.89424807  -4.2755146    0.1678527   -2.333923   -24.617828  ] 7 True\n",
      "[  0.5448168  -5.0039296  -2.432744   -2.6260152  -2.8919725   1.1703664\n",
      "  -2.4079556  -2.6462133  -1.4325091 -28.927551 ] 0 False\n",
      "[ -1.1530238   -2.1621213   -1.3755912   -3.9753115    0.24577332\n",
      "  -1.2133635   -4.435561     0.75920206  -2.479601   -24.218206  ] 0 False\n",
      "[  1.8464773   -3.2045898   -1.3937345   -3.4826002   -3.626951\n",
      "   0.05707078  -3.2994373   -2.003159    -2.0818868  -32.22353   ] 0 True\n",
      "[  0.7392967   -3.9522748   -1.703048    -2.6633599   -3.1860576\n",
      "   0.65226686  -2.4729638   -2.5580363   -1.3458855  -27.628664  ] 0 True\n",
      "[-2.1420021e-02 -2.4525712e+00 -1.0256498e+00 -2.7116106e+00\n",
      " -2.2141206e+00  5.9845816e-02 -2.8778126e+00 -2.0177317e+00\n",
      " -1.2854409e+00 -2.3479797e+01] 0 False\n",
      "[ -0.8296896   -2.228298    -1.4699854   -3.5636537   -0.27787718\n",
      "  -1.1158234   -3.8175824    0.49484718  -2.3800757  -23.998003  ] 4 False\n",
      "[  0.80038375  -1.8671362   -1.2202418   -3.5843763   -2.3505611\n",
      "  -0.9861283   -3.3715348   -0.30177435  -2.5120618  -28.367176  ] 0 True\n",
      "[ 1.1713710e-02 -3.9736114e+00 -2.2426038e+00 -3.5369270e+00\n",
      " -1.3492540e+00 -1.2532771e-01 -3.4670105e+00 -5.2371454e-01\n",
      " -2.3517308e+00 -2.8791382e+01] 7 False\n",
      "[  0.33092508  -0.77428997  -0.25128916  -3.239018    -1.8492984\n",
      "  -0.90846276  -3.3439894   -0.79389757  -1.8273734  -22.202198  ] 5 False\n",
      "[ -0.47538635  -3.530791    -1.9479471   -2.469692    -1.442019\n",
      "   0.04535539  -2.4073844   -1.1021372   -1.5900311  -23.261797  ] 5 True\n",
      "[  0.49285024  -2.3846931   -1.1298684   -2.8031008   -1.9706753\n",
      "   0.18360889  -3.069829    -1.3191509   -1.582716   -23.33549   ] 3 False\n",
      "[  1.573106   -4.7110014  -2.066342   -3.0918481  -3.8510973   0.7579669\n",
      "  -2.668093   -2.6830058  -1.853101  -33.19737  ] 0 True\n",
      "[ -0.4367717   -3.8917053   -2.2179358   -2.295125    -1.8290268\n",
      "   0.03497065  -1.9760562   -1.2998301   -1.5898111  -24.094418  ] 5 True\n",
      "[  0.4644775  -3.4600785  -1.7398872  -2.2391374  -2.2245133   0.5439337\n",
      "  -2.1679373  -1.7501106  -1.3646083 -22.722858 ] 0 False\n",
      "[  0.5500663   -3.4794862   -1.5501401   -2.6197004   -2.7501209\n",
      "   0.44841263  -2.5976222   -2.22734     -1.4052337  -26.166845  ] 5 False\n",
      "[ -0.84496856  -1.4705794   -1.2846352   -3.722803    -0.2270433\n",
      "  -1.6986045   -3.9844584    1.2630813   -2.677927   -23.96666   ] 1 False\n",
      "[ -0.15653168  -4.1178823   -1.713225    -2.1789627   -2.9529335\n",
      "   0.7414034   -2.0558987   -2.9539218   -0.802792   -24.621872  ] 5 True\n",
      "[  1.4351308  -4.1670628  -2.0963333  -2.9077628  -3.3260558   0.6325817\n",
      "  -2.6595926  -2.0061328  -1.9301276 -30.569536 ] 0 True\n",
      "[  1.3619162  -4.3324976  -1.6695831  -3.244475   -3.4707074   0.8100348\n",
      "  -3.0843081  -2.9193816  -1.5092775 -31.517426 ] 0 True\n",
      "[ -0.22111422  -4.0743      -2.4361296   -4.4439287   -0.90547323\n",
      "  -0.6565598   -4.3388443    0.11783154  -2.9710472  -32.885136  ] 0 False\n",
      "[  0.22634707  -3.6116264   -1.8517141   -2.971641    -1.8290951\n",
      "   0.3183561   -2.9688902   -1.3564613   -1.8695301  -26.583061  ] 5 True\n",
      "[  0.24487156  -3.8418095   -1.9435141   -2.4763656   -2.1985908\n",
      "   0.5362647   -2.4378376   -1.865411    -1.459731   -25.213495  ] 0 False\n",
      "[  0.18226916  -4.149895    -2.170056    -3.113991    -1.7346166\n",
      "   0.36478928  -2.96183     -1.2023885   -2.0037415  -27.618454  ] 0 False\n",
      "[  0.12543729  -4.4126015   -2.4530962   -3.200849    -1.9647089\n",
      "   0.32157347  -3.0312471   -1.2548175   -2.0900664  -29.58371   ] 0 False\n",
      "[  0.81612337  -3.274259    -1.521756    -2.7431934   -2.0443792\n",
      "   0.4676976   -2.6983094   -1.5033556   -1.6768725  -24.527365  ] 5 False\n",
      "[  0.5727848   -0.9564241    0.14363411  -3.4032643   -2.0418575\n",
      "  -0.97035134  -3.1141534   -1.5496459   -1.30254    -22.069408  ] 0 True\n",
      "[  1.0140376  -4.753577   -2.506444   -2.9617012  -3.0645938   0.6695911\n",
      "  -2.6954298  -2.0037665  -1.9555924 -31.577515 ] 0 True\n",
      "[  0.9789174   -1.2000673   -0.21067354  -3.9529772   -2.3039737\n",
      "  -0.83655375  -3.9653642   -1.4610814   -1.8847929  -27.068356  ] 0 True\n",
      "[ -0.851274    -1.3590038   -0.6758542   -3.4956582   -0.08798265\n",
      "  -1.0557045   -3.8875391    0.16380282  -2.0282683  -20.801922  ] 0 False\n",
      "[  1.047795    -3.0276775   -1.2611963   -3.4552426   -2.7244833\n",
      "  -0.07814115  -3.370336    -1.8533686   -1.9320377  -29.645687  ] 4 False\n",
      "[  1.3651446   -2.4990878   -1.3087744   -4.6089854   -1.810918\n",
      "  -0.52378124  -4.8176713   -0.03937864  -2.9422016  -32.338627  ] 1 False\n",
      "[  0.17761369  -2.331608    -1.1319557   -2.634395    -1.8433534\n",
      "  -0.14619385  -2.7037907   -1.2810223   -1.586499   -22.611977  ] 0 True\n",
      "[  0.75702363  -4.089267    -1.7167772   -2.5318348   -3.284139\n",
      "   0.7339288   -2.3757646   -2.6511767   -1.2272022  -27.31529   ] 0 True\n",
      "[ -0.7575274   -2.1165893   -1.3972934   -3.2965794   -0.3232355\n",
      "  -0.9325621   -3.7082074    0.38283208  -2.1395586  -22.344519  ] 4 False\n",
      "[  1.3075464   -2.3219833   -1.0482744   -3.921718    -1.9988471\n",
      "  -0.19761488  -4.1117086   -0.77471733  -2.3456795  -28.70862   ] 1 False\n",
      "[ -0.32930472  -4.1257935   -2.4208384   -3.22465     -1.4931328\n",
      "  -0.20473397  -2.959326    -0.67493975  -2.1892822  -28.496151  ] 0 False\n",
      "[  0.41078222  -3.744679    -2.170226    -3.197673    -1.9076556\n",
      "  -0.10164462  -3.005441    -0.7943827   -2.185903   -28.44534   ] 1 False\n",
      "[  0.38053265  -1.6570029   -0.48285946  -3.1421778   -1.6344985\n",
      "  -0.2891529   -3.2732577   -1.3297201   -1.5006609  -22.159365  ] 0 True\n",
      "0.43\n"
     ]
    }
   ],
   "source": [
    "accuracy = 0.\n",
    "num_eval = 100\n",
    "fetch = [class_predict_val[0], ground_truth[0], correct_prediction[0]]\n",
    "for step in range(num_eval):\n",
    "    out_class_predict_val, out_ground_truth, out_correct_prediction = sess.run(fetch)\n",
    "    print(out_class_predict_val, out_ground_truth, out_correct_prediction)\n",
    "    if out_correct_prediction:\n",
    "        accuracy += 1.\n",
    "print(accuracy/num_eval)"
   ]
  },
  {
   "cell_type": "code",
   "execution_count": 8,
   "metadata": {},
   "outputs": [
    {
     "name": "stdout",
     "output_type": "stream",
     "text": [
      "[ -0.33327007  -3.1872737   -1.8988099   -2.2166262   -1.6910287\n",
      "  -0.08924817  -2.2369664   -1.1097152   -1.5486454  -22.567327  ] 5 True\n",
      "[  0.33702824  -3.6374252   -1.9856634   -2.6588364   -2.0808213\n",
      "   0.37577337  -2.7451885   -1.5478818   -1.6784472  -25.953968  ] 0 False\n",
      "[  0.7142707   -4.185231    -2.0734365   -2.4452457   -3.3623312\n",
      "   0.74824846  -2.322957    -2.5362704   -1.3279154  -27.910725  ] 0 False\n",
      "[ -0.3852356   -3.4383552   -2.128608    -2.2757432   -1.8466603\n",
      "  -0.20058705  -2.0236318   -1.039216    -1.646266   -23.658926  ] 5 True\n",
      "[ -0.56258863  -3.4696608   -2.2301466   -3.0243483   -1.1579466\n",
      "  -0.57544607  -2.951381    -0.2795486   -2.0649345  -25.914782  ] 4 False\n",
      "[173.   0.   0.   0.   0.  31.   0.  23.   0.   0.]\n",
      "[270.  52.   2.  17.  49.  64.   1.  38.   7.   0.]\n"
     ]
    }
   ],
   "source": [
    "accuracy = np.zeros((10,))\n",
    "gt_class = np.zeros((10,))\n",
    "num_eval = 500\n",
    "fetch = [class_predict_val[0], ground_truth[0], correct_prediction[0]]\n",
    "for step in range(num_eval):\n",
    "    out_class_predict_val, out_ground_truth, out_correct_prediction = sess.run(fetch)\n",
    "    if step % 100 == 0:\n",
    "        print(out_class_predict_val, out_ground_truth, out_correct_prediction)\n",
    "    gt_class[int(out_ground_truth)] += 1.\n",
    "    if out_correct_prediction:\n",
    "        accuracy[int(out_ground_truth)] += 1.\n",
    "print(accuracy)\n",
    "print(gt_class)"
   ]
  },
  {
   "cell_type": "markdown",
   "metadata": {},
   "source": [
    "### Compute confusion matrix"
   ]
  },
  {
   "cell_type": "code",
   "execution_count": 18,
   "metadata": {},
   "outputs": [
    {
     "data": {
      "text/plain": [
       "<matplotlib.axes._subplots.AxesSubplot at 0x7f0e582a5850>"
      ]
     },
     "execution_count": 18,
     "metadata": {},
     "output_type": "execute_result"
    },
    {
     "data": {
      "image/png": "[encoded data removed]",
      "text/plain": [
       "<Figure size 720x720 with 2 Axes>"
      ]
     },
     "metadata": {
      "needs_background": "light"
     },
     "output_type": "display_data"
    }
   ],
   "source": [
    "from sklearn.metrics import confusion_matrix\n",
    "import pandas as pd\n",
    "import matplotlib.pyplot as plt\n",
    "import seaborn as sn\n",
    "# Action\n",
    "# Family\n",
    "# Fantasy\n",
    "# History\n",
    "# Romance\n",
    "# Thriller\n",
    "# War\n",
    "# Comedy\n",
    "# Horror\n",
    "# ScienceFiction\n",
    "\n",
    "# out_class_predict_val, out_ground_truth = sess.run([class_predict_val[0], class_gt_val[0]])\n",
    "# conf_matrix = np.dot(np.expand_dims(out_class_predict_val, 1), np.expand_dims(out_class_predict_val, 0))\n",
    "\n",
    "df_cm = pd.DataFrame(conf_matrix, index = [i for i in \"AFFHRTWCHS\"], columns = [i for i in \"AFFHRTWCHS\"])\n",
    "plt.figure(figsize = (10,10))\n",
    "sn.heatmap(df_cm, annot=True)"
   ]
  },
  {
   "cell_type": "code",
   "execution_count": null,
   "metadata": {},
   "outputs": [],
   "source": []
  },
  {
   "cell_type": "code",
   "execution_count": 12,
   "metadata": {},
   "outputs": [
    {
     "data": {
      "text/plain": [
       "((10,), (10,))"
      ]
     },
     "execution_count": 12,
     "metadata": {},
     "output_type": "execute_result"
    }
   ],
   "source": [
    "out_ground_truth.shape, out_class_predict_val.shape"
   ]
  },
  {
   "cell_type": "code",
   "execution_count": 26,
   "metadata": {},
   "outputs": [
    {
     "ename": "ValueError",
     "evalue": "tf.enable_eager_execution must be called at program startup.",
     "output_type": "error",
     "traceback": [
      "\u001b[0;31m---------------------------------------------------------------------------\u001b[0m",
      "\u001b[0;31mValueError\u001b[0m                                Traceback (most recent call last)",
      "\u001b[0;32m<ipython-input-26-41a78f0e6d4e>\u001b[0m in \u001b[0;36m<module>\u001b[0;34m\u001b[0m\n\u001b[1;32m      7\u001b[0m \u001b[0;32mimport\u001b[0m \u001b[0mutils\u001b[0m \u001b[0;32mas\u001b[0m \u001b[0mutils\u001b[0m\u001b[0;34m\u001b[0m\u001b[0;34m\u001b[0m\u001b[0m\n\u001b[1;32m      8\u001b[0m \u001b[0mimportlib\u001b[0m\u001b[0;34m.\u001b[0m\u001b[0mreload\u001b[0m\u001b[0;34m(\u001b[0m\u001b[0mdataset\u001b[0m\u001b[0;34m)\u001b[0m\u001b[0;34m\u001b[0m\u001b[0;34m\u001b[0m\u001b[0m\n\u001b[0;32m----> 9\u001b[0;31m \u001b[0mtf\u001b[0m\u001b[0;34m.\u001b[0m\u001b[0menable_eager_execution\u001b[0m\u001b[0;34m(\u001b[0m\u001b[0;34m)\u001b[0m\u001b[0;34m\u001b[0m\u001b[0;34m\u001b[0m\u001b[0m\n\u001b[0m\u001b[1;32m     10\u001b[0m \u001b[0;34m\u001b[0m\u001b[0m\n\u001b[1;32m     11\u001b[0m \u001b[0mimage\u001b[0m \u001b[0;34m=\u001b[0m \u001b[0;34m(\u001b[0m\u001b[0mnp\u001b[0m\u001b[0;34m.\u001b[0m\u001b[0marray\u001b[0m\u001b[0;34m(\u001b[0m\u001b[0mImage\u001b[0m\u001b[0;34m.\u001b[0m\u001b[0mopen\u001b[0m\u001b[0;34m(\u001b[0m\u001b[0;34m'./Action/__oEU4P_rL8_1020.jpg'\u001b[0m\u001b[0;34m)\u001b[0m\u001b[0;34m)\u001b[0m\u001b[0;34m/\u001b[0m\u001b[0;36m255.\u001b[0m\u001b[0;34m)\u001b[0m\u001b[0;34m.\u001b[0m\u001b[0mastype\u001b[0m\u001b[0;34m(\u001b[0m\u001b[0mnp\u001b[0m\u001b[0;34m.\u001b[0m\u001b[0mfloat32\u001b[0m\u001b[0;34m)\u001b[0m\u001b[0;34m\u001b[0m\u001b[0;34m\u001b[0m\u001b[0m\n",
      "\u001b[0;32m~/anaconda2/envs/comp-color/lib/python3.7/site-packages/tensorflow/python/framework/ops.py\u001b[0m in \u001b[0;36menable_eager_execution\u001b[0;34m(config, device_policy, execution_mode)\u001b[0m\n\u001b[1;32m   5876\u001b[0m         \u001b[0mdevice_policy\u001b[0m\u001b[0;34m=\u001b[0m\u001b[0mdevice_policy\u001b[0m\u001b[0;34m,\u001b[0m\u001b[0;34m\u001b[0m\u001b[0;34m\u001b[0m\u001b[0m\n\u001b[1;32m   5877\u001b[0m         \u001b[0mexecution_mode\u001b[0m\u001b[0;34m=\u001b[0m\u001b[0mexecution_mode\u001b[0m\u001b[0;34m,\u001b[0m\u001b[0;34m\u001b[0m\u001b[0;34m\u001b[0m\u001b[0m\n\u001b[0;32m-> 5878\u001b[0;31m         server_def=None)\n\u001b[0m\u001b[1;32m   5879\u001b[0m \u001b[0;34m\u001b[0m\u001b[0m\n\u001b[1;32m   5880\u001b[0m \u001b[0;34m\u001b[0m\u001b[0m\n",
      "\u001b[0;32m~/anaconda2/envs/comp-color/lib/python3.7/site-packages/tensorflow/python/framework/ops.py\u001b[0m in \u001b[0;36menable_eager_execution_internal\u001b[0;34m(config, device_policy, execution_mode, server_def)\u001b[0m\n\u001b[1;32m   5934\u001b[0m     \u001b[0;32mif\u001b[0m \u001b[0mgraph_mode_has_been_used\u001b[0m\u001b[0;34m:\u001b[0m\u001b[0;34m\u001b[0m\u001b[0;34m\u001b[0m\u001b[0m\n\u001b[1;32m   5935\u001b[0m       raise ValueError(\n\u001b[0;32m-> 5936\u001b[0;31m           \"tf.enable_eager_execution must be called at program startup.\")\n\u001b[0m\u001b[1;32m   5937\u001b[0m   \u001b[0mcontext\u001b[0m\u001b[0;34m.\u001b[0m\u001b[0mdefault_execution_mode\u001b[0m \u001b[0;34m=\u001b[0m \u001b[0mcontext\u001b[0m\u001b[0;34m.\u001b[0m\u001b[0mEAGER_MODE\u001b[0m\u001b[0;34m\u001b[0m\u001b[0;34m\u001b[0m\u001b[0m\n\u001b[1;32m   5938\u001b[0m   \u001b[0;31m# pylint: disable=protected-access\u001b[0m\u001b[0;34m\u001b[0m\u001b[0;34m\u001b[0m\u001b[0;34m\u001b[0m\u001b[0m\n",
      "\u001b[0;31mValueError\u001b[0m: tf.enable_eager_execution must be called at program startup."
     ]
    }
   ],
   "source": [
    "import matplotlib.pyplot as plt\n",
    "from PIL import Image\n",
    "import importlib\n",
    "import dataset as dataset\n",
    "import tensorflow as tf\n",
    "import numpy as np\n",
    "import utils as utils\n",
    "importlib.reload(dataset)\n",
    "tf.enable_eager_execution()\n",
    "\n",
    "image = (np.array(Image.open('./Action/__oEU4P_rL8_1020.jpg'))/255.).astype(np.float32)\n",
    "image_tf= tf.convert_to_tensor(image, dtype=tf.float32)\n",
    "histogram_u, histogram_v, histogram_gray = dataset.process_image_histogram(image_tf, num_bins=512, values_range=(-10, 10))\n",
    "# print(histogram_u[1:])\n",
    "print(tf.reduce_min(histogram_v), tf.reduce_max(histogram_v))\n",
    "\n",
    "plt.figure(figsize=(10,10))\n",
    "plt.imshow(image, cmap='gray')\n",
    "plt.show()\n"
   ]
  },
  {
   "cell_type": "code",
   "execution_count": 28,
   "metadata": {},
   "outputs": [
    {
     "data": {
      "image/png": "[encoded data removed]",
      "text/plain": [
       "<Figure size 432x288 with 1 Axes>"
      ]
     },
     "metadata": {
      "needs_background": "light"
     },
     "output_type": "display_data"
    }
   ],
   "source": [
    "import matplotlib.pyplot as plt\n",
    "plt.plot(out_input_frames[0, 512:1024])\n",
    "plt.show()\n"
   ]
  }
 ],
 "metadata": {
  "kernelspec": {
   "display_name": "Python 3",
   "language": "python",
   "name": "python3"
  },
  "language_info": {
   "codemirror_mode": {
    "name": "ipython",
    "version": 3
   },
   "file_extension": ".py",
   "mimetype": "text/x-python",
   "name": "python",
   "nbconvert_exporter": "python",
   "pygments_lexer": "ipython3",
   "version": "3.7.4"
  }
 },
 "nbformat": 4,
 "nbformat_minor": 4
}
