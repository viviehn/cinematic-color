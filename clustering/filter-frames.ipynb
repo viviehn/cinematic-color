{
 "cells": [
  {
   "cell_type": "code",
   "execution_count": 1,
   "metadata": {},
   "outputs": [],
   "source": [
    "# Helper libraries\n",
    "import matplotlib\n",
    "from matplotlib import gridspec\n",
    "from matplotlib import pyplot as plt\n",
    "import numpy as np\n",
    "from PIL import Image\n",
    "import cv2 as cv\n",
    "import tqdm\n",
    "import IPython\n",
    "from sklearn.metrics import confusion_matrix\n",
    "from tabulate import tabulate\n",
    "import os\n",
    "\n",
    "import glob\n",
    "import pandas as pd\n",
    "import random\n",
    "from colour.plotting import *\n",
    "\n",
    "from mpl_toolkits.mplot3d import Axes3D\n",
    "from matplotlib import cm\n",
    "from matplotlib import colors\n",
    "import data_utils as utils\n",
    "from skimage import io"
   ]
  },
  {
   "cell_type": "code",
   "execution_count": 2,
   "metadata": {},
   "outputs": [],
   "source": [
    "del_frames = [60, 120, 180, 240, 300]\n",
    "def clean_frames(genre, remove_beg_end=True):\n",
    "    if remove_beg_end:\n",
    "        vids = glob.glob('./{}/*_60.jpg'.format(genre))\n",
    "        vids = [f[:-6] for f in vids]\n",
    "    else:\n",
    "        vids = glob.glob('./{}/*_360.jpg'.format(genre))\n",
    "        vids = [f[:-7] for f in vids]\n",
    "\n",
    "    for v in tqdm.tqdm(vids):\n",
    "        max_fnum = len(glob.glob(v+'*.jpg'))*60\n",
    "        if remove_beg_end:\n",
    "            for d in del_frames:\n",
    "                os.remove(v+str(d)+'.jpg')\n",
    "                os.remove(v+str(max_fnum - d)+'.jpg')\n",
    "        remaining_frames = glob.glob(v+'*.jpg')\n",
    "        for f in remaining_frames:\n",
    "            rgb = io.imread(f)\n",
    "            if rgb.mean() < 20:  # get rid of the black frames that occasionally occurs in trailers\n",
    "                os.remove(f)\n",
    "                continue\n",
    "            try:\n",
    "                rgb = utils.crop_blacks(rgb)\n",
    "                if np.any(rgb.shape < 200):\n",
    "                    os.remove(f)\n",
    "                else:\n",
    "                    plt.imsave(f, rgb)\n",
    "            except:\n",
    "                continue\n",
    "def sample_frames(base_path, num_frames=20):\n",
    "    frames = glob.glob(base_path+'*.jpg')\n",
    "    if len(frames) < 20:\n",
    "        return None\n",
    "    sampled_frames = random.sample(frames, num_frames)\n",
    "    minh = 9999\n",
    "    minw = 9999\n",
    "    for f in sampled_frames:\n",
    "        rgb = io.imread(f)\n",
    "        if rgb.shape[1] < minw:\n",
    "            minw = rgb.shape[1]\n",
    "        if rgb.shape[0] < minh:\n",
    "            minh = rgb.shape[0]\n",
    "    for f in sampled_frames:\n",
    "        rgb = io.imread(f)\n",
    "        h, w, _ = rgb.shape\n",
    "        dh = h - minh\n",
    "        dw = w - minw\n",
    "        rgb_crop = rgb[round(dh/2):h-round(dh/2 - .5), round(dw/2):w-round(dw/2 - .5)]\n",
    "        plt.imsave(f, rgb_crop)\n",
    "    return sampled_frames\n",
    "        \n",
    "def view_frames(base_path, num_frames=20):\n",
    "    frames = glob.glob(base_path+'*.jpg')\n",
    "\n",
    "    sampled_frames = random.sample(frames, num_frames)\n",
    "    fig = plt.figure(figsize=(30,24))\n",
    "\n",
    "    for i in range(4):\n",
    "        for j in range(5):\n",
    "            a=fig.add_subplot(4,5,i * 5 + j + 1)\n",
    "            image = io.imread(sampled_frames[i*5 + j])\n",
    "            a.imshow(image)\n",
    "            plt.axis('off')\n",
    "    \n",
    "    plt.tight_layout()\n",
    "    plt.show()\n",
    "    return sampled_frames\n"
   ]
  },
  {
   "cell_type": "code",
   "execution_count": 37,
   "metadata": {},
   "outputs": [
    {
     "name": "stderr",
     "output_type": "stream",
     "text": [
      "100%|██████████| 323/323 [05:41<00:00,  1.06s/it]\n"
     ]
    }
   ],
   "source": [
    "clean_frames('Comedy', remove_beg_end=True)"
   ]
  },
  {
   "cell_type": "code",
   "execution_count": 38,
   "metadata": {},
   "outputs": [
    {
     "name": "stdout",
     "output_type": "stream",
     "text": [
      "['./Comedy/Ut_DsYTMOrQ_', './Comedy/loTIzXAS7v4_', './Comedy/FZkIlAEbHi4_', './Comedy/Sq5CIH0duMk_', './Comedy/mdBm8vBpvAc_', './Comedy/ntxIBzJ0tU8_', './Comedy/AK6EbfdnTHg_', './Comedy/GuyNP-XyFHs_', './Comedy/YH9ju47g4x0_', './Comedy/IyaFEBI_L24_', './Comedy/uO12W35DpsQ_', './Comedy/LKFuXETZUsI_', './Comedy/1S8RTKL5cW8_', './Comedy/4RI0QvaGoiI_', './Comedy/VWyH_twcMl0_', './Comedy/3zuRkQSx5gs_', './Comedy/bKeW-MGu-qQ_', './Comedy/oDcaZ3StTfI_', './Comedy/Wfql_DoHRKc_', './Comedy/r73tMMDKjas_', './Comedy/u7__TG7swg0_', './Comedy/2A63Ly0Pvpk_', './Comedy/FAfR8omt-CY_', './Comedy/9xXBjtAGIzE_', './Comedy/8UiHFHF-Nqk_', './Comedy/KM1OouzGxPM_', './Comedy/crrYiYreaLk_', './Comedy/eyKOgnaf0BU_', './Comedy/dt__kig8PVU_', './Comedy/lcjN7zkgELM_', './Comedy/XPG0MqIcby8_', './Comedy/9vN6DHB6bJc_', './Comedy/iqyxxMFOFa0_', './Comedy/or_J4mMOH1w_', './Comedy/EI_3ywJLQio_', './Comedy/SApIKVq1iJQ_', './Comedy/Pl9JS8-gnWQ_', './Comedy/l_ngIv5kFNY_', './Comedy/RFuZhw5b1KA_', './Comedy/FNppLrmdyug_', './Comedy/RFL8b1p1ELY_', './Comedy/g06k4HOlEbg_', './Comedy/6lLcVn-eLT8_', './Comedy/9oVzgybbU3M_']\n"
     ]
    }
   ],
   "source": [
    "genre = 'Comedy'\n",
    "class_num = '8'\n",
    "vids = glob.glob('./{}/*_360.jpg'.format(genre))\n",
    "vids = [f[:-7] for f in vids]\n",
    "\n",
    "# Create 85-15 train-val split\n",
    "\n",
    "random.shuffle(vids)\n",
    "split = int(len(vids)*.85)\n",
    "train_vids = vids[:split]\n",
    "val_vids = vids[split:]\n",
    "print(val_vids)"
   ]
  },
  {
   "cell_type": "code",
   "execution_count": 40,
   "metadata": {},
   "outputs": [
    {
     "name": "stderr",
     "output_type": "stream",
     "text": [
      "100%|██████████| 246/246 [05:11<00:00,  1.27s/it]\n"
     ]
    }
   ],
   "source": [
    "text_file = 'train.txt'\n",
    "\n",
    "with open(text_file, 'a+') as file:\n",
    "    for vid in tqdm.tqdm(train_vids):\n",
    "        sampled_frames = sample_frames(vid)\n",
    "        if sampled_frames is not None:\n",
    "            file.write(','.join(sampled_frames)+','+class_num+'\\n')"
   ]
  },
  {
   "cell_type": "code",
   "execution_count": null,
   "metadata": {},
   "outputs": [],
   "source": [
    "rgb.shape"
   ]
  },
  {
   "cell_type": "code",
   "execution_count": null,
   "metadata": {},
   "outputs": [],
   "source": [
    "plt.imshow(rgb)"
   ]
  },
  {
   "cell_type": "code",
   "execution_count": null,
   "metadata": {},
   "outputs": [],
   "source": [
    "h, w,_ = rgb.shape\n",
    "dh = 20\n",
    "dw = 27\n",
    "rgb_crop = rgb[round(dh/2):h - round(dh/2 - .5), round(dw/2):w - round(dw/2 - .5)]\n",
    "plt.imshow(rgb_crop)"
   ]
  },
  {
   "cell_type": "code",
   "execution_count": null,
   "metadata": {},
   "outputs": [],
   "source": [
    "rgb_crop.shape"
   ]
  },
  {
   "cell_type": "code",
   "execution_count": null,
   "metadata": {},
   "outputs": [],
   "source": []
  }
 ],
 "metadata": {
  "kernelspec": {
   "display_name": "Python 3",
   "language": "python",
   "name": "python3"
  },
  "language_info": {
   "codemirror_mode": {
    "name": "ipython",
    "version": 3
   },
   "file_extension": ".py",
   "mimetype": "text/x-python",
   "name": "python",
   "nbconvert_exporter": "python",
   "pygments_lexer": "ipython3",
   "version": "3.7.4"
  }
 },
 "nbformat": 4,
 "nbformat_minor": 4
}
