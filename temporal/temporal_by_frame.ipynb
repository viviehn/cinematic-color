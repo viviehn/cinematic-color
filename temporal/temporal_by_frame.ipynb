{
 "cells": [
  {
   "cell_type": "markdown",
   "metadata": {},
   "source": [
    "# HSV Histogram over time quantitative analysis"
   ]
  },
  {
   "cell_type": "code",
   "execution_count": 43,
   "metadata": {},
   "outputs": [],
   "source": [
    "import pandas as pd\n",
    "import numpy as np\n",
    "import io\n",
    "import os\n",
    "import matplotlib.pyplot as plt\n",
    "from mpl_toolkits.mplot3d import Axes3D\n",
    "from skimage import color\n",
    "\n",
    "import cv2\n",
    "\n",
    "yt_url_prefix = 'https://www.youtube.com/watch?v='\n",
    "dataset_folder = \"../../data\""
   ]
  },
  {
   "cell_type": "code",
   "execution_count": 44,
   "metadata": {},
   "outputs": [],
   "source": [
    "downloaded = os.listdir(dataset_folder)"
   ]
  },
  {
   "cell_type": "code",
   "execution_count": 45,
   "metadata": {},
   "outputs": [],
   "source": [
    "# histogram similarity metrics\n",
    "def norm_hist(H):\n",
    "    return H / H.size\n",
    "\n",
    "def hist_correlation(H1, H2):\n",
    "    H1_bar = H1.mean()\n",
    "    H2_bar = H2.mean()\n",
    "    num = ((H1 - H1_bar)*(H2 - H2_bar)).sum()\n",
    "    denom = ((H1 - H1_bar)**2).sum() * ((H2 - H2_bar)**2).sum()\n",
    "    denom = denom ** 0.5\n",
    "    return num / denom\n",
    "\n",
    "def hist_intersection(H1, H2):\n",
    "    return np.minimum(H1, H2).sum()\n",
    "\n",
    "def hist_bhattacharyya(H1, H2):\n",
    "    return -np.log(np.sqrt(H1*H2).sum())"
   ]
  },
  {
   "cell_type": "code",
   "execution_count": 47,
   "metadata": {},
   "outputs": [],
   "source": [
    "def collect_video_stats(video_file_name):\n",
    "    vid = cv2.VideoCapture(video_file_name)\n",
    "    frame_count = int(vid.get(cv2.CAP_PROP_FRAME_COUNT))\n",
    "    vid_file = os.path.basename(video_file_name)\n",
    "    yt_id = vid_file.split(\".\")[0]\n",
    "    \n",
    "    i = 0\n",
    "    H_frame_prev = None\n",
    "    H_cut = np.zeros((255, 255, 255))\n",
    "    \n",
    "    frame_wise_data = {\n",
    "        'correlation': [],\n",
    "        'intersection': [],\n",
    "        'bhattacharyya': []\n",
    "    }\n",
    "    cut_wise_data = {\n",
    "        'correlation': [],\n",
    "        'intersection': [],\n",
    "        'bhattacharyya': []\n",
    "    }\n",
    "\n",
    "    while True:\n",
    "        # Read image and make histogram\n",
    "        success, im = vid.read()\n",
    "        \n",
    "        # Break if no more frames left\n",
    "        if not success:# or i > 100:\n",
    "            break\n",
    "\n",
    "        # Print status update if there are more frames to process\n",
    "        print(f\"Processing Frame {i}/{frame_count}\", end=\"\\r\")\n",
    "        \n",
    "        # Make Histogram\n",
    "        im = np.flip(im, axis=2) # Switch BGR (openCV standard) to RGB\n",
    "        im = color.rgb2hsv(im) # Convert RGB to space for different viewing\n",
    "\n",
    "        H_frame, _ = np.histogramdd(\n",
    "            im.reshape(-1, im.shape[-1]),  #flattened image\n",
    "            bins=(255, 255, 255)\n",
    "        )\n",
    "        H_frame = norm_hist(H_frame)  # Convert to probability distribution\n",
    "        \n",
    "        # Collect frame_wise stats\n",
    "        if H_frame_prev is not None:\n",
    "            correlation = hist_correlation(H_frame, H_frame_prev)\n",
    "            frame_wise_data['correlation'].append(correlation)\n",
    "            frame_wise_data['intersection'].append(hist_intersection(H_frame, H_frame_prev))\n",
    "            frame_wise_data['bhattacharyya'].append(hist_bhattacharyya(H_frame, H_frame_prev))\n",
    "\n",
    "        # Increment\n",
    "        H_frame_prev = H_frame\n",
    "        i += 1\n",
    "    \n",
    "    # Make DataFrame\n",
    "    return pd.DataFrame(frame_wise_data)"
   ]
  },
  {
   "cell_type": "code",
   "execution_count": null,
   "metadata": {},
   "outputs": [
    {
     "name": "stdout",
     "output_type": "stream",
     "text": [
      "Processing Video ../../data/xV5udqNpP94.mp4\n",
      "Processing Frame 39/2954\r"
     ]
    },
    {
     "name": "stderr",
     "output_type": "stream",
     "text": [
      "/home/bmild/anaconda2/envs/comp-color/lib/python3.7/site-packages/ipykernel_launcher.py:17: RuntimeWarning: divide by zero encountered in log\n"
     ]
    },
    {
     "name": "stdout",
     "output_type": "stream",
     "text": [
      "Processing Video ../../data/TKPmGjVFbrY.mp4\n",
      "Processing Video ../../data/uiA4B5Y63IQ.mp4\n",
      "Processing Video ../../data/LeLsJfGmY_Y.mp4\n",
      "Processing Video ../../data/0WWzgGyAH6Y.mp4\n",
      "Processing Video ../../data/tAz9Aqbpcco.mp4\n",
      "Processing Video ../../data/0vh908t2W-8.mp4\n",
      "Processing Video ../../data/SDofO3P2HpE.webm\n",
      "Processing Video ../../data/-ziu6JzJTZ0.mp4\n",
      "Processing Video ../../data/-URkBFAVZqc.mp4\n",
      "Processing Video ../../data/v2uV0_1C4UM.mp4\n",
      "Processing Frame 2582/3624\r"
     ]
    }
   ],
   "source": [
    "for file in downloaded:\n",
    "    file_dir = os.path.join(dataset_folder, file)\n",
    "    print(f\"Processing Video {file_dir}\")\n",
    "    stats = collect_video_stats(file_dir)\n",
    "    stats.to_csv(f\"{file.split('.')[0]}.csv\")"
   ]
  },
  {
   "cell_type": "code",
   "execution_count": null,
   "metadata": {},
   "outputs": [],
   "source": []
  }
 ],
 "metadata": {
  "kernelspec": {
   "display_name": "Python 3",
   "language": "python",
   "name": "python3"
  },
  "language_info": {
   "codemirror_mode": {
    "name": "ipython",
    "version": 3
   },
   "file_extension": ".py",
   "mimetype": "text/x-python",
   "name": "python",
   "nbconvert_exporter": "python",
   "pygments_lexer": "ipython3",
   "version": "3.7.4"
  }
 },
 "nbformat": 4,
 "nbformat_minor": 4
}
