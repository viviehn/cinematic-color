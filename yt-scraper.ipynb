{
 "cells": [
  {
   "cell_type": "code",
   "execution_count": 1,
   "metadata": {
    "scrolled": true
   },
   "outputs": [],
   "source": [
    "# Uncomment to install dependencies\n",
    "#!pip install pandas\n",
    "#!pip install youtube_dl\n",
    "#!pip install --upgrade google-api-python-client google-auth-httplib2 google-auth-oauthlib"
   ]
  },
  {
   "cell_type": "code",
   "execution_count": 2,
   "metadata": {},
   "outputs": [],
   "source": [
    "import pandas as pd\n",
    "import random\n",
    "import json\n",
    "import os\n",
    "from youtube_dl import YoutubeDL\n",
    "\n",
    "from google_auth_oauthlib.flow import InstalledAppFlow\n",
    "from apiclient.discovery import build\n",
    "from apiclient.http import MediaFileUpload\n",
    "from apiclient import errors\n",
    "\n",
    "yt_url_prefix = 'https://www.youtube.com/watch?v='\n",
    "output_folder = 'outputs/'"
   ]
  },
  {
   "cell_type": "code",
   "execution_count": 3,
   "metadata": {},
   "outputs": [
    {
     "name": "stdout",
     "output_type": "stream",
     "text": [
      "Please visit this URL to authorize this application: https://accounts.google.com/o/oauth2/auth?response_type=code&client_id=786879558582-eh0bho168rp2k1qord3av8r5u10q64sl.apps.googleusercontent.com&redirect_uri=http%3A%2F%2Flocalhost%3A50566%2F&scope=https%3A%2F%2Fwww.googleapis.com%2Fauth%2Fdrive&state=e2SmXwaXD6L4B8LmrTCgoXG5GXQXu8&access_type=offline\n"
     ]
    }
   ],
   "source": [
    "# GOOGLE DRIVE API CONSTANTS\n",
    "flow = InstalledAppFlow.from_client_secrets_file('credentials.json', ['https://www.googleapis.com/auth/drive'])\n",
    "creds = flow.run_local_server(port=0)\n",
    "folder_id = '1UnDIe4VHMM8bZzIfKEG8NJdQGnNrrxEG'\n",
    "drive_api = build('drive', 'v3', credentials=creds)\n",
    "\n",
    "# Helpful function\n",
    "def get_file_list_from_folder(service, folder_id):\n",
    "    \"\"\"Print files belonging to a folder.\n",
    "\n",
    "    Args:\n",
    "    service: Drive API service instance.\n",
    "    folder_id: ID of the folder to print files from.\n",
    "    \"\"\"\n",
    "    kwargs = {\n",
    "        \"q\": \"'{}' in parents\".format(folder_id)\n",
    "    }\n",
    "    request = service.files().list(**kwargs)\n",
    "    while request is not None:\n",
    "      response = request.execute()\n",
    "      # Do stuff with response['files']\n",
    "      request = service.files().list_next(request, response)\n",
    "    return response"
   ]
  },
  {
   "cell_type": "code",
   "execution_count": 4,
   "metadata": {},
   "outputs": [],
   "source": [
    "trailers = pd.read_csv(\"trailers.csv\", index_col=0)\n",
    "#trailers"
   ]
  },
  {
   "cell_type": "code",
   "execution_count": null,
   "metadata": {
    "scrolled": true
   },
   "outputs": [
    {
     "name": "stdout",
     "output_type": "stream",
     "text": [
      "files already uploaded {'uTDVnwwQNTw.mp4', 'z7cEL6n24d4.mp4', 'HddkucqSzSM.mp4', 'K_tLp7T6U1c.mp4', 'uMwECVb1q54.mp4', 'LoVhgaj6PiE.mp4', 'yAQcwKY0Dik.mp4', 'H9Z3_ifFheQ.mp4', '11ptis6I2Zk.mp4', 'qsR8-zxV-3E.mp4', '9vN6DHB6bJc.mp4', 'F-qBD17wwrQ.mp4', 'j8detvC7euw.mp4', 'hEJnMQG9ev8.mp4', 'mfmrPu43DF8.mp4', '6vY9UPiI4eQ.mp4', '95ghQs5AmNk.mp4', 'oYTfYsODWQo.mp4', 'BXUEUwwgIyU.mp4', 'p35JDJLa9ec.mp4', 'bxLAH3M3ywM.mp4', 'iG0P6bjyUNI.mp4', 'XEkeZhWbW7U.mp4', 'iCrUqt9Uf3E.mp4', 'uHBnrJowBZE.mp4', 'EsHlXpbMPOc.mp4', 'XFYWazblaUA.mp4', 'ioUE_5wpg_E.mp4', 'O7zvehDxttM.mp4', 'H0MoWlLPLAM.mp4', 's6SvOIbaulA.mp4', '_IqFJLdV13o.mp4', '34WIbmXkewU.mp4', 'nMft5QDOHek.mp4', 'vizwnpbwO0w.mp4'}\n",
      "Downloading 87E6N7ToCxs.mp4\n",
      "[youtube] 87E6N7ToCxs: Downloading webpage\n",
      "[youtube] 87E6N7ToCxs: Downloading video info webpage\n",
      "[download] Destination: outputs/87E6N7ToCxs.mp4\n",
      "[download] 100% of 28.79MiB in 00:0733MiB/s ETA 00:000\n",
      "Uploading file 87E6N7ToCxs.mp4...\n",
      "Created file '87E6N7ToCxs.mp4' id '10l4jCGDvdyBv24_Q_ufomrqT0k00lEBp'.\n",
      "Removed 87E6N7ToCxs.mp4\n",
      "Success!\n",
      "\n",
      "Downloading AQL9hRRYDIw.mp4\n",
      "[youtube] AQL9hRRYDIw: Downloading webpage\n",
      "[youtube] AQL9hRRYDIw: Downloading video info webpage\n",
      "[download] Destination: outputs/AQL9hRRYDIw.mp4\n",
      "[download] 100% of 5.21MiB in 00:0119MiB/s ETA 00:005\n",
      "Uploading file AQL9hRRYDIw.mp4...\n",
      "Created file 'AQL9hRRYDIw.mp4' id '1ivQg-Ppn8sGgTMyc0e8XZUzuqT8hb121'.\n",
      "Removed AQL9hRRYDIw.mp4\n",
      "Success!\n",
      "\n",
      "Downloading zsrdBGr8NIk.mp4\n",
      "[youtube] zsrdBGr8NIk: Downloading webpage\n",
      "[youtube] zsrdBGr8NIk: Downloading video info webpage\n",
      "[download] Destination: outputs/zsrdBGr8NIk.mp4\n",
      "[download] 100% of 1.95MiB in 00:0011MiB/s ETA 00:002\n",
      "Uploading file zsrdBGr8NIk.mp4...\n",
      "Created file 'zsrdBGr8NIk.mp4' id '1ieReN123rHoTvnuR97CuPwTLk7Krldf9'.\n",
      "Removed zsrdBGr8NIk.mp4\n",
      "Success!\n",
      "\n",
      "Downloading W4DlMggBPvc.mp4\n",
      "[youtube] W4DlMggBPvc: Downloading webpage\n",
      "[youtube] W4DlMggBPvc: Downloading video info webpage\n",
      "[download] Destination: outputs/W4DlMggBPvc.mp4\n",
      "[download] 100% of 35.62MiB in 00:0803MiB/s ETA 00:0096\n",
      "Uploading file W4DlMggBPvc.mp4...\n",
      "Created file 'W4DlMggBPvc.mp4' id '1w2iRtIMUSsTKdeguz03JdhE4h0iGrL0S'.\n",
      "Removed W4DlMggBPvc.mp4\n",
      "Success!\n",
      "\n",
      "Downloading 8INy93p2xGU.mp4\n",
      "[youtube] 8INy93p2xGU: Downloading webpage\n",
      "[youtube] 8INy93p2xGU: Downloading video info webpage\n",
      "[youtube] 8INy93p2xGU: Downloading MPD manifest\n",
      "[dashsegments] Total fragments: 24\n",
      "[download] Destination: outputs/8INy93p2xGU.mp4\n",
      "[download]  16.4% of ~40.11MiB at  2.74MiB/s ETA 00:14575"
     ]
    }
   ],
   "source": [
    "ydl_opts = {\n",
    "    'outtmpl': output_folder + '%(id)s.%(ext)s',\n",
    "    'format': 'bestvideo'\n",
    "}\n",
    "\n",
    "uploaded = get_file_list_from_folder(drive_api, folder_id)\n",
    "uploaded = set([d['name'] for d in uploaded['files']])\n",
    "\n",
    "\n",
    "all_to_download = set(trailers['youtube_key'] + \".mp4\")\n",
    "print(f'files already uploaded {uploaded & all_to_download}')\n",
    "remaining_trailers = all_to_download - uploaded\n",
    "\n",
    "with YoutubeDL(ydl_opts) as ydl:\n",
    "    for file_name in remaining_trailers:\n",
    "        try:\n",
    "            # Helpful Constants\n",
    "            yt_link = yt_url_prefix + file_name[:-4]\n",
    "\n",
    "            # Download Video\n",
    "            print(f\"Downloading {file_name}\")\n",
    "            trailer_yt_info = ydl.extract_info(yt_link, download=True)\n",
    "\n",
    "            # Upload to Drive\n",
    "            print(f\"Uploading file {file_name}...\")\n",
    "            body = {'name': file_name, 'parents': [folder_id]}\n",
    "            media = MediaFileUpload(output_folder + file_name)\n",
    "            fiahl = drive_api.files().create(body=body, media_body=media).execute()\n",
    "            print(f\"Created file '{fiahl.get('name')}' id '{fiahl.get('id')}'.\")\n",
    "\n",
    "            # Delete video from hard drive\n",
    "            os.remove(output_folder + file_name)\n",
    "            print(f\"Removed {file_name}\")\n",
    "            print(\"Success!\")\n",
    "        except:\n",
    "            print(\"Failed!\")\n",
    "        print()\n",
    "        \n"
   ]
  },
  {
   "cell_type": "code",
   "execution_count": null,
   "metadata": {
    "collapsed": true
   },
   "outputs": [],
   "source": []
  }
 ],
 "metadata": {
  "kernelspec": {
   "display_name": "Python 3",
   "language": "python",
   "name": "python3"
  },
  "language_info": {
   "codemirror_mode": {
    "name": "ipython",
    "version": 3
   },
   "file_extension": ".py",
   "mimetype": "text/x-python",
   "name": "python",
   "nbconvert_exporter": "python",
   "pygments_lexer": "ipython3",
   "version": "3.6.3"
  }
 },
 "nbformat": 4,
 "nbformat_minor": 4
}
