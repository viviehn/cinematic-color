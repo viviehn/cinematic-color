{
 "cells": [
  {
   "cell_type": "code",
   "execution_count": 1,
   "metadata": {},
   "outputs": [],
   "source": [
    "# Install Dependencies\n",
    "#!pip install scikit-image\n",
    "#!pip install scenedetect[opencv,progress_bar]"
   ]
  },
  {
   "cell_type": "code",
   "execution_count": 21,
   "metadata": {},
   "outputs": [],
   "source": [
    "from __future__ import print_function\n",
    "import io\n",
    "import os\n",
    "\n",
    "import pandas as pd\n",
    "import numpy as np\n",
    "\n",
    "from skimage import color\n",
    "import cv2\n",
    "\n",
    "import scenedetect\n",
    "from scenedetect.video_manager import VideoManager\n",
    "from scenedetect.scene_manager import SceneManager\n",
    "from scenedetect.frame_timecode import FrameTimecode\n",
    "from scenedetect.stats_manager import StatsManager\n",
    "from scenedetect.detectors import ContentDetector\n",
    "\n",
    "STATS_FILE_PATH = 'testvideo.stats.csv'\n",
    "dataset_folder = \"../../data/\"\n",
    "cuts_folder = \"../../data/cuts/\"\n",
    "analysis_folder = \"../../data/analysis/variation\""
   ]
  },
  {
   "cell_type": "code",
   "execution_count": 22,
   "metadata": {},
   "outputs": [],
   "source": [
    "downloaded = [f for f in os.listdir(dataset_folder) if os.path.isfile(os.path.join(dataset_folder, f))]"
   ]
  },
  {
   "cell_type": "markdown",
   "metadata": {},
   "source": [
    "# Find video cuts"
   ]
  },
  {
   "cell_type": "code",
   "execution_count": 26,
   "metadata": {},
   "outputs": [
    {
     "name": "stderr",
     "output_type": "stream",
     "text": [
      "  0%|          | 0/3817 [00:00<?, ?frames/s]"
     ]
    },
    {
     "name": "stdout",
     "output_type": "stream",
     "text": [
      "Finding cuts of Video ../../data/D86RtevtfrA.webm: 1636/2002\r"
     ]
    },
    {
     "name": "stderr",
     "output_type": "stream",
     "text": [
      " 95%|█████████▍| 3608/3817 [00:20<00:01, 179.68frames/s]\n",
      "  1%|          | 29/3571 [00:00<00:12, 282.71frames/s]"
     ]
    },
    {
     "name": "stdout",
     "output_type": "stream",
     "text": [
      "Finding cuts of Video ../../data/9FhdYOZoKcs.mp4: 1637/2002\r"
     ]
    },
    {
     "name": "stderr",
     "output_type": "stream",
     "text": [
      "100%|██████████| 3571/3571 [00:10<00:00, 337.56frames/s]\n",
      "  0%|          | 22/4928 [00:00<00:22, 219.71frames/s]"
     ]
    },
    {
     "name": "stdout",
     "output_type": "stream",
     "text": [
      "Finding cuts of Video ../../data/owK1qxDselE.mp4: 1638/2002\r"
     ]
    },
    {
     "name": "stderr",
     "output_type": "stream",
     "text": [
      "100%|██████████| 4928/4928 [00:14<00:00, 343.72frames/s]\n",
      "  1%|          | 27/2754 [00:00<00:10, 267.18frames/s]"
     ]
    },
    {
     "name": "stdout",
     "output_type": "stream",
     "text": [
      "Finding cuts of Video ../../data/cYplvwBvGA4.mp4: 1639/2002\r"
     ]
    },
    {
     "name": "stderr",
     "output_type": "stream",
     "text": [
      "100%|██████████| 2754/2754 [00:12<00:00, 227.51frames/s]\n",
      "  0%|          | 10/3103 [00:00<00:32, 96.02frames/s]"
     ]
    },
    {
     "name": "stdout",
     "output_type": "stream",
     "text": [
      "Finding cuts of Video ../../data/8ndhidEmUbI.mp4: 1640/2002\r"
     ]
    },
    {
     "name": "stderr",
     "output_type": "stream",
     "text": [
      "100%|██████████| 3103/3103 [00:17<00:00, 174.14frames/s]\n",
      "  0%|          | 26/8901 [00:00<00:34, 258.88frames/s]"
     ]
    },
    {
     "name": "stdout",
     "output_type": "stream",
     "text": [
      "Finding cuts of Video ../../data/SsjVBE5bE60.mp4: 1641/2002\r"
     ]
    },
    {
     "name": "stderr",
     "output_type": "stream",
     "text": [
      "100%|██████████| 8901/8901 [00:26<00:00, 335.81frames/s]\n",
      "  0%|          | 15/3206 [00:00<00:22, 142.61frames/s]"
     ]
    },
    {
     "name": "stdout",
     "output_type": "stream",
     "text": [
      "Finding cuts of Video ../../data/9XEh7arNSms.mp4: 1642/2002\r"
     ]
    },
    {
     "name": "stderr",
     "output_type": "stream",
     "text": [
      "100%|██████████| 3206/3206 [00:17<00:00, 179.18frames/s]\n",
      "  0%|          | 17/3767 [00:00<00:22, 167.91frames/s]"
     ]
    },
    {
     "name": "stdout",
     "output_type": "stream",
     "text": [
      "Finding cuts of Video ../../data/xg3znoE9m7I.mp4: 1643/2002\r"
     ]
    },
    {
     "name": "stderr",
     "output_type": "stream",
     "text": [
      "100%|██████████| 3767/3767 [00:21<00:00, 176.22frames/s]\n",
      "  1%|          | 18/2929 [00:00<00:16, 173.70frames/s]"
     ]
    },
    {
     "name": "stdout",
     "output_type": "stream",
     "text": [
      "Finding cuts of Video ../../data/JU9PdgB3rsk.mp4: 1644/2002\r"
     ]
    },
    {
     "name": "stderr",
     "output_type": "stream",
     "text": [
      "2930frames [00:16, 175.68frames/s]                      \n",
      "  4%|▎         | 122/3335 [00:00<00:02, 1208.79frames/s]"
     ]
    },
    {
     "name": "stdout",
     "output_type": "stream",
     "text": [
      "Finding cuts of Video ../../data/nYHt8SdUj-U.webm: 1645/2002\r"
     ]
    },
    {
     "name": "stderr",
     "output_type": "stream",
     "text": [
      " 94%|█████████▍| 3135/3335 [00:03<00:00, 826.29frames/s]\n",
      "  1%|          | 32/4980 [00:00<00:15, 313.19frames/s]"
     ]
    },
    {
     "name": "stdout",
     "output_type": "stream",
     "text": [
      "Finding cuts of Video ../../data/oGYcxjywx0o.webm: 1646/2002\r"
     ]
    },
    {
     "name": "stderr",
     "output_type": "stream",
     "text": [
      " 93%|█████████▎| 4646/4980 [00:13<00:00, 339.03frames/s]\n",
      "  1%|          | 25/3625 [00:00<00:14, 244.43frames/s]"
     ]
    },
    {
     "name": "stdout",
     "output_type": "stream",
     "text": [
      "Finding cuts of Video ../../data/x3ErWNBX9Rc.mp4: 1647/2002\r"
     ]
    },
    {
     "name": "stderr",
     "output_type": "stream",
     "text": [
      "100%|██████████| 3625/3625 [00:16<00:00, 225.83frames/s]\n",
      "  0%|          | 14/3411 [00:00<00:24, 137.31frames/s]"
     ]
    },
    {
     "name": "stdout",
     "output_type": "stream",
     "text": [
      "Finding cuts of Video ../../data/LiBzbNk0lZ0.mp4: 1648/2002\r"
     ]
    },
    {
     "name": "stderr",
     "output_type": "stream",
     "text": [
      "100%|██████████| 3411/3411 [00:19<00:00, 173.43frames/s]\n",
      "  1%|          | 31/3731 [00:00<00:12, 304.84frames/s]"
     ]
    },
    {
     "name": "stdout",
     "output_type": "stream",
     "text": [
      "Finding cuts of Video ../../data/AXgyoER0aRc.mp4: 1649/2002\r"
     ]
    },
    {
     "name": "stderr",
     "output_type": "stream",
     "text": [
      "100%|██████████| 3731/3731 [00:10<00:00, 344.88frames/s]\n",
      "  0%|          | 16/3766 [00:00<00:24, 153.58frames/s]"
     ]
    },
    {
     "name": "stdout",
     "output_type": "stream",
     "text": [
      "Finding cuts of Video ../../data/sC9abcLLQpI.mp4: 1650/2002\r"
     ]
    },
    {
     "name": "stderr",
     "output_type": "stream",
     "text": [
      "100%|██████████| 3766/3766 [00:20<00:00, 181.13frames/s]\n",
      "  0%|          | 15/3562 [00:00<00:24, 146.28frames/s]"
     ]
    },
    {
     "name": "stdout",
     "output_type": "stream",
     "text": [
      "Finding cuts of Video ../../data/7wkih9Yvxq0.mp4: 1651/2002\r"
     ]
    },
    {
     "name": "stderr",
     "output_type": "stream",
     "text": [
      "100%|██████████| 3562/3562 [00:21<00:00, 168.90frames/s]\n",
      "  1%|          | 31/4392 [00:00<00:14, 295.38frames/s]"
     ]
    },
    {
     "name": "stdout",
     "output_type": "stream",
     "text": [
      "Finding cuts of Video ../../data/yAEQafvL6nQ.mp4: 1652/2002\r"
     ]
    },
    {
     "name": "stderr",
     "output_type": "stream",
     "text": [
      "100%|██████████| 4392/4392 [00:14<00:00, 307.67frames/s]\n",
      "  2%|▏         | 83/3483 [00:00<00:04, 815.39frames/s]"
     ]
    },
    {
     "name": "stdout",
     "output_type": "stream",
     "text": [
      "Finding cuts of Video ../../data/WWMGZe6iucw.mp4: 1653/2002\r"
     ]
    },
    {
     "name": "stderr",
     "output_type": "stream",
     "text": [
      "100%|██████████| 3483/3483 [00:04<00:00, 724.00frames/s]\n",
      "  1%|▏         | 46/3403 [00:00<00:07, 446.52frames/s]"
     ]
    },
    {
     "name": "stdout",
     "output_type": "stream",
     "text": [
      "Finding cuts of Video ../../data/cSqQxoT3wMQ.mp4: 1654/2002\r"
     ]
    },
    {
     "name": "stderr",
     "output_type": "stream",
     "text": [
      "100%|██████████| 3403/3403 [00:06<00:00, 561.12frames/s]\n",
      "  0%|          | 16/4736 [00:00<00:31, 152.05frames/s]"
     ]
    },
    {
     "name": "stdout",
     "output_type": "stream",
     "text": [
      "Finding cuts of Video ../../data/JwMKRevYa_M.mp4: 1655/2002\r"
     ]
    },
    {
     "name": "stderr",
     "output_type": "stream",
     "text": [
      "100%|██████████| 4736/4736 [00:28<00:00, 164.78frames/s]\n",
      "  3%|▎         | 69/2582 [00:00<00:03, 681.41frames/s]"
     ]
    },
    {
     "name": "stdout",
     "output_type": "stream",
     "text": [
      "Finding cuts of Video ../../data/1vbGhunXGFc.mp4: 1656/2002\r"
     ]
    },
    {
     "name": "stderr",
     "output_type": "stream",
     "text": [
      "100%|██████████| 2582/2582 [00:04<00:00, 638.69frames/s]\n",
      "  1%|          | 33/3098 [00:00<00:09, 317.60frames/s]"
     ]
    },
    {
     "name": "stdout",
     "output_type": "stream",
     "text": [
      "Finding cuts of Video ../../data/4jsFpmFWOSs.mp4: 1657/2002\r"
     ]
    },
    {
     "name": "stderr",
     "output_type": "stream",
     "text": [
      "100%|██████████| 3098/3098 [00:09<00:00, 325.84frames/s]\n",
      "  0%|          | 16/3576 [00:00<00:22, 154.79frames/s]"
     ]
    },
    {
     "name": "stdout",
     "output_type": "stream",
     "text": [
      "Finding cuts of Video ../../data/b6Kq4s0GPfE.mp4: 1658/2002\r"
     ]
    },
    {
     "name": "stderr",
     "output_type": "stream",
     "text": [
      "100%|██████████| 3576/3576 [00:22<00:00, 159.81frames/s]\n",
      "  2%|▏         | 50/2968 [00:00<00:06, 479.60frames/s]"
     ]
    },
    {
     "name": "stdout",
     "output_type": "stream",
     "text": [
      "Finding cuts of Video ../../data/tRlzmyveDHE.mp4: 1659/2002\r"
     ]
    },
    {
     "name": "stderr",
     "output_type": "stream",
     "text": [
      "100%|██████████| 2968/2968 [00:06<00:00, 452.30frames/s]\n",
      "  1%|          | 19/3662 [00:00<00:19, 188.02frames/s]"
     ]
    },
    {
     "name": "stdout",
     "output_type": "stream",
     "text": [
      "Finding cuts of Video ../../data/s9aIuPSvXX8.mp4: 1660/2002\r"
     ]
    },
    {
     "name": "stderr",
     "output_type": "stream",
     "text": [
      "100%|██████████| 3662/3662 [00:16<00:00, 215.65frames/s]\n",
      "  1%|          | 16/2129 [00:00<00:13, 154.47frames/s]"
     ]
    },
    {
     "name": "stdout",
     "output_type": "stream",
     "text": [
      "Finding cuts of Video ../../data/xa_z57UatDY.mp4: 1661/2002\r"
     ]
    },
    {
     "name": "stderr",
     "output_type": "stream",
     "text": [
      "100%|██████████| 2129/2129 [00:13<00:00, 160.68frames/s]\n",
      "  2%|▏         | 44/2359 [00:00<00:05, 427.69frames/s]"
     ]
    },
    {
     "name": "stdout",
     "output_type": "stream",
     "text": [
      "Finding cuts of Video ../../data/PYPK3jPZkYI.mp4: 1662/2002\r"
     ]
    },
    {
     "name": "stderr",
     "output_type": "stream",
     "text": [
      "100%|██████████| 2359/2359 [00:04<00:00, 569.24frames/s]\n",
      "  1%|          | 39/3354 [00:00<00:08, 381.94frames/s]"
     ]
    },
    {
     "name": "stdout",
     "output_type": "stream",
     "text": [
      "Finding cuts of Video ../../data/BNi-ebCWXos.mp4: 1663/2002\r"
     ]
    },
    {
     "name": "stderr",
     "output_type": "stream",
     "text": [
      "100%|██████████| 3354/3354 [00:08<00:00, 379.86frames/s]\n",
      "  1%|          | 15/2436 [00:00<00:16, 144.48frames/s]"
     ]
    },
    {
     "name": "stdout",
     "output_type": "stream",
     "text": [
      "Finding cuts of Video ../../data/8_rTIAOohas.webm: 1664/2002\r"
     ]
    },
    {
     "name": "stderr",
     "output_type": "stream",
     "text": [
      " 95%|█████████▍| 2306/2436 [00:14<00:00, 160.45frames/s]\n",
      "  1%|          | 20/3622 [00:00<00:18, 196.95frames/s]"
     ]
    },
    {
     "name": "stdout",
     "output_type": "stream",
     "text": [
      "Finding cuts of Video ../../data/97wCoDn0RrA.mp4: 1665/2002\r"
     ]
    },
    {
     "name": "stderr",
     "output_type": "stream",
     "text": [
      "100%|██████████| 3622/3622 [00:17<00:00, 210.72frames/s]\n",
      "  0%|          | 15/3843 [00:00<00:26, 146.08frames/s]"
     ]
    },
    {
     "name": "stdout",
     "output_type": "stream",
     "text": [
      "Finding cuts of Video ../../data/ujmoYyEyDP8.mp4: 1666/2002\r"
     ]
    },
    {
     "name": "stderr",
     "output_type": "stream",
     "text": [
      "100%|██████████| 3843/3843 [00:22<00:00, 169.01frames/s]\n",
      "  0%|          | 16/3853 [00:00<00:24, 158.59frames/s]"
     ]
    },
    {
     "name": "stdout",
     "output_type": "stream",
     "text": [
      "Finding cuts of Video ../../data/WXgcE6_xfR0.mp4: 1667/2002\r"
     ]
    },
    {
     "name": "stderr",
     "output_type": "stream",
     "text": [
      "100%|██████████| 3853/3853 [00:23<00:00, 163.97frames/s]\n",
      "  1%|▏         | 52/3656 [00:00<00:06, 517.47frames/s]"
     ]
    },
    {
     "name": "stdout",
     "output_type": "stream",
     "text": [
      "Finding cuts of Video ../../data/BOFHvI5Rob8.mp4: 1668/2002\r"
     ]
    },
    {
     "name": "stderr",
     "output_type": "stream",
     "text": [
      "100%|██████████| 3656/3656 [00:04<00:00, 750.14frames/s]\n",
      "  0%|          | 14/2827 [00:00<00:20, 136.34frames/s]"
     ]
    },
    {
     "name": "stdout",
     "output_type": "stream",
     "text": [
      "Finding cuts of Video ../../data/64-iSYVmMVY.webm: 1669/2002\r"
     ]
    },
    {
     "name": "stderr",
     "output_type": "stream",
     "text": [
      " 94%|█████████▍| 2658/2827 [00:16<00:01, 165.81frames/s]\n",
      "  1%|          | 16/3079 [00:00<00:19, 156.65frames/s]"
     ]
    },
    {
     "name": "stdout",
     "output_type": "stream",
     "text": [
      "Finding cuts of Video ../../data/j9Hjrs6WQ8M.mp4: 1670/2002\r"
     ]
    },
    {
     "name": "stderr",
     "output_type": "stream",
     "text": [
      "100%|██████████| 3079/3079 [00:18<00:00, 168.41frames/s]\n",
      "  1%|          | 18/3120 [00:00<00:18, 167.54frames/s]"
     ]
    },
    {
     "name": "stdout",
     "output_type": "stream",
     "text": [
      "Finding cuts of Video ../../data/MGHwlExcaqU.mp4: 1671/2002\r"
     ]
    },
    {
     "name": "stderr",
     "output_type": "stream",
     "text": [
      "100%|██████████| 3120/3120 [00:14<00:00, 210.40frames/s]\n",
      "  0%|          | 9/3049 [00:00<00:33, 89.95frames/s]"
     ]
    },
    {
     "name": "stdout",
     "output_type": "stream",
     "text": [
      "Finding cuts of Video ../../data/vcN8dtyRUOQ.mp4: 1672/2002\r"
     ]
    },
    {
     "name": "stderr",
     "output_type": "stream",
     "text": [
      "3050frames [00:14, 214.88frames/s]                      \n",
      "  1%|          | 20/3625 [00:00<00:18, 192.60frames/s]"
     ]
    },
    {
     "name": "stdout",
     "output_type": "stream",
     "text": [
      "Finding cuts of Video ../../data/SDnYMbYB-nU.mp4: 1673/2002\r"
     ]
    },
    {
     "name": "stderr",
     "output_type": "stream",
     "text": [
      "100%|██████████| 3625/3625 [00:17<00:00, 209.38frames/s]\n",
      "  0%|          | 0/2685 [00:00<?, ?frames/s]"
     ]
    },
    {
     "name": "stdout",
     "output_type": "stream",
     "text": [
      "Finding cuts of Video ../../data/PHkW3TOl0-0.mp4: 1674/2002\r"
     ]
    },
    {
     "name": "stderr",
     "output_type": "stream",
     "text": [
      "100%|██████████| 2685/2685 [00:17<00:00, 157.14frames/s]\n",
      "  0%|          | 12/3165 [00:00<00:27, 114.32frames/s]"
     ]
    },
    {
     "name": "stdout",
     "output_type": "stream",
     "text": [
      "Finding cuts of Video ../../data/27zlBpzdOZg.webm: 1675/2002\r"
     ]
    },
    {
     "name": "stderr",
     "output_type": "stream",
     "text": [
      " 95%|█████████▍| 2998/3165 [00:17<00:00, 170.46frames/s]\n",
      "  0%|          | 11/3667 [00:00<00:33, 109.45frames/s]"
     ]
    },
    {
     "name": "stdout",
     "output_type": "stream",
     "text": [
      "Finding cuts of Video ../../data/loTIzXAS7v4.mp4: 1676/2002\r"
     ]
    },
    {
     "name": "stderr",
     "output_type": "stream",
     "text": [
      "100%|██████████| 3667/3667 [00:22<00:00, 163.84frames/s]\n",
      "  0%|          | 0/2840 [00:00<?, ?frames/s]"
     ]
    },
    {
     "name": "stdout",
     "output_type": "stream",
     "text": [
      "Finding cuts of Video ../../data/LpKDhoD8PMg.mp4: 1677/2002\r"
     ]
    },
    {
     "name": "stderr",
     "output_type": "stream",
     "text": [
      "100%|██████████| 2840/2840 [00:05<00:00, 531.85frames/s]\n",
      "  3%|▎         | 33/1303 [00:00<00:03, 328.15frames/s]"
     ]
    },
    {
     "name": "stdout",
     "output_type": "stream",
     "text": [
      "Finding cuts of Video ../../data/si3E43eaRac.mp4: 1678/2002\r"
     ]
    },
    {
     "name": "stderr",
     "output_type": "stream",
     "text": [
      "100%|██████████| 1303/1303 [00:02<00:00, 497.50frames/s]\n",
      "  2%|▏         | 66/3511 [00:00<00:05, 658.08frames/s]"
     ]
    },
    {
     "name": "stdout",
     "output_type": "stream",
     "text": [
      "Finding cuts of Video ../../data/B-suuEQyoVc.mp4: 1679/2002\r"
     ]
    },
    {
     "name": "stderr",
     "output_type": "stream",
     "text": [
      "100%|██████████| 3511/3511 [00:05<00:00, 688.92frames/s]\n",
      "  0%|          | 15/3882 [00:00<00:26, 146.03frames/s]"
     ]
    },
    {
     "name": "stdout",
     "output_type": "stream",
     "text": [
      "Finding cuts of Video ../../data/2-_-1nJf8Vg.mp4: 1680/2002\r"
     ]
    },
    {
     "name": "stderr",
     "output_type": "stream",
     "text": [
      "100%|██████████| 3882/3882 [00:21<00:00, 180.60frames/s]\n",
      "  1%|▏         | 35/2415 [00:00<00:06, 346.04frames/s]"
     ]
    },
    {
     "name": "stdout",
     "output_type": "stream",
     "text": [
      "Finding cuts of Video ../../data/mbSzbfN9QQA.mp4: 1681/2002\r"
     ]
    },
    {
     "name": "stderr",
     "output_type": "stream",
     "text": [
      "100%|██████████| 2415/2415 [00:05<00:00, 434.11frames/s]\n",
      "  0%|          | 0/3273 [00:00<?, ?frames/s]"
     ]
    },
    {
     "name": "stdout",
     "output_type": "stream",
     "text": [
      "Finding cuts of Video ../../data/0Int9oeZN5o.mp4: 1682/2002\r"
     ]
    },
    {
     "name": "stderr",
     "output_type": "stream",
     "text": [
      "100%|██████████| 3273/3273 [00:06<00:00, 502.46frames/s]\n",
      "  1%|          | 23/3603 [00:00<00:16, 223.31frames/s]"
     ]
    },
    {
     "name": "stdout",
     "output_type": "stream",
     "text": [
      "Finding cuts of Video ../../data/hMbexEPAOQI.mp4: 1683/2002\r"
     ]
    },
    {
     "name": "stderr",
     "output_type": "stream",
     "text": [
      "100%|██████████| 3603/3603 [00:11<00:00, 308.26frames/s]\n",
      "  0%|          | 16/3613 [00:00<00:22, 158.28frames/s]"
     ]
    },
    {
     "name": "stdout",
     "output_type": "stream",
     "text": [
      "Finding cuts of Video ../../data/YmvHzCLP6ug.mp4: 1684/2002\r"
     ]
    },
    {
     "name": "stderr",
     "output_type": "stream",
     "text": [
      "100%|██████████| 3613/3613 [00:21<00:00, 165.24frames/s]\n",
      "  0%|          | 11/4936 [00:00<00:45, 109.05frames/s]"
     ]
    },
    {
     "name": "stdout",
     "output_type": "stream",
     "text": [
      "Finding cuts of Video ../../data/2RZbwGItfd0.mp4: 1685/2002\r"
     ]
    },
    {
     "name": "stderr",
     "output_type": "stream",
     "text": [
      "100%|██████████| 4936/4936 [00:29<00:00, 166.49frames/s]\n",
      "  0%|          | 16/3516 [00:00<00:22, 157.86frames/s]"
     ]
    },
    {
     "name": "stdout",
     "output_type": "stream",
     "text": [
      "Finding cuts of Video ../../data/43NWzay3W4s.mp4: 1686/2002\r"
     ]
    },
    {
     "name": "stderr",
     "output_type": "stream",
     "text": [
      "100%|██████████| 3516/3516 [00:16<00:00, 213.55frames/s]\n",
      "  0%|          | 11/4008 [00:00<00:38, 105.01frames/s]"
     ]
    },
    {
     "name": "stdout",
     "output_type": "stream",
     "text": [
      "Finding cuts of Video ../../data/YT9VyEbUkCo.mp4: 1687/2002\r"
     ]
    },
    {
     "name": "stderr",
     "output_type": "stream",
     "text": [
      "4009frames [00:24, 162.86frames/s]                      \n",
      "  0%|          | 15/3648 [00:00<00:24, 146.96frames/s]"
     ]
    },
    {
     "name": "stdout",
     "output_type": "stream",
     "text": [
      "Finding cuts of Video ../../data/O9Y7DTCn7Cc.mp4: 1688/2002\r"
     ]
    },
    {
     "name": "stderr",
     "output_type": "stream",
     "text": [
      "100%|██████████| 3648/3648 [00:21<00:00, 167.68frames/s]\n",
      "  1%|          | 27/4195 [00:00<00:15, 263.80frames/s]"
     ]
    },
    {
     "name": "stdout",
     "output_type": "stream",
     "text": [
      "Finding cuts of Video ../../data/lP4Psj7d1ZI.mp4: 1689/2002\r"
     ]
    },
    {
     "name": "stderr",
     "output_type": "stream",
     "text": [
      "100%|██████████| 4195/4195 [00:08<00:00, 474.93frames/s]\n",
      "  0%|          | 20/4404 [00:00<00:23, 187.12frames/s]"
     ]
    },
    {
     "name": "stdout",
     "output_type": "stream",
     "text": [
      "Finding cuts of Video ../../data/FebPJlmgldE.mp4: 1690/2002\r"
     ]
    },
    {
     "name": "stderr",
     "output_type": "stream",
     "text": [
      "100%|██████████| 4404/4404 [00:13<00:00, 315.89frames/s]\n",
      "  0%|          | 0/2863 [00:00<?, ?frames/s]"
     ]
    },
    {
     "name": "stdout",
     "output_type": "stream",
     "text": [
      "Finding cuts of Video ../../data/BXUEUwwgIyU.mp4: 1691/2002\r"
     ]
    },
    {
     "name": "stderr",
     "output_type": "stream",
     "text": [
      "100%|██████████| 2863/2863 [00:18<00:00, 156.71frames/s]\n",
      "  0%|          | 14/4171 [00:00<00:30, 134.73frames/s]"
     ]
    },
    {
     "name": "stdout",
     "output_type": "stream",
     "text": [
      "Finding cuts of Video ../../data/_rRoD28-WgU.mp4: 1692/2002\r"
     ]
    },
    {
     "name": "stderr",
     "output_type": "stream",
     "text": [
      "100%|██████████| 4171/4171 [00:25<00:00, 166.49frames/s]\n",
      "  0%|          | 15/5978 [00:00<00:40, 146.48frames/s]"
     ]
    },
    {
     "name": "stdout",
     "output_type": "stream",
     "text": [
      "Finding cuts of Video ../../data/g2eR6j8eocE.webm: 1693/2002\r"
     ]
    },
    {
     "name": "stderr",
     "output_type": "stream",
     "text": [
      " 95%|█████████▍| 5650/5978 [00:34<00:02, 161.69frames/s]\n",
      "  2%|▏         | 54/3570 [00:00<00:06, 535.98frames/s]"
     ]
    },
    {
     "name": "stdout",
     "output_type": "stream",
     "text": [
      "Finding cuts of Video ../../data/GHEH8l-3gvQ.mp4: 1694/2002\r"
     ]
    },
    {
     "name": "stderr",
     "output_type": "stream",
     "text": [
      "100%|██████████| 3570/3570 [00:08<00:00, 434.95frames/s]\n",
      "  0%|          | 15/4104 [00:00<00:27, 146.37frames/s]"
     ]
    },
    {
     "name": "stdout",
     "output_type": "stream",
     "text": [
      "Finding cuts of Video ../../data/5lGoQhFb4NM.mp4: 1695/2002\r"
     ]
    },
    {
     "name": "stderr",
     "output_type": "stream",
     "text": [
      "100%|██████████| 4104/4104 [00:28<00:00, 146.35frames/s]\n",
      "  0%|          | 15/3434 [00:00<00:23, 142.62frames/s]"
     ]
    },
    {
     "name": "stdout",
     "output_type": "stream",
     "text": [
      "Finding cuts of Video ../../data/EH3zcuRQXNo.mp4: 1696/2002\r"
     ]
    },
    {
     "name": "stderr",
     "output_type": "stream",
     "text": [
      "100%|██████████| 3434/3434 [00:21<00:00, 157.34frames/s]\n",
      "  5%|▌         | 53/985 [00:00<00:01, 521.36frames/s]"
     ]
    },
    {
     "name": "stdout",
     "output_type": "stream",
     "text": [
      "Finding cuts of Video ../../data/zsrdBGr8NIk.mp4: 1697/2002\r"
     ]
    },
    {
     "name": "stderr",
     "output_type": "stream",
     "text": [
      "100%|██████████| 985/985 [00:01<00:00, 582.96frames/s]\n",
      "  2%|▏         | 68/2864 [00:00<00:04, 676.37frames/s]"
     ]
    },
    {
     "name": "stdout",
     "output_type": "stream",
     "text": [
      "Finding cuts of Video ../../data/Y07I_KER5fE.mp4: 1698/2002\r"
     ]
    },
    {
     "name": "stderr",
     "output_type": "stream",
     "text": [
      "100%|██████████| 2864/2864 [00:04<00:00, 660.56frames/s]\n",
      "  0%|          | 16/3673 [00:00<00:23, 155.56frames/s]"
     ]
    },
    {
     "name": "stdout",
     "output_type": "stream",
     "text": [
      "Finding cuts of Video ../../data/A85EtOalcsM.mp4: 1699/2002\r"
     ]
    },
    {
     "name": "stderr",
     "output_type": "stream",
     "text": [
      "100%|██████████| 3673/3673 [00:21<00:00, 170.57frames/s]\n",
      "  2%|▏         | 86/3564 [00:00<00:04, 858.86frames/s]"
     ]
    },
    {
     "name": "stdout",
     "output_type": "stream",
     "text": [
      "Finding cuts of Video ../../data/-qJjiq72WOo.mp4: 1700/2002\r"
     ]
    },
    {
     "name": "stderr",
     "output_type": "stream",
     "text": [
      "100%|██████████| 3564/3564 [00:04<00:00, 747.30frames/s]\n",
      "  2%|▏         | 40/2656 [00:00<00:06, 386.21frames/s]"
     ]
    },
    {
     "name": "stdout",
     "output_type": "stream",
     "text": [
      "Finding cuts of Video ../../data/vtfwgaHD5_w.mp4: 1701/2002\r"
     ]
    },
    {
     "name": "stderr",
     "output_type": "stream",
     "text": [
      "100%|██████████| 2656/2656 [00:06<00:00, 407.08frames/s]\n",
      "  1%|          | 21/3288 [00:00<00:17, 191.02frames/s]"
     ]
    },
    {
     "name": "stdout",
     "output_type": "stream",
     "text": [
      "Finding cuts of Video ../../data/SRKjf8b4f2E.mp4: 1702/2002\r"
     ]
    },
    {
     "name": "stderr",
     "output_type": "stream",
     "text": [
      "100%|██████████| 3288/3288 [00:11<00:00, 281.53frames/s]\n",
      "  0%|          | 17/3517 [00:00<00:20, 168.40frames/s]"
     ]
    },
    {
     "name": "stdout",
     "output_type": "stream",
     "text": [
      "Finding cuts of Video ../../data/0f1_fbdB6RQ.mp4: 1703/2002\r"
     ]
    },
    {
     "name": "stderr",
     "output_type": "stream",
     "text": [
      "100%|██████████| 3517/3517 [00:20<00:00, 168.46frames/s]\n",
      "  0%|          | 14/3726 [00:00<00:27, 137.26frames/s]"
     ]
    },
    {
     "name": "stdout",
     "output_type": "stream",
     "text": [
      "Finding cuts of Video ../../data/cuA-xqBw4jE.mp4: 1704/2002\r"
     ]
    },
    {
     "name": "stderr",
     "output_type": "stream",
     "text": [
      "100%|██████████| 3726/3726 [00:21<00:00, 170.45frames/s]\n",
      "  0%|          | 12/3609 [00:00<00:30, 117.26frames/s]"
     ]
    },
    {
     "name": "stdout",
     "output_type": "stream",
     "text": [
      "Finding cuts of Video ../../data/XFYWazblaUA.mp4: 1705/2002\r"
     ]
    },
    {
     "name": "stderr",
     "output_type": "stream",
     "text": [
      "100%|██████████| 3609/3609 [00:21<00:00, 170.64frames/s]\n",
      "  1%|          | 23/3042 [00:00<00:14, 211.03frames/s]"
     ]
    },
    {
     "name": "stdout",
     "output_type": "stream",
     "text": [
      "Finding cuts of Video ../../data/bxLAH3M3ywM.mp4: 1706/2002\r"
     ]
    },
    {
     "name": "stderr",
     "output_type": "stream",
     "text": [
      "3043frames [00:09, 316.89frames/s]                      \n",
      "  1%|          | 32/3672 [00:00<00:11, 318.91frames/s]"
     ]
    },
    {
     "name": "stdout",
     "output_type": "stream",
     "text": [
      "Finding cuts of Video ../../data/6kw1UVovByw.mp4: 1707/2002\r"
     ]
    },
    {
     "name": "stderr",
     "output_type": "stream",
     "text": [
      "100%|██████████| 3672/3672 [00:11<00:00, 326.38frames/s]\n",
      "  2%|▏         | 48/3025 [00:00<00:06, 477.93frames/s]"
     ]
    },
    {
     "name": "stdout",
     "output_type": "stream",
     "text": [
      "Finding cuts of Video ../../data/twuScTcDP_Q.mp4: 1708/2002\r"
     ]
    },
    {
     "name": "stderr",
     "output_type": "stream",
     "text": [
      "100%|██████████| 3025/3025 [00:07<00:00, 415.48frames/s]\n",
      "  1%|          | 15/1873 [00:00<00:12, 144.34frames/s]"
     ]
    },
    {
     "name": "stdout",
     "output_type": "stream",
     "text": [
      "Finding cuts of Video ../../data/qc4-3QmiFak.mp4: 1709/2002\r"
     ]
    },
    {
     "name": "stderr",
     "output_type": "stream",
     "text": [
      "100%|██████████| 1873/1873 [00:11<00:00, 166.61frames/s]\n",
      "  2%|▏         | 55/3625 [00:00<00:06, 545.59frames/s]"
     ]
    },
    {
     "name": "stdout",
     "output_type": "stream",
     "text": [
      "Finding cuts of Video ../../data/8TQ-gD4UCmI.mp4: 1710/2002\r"
     ]
    },
    {
     "name": "stderr",
     "output_type": "stream",
     "text": [
      "100%|██████████| 3625/3625 [00:06<00:00, 578.34frames/s]\n",
      "  0%|          | 15/3324 [00:00<00:22, 146.84frames/s]"
     ]
    },
    {
     "name": "stdout",
     "output_type": "stream",
     "text": [
      "Finding cuts of Video ../../data/JAUoeqvedMo.mp4: 1711/2002\r"
     ]
    },
    {
     "name": "stderr",
     "output_type": "stream",
     "text": [
      "100%|██████████| 3324/3324 [00:20<00:00, 164.93frames/s]\n",
      "  0%|          | 0/3525 [00:00<?, ?frames/s]"
     ]
    },
    {
     "name": "stdout",
     "output_type": "stream",
     "text": [
      "Finding cuts of Video ../../data/h3IxCdkukzs.mp4: 1712/2002\r"
     ]
    },
    {
     "name": "stderr",
     "output_type": "stream",
     "text": [
      "100%|██████████| 3525/3525 [00:22<00:00, 158.59frames/s]\n",
      "  1%|          | 18/3195 [00:00<00:17, 177.71frames/s]"
     ]
    },
    {
     "name": "stdout",
     "output_type": "stream",
     "text": [
      "Finding cuts of Video ../../data/_13J_9B5jEk.webm: 1713/2002\r"
     ]
    },
    {
     "name": "stderr",
     "output_type": "stream",
     "text": [
      " 93%|█████████▎| 2973/3195 [00:17<00:01, 168.69frames/s]\n",
      "  0%|          | 14/3602 [00:00<00:26, 134.90frames/s]"
     ]
    },
    {
     "name": "stdout",
     "output_type": "stream",
     "text": [
      "Finding cuts of Video ../../data/34cEo0VhfGE.mp4: 1714/2002\r"
     ]
    },
    {
     "name": "stderr",
     "output_type": "stream",
     "text": [
      "100%|██████████| 3602/3602 [00:21<00:00, 166.32frames/s]\n",
      "  0%|          | 0/2777 [00:00<?, ?frames/s]"
     ]
    },
    {
     "name": "stdout",
     "output_type": "stream",
     "text": [
      "Finding cuts of Video ../../data/Pk0l07gqkvY.mp4: 1715/2002\r"
     ]
    },
    {
     "name": "stderr",
     "output_type": "stream",
     "text": [
      "100%|██████████| 2777/2777 [00:16<00:00, 167.42frames/s]\n",
      "  2%|▏         | 65/2775 [00:00<00:04, 639.32frames/s]"
     ]
    },
    {
     "name": "stdout",
     "output_type": "stream",
     "text": [
      "Finding cuts of Video ../../data/IA2wo6ap1Wk.mp4: 1716/2002\r"
     ]
    },
    {
     "name": "stderr",
     "output_type": "stream",
     "text": [
      "100%|██████████| 2775/2775 [00:04<00:00, 681.44frames/s]\n",
      "  2%|▏         | 51/3198 [00:00<00:06, 504.38frames/s]"
     ]
    },
    {
     "name": "stdout",
     "output_type": "stream",
     "text": [
      "Finding cuts of Video ../../data/6iFcGNOWnA8.mp4: 1717/2002\r"
     ]
    },
    {
     "name": "stderr",
     "output_type": "stream",
     "text": [
      "100%|██████████| 3198/3198 [00:05<00:00, 559.74frames/s]\n",
      "  1%|          | 16/3174 [00:00<00:20, 151.03frames/s]"
     ]
    },
    {
     "name": "stdout",
     "output_type": "stream",
     "text": [
      "Finding cuts of Video ../../data/XpICoc65uh0.mp4: 1718/2002\r"
     ]
    },
    {
     "name": "stderr",
     "output_type": "stream",
     "text": [
      "100%|██████████| 3174/3174 [00:19<00:00, 160.39frames/s]\n",
      "  1%|          | 29/4139 [00:00<00:14, 287.07frames/s]"
     ]
    },
    {
     "name": "stdout",
     "output_type": "stream",
     "text": [
      "Finding cuts of Video ../../data/b5_tLazM1_Q.mp4: 1719/2002\r"
     ]
    },
    {
     "name": "stderr",
     "output_type": "stream",
     "text": [
      "100%|██████████| 4139/4139 [00:08<00:00, 488.14frames/s]\n",
      "  0%|          | 14/3677 [00:00<00:26, 136.03frames/s]"
     ]
    },
    {
     "name": "stdout",
     "output_type": "stream",
     "text": [
      "Finding cuts of Video ../../data/XiHiW4N7-bo.mp4: 1720/2002\r"
     ]
    },
    {
     "name": "stderr",
     "output_type": "stream",
     "text": [
      "100%|██████████| 3677/3677 [00:25<00:00, 142.49frames/s]\n",
      "  0%|          | 15/3296 [00:00<00:22, 145.62frames/s]"
     ]
    },
    {
     "name": "stdout",
     "output_type": "stream",
     "text": [
      "Finding cuts of Video ../../data/VewQ4Yv6304.mp4: 1721/2002\r"
     ]
    },
    {
     "name": "stderr",
     "output_type": "stream",
     "text": [
      "100%|██████████| 3296/3296 [00:21<00:00, 153.79frames/s]\n",
      "  1%|          | 16/3094 [00:00<00:19, 154.64frames/s]"
     ]
    },
    {
     "name": "stdout",
     "output_type": "stream",
     "text": [
      "Finding cuts of Video ../../data/Z9AYPxH5NTM.mp4: 1722/2002\r"
     ]
    },
    {
     "name": "stderr",
     "output_type": "stream",
     "text": [
      "100%|██████████| 3094/3094 [00:17<00:00, 175.39frames/s]\n",
      "  0%|          | 0/2974 [00:00<?, ?frames/s]"
     ]
    },
    {
     "name": "stdout",
     "output_type": "stream",
     "text": [
      "Finding cuts of Video ../../data/EsHlXpbMPOc.mp4: 1723/2002\r"
     ]
    },
    {
     "name": "stderr",
     "output_type": "stream",
     "text": [
      "100%|██████████| 2974/2974 [00:17<00:00, 169.10frames/s]\n",
      "  1%|          | 20/3579 [00:00<00:17, 199.97frames/s]"
     ]
    },
    {
     "name": "stdout",
     "output_type": "stream",
     "text": [
      "Finding cuts of Video ../../data/q3Zyy4ZXegE.mp4: 1724/2002\r"
     ]
    },
    {
     "name": "stderr",
     "output_type": "stream",
     "text": [
      "100%|██████████| 3579/3579 [00:16<00:00, 215.64frames/s]\n",
      "  1%|▏         | 21/1446 [00:00<00:06, 207.63frames/s]"
     ]
    },
    {
     "name": "stdout",
     "output_type": "stream",
     "text": [
      "Finding cuts of Video ../../data/SPRzm8ibDQ8.mp4: 1725/2002\r"
     ]
    },
    {
     "name": "stderr",
     "output_type": "stream",
     "text": [
      "100%|██████████| 1446/1446 [00:04<00:00, 292.93frames/s]\n",
      "  0%|          | 9/2340 [00:00<00:27, 85.28frames/s]"
     ]
    },
    {
     "name": "stdout",
     "output_type": "stream",
     "text": [
      "Finding cuts of Video ../../data/wsHCoKGxjLk.mp4: 1726/2002\r"
     ]
    },
    {
     "name": "stderr",
     "output_type": "stream",
     "text": [
      "100%|██████████| 2340/2340 [00:14<00:00, 165.71frames/s]\n",
      "  0%|          | 9/4308 [00:00<00:49, 87.51frames/s]"
     ]
    },
    {
     "name": "stdout",
     "output_type": "stream",
     "text": [
      "Finding cuts of Video ../../data/9vN6DHB6bJc.mp4: 1727/2002\r"
     ]
    },
    {
     "name": "stderr",
     "output_type": "stream",
     "text": [
      "100%|██████████| 4308/4308 [00:25<00:00, 165.81frames/s]\n",
      "  0%|          | 15/4600 [00:00<00:32, 141.81frames/s]"
     ]
    },
    {
     "name": "stdout",
     "output_type": "stream",
     "text": [
      "Finding cuts of Video ../../data/0iNmVVlmmv8.mp4: 1728/2002\r"
     ]
    },
    {
     "name": "stderr",
     "output_type": "stream",
     "text": [
      "100%|██████████| 4600/4600 [00:26<00:00, 172.58frames/s]\n",
      "  0%|          | 15/3605 [00:00<00:24, 147.43frames/s]"
     ]
    },
    {
     "name": "stdout",
     "output_type": "stream",
     "text": [
      "Finding cuts of Video ../../data/4olwbrY2kwE.mp4: 1729/2002\r"
     ]
    },
    {
     "name": "stderr",
     "output_type": "stream",
     "text": [
      "100%|██████████| 3605/3605 [00:22<00:00, 157.08frames/s]\n",
      "  1%|          | 27/2504 [00:00<00:09, 269.04frames/s]"
     ]
    },
    {
     "name": "stdout",
     "output_type": "stream",
     "text": [
      "Finding cuts of Video ../../data/Y2OLRrocn3s.mp4: 1730/2002\r"
     ]
    },
    {
     "name": "stderr",
     "output_type": "stream",
     "text": [
      "100%|██████████| 2504/2504 [00:06<00:00, 406.99frames/s]\n",
      "  5%|▍         | 109/2240 [00:00<00:01, 1085.70frames/s]"
     ]
    },
    {
     "name": "stdout",
     "output_type": "stream",
     "text": [
      "Finding cuts of Video ../../data/5g1SLGRM6qU.mp4: 1731/2002\r"
     ]
    },
    {
     "name": "stderr",
     "output_type": "stream",
     "text": [
      "100%|██████████| 2240/2240 [00:02<00:00, 1046.00frames/s]\n",
      "  1%|          | 13/1681 [00:00<00:13, 126.66frames/s]"
     ]
    },
    {
     "name": "stdout",
     "output_type": "stream",
     "text": [
      "Finding cuts of Video ../../data/MJNR58zaStE.webm: 1732/2002\r"
     ]
    },
    {
     "name": "stderr",
     "output_type": "stream",
     "text": [
      " 94%|█████████▍| 1587/1681 [00:09<00:00, 165.64frames/s]\n",
      "  1%|          | 29/3650 [00:00<00:12, 283.55frames/s]"
     ]
    },
    {
     "name": "stdout",
     "output_type": "stream",
     "text": [
      "Finding cuts of Video ../../data/sDdguwKzyWE.mp4: 1733/2002\r"
     ]
    },
    {
     "name": "stderr",
     "output_type": "stream",
     "text": [
      "100%|██████████| 3650/3650 [00:11<00:00, 320.13frames/s]\n",
      "  0%|          | 14/3504 [00:00<00:25, 136.77frames/s]"
     ]
    },
    {
     "name": "stdout",
     "output_type": "stream",
     "text": [
      "Finding cuts of Video ../../data/lcwmDAYt22k.mp4: 1734/2002\r"
     ]
    },
    {
     "name": "stderr",
     "output_type": "stream",
     "text": [
      "100%|██████████| 3504/3504 [00:21<00:00, 164.94frames/s]\n",
      "  0%|          | 11/4174 [00:00<00:38, 107.06frames/s]"
     ]
    },
    {
     "name": "stdout",
     "output_type": "stream",
     "text": [
      "Finding cuts of Video ../../data/1TxqmlIv1Iw.mp4: 1735/2002\r"
     ]
    },
    {
     "name": "stderr",
     "output_type": "stream",
     "text": [
      "100%|██████████| 4174/4174 [00:25<00:00, 163.13frames/s]\n",
      "  0%|          | 0/3387 [00:00<?, ?frames/s]"
     ]
    },
    {
     "name": "stdout",
     "output_type": "stream",
     "text": [
      "Finding cuts of Video ../../data/hn1j2AywoJw.mp4: 1736/2002\r"
     ]
    },
    {
     "name": "stderr",
     "output_type": "stream",
     "text": [
      "100%|██████████| 3387/3387 [00:08<00:00, 422.08frames/s]\n",
      "  2%|▏         | 39/2565 [00:00<00:06, 386.62frames/s]"
     ]
    },
    {
     "name": "stdout",
     "output_type": "stream",
     "text": [
      "Finding cuts of Video ../../data/1OZTV7Zu2bo.mp4: 1737/2002\r"
     ]
    },
    {
     "name": "stderr",
     "output_type": "stream",
     "text": [
      "100%|██████████| 2565/2565 [00:07<00:00, 335.64frames/s]\n",
      "  1%|          | 20/3403 [00:00<00:17, 193.15frames/s]"
     ]
    },
    {
     "name": "stdout",
     "output_type": "stream",
     "text": [
      "Finding cuts of Video ../../data/sYPXeNzpDJE.mp4: 1738/2002\r"
     ]
    },
    {
     "name": "stderr",
     "output_type": "stream",
     "text": [
      "100%|██████████| 3403/3403 [00:17<00:00, 191.33frames/s]\n",
      "  0%|          | 14/4511 [00:00<00:32, 139.35frames/s]"
     ]
    },
    {
     "name": "stdout",
     "output_type": "stream",
     "text": [
      "Finding cuts of Video ../../data/SApIKVq1iJQ.mp4: 1739/2002\r"
     ]
    },
    {
     "name": "stderr",
     "output_type": "stream",
     "text": [
      "100%|██████████| 4511/4511 [00:28<00:00, 159.84frames/s]\n",
      "  1%|          | 13/2004 [00:00<00:15, 128.46frames/s]"
     ]
    },
    {
     "name": "stdout",
     "output_type": "stream",
     "text": [
      "Finding cuts of Video ../../data/mspnr56tnLA.mp4: 1740/2002\r"
     ]
    },
    {
     "name": "stderr",
     "output_type": "stream",
     "text": [
      "100%|██████████| 2004/2004 [00:11<00:00, 169.54frames/s]\n",
      "  1%|          | 27/3097 [00:00<00:11, 262.94frames/s]"
     ]
    },
    {
     "name": "stdout",
     "output_type": "stream",
     "text": [
      "Finding cuts of Video ../../data/qvsgGtivCgs.mp4: 1741/2002\r"
     ]
    },
    {
     "name": "stderr",
     "output_type": "stream",
     "text": [
      "100%|██████████| 3097/3097 [00:09<00:00, 324.45frames/s]\n",
      "  0%|          | 8/3664 [00:00<00:47, 76.42frames/s]"
     ]
    },
    {
     "name": "stdout",
     "output_type": "stream",
     "text": [
      "Finding cuts of Video ../../data/7bZFr2IA0Bo.mp4: 1742/2002\r"
     ]
    },
    {
     "name": "stderr",
     "output_type": "stream",
     "text": [
      "100%|██████████| 3664/3664 [00:21<00:00, 168.65frames/s]\n"
     ]
    },
    {
     "name": "stdout",
     "output_type": "stream",
     "text": [
      "Finding cuts of Video ../../data/4P8OxWKgo5E.mp4: 1743/2002\r"
     ]
    },
    {
     "name": "stderr",
     "output_type": "stream",
     "text": [
      "100%|██████████| 3984/3984 [00:25<00:00, 155.97frames/s]\n",
      "  0%|          | 15/3723 [00:00<00:25, 147.89frames/s]"
     ]
    },
    {
     "name": "stdout",
     "output_type": "stream",
     "text": [
      "Finding cuts of Video ../../data/sGbxmsDFVnE.mp4: 1744/2002\r"
     ]
    },
    {
     "name": "stderr",
     "output_type": "stream",
     "text": [
      "100%|██████████| 3723/3723 [00:21<00:00, 170.84frames/s]\n",
      "  1%|          | 36/3135 [00:00<00:08, 356.85frames/s]"
     ]
    },
    {
     "name": "stdout",
     "output_type": "stream",
     "text": [
      "Finding cuts of Video ../../data/1VX7g_4IVfU.mp4: 1745/2002\r"
     ]
    },
    {
     "name": "stderr",
     "output_type": "stream",
     "text": [
      "100%|██████████| 3135/3135 [00:05<00:00, 533.91frames/s]\n",
      "  0%|          | 13/3974 [00:00<00:31, 125.15frames/s]"
     ]
    },
    {
     "name": "stdout",
     "output_type": "stream",
     "text": [
      "Finding cuts of Video ../../data/2QKg5SZ_35I.mp4: 1746/2002\r"
     ]
    },
    {
     "name": "stderr",
     "output_type": "stream",
     "text": [
      "100%|██████████| 3974/3974 [00:23<00:00, 166.49frames/s]\n",
      "  0%|          | 14/4354 [00:00<00:31, 135.65frames/s]"
     ]
    },
    {
     "name": "stdout",
     "output_type": "stream",
     "text": [
      "Finding cuts of Video ../../data/YU-42pvbBdI.mp4: 1747/2002\r"
     ]
    },
    {
     "name": "stderr",
     "output_type": "stream",
     "text": [
      "100%|██████████| 4354/4354 [00:26<00:00, 166.19frames/s]\n",
      "  1%|          | 19/3227 [00:00<00:17, 182.24frames/s]"
     ]
    },
    {
     "name": "stdout",
     "output_type": "stream",
     "text": [
      "Finding cuts of Video ../../data/lPnY2NjSjrg.mp4: 1748/2002\r"
     ]
    },
    {
     "name": "stderr",
     "output_type": "stream",
     "text": [
      "100%|██████████| 3227/3227 [00:20<00:00, 158.52frames/s]\n",
      "  0%|          | 13/3770 [00:00<00:30, 124.04frames/s]"
     ]
    },
    {
     "name": "stdout",
     "output_type": "stream",
     "text": [
      "Finding cuts of Video ../../data/qNggvk8QtaY.webm: 1749/2002\r"
     ]
    },
    {
     "name": "stderr",
     "output_type": "stream",
     "text": [
      " 94%|█████████▍| 3551/3770 [00:22<00:01, 158.35frames/s]\n",
      "  0%|          | 0/2747 [00:00<?, ?frames/s]"
     ]
    },
    {
     "name": "stdout",
     "output_type": "stream",
     "text": [
      "Finding cuts of Video ../../data/VlAlF2mL0CQ.mp4: 1750/2002\r"
     ]
    },
    {
     "name": "stderr",
     "output_type": "stream",
     "text": [
      "100%|██████████| 2747/2747 [00:16<00:00, 165.05frames/s]\n",
      "  1%|          | 24/3409 [00:00<00:14, 232.51frames/s]"
     ]
    },
    {
     "name": "stdout",
     "output_type": "stream",
     "text": [
      "Finding cuts of Video ../../data/F8_GUrqe5tc.mp4: 1751/2002\r"
     ]
    },
    {
     "name": "stderr",
     "output_type": "stream",
     "text": [
      "100%|██████████| 3409/3409 [00:16<00:00, 210.93frames/s]\n",
      "  2%|▏         | 89/3613 [00:00<00:03, 882.15frames/s]"
     ]
    },
    {
     "name": "stdout",
     "output_type": "stream",
     "text": [
      "Finding cuts of Video ../../data/vizwnpbwO0w.mp4: 1752/2002\r"
     ]
    },
    {
     "name": "stderr",
     "output_type": "stream",
     "text": [
      "100%|██████████| 3613/3613 [00:04<00:00, 856.29frames/s] \n",
      "  0%|          | 14/3528 [00:00<00:26, 134.36frames/s]"
     ]
    },
    {
     "name": "stdout",
     "output_type": "stream",
     "text": [
      "Finding cuts of Video ../../data/YsqZosCj-qw.mp4: 1753/2002\r"
     ]
    },
    {
     "name": "stderr",
     "output_type": "stream",
     "text": [
      "100%|██████████| 3528/3528 [00:17<00:00, 200.11frames/s]\n",
      "  1%|          | 15/2982 [00:00<00:20, 147.39frames/s]"
     ]
    },
    {
     "name": "stdout",
     "output_type": "stream",
     "text": [
      "Finding cuts of Video ../../data/IpKmt4MpctM.mp4: 1754/2002\r"
     ]
    },
    {
     "name": "stderr",
     "output_type": "stream",
     "text": [
      "100%|██████████| 2982/2982 [00:18<00:00, 163.79frames/s]\n",
      "  1%|          | 16/2897 [00:00<00:18, 155.85frames/s]"
     ]
    },
    {
     "name": "stdout",
     "output_type": "stream",
     "text": [
      "Finding cuts of Video ../../data/n5LoVcVsiSQ.webm: 1755/2002\r"
     ]
    },
    {
     "name": "stderr",
     "output_type": "stream",
     "text": [
      " 94%|█████████▍| 2722/2897 [00:15<00:01, 171.97frames/s]\n",
      "  0%|          | 0/3481 [00:00<?, ?frames/s]"
     ]
    },
    {
     "name": "stdout",
     "output_type": "stream",
     "text": [
      "Finding cuts of Video ../../data/-r9IXze_tPM.mp4: 1756/2002\r"
     ]
    },
    {
     "name": "stderr",
     "output_type": "stream",
     "text": [
      "100%|██████████| 3481/3481 [00:10<00:00, 327.79frames/s]\n",
      "  0%|          | 17/5426 [00:00<00:32, 168.19frames/s]"
     ]
    },
    {
     "name": "stdout",
     "output_type": "stream",
     "text": [
      "Finding cuts of Video ../../data/bLvqoHBptjg.mp4: 1757/2002\r"
     ]
    },
    {
     "name": "stderr",
     "output_type": "stream",
     "text": [
      "100%|██████████| 5426/5426 [00:26<00:00, 202.70frames/s]\n",
      "  0%|          | 9/5735 [00:00<01:10, 81.06frames/s]"
     ]
    },
    {
     "name": "stdout",
     "output_type": "stream",
     "text": [
      "Finding cuts of Video ../../data/kg_jH47u480.mp4: 1758/2002\r"
     ]
    },
    {
     "name": "stderr",
     "output_type": "stream",
     "text": [
      "100%|██████████| 5735/5735 [00:33<00:00, 169.91frames/s]\n",
      "  0%|          | 15/3217 [00:00<00:22, 143.05frames/s]"
     ]
    },
    {
     "name": "stdout",
     "output_type": "stream",
     "text": [
      "Finding cuts of Video ../../data/a6gUG2VKbig.mp4: 1759/2002\r"
     ]
    },
    {
     "name": "stderr",
     "output_type": "stream",
     "text": [
      "3218frames [00:19, 167.51frames/s]                      \n",
      "  1%|          | 20/3047 [00:00<00:15, 196.39frames/s]"
     ]
    },
    {
     "name": "stdout",
     "output_type": "stream",
     "text": [
      "Finding cuts of Video ../../data/23jmjs-rMGI.mp4: 1760/2002\r"
     ]
    },
    {
     "name": "stderr",
     "output_type": "stream",
     "text": [
      "100%|██████████| 3047/3047 [00:17<00:00, 175.31frames/s]\n",
      "  0%|          | 13/3012 [00:00<00:23, 127.25frames/s]"
     ]
    },
    {
     "name": "stdout",
     "output_type": "stream",
     "text": [
      "Finding cuts of Video ../../data/jdl6eAIx2K4.mp4: 1761/2002\r"
     ]
    },
    {
     "name": "stderr",
     "output_type": "stream",
     "text": [
      "3013frames [00:19, 158.22frames/s]                      \n",
      "  0%|          | 11/3313 [00:00<00:31, 103.88frames/s]"
     ]
    },
    {
     "name": "stdout",
     "output_type": "stream",
     "text": [
      "Finding cuts of Video ../../data/TAqNRH6arUI.mp4: 1762/2002\r"
     ]
    },
    {
     "name": "stderr",
     "output_type": "stream",
     "text": [
      "100%|██████████| 3313/3313 [00:20<00:00, 160.37frames/s]\n",
      "  0%|          | 15/3026 [00:00<00:20, 145.68frames/s]"
     ]
    },
    {
     "name": "stdout",
     "output_type": "stream",
     "text": [
      "Finding cuts of Video ../../data/fccho1IyX8Y.mp4: 1763/2002\r"
     ]
    },
    {
     "name": "stderr",
     "output_type": "stream",
     "text": [
      "100%|██████████| 3026/3026 [00:18<00:00, 159.95frames/s]\n",
      "  0%|          | 11/3686 [00:00<00:33, 108.55frames/s]"
     ]
    },
    {
     "name": "stdout",
     "output_type": "stream",
     "text": [
      "Finding cuts of Video ../../data/tV_IhWE4LP0.mp4: 1764/2002\r"
     ]
    },
    {
     "name": "stderr",
     "output_type": "stream",
     "text": [
      "100%|██████████| 3686/3686 [00:21<00:00, 170.37frames/s]\n",
      "  0%|          | 16/3685 [00:00<00:24, 152.42frames/s]"
     ]
    },
    {
     "name": "stdout",
     "output_type": "stream",
     "text": [
      "Finding cuts of Video ../../data/rAqMlh0b2HU.mp4: 1765/2002\r"
     ]
    },
    {
     "name": "stderr",
     "output_type": "stream",
     "text": [
      "100%|██████████| 3685/3685 [00:23<00:00, 153.92frames/s]\n",
      "  0%|          | 14/4430 [00:00<00:32, 136.47frames/s]"
     ]
    },
    {
     "name": "stdout",
     "output_type": "stream",
     "text": [
      "Finding cuts of Video ../../data/m41gObaKgOw.mp4: 1766/2002\r"
     ]
    },
    {
     "name": "stderr",
     "output_type": "stream",
     "text": [
      "100%|██████████| 4430/4430 [00:27<00:00, 161.53frames/s]\n",
      "  0%|          | 11/2882 [00:00<00:26, 107.66frames/s]"
     ]
    },
    {
     "name": "stdout",
     "output_type": "stream",
     "text": [
      "Finding cuts of Video ../../data/2SmmxvHLsKk.mp4: 1767/2002\r"
     ]
    },
    {
     "name": "stderr",
     "output_type": "stream",
     "text": [
      "100%|██████████| 2882/2882 [00:17<00:00, 161.65frames/s]\n",
      "  1%|          | 40/3601 [00:00<00:08, 399.95frames/s]"
     ]
    },
    {
     "name": "stdout",
     "output_type": "stream",
     "text": [
      "Finding cuts of Video ../../data/iFFas72-dTY.mp4: 1768/2002\r"
     ]
    },
    {
     "name": "stderr",
     "output_type": "stream",
     "text": [
      "100%|██████████| 3601/3601 [00:11<00:00, 324.96frames/s]\n",
      "  0%|          | 15/3445 [00:00<00:23, 145.90frames/s]"
     ]
    },
    {
     "name": "stdout",
     "output_type": "stream",
     "text": [
      "Finding cuts of Video ../../data/DzPHzAR9GYw.mp4: 1769/2002\r"
     ]
    },
    {
     "name": "stderr",
     "output_type": "stream",
     "text": [
      "3446frames [00:17, 200.50frames/s]                      \n",
      "  1%|          | 14/2565 [00:00<00:18, 138.74frames/s]"
     ]
    },
    {
     "name": "stdout",
     "output_type": "stream",
     "text": [
      "Finding cuts of Video ../../data/omcxaMEGha0.mp4: 1770/2002\r"
     ]
    },
    {
     "name": "stderr",
     "output_type": "stream",
     "text": [
      "100%|██████████| 2565/2565 [00:17<00:00, 145.43frames/s]\n",
      "  1%|▏         | 41/3211 [00:00<00:07, 398.83frames/s]"
     ]
    },
    {
     "name": "stdout",
     "output_type": "stream",
     "text": [
      "Finding cuts of Video ../../data/mlNwXuHUA8I.mp4: 1771/2002\r"
     ]
    },
    {
     "name": "stderr",
     "output_type": "stream",
     "text": [
      "100%|██████████| 3211/3211 [00:05<00:00, 590.19frames/s]\n",
      "  1%|          | 15/2857 [00:00<00:20, 140.26frames/s]"
     ]
    },
    {
     "name": "stdout",
     "output_type": "stream",
     "text": [
      "Finding cuts of Video ../../data/8swF2-R6X9A.mp4: 1772/2002\r"
     ]
    },
    {
     "name": "stderr",
     "output_type": "stream",
     "text": [
      "100%|██████████| 2857/2857 [00:10<00:00, 266.22frames/s]\n",
      "  1%|          | 18/2497 [00:00<00:14, 174.25frames/s]"
     ]
    },
    {
     "name": "stdout",
     "output_type": "stream",
     "text": [
      "Finding cuts of Video ../../data/LmP3YFk_YHA.mp4: 1773/2002\r"
     ]
    },
    {
     "name": "stderr",
     "output_type": "stream",
     "text": [
      "100%|██████████| 2497/2497 [00:12<00:00, 204.56frames/s]\n",
      "  0%|          | 14/2990 [00:00<00:22, 134.87frames/s]"
     ]
    },
    {
     "name": "stdout",
     "output_type": "stream",
     "text": [
      "Finding cuts of Video ../../data/FKFDkpHCQz4.mp4: 1774/2002\r"
     ]
    },
    {
     "name": "stderr",
     "output_type": "stream",
     "text": [
      "100%|██████████| 2990/2990 [00:20<00:00, 146.86frames/s]\n",
      "  0%|          | 14/3871 [00:00<00:28, 136.89frames/s]"
     ]
    },
    {
     "name": "stdout",
     "output_type": "stream",
     "text": [
      "Finding cuts of Video ../../data/JQoqsKoJVDw.mp4: 1775/2002\r"
     ]
    },
    {
     "name": "stderr",
     "output_type": "stream",
     "text": [
      "100%|██████████| 3871/3871 [00:18<00:00, 211.79frames/s]\n",
      "  1%|          | 20/2905 [00:00<00:14, 193.47frames/s]"
     ]
    },
    {
     "name": "stdout",
     "output_type": "stream",
     "text": [
      "Finding cuts of Video ../../data/XHk5kCIiGoM.mp4: 1776/2002\r"
     ]
    },
    {
     "name": "stderr",
     "output_type": "stream",
     "text": [
      "100%|██████████| 2905/2905 [00:08<00:00, 340.32frames/s]\n",
      "  2%|▏         | 63/3648 [00:00<00:05, 627.46frames/s]"
     ]
    },
    {
     "name": "stdout",
     "output_type": "stream",
     "text": [
      "Finding cuts of Video ../../data/ORFWdXl_zJ4.mp4: 1777/2002\r"
     ]
    },
    {
     "name": "stderr",
     "output_type": "stream",
     "text": [
      "100%|██████████| 3648/3648 [00:06<00:00, 571.18frames/s]\n",
      "  0%|          | 8/4383 [00:00<00:57, 76.35frames/s]"
     ]
    },
    {
     "name": "stdout",
     "output_type": "stream",
     "text": [
      "Finding cuts of Video ../../data/jeKBMdYaM3U.mp4: 1778/2002\r"
     ]
    },
    {
     "name": "stderr",
     "output_type": "stream",
     "text": [
      "100%|██████████| 4383/4383 [00:28<00:00, 155.06frames/s]\n",
      "  0%|          | 0/3817 [00:00<?, ?frames/s]"
     ]
    },
    {
     "name": "stdout",
     "output_type": "stream",
     "text": [
      "Finding cuts of Video ../../data/sd6lb0fPl7g.mp4: 1779/2002\r"
     ]
    },
    {
     "name": "stderr",
     "output_type": "stream",
     "text": [
      "100%|██████████| 3817/3817 [00:18<00:00, 203.96frames/s]\n",
      "  0%|          | 13/3398 [00:00<00:26, 126.81frames/s]"
     ]
    },
    {
     "name": "stdout",
     "output_type": "stream",
     "text": [
      "Finding cuts of Video ../../data/5kIe6UZHSXw.mp4: 1780/2002\r"
     ]
    },
    {
     "name": "stderr",
     "output_type": "stream",
     "text": [
      "100%|██████████| 3398/3398 [00:19<00:00, 172.03frames/s]\n",
      "  0%|          | 18/3648 [00:00<00:20, 177.47frames/s]"
     ]
    },
    {
     "name": "stdout",
     "output_type": "stream",
     "text": [
      "Finding cuts of Video ../../data/vIu85WQTPRc.mp4: 1781/2002\r"
     ]
    },
    {
     "name": "stderr",
     "output_type": "stream",
     "text": [
      "100%|██████████| 3648/3648 [00:21<00:00, 168.53frames/s]\n",
      "  1%|          | 19/3606 [00:00<00:19, 184.50frames/s]"
     ]
    },
    {
     "name": "stdout",
     "output_type": "stream",
     "text": [
      "Finding cuts of Video ../../data/l0dWCXCjX9o.mp4: 1782/2002\r"
     ]
    },
    {
     "name": "stderr",
     "output_type": "stream",
     "text": [
      "100%|██████████| 3606/3606 [00:20<00:00, 173.41frames/s]\n",
      "  0%|          | 10/3747 [00:00<00:37, 99.87frames/s]"
     ]
    },
    {
     "name": "stdout",
     "output_type": "stream",
     "text": [
      "Finding cuts of Video ../../data/8IdMPpKMdcc.mp4: 1783/2002\r"
     ]
    },
    {
     "name": "stderr",
     "output_type": "stream",
     "text": [
      "100%|██████████| 3747/3747 [00:18<00:00, 203.68frames/s]\n",
      "  0%|          | 13/3563 [00:00<00:27, 127.95frames/s]"
     ]
    },
    {
     "name": "stdout",
     "output_type": "stream",
     "text": [
      "Finding cuts of Video ../../data/yafLm-ByQWo.mp4: 1784/2002\r"
     ]
    },
    {
     "name": "stderr",
     "output_type": "stream",
     "text": [
      "100%|██████████| 3563/3563 [00:21<00:00, 164.97frames/s]\n",
      "  1%|          | 26/3609 [00:00<00:13, 258.65frames/s]"
     ]
    },
    {
     "name": "stdout",
     "output_type": "stream",
     "text": [
      "Finding cuts of Video ../../data/sutgWjz10sM.mp4: 1785/2002\r"
     ]
    },
    {
     "name": "stderr",
     "output_type": "stream",
     "text": [
      "100%|██████████| 3609/3609 [00:16<00:00, 222.62frames/s]\n",
      "  0%|          | 14/3611 [00:00<00:27, 129.59frames/s]"
     ]
    },
    {
     "name": "stdout",
     "output_type": "stream",
     "text": [
      "Finding cuts of Video ../../data/tx6_JMDFfWI.mp4: 1786/2002\r"
     ]
    },
    {
     "name": "stderr",
     "output_type": "stream",
     "text": [
      "3612frames [00:22, 159.20frames/s]                      \n",
      "  0%|          | 11/3252 [00:00<00:30, 105.55frames/s]"
     ]
    },
    {
     "name": "stdout",
     "output_type": "stream",
     "text": [
      "Finding cuts of Video ../../data/sqK_P0yU9jk.mp4: 1787/2002\r"
     ]
    },
    {
     "name": "stderr",
     "output_type": "stream",
     "text": [
      "100%|██████████| 3252/3252 [00:19<00:00, 166.55frames/s]\n",
      "  0%|          | 14/3070 [00:00<00:22, 137.93frames/s]"
     ]
    },
    {
     "name": "stdout",
     "output_type": "stream",
     "text": [
      "Finding cuts of Video ../../data/xbQdPBiF3Co.mp4: 1788/2002\r"
     ]
    },
    {
     "name": "stderr",
     "output_type": "stream",
     "text": [
      "100%|██████████| 3070/3070 [00:19<00:00, 161.04frames/s]\n",
      "  0%|          | 16/3211 [00:00<00:21, 151.03frames/s]"
     ]
    },
    {
     "name": "stdout",
     "output_type": "stream",
     "text": [
      "Finding cuts of Video ../../data/iszwuX1AK6A.mp4: 1789/2002\r"
     ]
    },
    {
     "name": "stderr",
     "output_type": "stream",
     "text": [
      "100%|██████████| 3211/3211 [00:19<00:00, 164.35frames/s]\n",
      "  1%|          | 24/4292 [00:00<00:18, 229.01frames/s]"
     ]
    },
    {
     "name": "stdout",
     "output_type": "stream",
     "text": [
      "Finding cuts of Video ../../data/Sithad108Og.mp4: 1790/2002\r"
     ]
    },
    {
     "name": "stderr",
     "output_type": "stream",
     "text": [
      "100%|██████████| 4292/4292 [00:07<00:00, 542.21frames/s]\n",
      "  0%|          | 13/3800 [00:00<00:32, 117.56frames/s]"
     ]
    },
    {
     "name": "stdout",
     "output_type": "stream",
     "text": [
      "Finding cuts of Video ../../data/dr8hmqAgbtg.mp4: 1791/2002\r"
     ]
    },
    {
     "name": "stderr",
     "output_type": "stream",
     "text": [
      "100%|██████████| 3800/3800 [00:22<00:00, 165.48frames/s]\n",
      "  0%|          | 11/2849 [00:00<00:27, 103.76frames/s]"
     ]
    },
    {
     "name": "stdout",
     "output_type": "stream",
     "text": [
      "Finding cuts of Video ../../data/pMiCJefpn9Q.mp4: 1792/2002\r"
     ]
    },
    {
     "name": "stderr",
     "output_type": "stream",
     "text": [
      "100%|██████████| 2849/2849 [00:17<00:00, 164.93frames/s]\n",
      "  1%|          | 27/2985 [00:00<00:11, 267.03frames/s]"
     ]
    },
    {
     "name": "stdout",
     "output_type": "stream",
     "text": [
      "Finding cuts of Video ../../data/Rq9eM4ZXRgs.mp4: 1793/2002\r"
     ]
    },
    {
     "name": "stderr",
     "output_type": "stream",
     "text": [
      "100%|██████████| 2985/2985 [00:07<00:00, 411.24frames/s]\n",
      "  4%|▍         | 111/2502 [00:00<00:02, 1102.50frames/s]"
     ]
    },
    {
     "name": "stdout",
     "output_type": "stream",
     "text": [
      "Finding cuts of Video ../../data/8qrB9I3DM80.mp4: 1794/2002\r"
     ]
    },
    {
     "name": "stderr",
     "output_type": "stream",
     "text": [
      "100%|██████████| 2502/2502 [00:02<00:00, 892.93frames/s]\n",
      "  0%|          | 13/5311 [00:00<00:41, 126.93frames/s]"
     ]
    },
    {
     "name": "stdout",
     "output_type": "stream",
     "text": [
      "Finding cuts of Video ../../data/OrlLcb7zYmw.mp4: 1795/2002\r"
     ]
    },
    {
     "name": "stderr",
     "output_type": "stream",
     "text": [
      "100%|██████████| 5311/5311 [00:30<00:00, 171.50frames/s]\n",
      "  0%|          | 11/3072 [00:00<00:29, 105.41frames/s]"
     ]
    },
    {
     "name": "stdout",
     "output_type": "stream",
     "text": [
      "Finding cuts of Video ../../data/OIx8OGeEh9c.mp4: 1796/2002\r"
     ]
    },
    {
     "name": "stderr",
     "output_type": "stream",
     "text": [
      "100%|██████████| 3072/3072 [00:19<00:00, 161.42frames/s]\n",
      "  1%|          | 29/2785 [00:00<00:09, 288.64frames/s]"
     ]
    },
    {
     "name": "stdout",
     "output_type": "stream",
     "text": [
      "Finding cuts of Video ../../data/cB3NW3O_OfE.mp4: 1797/2002\r"
     ]
    },
    {
     "name": "stderr",
     "output_type": "stream",
     "text": [
      "2786frames [00:09, 299.60frames/s]                      \n",
      "  2%|▏         | 67/4410 [00:00<00:06, 669.58frames/s]"
     ]
    },
    {
     "name": "stdout",
     "output_type": "stream",
     "text": [
      "Finding cuts of Video ../../data/Q61YhARNOPg.mp4: 1798/2002\r"
     ]
    },
    {
     "name": "stderr",
     "output_type": "stream",
     "text": [
      "100%|██████████| 4410/4410 [00:07<00:00, 595.28frames/s]\n",
      "  2%|▏         | 65/3321 [00:00<00:05, 642.98frames/s]"
     ]
    },
    {
     "name": "stdout",
     "output_type": "stream",
     "text": [
      "Finding cuts of Video ../../data/cnNBqNb3taw.mp4: 1799/2002\r"
     ]
    },
    {
     "name": "stderr",
     "output_type": "stream",
     "text": [
      "100%|██████████| 3321/3321 [00:05<00:00, 590.95frames/s]\n",
      "  0%|          | 8/3697 [00:00<00:50, 72.86frames/s]"
     ]
    },
    {
     "name": "stdout",
     "output_type": "stream",
     "text": [
      "Finding cuts of Video ../../data/QheoYw1BKJ4.mp4: 1800/2002\r"
     ]
    },
    {
     "name": "stderr",
     "output_type": "stream",
     "text": [
      "100%|██████████| 3697/3697 [00:23<00:00, 154.88frames/s]\n",
      "  1%|          | 19/3465 [00:00<00:18, 183.54frames/s]"
     ]
    },
    {
     "name": "stdout",
     "output_type": "stream",
     "text": [
      "Finding cuts of Video ../../data/msxe3yJPfyY.mp4: 1801/2002\r"
     ]
    },
    {
     "name": "stderr",
     "output_type": "stream",
     "text": [
      "100%|██████████| 3465/3465 [00:21<00:00, 160.53frames/s]\n",
      "  1%|          | 42/3539 [00:00<00:08, 418.28frames/s]"
     ]
    },
    {
     "name": "stdout",
     "output_type": "stream",
     "text": [
      "Finding cuts of Video ../../data/KZkbSUSdqX4.mp4: 1802/2002\r"
     ]
    },
    {
     "name": "stderr",
     "output_type": "stream",
     "text": [
      "3540frames [00:05, 692.38frames/s]                      \n",
      "  1%|          | 30/3502 [00:00<00:11, 290.00frames/s]"
     ]
    },
    {
     "name": "stdout",
     "output_type": "stream",
     "text": [
      "Finding cuts of Video ../../data/JdJS07wKUAw.mp4: 1803/2002\r"
     ]
    },
    {
     "name": "stderr",
     "output_type": "stream",
     "text": [
      "100%|██████████| 3502/3502 [00:07<00:00, 447.89frames/s]\n",
      "  0%|          | 15/3312 [00:00<00:22, 147.72frames/s]"
     ]
    },
    {
     "name": "stdout",
     "output_type": "stream",
     "text": [
      "Finding cuts of Video ../../data/QwievZ1Tx-8.mp4: 1804/2002\r"
     ]
    },
    {
     "name": "stderr",
     "output_type": "stream",
     "text": [
      "100%|██████████| 3312/3312 [00:15<00:00, 214.62frames/s]\n",
      "  1%|          | 18/2430 [00:00<00:13, 177.24frames/s]"
     ]
    },
    {
     "name": "stdout",
     "output_type": "stream",
     "text": [
      "Finding cuts of Video ../../data/9l-ViOOFH-s.mp4: 1805/2002\r"
     ]
    },
    {
     "name": "stderr",
     "output_type": "stream",
     "text": [
      "100%|██████████| 2430/2430 [00:14<00:00, 167.07frames/s]\n",
      "  1%|          | 23/3747 [00:00<00:16, 226.39frames/s]"
     ]
    },
    {
     "name": "stdout",
     "output_type": "stream",
     "text": [
      "Finding cuts of Video ../../data/hSW_xo9bKdQ.mp4: 1806/2002\r"
     ]
    },
    {
     "name": "stderr",
     "output_type": "stream",
     "text": [
      "100%|██████████| 3747/3747 [00:11<00:00, 314.29frames/s]\n",
      "  0%|          | 13/3656 [00:00<00:30, 119.40frames/s]"
     ]
    },
    {
     "name": "stdout",
     "output_type": "stream",
     "text": [
      "Finding cuts of Video ../../data/IjHgzkQM2Sg.webm: 1807/2002\r"
     ]
    },
    {
     "name": "stderr",
     "output_type": "stream",
     "text": [
      " 95%|█████████▍| 3458/3656 [00:20<00:01, 166.28frames/s]\n",
      "  1%|          | 29/3430 [00:00<00:11, 288.30frames/s]"
     ]
    },
    {
     "name": "stdout",
     "output_type": "stream",
     "text": [
      "Finding cuts of Video ../../data/ByXuk9QqQkk.mp4: 1808/2002\r"
     ]
    },
    {
     "name": "stderr",
     "output_type": "stream",
     "text": [
      "100%|██████████| 3430/3430 [00:11<00:00, 308.49frames/s]\n",
      "  0%|          | 15/3310 [00:00<00:23, 141.81frames/s]"
     ]
    },
    {
     "name": "stdout",
     "output_type": "stream",
     "text": [
      "Finding cuts of Video ../../data/INJ2bPFy108.mp4: 1809/2002\r"
     ]
    },
    {
     "name": "stderr",
     "output_type": "stream",
     "text": [
      "100%|██████████| 3310/3310 [00:20<00:00, 164.51frames/s]\n",
      "  1%|          | 28/3304 [00:00<00:11, 274.83frames/s]"
     ]
    },
    {
     "name": "stdout",
     "output_type": "stream",
     "text": [
      "Finding cuts of Video ../../data/FFGaS6MDknY.mp4: 1810/2002\r"
     ]
    },
    {
     "name": "stderr",
     "output_type": "stream",
     "text": [
      "100%|██████████| 3304/3304 [00:12<00:00, 269.50frames/s]\n",
      "  0%|          | 15/3648 [00:00<00:25, 143.19frames/s]"
     ]
    },
    {
     "name": "stdout",
     "output_type": "stream",
     "text": [
      "Finding cuts of Video ../../data/coOKvrsmQiI.mp4: 1811/2002\r"
     ]
    },
    {
     "name": "stderr",
     "output_type": "stream",
     "text": [
      "100%|██████████| 3648/3648 [00:23<00:00, 156.13frames/s]\n",
      "  1%|          | 30/2811 [00:00<00:09, 294.17frames/s]"
     ]
    },
    {
     "name": "stdout",
     "output_type": "stream",
     "text": [
      "Finding cuts of Video ../../data/mdgRx94W5ko.mp4: 1812/2002\r"
     ]
    },
    {
     "name": "stderr",
     "output_type": "stream",
     "text": [
      "100%|██████████| 2811/2811 [00:07<00:00, 352.56frames/s]\n"
     ]
    },
    {
     "name": "stdout",
     "output_type": "stream",
     "text": [
      "Finding cuts of Video ../../data/-PAGAOrv6UI.mp4: 1813/2002\r"
     ]
    },
    {
     "name": "stderr",
     "output_type": "stream",
     "text": [
      "100%|██████████| 4499/4499 [00:22<00:00, 200.19frames/s]\n",
      "  1%|          | 28/2748 [00:00<00:09, 278.57frames/s]"
     ]
    },
    {
     "name": "stdout",
     "output_type": "stream",
     "text": [
      "Finding cuts of Video ../../data/-egQ79OrYCs.mp4: 1814/2002\r"
     ]
    },
    {
     "name": "stderr",
     "output_type": "stream",
     "text": [
      "100%|██████████| 2748/2748 [00:08<00:00, 326.05frames/s]\n",
      "  0%|          | 14/3837 [00:00<00:28, 135.63frames/s]"
     ]
    },
    {
     "name": "stdout",
     "output_type": "stream",
     "text": [
      "Finding cuts of Video ../../data/twmQRJJZpfQ.mp4: 1815/2002\r"
     ]
    },
    {
     "name": "stderr",
     "output_type": "stream",
     "text": [
      "100%|██████████| 3837/3837 [00:23<00:00, 162.56frames/s]\n",
      "  0%|          | 17/4038 [00:00<00:24, 162.69frames/s]"
     ]
    },
    {
     "name": "stdout",
     "output_type": "stream",
     "text": [
      "Finding cuts of Video ../../data/DlM2CWNTQ84.webm: 1816/2002\r"
     ]
    },
    {
     "name": "stderr",
     "output_type": "stream",
     "text": [
      " 95%|█████████▍| 3818/4038 [00:24<00:01, 156.14frames/s]\n",
      "  0%|          | 0/1577 [00:00<?, ?frames/s]"
     ]
    },
    {
     "name": "stdout",
     "output_type": "stream",
     "text": [
      "Finding cuts of Video ../../data/p-eNq8ENgzQ.mp4: 1817/2002\r"
     ]
    },
    {
     "name": "stderr",
     "output_type": "stream",
     "text": [
      "100%|██████████| 1577/1577 [00:05<00:00, 293.18frames/s]\n",
      "  1%|          | 29/3629 [00:00<00:12, 285.32frames/s]"
     ]
    },
    {
     "name": "stdout",
     "output_type": "stream",
     "text": [
      "Finding cuts of Video ../../data/5JO1GlKne9g.mp4: 1818/2002\r"
     ]
    },
    {
     "name": "stderr",
     "output_type": "stream",
     "text": [
      "100%|██████████| 3629/3629 [00:11<00:00, 325.57frames/s]\n",
      "  0%|          | 15/3589 [00:00<00:24, 145.84frames/s]"
     ]
    },
    {
     "name": "stdout",
     "output_type": "stream",
     "text": [
      "Finding cuts of Video ../../data/aPLiBxhoug0.mp4: 1819/2002\r"
     ]
    },
    {
     "name": "stderr",
     "output_type": "stream",
     "text": [
      "100%|██████████| 3589/3589 [00:22<00:00, 159.94frames/s]\n",
      "  1%|          | 20/2521 [00:00<00:12, 199.11frames/s]"
     ]
    },
    {
     "name": "stdout",
     "output_type": "stream",
     "text": [
      "Finding cuts of Video ../../data/F_UxLEqd074.mp4: 1820/2002\r"
     ]
    },
    {
     "name": "stderr",
     "output_type": "stream",
     "text": [
      "100%|██████████| 2521/2521 [00:07<00:00, 331.71frames/s]\n",
      "  1%|▏         | 47/3378 [00:00<00:07, 466.59frames/s]"
     ]
    },
    {
     "name": "stdout",
     "output_type": "stream",
     "text": [
      "Finding cuts of Video ../../data/MdENmefJRpw.mp4: 1821/2002\r"
     ]
    },
    {
     "name": "stderr",
     "output_type": "stream",
     "text": [
      "3379frames [00:06, 534.47frames/s]                      \n",
      "  1%|▏         | 52/3649 [00:00<00:07, 513.09frames/s]"
     ]
    },
    {
     "name": "stdout",
     "output_type": "stream",
     "text": [
      "Finding cuts of Video ../../data/I5kzcwcQA1Q.mp4: 1822/2002\r"
     ]
    },
    {
     "name": "stderr",
     "output_type": "stream",
     "text": [
      "100%|██████████| 3649/3649 [00:09<00:00, 374.25frames/s]\n",
      "  3%|▎         | 99/3121 [00:00<00:03, 982.77frames/s]"
     ]
    },
    {
     "name": "stdout",
     "output_type": "stream",
     "text": [
      "Finding cuts of Video ../../data/xftx7GnVJcU.mp4: 1823/2002\r"
     ]
    },
    {
     "name": "stderr",
     "output_type": "stream",
     "text": [
      "3122frames [00:04, 737.29frames/s]                      \n",
      "  1%|          | 24/4497 [00:00<00:19, 232.67frames/s]"
     ]
    },
    {
     "name": "stdout",
     "output_type": "stream",
     "text": [
      "Finding cuts of Video ../../data/FHtCaVtryiE.mp4: 1824/2002\r"
     ]
    },
    {
     "name": "stderr",
     "output_type": "stream",
     "text": [
      "100%|██████████| 4497/4497 [00:09<00:00, 471.96frames/s]\n",
      "  2%|▏         | 45/2010 [00:00<00:04, 441.56frames/s]"
     ]
    },
    {
     "name": "stdout",
     "output_type": "stream",
     "text": [
      "Finding cuts of Video ../../data/UM-Xo8aSbcI.mp4: 1825/2002\r"
     ]
    },
    {
     "name": "stderr",
     "output_type": "stream",
     "text": [
      "2011frames [00:04, 450.76frames/s]                      \n",
      "  0%|          | 0/2614 [00:00<?, ?frames/s]"
     ]
    },
    {
     "name": "stdout",
     "output_type": "stream",
     "text": [
      "Finding cuts of Video ../../data/UT5mRId7qUQ.mp4: 1826/2002\r"
     ]
    },
    {
     "name": "stderr",
     "output_type": "stream",
     "text": [
      "100%|██████████| 2614/2614 [00:08<00:00, 317.60frames/s]\n",
      "  1%|          | 36/6068 [00:00<00:17, 352.81frames/s]"
     ]
    },
    {
     "name": "stdout",
     "output_type": "stream",
     "text": [
      "Finding cuts of Video ../../data/b_KllgySsPo.mp4: 1827/2002\r"
     ]
    },
    {
     "name": "stderr",
     "output_type": "stream",
     "text": [
      "100%|██████████| 6068/6068 [00:18<00:00, 327.02frames/s]\n",
      "  0%|          | 11/2873 [00:00<00:26, 109.44frames/s]"
     ]
    },
    {
     "name": "stdout",
     "output_type": "stream",
     "text": [
      "Finding cuts of Video ../../data/N2jJOy8rzog.mp4: 1828/2002\r"
     ]
    },
    {
     "name": "stderr",
     "output_type": "stream",
     "text": [
      "100%|██████████| 2873/2873 [00:17<00:00, 162.94frames/s]\n",
      "  2%|▏         | 81/3337 [00:00<00:04, 799.93frames/s]"
     ]
    },
    {
     "name": "stdout",
     "output_type": "stream",
     "text": [
      "Finding cuts of Video ../../data/D2WofresyA4.mp4: 1829/2002\r"
     ]
    },
    {
     "name": "stderr",
     "output_type": "stream",
     "text": [
      "3338frames [00:04, 670.06frames/s]                      \n",
      "  0%|          | 15/3625 [00:00<00:24, 148.77frames/s]"
     ]
    },
    {
     "name": "stdout",
     "output_type": "stream",
     "text": [
      "Finding cuts of Video ../../data/2LqzF5WauAw.mp4: 1830/2002\r"
     ]
    },
    {
     "name": "stderr",
     "output_type": "stream",
     "text": [
      "100%|██████████| 3625/3625 [00:22<00:00, 164.71frames/s]\n",
      "  0%|          | 8/4156 [00:00<00:52, 78.67frames/s]"
     ]
    },
    {
     "name": "stdout",
     "output_type": "stream",
     "text": [
      "Finding cuts of Video ../../data/P1GRO31ve5Q.mp4: 1831/2002\r"
     ]
    },
    {
     "name": "stderr",
     "output_type": "stream",
     "text": [
      "100%|██████████| 4156/4156 [00:24<00:00, 170.75frames/s]\n",
      "  1%|          | 20/3264 [00:00<00:16, 191.80frames/s]"
     ]
    },
    {
     "name": "stdout",
     "output_type": "stream",
     "text": [
      "Finding cuts of Video ../../data/aBJyp2LFHgk.mp4: 1832/2002\r"
     ]
    },
    {
     "name": "stderr",
     "output_type": "stream",
     "text": [
      "100%|██████████| 3264/3264 [00:19<00:00, 163.42frames/s]\n",
      "  1%|          | 20/3588 [00:00<00:18, 195.83frames/s]"
     ]
    },
    {
     "name": "stdout",
     "output_type": "stream",
     "text": [
      "Finding cuts of Video ../../data/z02Ie8wKKRg.mp4: 1833/2002\r"
     ]
    },
    {
     "name": "stderr",
     "output_type": "stream",
     "text": [
      "100%|██████████| 3588/3588 [00:16<00:00, 222.97frames/s]\n",
      "  1%|          | 20/3366 [00:00<00:17, 196.76frames/s]"
     ]
    },
    {
     "name": "stdout",
     "output_type": "stream",
     "text": [
      "Finding cuts of Video ../../data/PVgUZ2NSzBo.mp4: 1834/2002\r"
     ]
    },
    {
     "name": "stderr",
     "output_type": "stream",
     "text": [
      "3367frames [00:15, 216.86frames/s]                      \n",
      "  1%|          | 29/3252 [00:00<00:11, 287.58frames/s]"
     ]
    },
    {
     "name": "stdout",
     "output_type": "stream",
     "text": [
      "Finding cuts of Video ../../data/CZzW6_hR068.mp4: 1835/2002\r"
     ]
    },
    {
     "name": "stderr",
     "output_type": "stream",
     "text": [
      "100%|██████████| 3252/3252 [00:09<00:00, 349.63frames/s]\n",
      "  3%|▎         | 121/3530 [00:00<00:02, 1202.23frames/s]"
     ]
    },
    {
     "name": "stdout",
     "output_type": "stream",
     "text": [
      "Finding cuts of Video ../../data/wISRAOb6xm0.mp4: 1836/2002\r"
     ]
    },
    {
     "name": "stderr",
     "output_type": "stream",
     "text": [
      "100%|██████████| 3530/3530 [00:03<00:00, 1026.14frames/s]\n",
      "  0%|          | 12/2409 [00:00<00:20, 115.07frames/s]"
     ]
    },
    {
     "name": "stdout",
     "output_type": "stream",
     "text": [
      "Finding cuts of Video ../../data/2yJFCSiyTT4.mp4: 1837/2002\r"
     ]
    },
    {
     "name": "stderr",
     "output_type": "stream",
     "text": [
      "100%|██████████| 2409/2409 [00:15<00:00, 159.58frames/s]\n",
      "  1%|▏         | 38/2665 [00:00<00:07, 371.04frames/s]"
     ]
    },
    {
     "name": "stdout",
     "output_type": "stream",
     "text": [
      "Finding cuts of Video ../../data/VD6g7r8F6PQ.mp4: 1838/2002\r"
     ]
    },
    {
     "name": "stderr",
     "output_type": "stream",
     "text": [
      "100%|██████████| 2665/2665 [00:06<00:00, 407.68frames/s]\n",
      "  0%|          | 10/3405 [00:00<00:34, 99.63frames/s]"
     ]
    },
    {
     "name": "stdout",
     "output_type": "stream",
     "text": [
      "Finding cuts of Video ../../data/4_46P3Dzvvw.mp4: 1839/2002\r"
     ]
    },
    {
     "name": "stderr",
     "output_type": "stream",
     "text": [
      "3406frames [00:21, 158.20frames/s]                      \n",
      "  1%|          | 29/3670 [00:00<00:12, 282.67frames/s]"
     ]
    },
    {
     "name": "stdout",
     "output_type": "stream",
     "text": [
      "Finding cuts of Video ../../data/iBSYxd38eic.mp4: 1840/2002\r"
     ]
    },
    {
     "name": "stderr",
     "output_type": "stream",
     "text": [
      "100%|██████████| 3670/3670 [00:11<00:00, 314.69frames/s]\n",
      "  0%|          | 16/3395 [00:00<00:21, 156.08frames/s]"
     ]
    },
    {
     "name": "stdout",
     "output_type": "stream",
     "text": [
      "Finding cuts of Video ../../data/4I8rVcSQbic.mp4: 1841/2002\r"
     ]
    },
    {
     "name": "stderr",
     "output_type": "stream",
     "text": [
      "100%|██████████| 3395/3395 [00:19<00:00, 171.82frames/s]\n",
      "  4%|▍         | 104/2675 [00:00<00:02, 1034.04frames/s]"
     ]
    },
    {
     "name": "stdout",
     "output_type": "stream",
     "text": [
      "Finding cuts of Video ../../data/ej5PLxUlwls.mp4: 1842/2002\r"
     ]
    },
    {
     "name": "stderr",
     "output_type": "stream",
     "text": [
      "100%|██████████| 2675/2675 [00:02<00:00, 991.45frames/s] \n",
      "  0%|          | 15/3286 [00:00<00:22, 145.51frames/s]"
     ]
    },
    {
     "name": "stdout",
     "output_type": "stream",
     "text": [
      "Finding cuts of Video ../../data/pK2zYHWDZKo.mp4: 1843/2002\r"
     ]
    },
    {
     "name": "stderr",
     "output_type": "stream",
     "text": [
      "100%|██████████| 3286/3286 [00:20<00:00, 158.39frames/s]\n",
      "  1%|          | 29/3626 [00:00<00:12, 282.27frames/s]"
     ]
    },
    {
     "name": "stdout",
     "output_type": "stream",
     "text": [
      "Finding cuts of Video ../../data/okOsyezoR7s.mp4: 1844/2002\r"
     ]
    },
    {
     "name": "stderr",
     "output_type": "stream",
     "text": [
      "100%|██████████| 3626/3626 [00:12<00:00, 281.84frames/s]\n",
      "  0%|          | 0/3426 [00:00<?, ?frames/s]"
     ]
    },
    {
     "name": "stdout",
     "output_type": "stream",
     "text": [
      "Finding cuts of Video ../../data/vu1tVYGsJ1Q.mp4: 1845/2002\r"
     ]
    },
    {
     "name": "stderr",
     "output_type": "stream",
     "text": [
      "100%|██████████| 3426/3426 [00:07<00:00, 446.95frames/s]\n",
      "  2%|▏         | 40/2430 [00:00<00:06, 390.99frames/s]"
     ]
    },
    {
     "name": "stdout",
     "output_type": "stream",
     "text": [
      "Finding cuts of Video ../../data/vypvqaXTtx4.mp4: 1846/2002\r"
     ]
    },
    {
     "name": "stderr",
     "output_type": "stream",
     "text": [
      "100%|██████████| 2430/2430 [00:05<00:00, 435.29frames/s]\n",
      "  0%|          | 14/4320 [00:00<00:32, 133.31frames/s]"
     ]
    },
    {
     "name": "stdout",
     "output_type": "stream",
     "text": [
      "Finding cuts of Video ../../data/fZ_JOBCLF-I.mp4: 1847/2002\r"
     ]
    },
    {
     "name": "stderr",
     "output_type": "stream",
     "text": [
      "100%|██████████| 4320/4320 [00:27<00:00, 154.77frames/s]\n",
      "  1%|          | 29/3584 [00:00<00:12, 282.36frames/s]"
     ]
    },
    {
     "name": "stdout",
     "output_type": "stream",
     "text": [
      "Finding cuts of Video ../../data/jvWXV-c2hWo.mp4: 1848/2002\r"
     ]
    },
    {
     "name": "stderr",
     "output_type": "stream",
     "text": [
      "100%|██████████| 3584/3584 [00:11<00:00, 305.88frames/s]\n",
      "  1%|          | 19/3539 [00:00<00:18, 188.09frames/s]"
     ]
    },
    {
     "name": "stdout",
     "output_type": "stream",
     "text": [
      "Finding cuts of Video ../../data/wmiIUN-7qhE.mp4: 1849/2002\r"
     ]
    },
    {
     "name": "stderr",
     "output_type": "stream",
     "text": [
      "100%|██████████| 3539/3539 [00:16<00:00, 215.91frames/s]\n",
      "  0%|          | 15/3746 [00:00<00:25, 145.10frames/s]"
     ]
    },
    {
     "name": "stdout",
     "output_type": "stream",
     "text": [
      "Finding cuts of Video ../../data/svnAD0TApb8.mp4: 1850/2002\r"
     ]
    },
    {
     "name": "stderr",
     "output_type": "stream",
     "text": [
      "100%|██████████| 3746/3746 [00:24<00:00, 150.23frames/s]\n",
      "  1%|          | 15/2796 [00:00<00:19, 145.84frames/s]"
     ]
    },
    {
     "name": "stdout",
     "output_type": "stream",
     "text": [
      "Finding cuts of Video ../../data/Z1BCujX3pw8.mp4: 1851/2002\r"
     ]
    },
    {
     "name": "stderr",
     "output_type": "stream",
     "text": [
      "100%|██████████| 2796/2796 [00:17<00:00, 159.24frames/s]\n",
      "  1%|▏         | 49/3462 [00:00<00:07, 485.61frames/s]"
     ]
    },
    {
     "name": "stdout",
     "output_type": "stream",
     "text": [
      "Finding cuts of Video ../../data/sZwWCrFNfzQ.mp4: 1852/2002\r"
     ]
    },
    {
     "name": "stderr",
     "output_type": "stream",
     "text": [
      "100%|██████████| 3462/3462 [00:05<00:00, 588.14frames/s]\n",
      "  0%|          | 17/3520 [00:00<00:21, 164.60frames/s]"
     ]
    },
    {
     "name": "stdout",
     "output_type": "stream",
     "text": [
      "Finding cuts of Video ../../data/8IAIJQpQuSM.mp4: 1853/2002\r"
     ]
    },
    {
     "name": "stderr",
     "output_type": "stream",
     "text": [
      "100%|██████████| 3520/3520 [00:20<00:00, 172.54frames/s]\n",
      "  1%|          | 27/2553 [00:00<00:09, 265.75frames/s]"
     ]
    },
    {
     "name": "stdout",
     "output_type": "stream",
     "text": [
      "Finding cuts of Video ../../data/KzdNrWmAV0E.mp4: 1854/2002\r"
     ]
    },
    {
     "name": "stderr",
     "output_type": "stream",
     "text": [
      "100%|██████████| 2553/2553 [00:05<00:00, 448.55frames/s]\n",
      "  0%|          | 15/3804 [00:00<00:26, 144.41frames/s]"
     ]
    },
    {
     "name": "stdout",
     "output_type": "stream",
     "text": [
      "Finding cuts of Video ../../data/4haJD6W136c.mp4: 1855/2002\r"
     ]
    },
    {
     "name": "stderr",
     "output_type": "stream",
     "text": [
      "100%|██████████| 3804/3804 [00:23<00:00, 160.46frames/s]\n",
      "  0%|          | 16/3769 [00:00<00:24, 152.11frames/s]"
     ]
    },
    {
     "name": "stdout",
     "output_type": "stream",
     "text": [
      "Finding cuts of Video ../../data/MxEw3elSJ8M.mp4: 1856/2002\r"
     ]
    },
    {
     "name": "stderr",
     "output_type": "stream",
     "text": [
      "100%|██████████| 3769/3769 [00:24<00:00, 155.94frames/s]\n",
      "  1%|▏         | 38/2809 [00:00<00:07, 367.18frames/s]"
     ]
    },
    {
     "name": "stdout",
     "output_type": "stream",
     "text": [
      "Finding cuts of Video ../../data/2c3rxHgfRTo.mp4: 1857/2002\r"
     ]
    },
    {
     "name": "stderr",
     "output_type": "stream",
     "text": [
      "100%|██████████| 2809/2809 [00:06<00:00, 453.39frames/s]\n"
     ]
    },
    {
     "name": "stdout",
     "output_type": "stream",
     "text": [
      "Finding cuts of Video ../../data/j8detvC7euw.mp4: 1858/2002\r"
     ]
    },
    {
     "name": "stderr",
     "output_type": "stream",
     "text": [
      "100%|██████████| 3081/3081 [00:17<00:00, 173.69frames/s]\n",
      "  1%|▏         | 37/2533 [00:00<00:06, 365.85frames/s]"
     ]
    },
    {
     "name": "stdout",
     "output_type": "stream",
     "text": [
      "Finding cuts of Video ../../data/c3W5HUz7vyY.mp4: 1859/2002\r"
     ]
    },
    {
     "name": "stderr",
     "output_type": "stream",
     "text": [
      "100%|██████████| 2533/2533 [00:07<00:00, 334.23frames/s]\n",
      "  0%|          | 0/2976 [00:00<?, ?frames/s]"
     ]
    },
    {
     "name": "stdout",
     "output_type": "stream",
     "text": [
      "Finding cuts of Video ../../data/uvDMfWrNywU.mp4: 1860/2002\r"
     ]
    },
    {
     "name": "stderr",
     "output_type": "stream",
     "text": [
      "100%|██████████| 2976/2976 [00:05<00:00, 565.08frames/s]\n",
      "  0%|          | 14/3374 [00:00<00:25, 133.93frames/s]"
     ]
    },
    {
     "name": "stdout",
     "output_type": "stream",
     "text": [
      "Finding cuts of Video ../../data/Rwh9c_E3dJk.mp4: 1861/2002\r"
     ]
    },
    {
     "name": "stderr",
     "output_type": "stream",
     "text": [
      "100%|██████████| 3374/3374 [00:19<00:00, 175.55frames/s]\n",
      "  0%|          | 14/3514 [00:00<00:26, 134.30frames/s]"
     ]
    },
    {
     "name": "stdout",
     "output_type": "stream",
     "text": [
      "Finding cuts of Video ../../data/PsD0NpFSADM.webm: 1862/2002\r"
     ]
    },
    {
     "name": "stderr",
     "output_type": "stream",
     "text": [
      " 95%|█████████▍| 3337/3514 [00:18<00:00, 178.73frames/s]\n",
      "  0%|          | 16/4454 [00:00<00:29, 152.19frames/s]"
     ]
    },
    {
     "name": "stdout",
     "output_type": "stream",
     "text": [
      "Finding cuts of Video ../../data/Y6Fv5StfAxA.mp4: 1863/2002\r"
     ]
    },
    {
     "name": "stderr",
     "output_type": "stream",
     "text": [
      "100%|██████████| 4454/4454 [00:25<00:00, 176.80frames/s]\n",
      "  0%|          | 14/3653 [00:00<00:26, 135.40frames/s]"
     ]
    },
    {
     "name": "stdout",
     "output_type": "stream",
     "text": [
      "Finding cuts of Video ../../data/9FozQnaEZl8.mp4: 1864/2002\r"
     ]
    },
    {
     "name": "stderr",
     "output_type": "stream",
     "text": [
      "3654frames [00:16, 227.98frames/s]                      \n",
      "  1%|          | 25/2480 [00:00<00:09, 247.13frames/s]"
     ]
    },
    {
     "name": "stdout",
     "output_type": "stream",
     "text": [
      "Finding cuts of Video ../../data/Uw4wtObPv4k.mp4: 1865/2002\r"
     ]
    },
    {
     "name": "stderr",
     "output_type": "stream",
     "text": [
      "100%|██████████| 2480/2480 [00:11<00:00, 223.06frames/s]\n",
      "  0%|          | 15/3431 [00:00<00:24, 141.88frames/s]"
     ]
    },
    {
     "name": "stdout",
     "output_type": "stream",
     "text": [
      "Finding cuts of Video ../../data/SpKbZ_3zlb0.mp4: 1866/2002\r"
     ]
    },
    {
     "name": "stderr",
     "output_type": "stream",
     "text": [
      "100%|██████████| 3431/3431 [00:19<00:00, 178.19frames/s]\n",
      "  1%|          | 14/1800 [00:00<00:13, 131.58frames/s]"
     ]
    },
    {
     "name": "stdout",
     "output_type": "stream",
     "text": [
      "Finding cuts of Video ../../data/tPq4EJcioKQ.mp4: 1867/2002\r"
     ]
    },
    {
     "name": "stderr",
     "output_type": "stream",
     "text": [
      "100%|██████████| 1800/1800 [00:09<00:00, 183.54frames/s]\n",
      "  1%|          | 21/3470 [00:00<00:16, 202.92frames/s]"
     ]
    },
    {
     "name": "stdout",
     "output_type": "stream",
     "text": [
      "Finding cuts of Video ../../data/gKTVQPOH8ZA.mp4: 1868/2002\r"
     ]
    },
    {
     "name": "stderr",
     "output_type": "stream",
     "text": [
      "100%|██████████| 3470/3470 [00:10<00:00, 324.16frames/s]\n",
      "  1%|          | 20/2835 [00:00<00:14, 192.25frames/s]"
     ]
    },
    {
     "name": "stdout",
     "output_type": "stream",
     "text": [
      "Finding cuts of Video ../../data/HKPy5RWuqNA.mp4: 1869/2002\r"
     ]
    },
    {
     "name": "stderr",
     "output_type": "stream",
     "text": [
      "100%|██████████| 2835/2835 [00:06<00:00, 410.12frames/s]\n",
      "  0%|          | 15/3515 [00:00<00:24, 142.18frames/s]"
     ]
    },
    {
     "name": "stdout",
     "output_type": "stream",
     "text": [
      "Finding cuts of Video ../../data/rk-dF1lIbIg.mp4: 1870/2002\r"
     ]
    },
    {
     "name": "stderr",
     "output_type": "stream",
     "text": [
      "100%|██████████| 3515/3515 [00:19<00:00, 177.44frames/s]\n",
      "  1%|          | 17/3384 [00:00<00:20, 163.49frames/s]"
     ]
    },
    {
     "name": "stdout",
     "output_type": "stream",
     "text": [
      "Finding cuts of Video ../../data/gCcx85zbxz4.mp4: 1871/2002\r"
     ]
    },
    {
     "name": "stderr",
     "output_type": "stream",
     "text": [
      "100%|██████████| 3384/3384 [00:18<00:00, 181.47frames/s]\n",
      "  5%|▌         | 49/911 [00:00<00:01, 489.32frames/s]"
     ]
    },
    {
     "name": "stdout",
     "output_type": "stream",
     "text": [
      "Finding cuts of Video ../../data/KwYa7UpoWtM.mp4: 1872/2002\r"
     ]
    },
    {
     "name": "stderr",
     "output_type": "stream",
     "text": [
      "100%|██████████| 911/911 [00:01<00:00, 551.39frames/s]\n",
      "  1%|          | 40/3548 [00:00<00:08, 393.34frames/s]"
     ]
    },
    {
     "name": "stdout",
     "output_type": "stream",
     "text": [
      "Finding cuts of Video ../../data/WTt8cCIvGYI.mp4: 1873/2002\r"
     ]
    },
    {
     "name": "stderr",
     "output_type": "stream",
     "text": [
      "100%|██████████| 3548/3548 [00:10<00:00, 353.32frames/s]\n",
      "  0%|          | 14/3850 [00:00<00:27, 138.90frames/s]"
     ]
    },
    {
     "name": "stdout",
     "output_type": "stream",
     "text": [
      "Finding cuts of Video ../../data/_W65ndip7MM.mp4: 1874/2002\r"
     ]
    },
    {
     "name": "stderr",
     "output_type": "stream",
     "text": [
      "100%|██████████| 3850/3850 [00:21<00:00, 177.98frames/s]\n",
      "  2%|▏         | 38/2149 [00:00<00:05, 371.17frames/s]"
     ]
    },
    {
     "name": "stdout",
     "output_type": "stream",
     "text": [
      "Finding cuts of Video ../../data/98Nkqlp_hrg.mp4: 1875/2002\r"
     ]
    },
    {
     "name": "stderr",
     "output_type": "stream",
     "text": [
      "100%|██████████| 2149/2149 [00:06<00:00, 322.37frames/s]\n",
      "  1%|          | 16/2605 [00:00<00:16, 155.70frames/s]"
     ]
    },
    {
     "name": "stdout",
     "output_type": "stream",
     "text": [
      "Finding cuts of Video ../../data/cnM-v3p1vvw.mp4: 1876/2002\r"
     ]
    },
    {
     "name": "stderr",
     "output_type": "stream",
     "text": [
      "2606frames [00:07, 351.42frames/s]                      \n",
      "  0%|          | 0/3508 [00:00<?, ?frames/s]"
     ]
    },
    {
     "name": "stdout",
     "output_type": "stream",
     "text": [
      "Finding cuts of Video ../../data/8K0k0EkgXdk.mp4: 1877/2002\r"
     ]
    },
    {
     "name": "stderr",
     "output_type": "stream",
     "text": [
      "100%|██████████| 3508/3508 [00:19<00:00, 180.43frames/s]\n",
      "  0%|          | 9/3067 [00:00<00:36, 83.02frames/s]"
     ]
    },
    {
     "name": "stdout",
     "output_type": "stream",
     "text": [
      "Finding cuts of Video ../../data/JMG7j3zReJQ.mp4: 1878/2002\r"
     ]
    },
    {
     "name": "stderr",
     "output_type": "stream",
     "text": [
      "100%|██████████| 3067/3067 [00:17<00:00, 178.84frames/s]\n",
      "  0%|          | 17/3983 [00:00<00:24, 165.04frames/s]"
     ]
    },
    {
     "name": "stdout",
     "output_type": "stream",
     "text": [
      "Finding cuts of Video ../../data/rGSxss7gWak.mp4: 1879/2002\r"
     ]
    },
    {
     "name": "stderr",
     "output_type": "stream",
     "text": [
      "100%|██████████| 3983/3983 [00:22<00:00, 177.88frames/s]\n",
      "  1%|          | 22/2786 [00:00<00:12, 218.97frames/s]"
     ]
    },
    {
     "name": "stdout",
     "output_type": "stream",
     "text": [
      "Finding cuts of Video ../../data/0RqDiYnFxTk.mp4: 1880/2002\r"
     ]
    },
    {
     "name": "stderr",
     "output_type": "stream",
     "text": [
      "100%|██████████| 2786/2786 [00:08<00:00, 333.46frames/s]\n",
      "  0%|          | 14/3493 [00:00<00:25, 138.99frames/s]"
     ]
    },
    {
     "name": "stdout",
     "output_type": "stream",
     "text": [
      "Finding cuts of Video ../../data/LlbN5cQKZik.mp4: 1881/2002\r"
     ]
    },
    {
     "name": "stderr",
     "output_type": "stream",
     "text": [
      "100%|██████████| 3493/3493 [00:18<00:00, 186.49frames/s]\n",
      "  0%|          | 11/3456 [00:00<00:32, 106.45frames/s]"
     ]
    },
    {
     "name": "stdout",
     "output_type": "stream",
     "text": [
      "Finding cuts of Video ../../data/KWs5qnZnhfo.mp4: 1882/2002\r"
     ]
    },
    {
     "name": "stderr",
     "output_type": "stream",
     "text": [
      "100%|██████████| 3456/3456 [00:19<00:00, 176.36frames/s]\n",
      "  0%|          | 11/3601 [00:00<00:34, 105.40frames/s]"
     ]
    },
    {
     "name": "stdout",
     "output_type": "stream",
     "text": [
      "Finding cuts of Video ../../data/dJ0oNfjzx4k.mp4: 1883/2002\r"
     ]
    },
    {
     "name": "stderr",
     "output_type": "stream",
     "text": [
      "100%|██████████| 3601/3601 [00:16<00:00, 220.07frames/s]\n",
      "  1%|          | 38/4308 [00:00<00:11, 371.63frames/s]"
     ]
    },
    {
     "name": "stdout",
     "output_type": "stream",
     "text": [
      "Finding cuts of Video ../../data/WcXt9aUMbBk.mp4: 1884/2002\r"
     ]
    },
    {
     "name": "stderr",
     "output_type": "stream",
     "text": [
      "100%|██████████| 4308/4308 [00:12<00:00, 344.71frames/s]\n",
      "  0%|          | 18/3776 [00:00<00:21, 171.53frames/s]"
     ]
    },
    {
     "name": "stdout",
     "output_type": "stream",
     "text": [
      "Finding cuts of Video ../../data/41ecF1HD0rA.mp4: 1885/2002\r"
     ]
    },
    {
     "name": "stderr",
     "output_type": "stream",
     "text": [
      "100%|██████████| 3776/3776 [00:21<00:00, 175.84frames/s]\n",
      "  1%|          | 38/3976 [00:00<00:10, 379.89frames/s]"
     ]
    },
    {
     "name": "stdout",
     "output_type": "stream",
     "text": [
      "Finding cuts of Video ../../data/FC6biTjEyZw.mp4: 1886/2002\r"
     ]
    },
    {
     "name": "stderr",
     "output_type": "stream",
     "text": [
      "100%|██████████| 3976/3976 [00:12<00:00, 329.27frames/s]\n",
      "  0%|          | 14/3241 [00:00<00:24, 134.31frames/s]"
     ]
    },
    {
     "name": "stdout",
     "output_type": "stream",
     "text": [
      "Finding cuts of Video ../../data/8yASbM8M2vg.mp4: 1887/2002\r"
     ]
    },
    {
     "name": "stderr",
     "output_type": "stream",
     "text": [
      "100%|██████████| 3241/3241 [00:18<00:00, 176.56frames/s]\n",
      "  1%|          | 19/2494 [00:00<00:13, 188.15frames/s]"
     ]
    },
    {
     "name": "stdout",
     "output_type": "stream",
     "text": [
      "Finding cuts of Video ../../data/XM0xWpBYlNM.webm: 1888/2002\r"
     ]
    },
    {
     "name": "stderr",
     "output_type": "stream",
     "text": [
      " 95%|█████████▍| 2368/2494 [00:13<00:00, 179.85frames/s]\n",
      "  1%|          | 19/3788 [00:00<00:20, 180.07frames/s]"
     ]
    },
    {
     "name": "stdout",
     "output_type": "stream",
     "text": [
      "Finding cuts of Video ../../data/XPG0MqIcby8.mp4: 1889/2002\r"
     ]
    },
    {
     "name": "stderr",
     "output_type": "stream",
     "text": [
      "100%|██████████| 3788/3788 [00:21<00:00, 179.51frames/s]\n",
      "  1%|          | 26/4498 [00:00<00:17, 259.92frames/s]"
     ]
    },
    {
     "name": "stdout",
     "output_type": "stream",
     "text": [
      "Finding cuts of Video ../../data/LbfMDwc4azU.mp4: 1890/2002\r"
     ]
    },
    {
     "name": "stderr",
     "output_type": "stream",
     "text": [
      "100%|██████████| 4498/4498 [00:10<00:00, 439.32frames/s]\n",
      "  1%|          | 20/3651 [00:00<00:18, 197.49frames/s]"
     ]
    },
    {
     "name": "stdout",
     "output_type": "stream",
     "text": [
      "Finding cuts of Video ../../data/T29kIOXpj6o.mp4: 1891/2002\r"
     ]
    },
    {
     "name": "stderr",
     "output_type": "stream",
     "text": [
      "100%|██████████| 3651/3651 [00:16<00:00, 223.18frames/s]\n",
      "  6%|▌         | 52/914 [00:00<00:01, 514.81frames/s]"
     ]
    },
    {
     "name": "stdout",
     "output_type": "stream",
     "text": [
      "Finding cuts of Video ../../data/jbI1mX9twOs.mp4: 1892/2002\r"
     ]
    },
    {
     "name": "stderr",
     "output_type": "stream",
     "text": [
      "100%|██████████| 914/914 [00:01<00:00, 614.21frames/s]\n",
      "  1%|          | 19/3191 [00:00<00:16, 189.32frames/s]"
     ]
    },
    {
     "name": "stdout",
     "output_type": "stream",
     "text": [
      "Finding cuts of Video ../../data/2Rxoz13Bthc.mp4: 1893/2002\r"
     ]
    },
    {
     "name": "stderr",
     "output_type": "stream",
     "text": [
      "100%|██████████| 3191/3191 [00:17<00:00, 178.50frames/s]\n",
      "  0%|          | 15/3649 [00:00<00:25, 141.77frames/s]"
     ]
    },
    {
     "name": "stdout",
     "output_type": "stream",
     "text": [
      "Finding cuts of Video ../../data/SzRbK9qIhBs.mp4: 1894/2002\r"
     ]
    },
    {
     "name": "stderr",
     "output_type": "stream",
     "text": [
      "100%|██████████| 3649/3649 [00:20<00:00, 177.24frames/s]\n",
      "  1%|          | 18/2643 [00:00<00:15, 174.78frames/s]"
     ]
    },
    {
     "name": "stdout",
     "output_type": "stream",
     "text": [
      "Finding cuts of Video ../../data/lvQzb1YMdtY.mp4: 1895/2002\r"
     ]
    },
    {
     "name": "stderr",
     "output_type": "stream",
     "text": [
      "100%|██████████| 2643/2643 [00:14<00:00, 179.02frames/s]\n",
      "  0%|          | 14/3833 [00:00<00:28, 133.79frames/s]"
     ]
    },
    {
     "name": "stdout",
     "output_type": "stream",
     "text": [
      "Finding cuts of Video ../../data/euz-KBBfAAo.webm: 1896/2002\r"
     ]
    },
    {
     "name": "stderr",
     "output_type": "stream",
     "text": [
      " 94%|█████████▍| 3603/3833 [00:20<00:01, 180.04frames/s]\n",
      "  0%|          | 0/3662 [00:00<?, ?frames/s]"
     ]
    },
    {
     "name": "stdout",
     "output_type": "stream",
     "text": [
      "Finding cuts of Video ../../data/or_J4mMOH1w.mp4: 1897/2002\r"
     ]
    },
    {
     "name": "stderr",
     "output_type": "stream",
     "text": [
      "100%|██████████| 3662/3662 [00:06<00:00, 585.79frames/s]\n",
      "  0%|          | 7/3798 [00:00<00:56, 67.66frames/s]"
     ]
    },
    {
     "name": "stdout",
     "output_type": "stream",
     "text": [
      "Finding cuts of Video ../../data/WAVj7WQfMaI.mp4: 1898/2002\r"
     ]
    },
    {
     "name": "stderr",
     "output_type": "stream",
     "text": [
      "100%|██████████| 3798/3798 [00:21<00:00, 177.75frames/s]\n",
      "  0%|          | 11/3365 [00:00<00:30, 109.37frames/s]"
     ]
    },
    {
     "name": "stdout",
     "output_type": "stream",
     "text": [
      "Finding cuts of Video ../../data/PUSiFAEhq1w.mp4: 1899/2002\r"
     ]
    },
    {
     "name": "stderr",
     "output_type": "stream",
     "text": [
      "100%|██████████| 3365/3365 [00:19<00:00, 174.80frames/s]\n",
      "  1%|          | 20/1635 [00:00<00:08, 193.52frames/s]"
     ]
    },
    {
     "name": "stdout",
     "output_type": "stream",
     "text": [
      "Finding cuts of Video ../../data/z7cEL6n24d4.mp4: 1900/2002\r"
     ]
    },
    {
     "name": "stderr",
     "output_type": "stream",
     "text": [
      "100%|██████████| 1635/1635 [00:07<00:00, 233.08frames/s]\n",
      "  1%|          | 21/3700 [00:00<00:18, 202.62frames/s]"
     ]
    },
    {
     "name": "stdout",
     "output_type": "stream",
     "text": [
      "Finding cuts of Video ../../data/hWjlUj7Czlk.mp4: 1901/2002\r"
     ]
    },
    {
     "name": "stderr",
     "output_type": "stream",
     "text": [
      "100%|██████████| 3700/3700 [00:21<00:00, 173.43frames/s]\n",
      "  0%|          | 16/3647 [00:00<00:23, 156.37frames/s]"
     ]
    },
    {
     "name": "stdout",
     "output_type": "stream",
     "text": [
      "Finding cuts of Video ../../data/0KHOVlEpMyY.webm: 1902/2002\r"
     ]
    },
    {
     "name": "stderr",
     "output_type": "stream",
     "text": [
      " 92%|█████████▏| 3354/3647 [00:18<00:01, 176.83frames/s]\n",
      "  1%|          | 33/5160 [00:00<00:16, 318.45frames/s]"
     ]
    },
    {
     "name": "stdout",
     "output_type": "stream",
     "text": [
      "Finding cuts of Video ../../data/3U0KDQqtpSY.mp4: 1903/2002\r"
     ]
    },
    {
     "name": "stderr",
     "output_type": "stream",
     "text": [
      "100%|██████████| 5160/5160 [00:09<00:00, 525.72frames/s]\n",
      "  0%|          | 14/2917 [00:00<00:21, 136.58frames/s]"
     ]
    },
    {
     "name": "stdout",
     "output_type": "stream",
     "text": [
      "Finding cuts of Video ../../data/AnMNYz7bxpY.mp4: 1904/2002\r"
     ]
    },
    {
     "name": "stderr",
     "output_type": "stream",
     "text": [
      "100%|██████████| 2917/2917 [00:16<00:00, 173.76frames/s]\n",
      "  0%|          | 12/3726 [00:00<00:32, 114.24frames/s]"
     ]
    },
    {
     "name": "stdout",
     "output_type": "stream",
     "text": [
      "Finding cuts of Video ../../data/ReIJ1lbL-Q8.mp4: 1905/2002\r"
     ]
    },
    {
     "name": "stderr",
     "output_type": "stream",
     "text": [
      "100%|██████████| 3726/3726 [00:21<00:00, 175.78frames/s]\n",
      "  0%|          | 17/3625 [00:00<00:21, 165.49frames/s]"
     ]
    },
    {
     "name": "stdout",
     "output_type": "stream",
     "text": [
      "Finding cuts of Video ../../data/BrV-SXI6Nmo.mp4: 1906/2002\r"
     ]
    },
    {
     "name": "stderr",
     "output_type": "stream",
     "text": [
      "100%|██████████| 3625/3625 [00:16<00:00, 217.10frames/s]\n",
      "  2%|▏         | 40/1894 [00:00<00:04, 396.12frames/s]"
     ]
    },
    {
     "name": "stdout",
     "output_type": "stream",
     "text": [
      "Finding cuts of Video ../../data/wYjUX1THmg8.mp4: 1907/2002\r"
     ]
    },
    {
     "name": "stderr",
     "output_type": "stream",
     "text": [
      "100%|██████████| 1894/1894 [00:04<00:00, 387.92frames/s]\n",
      "  4%|▍         | 126/2974 [00:00<00:02, 1259.85frames/s]"
     ]
    },
    {
     "name": "stdout",
     "output_type": "stream",
     "text": [
      "Finding cuts of Video ../../data/Zm7r491n-8o.mp4: 1908/2002\r"
     ]
    },
    {
     "name": "stderr",
     "output_type": "stream",
     "text": [
      "100%|██████████| 2974/2974 [00:02<00:00, 1158.65frames/s]\n",
      "  0%|          | 9/3749 [00:00<00:43, 86.22frames/s]"
     ]
    },
    {
     "name": "stdout",
     "output_type": "stream",
     "text": [
      "Finding cuts of Video ../../data/sxl4aOyHSwo.mp4: 1909/2002\r"
     ]
    },
    {
     "name": "stderr",
     "output_type": "stream",
     "text": [
      "100%|██████████| 3749/3749 [00:21<00:00, 177.53frames/s]\n",
      "  1%|          | 33/3519 [00:00<00:10, 328.83frames/s]"
     ]
    },
    {
     "name": "stdout",
     "output_type": "stream",
     "text": [
      "Finding cuts of Video ../../data/KAOmTMCtGkI.mp4: 1910/2002\r"
     ]
    },
    {
     "name": "stderr",
     "output_type": "stream",
     "text": [
      "100%|██████████| 3519/3519 [00:05<00:00, 622.04frames/s]\n",
      "  1%|▏         | 31/2452 [00:00<00:07, 305.98frames/s]"
     ]
    },
    {
     "name": "stdout",
     "output_type": "stream",
     "text": [
      "Finding cuts of Video ../../data/4OiMOHRDs14.mp4: 1911/2002\r"
     ]
    },
    {
     "name": "stderr",
     "output_type": "stream",
     "text": [
      "100%|██████████| 2452/2452 [00:07<00:00, 320.71frames/s]\n",
      "  1%|          | 25/3877 [00:00<00:15, 242.71frames/s]"
     ]
    },
    {
     "name": "stdout",
     "output_type": "stream",
     "text": [
      "Finding cuts of Video ../../data/Y_e_XzgStHk.mp4: 1912/2002\r"
     ]
    },
    {
     "name": "stderr",
     "output_type": "stream",
     "text": [
      "3878frames [00:17, 226.97frames/s]                      \n",
      "  1%|          | 20/3577 [00:00<00:18, 192.17frames/s]"
     ]
    },
    {
     "name": "stdout",
     "output_type": "stream",
     "text": [
      "Finding cuts of Video ../../data/jOGDozdW9Yo.mp4: 1913/2002\r"
     ]
    },
    {
     "name": "stderr",
     "output_type": "stream",
     "text": [
      "100%|██████████| 3577/3577 [00:16<00:00, 222.73frames/s]\n",
      "  0%|          | 14/3807 [00:00<00:28, 131.46frames/s]"
     ]
    },
    {
     "name": "stdout",
     "output_type": "stream",
     "text": [
      "Finding cuts of Video ../../data/5wfrDhgUMGI.mp4: 1914/2002\r"
     ]
    },
    {
     "name": "stderr",
     "output_type": "stream",
     "text": [
      "100%|██████████| 3807/3807 [00:21<00:00, 178.04frames/s]\n",
      "  0%|          | 17/3625 [00:00<00:21, 164.40frames/s]"
     ]
    },
    {
     "name": "stdout",
     "output_type": "stream",
     "text": [
      "Finding cuts of Video ../../data/uHBnrJowBZE.mp4: 1915/2002\r"
     ]
    },
    {
     "name": "stderr",
     "output_type": "stream",
     "text": [
      "100%|██████████| 3625/3625 [00:21<00:00, 172.42frames/s]\n",
      "  1%|▏         | 30/2282 [00:00<00:07, 298.72frames/s]"
     ]
    },
    {
     "name": "stdout",
     "output_type": "stream",
     "text": [
      "Finding cuts of Video ../../data/hvu2F6t26hs.mp4: 1916/2002\r"
     ]
    },
    {
     "name": "stderr",
     "output_type": "stream",
     "text": [
      "2283frames [00:06, 333.19frames/s]                      \n",
      "  2%|▏         | 68/3538 [00:00<00:05, 678.86frames/s]"
     ]
    },
    {
     "name": "stdout",
     "output_type": "stream",
     "text": [
      "Finding cuts of Video ../../data/PaZVjZEFkRs.mp4: 1917/2002\r"
     ]
    },
    {
     "name": "stderr",
     "output_type": "stream",
     "text": [
      "100%|██████████| 3538/3538 [00:04<00:00, 830.20frames/s]\n",
      "  2%|▏         | 75/3030 [00:00<00:03, 747.61frames/s]"
     ]
    },
    {
     "name": "stdout",
     "output_type": "stream",
     "text": [
      "Finding cuts of Video ../../data/-jHhRi_rr4g.mp4: 1918/2002\r"
     ]
    },
    {
     "name": "stderr",
     "output_type": "stream",
     "text": [
      "3031frames [00:03, 968.30frames/s]                       \n",
      "  1%|          | 15/2349 [00:00<00:16, 145.56frames/s]"
     ]
    },
    {
     "name": "stdout",
     "output_type": "stream",
     "text": [
      "Finding cuts of Video ../../data/N4iSzHXOUEE.mp4: 1919/2002\r"
     ]
    },
    {
     "name": "stderr",
     "output_type": "stream",
     "text": [
      "100%|██████████| 2349/2349 [00:13<00:00, 179.27frames/s]\n",
      "  0%|          | 0/3456 [00:00<?, ?frames/s]"
     ]
    },
    {
     "name": "stdout",
     "output_type": "stream",
     "text": [
      "Finding cuts of Video ../../data/yFLlx-VIQys.mp4: 1920/2002\r"
     ]
    },
    {
     "name": "stderr",
     "output_type": "stream",
     "text": [
      "100%|██████████| 3456/3456 [00:15<00:00, 227.86frames/s]\n",
      "  0%|          | 0/3533 [00:00<?, ?frames/s]"
     ]
    },
    {
     "name": "stdout",
     "output_type": "stream",
     "text": [
      "Finding cuts of Video ../../data/nPdloBDcDDA.mp4: 1921/2002\r"
     ]
    },
    {
     "name": "stderr",
     "output_type": "stream",
     "text": [
      "100%|██████████| 3533/3533 [00:06<00:00, 513.89frames/s]\n",
      "  1%|          | 28/4156 [00:00<00:14, 276.31frames/s]"
     ]
    },
    {
     "name": "stdout",
     "output_type": "stream",
     "text": [
      "Finding cuts of Video ../../data/K4xD8ZMdJms.mp4: 1922/2002\r"
     ]
    },
    {
     "name": "stderr",
     "output_type": "stream",
     "text": [
      "100%|██████████| 4156/4156 [00:12<00:00, 327.37frames/s]\n",
      "  1%|          | 31/2554 [00:00<00:08, 307.10frames/s]"
     ]
    },
    {
     "name": "stdout",
     "output_type": "stream",
     "text": [
      "Finding cuts of Video ../../data/WBQnM3m4SFY.mp4: 1923/2002\r"
     ]
    },
    {
     "name": "stderr",
     "output_type": "stream",
     "text": [
      "100%|██████████| 2554/2554 [00:07<00:00, 343.07frames/s]\n",
      "  1%|          | 16/2800 [00:00<00:18, 152.33frames/s]"
     ]
    },
    {
     "name": "stdout",
     "output_type": "stream",
     "text": [
      "Finding cuts of Video ../../data/_eOI3AamSm8.mp4: 1924/2002\r"
     ]
    },
    {
     "name": "stderr",
     "output_type": "stream",
     "text": [
      "100%|██████████| 2800/2800 [00:16<00:00, 170.37frames/s]\n",
      "  1%|          | 18/3468 [00:00<00:19, 179.62frames/s]"
     ]
    },
    {
     "name": "stdout",
     "output_type": "stream",
     "text": [
      "Finding cuts of Video ../../data/Hgeu5rhoxxY.mp4: 1925/2002\r"
     ]
    },
    {
     "name": "stderr",
     "output_type": "stream",
     "text": [
      "100%|██████████| 3468/3468 [00:15<00:00, 229.39frames/s]\n",
      "  2%|▏         | 62/3888 [00:00<00:06, 612.42frames/s]"
     ]
    },
    {
     "name": "stdout",
     "output_type": "stream",
     "text": [
      "Finding cuts of Video ../../data/9u4FHmId-Y0.mp4: 1926/2002\r"
     ]
    },
    {
     "name": "stderr",
     "output_type": "stream",
     "text": [
      "3889frames [00:06, 570.75frames/s]                      \n",
      "  1%|          | 39/3644 [00:00<00:09, 382.09frames/s]"
     ]
    },
    {
     "name": "stdout",
     "output_type": "stream",
     "text": [
      "Finding cuts of Video ../../data/gVwycnRGuVs.mp4: 1927/2002\r"
     ]
    },
    {
     "name": "stderr",
     "output_type": "stream",
     "text": [
      "100%|██████████| 3644/3644 [00:11<00:00, 331.22frames/s]\n"
     ]
    },
    {
     "name": "stdout",
     "output_type": "stream",
     "text": [
      "Finding cuts of Video ../../data/hJ9tLLLFJu0.mp4: 1928/2002\r"
     ]
    },
    {
     "name": "stderr",
     "output_type": "stream",
     "text": [
      "100%|██████████| 3663/3663 [00:20<00:00, 175.60frames/s]\n",
      "  2%|▏         | 35/2208 [00:00<00:06, 346.00frames/s]"
     ]
    },
    {
     "name": "stdout",
     "output_type": "stream",
     "text": [
      "Finding cuts of Video ../../data/ajhZRL1j7a0.mp4: 1929/2002\r"
     ]
    },
    {
     "name": "stderr",
     "output_type": "stream",
     "text": [
      "100%|██████████| 2208/2208 [00:05<00:00, 424.68frames/s]\n",
      "  0%|          | 0/3216 [00:00<?, ?frames/s]"
     ]
    },
    {
     "name": "stdout",
     "output_type": "stream",
     "text": [
      "Finding cuts of Video ../../data/86ss__OIscQ.mp4: 1930/2002\r"
     ]
    },
    {
     "name": "stderr",
     "output_type": "stream",
     "text": [
      "100%|██████████| 3216/3216 [00:14<00:00, 220.65frames/s]\n",
      "  3%|▎         | 91/3607 [00:00<00:03, 903.90frames/s]"
     ]
    },
    {
     "name": "stdout",
     "output_type": "stream",
     "text": [
      "Finding cuts of Video ../../data/LqEszt5wG9I.mp4: 1931/2002\r"
     ]
    },
    {
     "name": "stderr",
     "output_type": "stream",
     "text": [
      "100%|██████████| 3607/3607 [00:05<00:00, 690.56frames/s]\n",
      "  1%|          | 15/2987 [00:00<00:20, 146.58frames/s]"
     ]
    },
    {
     "name": "stdout",
     "output_type": "stream",
     "text": [
      "Finding cuts of Video ../../data/cPNVNqn4T9I.webm: 1932/2002\r"
     ]
    },
    {
     "name": "stderr",
     "output_type": "stream",
     "text": [
      " 95%|█████████▍| 2835/2987 [00:15<00:00, 179.46frames/s]\n",
      "  0%|          | 18/3621 [00:00<00:20, 174.76frames/s]"
     ]
    },
    {
     "name": "stdout",
     "output_type": "stream",
     "text": [
      "Finding cuts of Video ../../data/Tvq3y8BhZ2s.mp4: 1933/2002\r"
     ]
    },
    {
     "name": "stderr",
     "output_type": "stream",
     "text": [
      "100%|██████████| 3621/3621 [00:20<00:00, 175.76frames/s]\n",
      "  1%|          | 24/4616 [00:00<00:19, 232.37frames/s]"
     ]
    },
    {
     "name": "stdout",
     "output_type": "stream",
     "text": [
      "Finding cuts of Video ../../data/NWWzve8Z90s.mp4: 1934/2002\r"
     ]
    },
    {
     "name": "stderr",
     "output_type": "stream",
     "text": [
      "100%|██████████| 4616/4616 [00:07<00:00, 636.75frames/s]\n",
      "  1%|          | 16/1633 [00:00<00:10, 153.07frames/s]"
     ]
    },
    {
     "name": "stdout",
     "output_type": "stream",
     "text": [
      "Finding cuts of Video ../../data/IXshQ5mv1K8.mp4: 1935/2002\r"
     ]
    },
    {
     "name": "stderr",
     "output_type": "stream",
     "text": [
      "100%|██████████| 1633/1633 [00:09<00:00, 178.97frames/s]\n",
      "  0%|          | 8/2730 [00:00<00:34, 79.45frames/s]"
     ]
    },
    {
     "name": "stdout",
     "output_type": "stream",
     "text": [
      "Finding cuts of Video ../../data/E2nrE9JnaDg.mp4: 1936/2002\r"
     ]
    },
    {
     "name": "stderr",
     "output_type": "stream",
     "text": [
      "100%|██████████| 2730/2730 [00:15<00:00, 172.05frames/s]\n",
      "  0%|          | 10/4852 [00:00<00:49, 98.29frames/s]"
     ]
    },
    {
     "name": "stdout",
     "output_type": "stream",
     "text": [
      "Finding cuts of Video ../../data/BdJKm16Co6M.mp4: 1937/2002\r"
     ]
    },
    {
     "name": "stderr",
     "output_type": "stream",
     "text": [
      "100%|██████████| 4852/4852 [00:27<00:00, 173.85frames/s]\n",
      "  0%|          | 7/2945 [00:00<00:45, 64.50frames/s]"
     ]
    },
    {
     "name": "stdout",
     "output_type": "stream",
     "text": [
      "Finding cuts of Video ../../data/InR865IDDjU.mp4: 1938/2002\r"
     ]
    },
    {
     "name": "stderr",
     "output_type": "stream",
     "text": [
      "100%|██████████| 2945/2945 [00:17<00:00, 170.22frames/s]\n",
      "  0%|          | 15/3804 [00:00<00:25, 149.51frames/s]"
     ]
    },
    {
     "name": "stdout",
     "output_type": "stream",
     "text": [
      "Finding cuts of Video ../../data/daFnEiLEx70.mp4: 1939/2002\r"
     ]
    },
    {
     "name": "stderr",
     "output_type": "stream",
     "text": [
      "100%|██████████| 3804/3804 [00:21<00:00, 174.32frames/s]\n",
      "  1%|          | 11/1294 [00:00<00:11, 107.36frames/s]"
     ]
    },
    {
     "name": "stdout",
     "output_type": "stream",
     "text": [
      "Finding cuts of Video ../../data/h2yzzzfLSeE.mp4: 1940/2002\r"
     ]
    },
    {
     "name": "stderr",
     "output_type": "stream",
     "text": [
      "100%|██████████| 1294/1294 [00:07<00:00, 173.85frames/s]\n",
      "  1%|          | 18/3269 [00:00<00:18, 172.58frames/s]"
     ]
    },
    {
     "name": "stdout",
     "output_type": "stream",
     "text": [
      "Finding cuts of Video ../../data/827FNDpQWrQ.mp4: 1941/2002\r"
     ]
    },
    {
     "name": "stderr",
     "output_type": "stream",
     "text": [
      "100%|██████████| 3269/3269 [00:18<00:00, 181.36frames/s]\n",
      "  1%|          | 14/1440 [00:00<00:10, 136.29frames/s]"
     ]
    },
    {
     "name": "stdout",
     "output_type": "stream",
     "text": [
      "Finding cuts of Video ../../data/HSCQWX-pUSg.mp4: 1942/2002\r"
     ]
    },
    {
     "name": "stderr",
     "output_type": "stream",
     "text": [
      "100%|██████████| 1440/1440 [00:08<00:00, 175.87frames/s]\n",
      "  2%|▏         | 49/2305 [00:00<00:04, 482.85frames/s]"
     ]
    },
    {
     "name": "stdout",
     "output_type": "stream",
     "text": [
      "Finding cuts of Video ../../data/OyxfXQ4MGLQ.mp4: 1943/2002\r"
     ]
    },
    {
     "name": "stderr",
     "output_type": "stream",
     "text": [
      "100%|██████████| 2305/2305 [00:04<00:00, 488.03frames/s]\n",
      "  1%|          | 20/2876 [00:00<00:14, 196.37frames/s]"
     ]
    },
    {
     "name": "stdout",
     "output_type": "stream",
     "text": [
      "Finding cuts of Video ../../data/OvW_L8sTu5E.mp4: 1944/2002\r"
     ]
    },
    {
     "name": "stderr",
     "output_type": "stream",
     "text": [
      "100%|██████████| 2876/2876 [00:12<00:00, 228.06frames/s]\n",
      "  0%|          | 15/3264 [00:00<00:22, 146.14frames/s]"
     ]
    },
    {
     "name": "stdout",
     "output_type": "stream",
     "text": [
      "Finding cuts of Video ../../data/RYExstiQlLc.mp4: 1945/2002\r"
     ]
    },
    {
     "name": "stderr",
     "output_type": "stream",
     "text": [
      "100%|██████████| 3264/3264 [00:18<00:00, 174.27frames/s]\n",
      "  5%|▍         | 101/2163 [00:00<00:02, 1003.98frames/s]"
     ]
    },
    {
     "name": "stdout",
     "output_type": "stream",
     "text": [
      "Finding cuts of Video ../../data/FKp91KONPvY.mp4: 1946/2002\r"
     ]
    },
    {
     "name": "stderr",
     "output_type": "stream",
     "text": [
      "2164frames [00:02, 948.16frames/s]                       \n",
      "  1%|          | 30/2952 [00:00<00:09, 298.92frames/s]"
     ]
    },
    {
     "name": "stdout",
     "output_type": "stream",
     "text": [
      "Finding cuts of Video ../../data/7PAOsS3HM78.mp4: 1947/2002\r"
     ]
    },
    {
     "name": "stderr",
     "output_type": "stream",
     "text": [
      "100%|██████████| 2952/2952 [00:08<00:00, 337.40frames/s]\n",
      "  1%|          | 32/3447 [00:00<00:10, 314.43frames/s]"
     ]
    },
    {
     "name": "stdout",
     "output_type": "stream",
     "text": [
      "Finding cuts of Video ../../data/NkTrG-gpIzE.mp4: 1948/2002\r"
     ]
    },
    {
     "name": "stderr",
     "output_type": "stream",
     "text": [
      "100%|██████████| 3447/3447 [00:10<00:00, 333.56frames/s]\n",
      "  4%|▎         | 122/3472 [00:00<00:02, 1212.13frames/s]"
     ]
    },
    {
     "name": "stdout",
     "output_type": "stream",
     "text": [
      "Finding cuts of Video ../../data/uEXsOqdzYhE.mp4: 1949/2002\r"
     ]
    },
    {
     "name": "stderr",
     "output_type": "stream",
     "text": [
      "100%|██████████| 3472/3472 [00:03<00:00, 1093.74frames/s]\n",
      "  1%|          | 23/3655 [00:00<00:16, 221.15frames/s]"
     ]
    },
    {
     "name": "stdout",
     "output_type": "stream",
     "text": [
      "Finding cuts of Video ../../data/TbQm5doF_Uc.mp4: 1950/2002\r"
     ]
    },
    {
     "name": "stderr",
     "output_type": "stream",
     "text": [
      "100%|██████████| 3655/3655 [00:17<00:00, 208.37frames/s]\n",
      "  1%|          | 19/3186 [00:00<00:17, 185.07frames/s]"
     ]
    },
    {
     "name": "stdout",
     "output_type": "stream",
     "text": [
      "Finding cuts of Video ../../data/vmSpCLefjnw.mp4: 1951/2002\r"
     ]
    },
    {
     "name": "stderr",
     "output_type": "stream",
     "text": [
      "100%|██████████| 3186/3186 [00:18<00:00, 174.22frames/s]\n",
      "  1%|▏         | 27/2052 [00:00<00:07, 268.22frames/s]"
     ]
    },
    {
     "name": "stdout",
     "output_type": "stream",
     "text": [
      "Finding cuts of Video ../../data/704EXbJ-b5k.mp4: 1952/2002\r"
     ]
    },
    {
     "name": "stderr",
     "output_type": "stream",
     "text": [
      "100%|██████████| 2052/2052 [00:08<00:00, 231.16frames/s]\n",
      "  0%|          | 18/3696 [00:00<00:20, 178.09frames/s]"
     ]
    },
    {
     "name": "stdout",
     "output_type": "stream",
     "text": [
      "Finding cuts of Video ../../data/JDcAlo8i2y8.mp4: 1953/2002\r"
     ]
    },
    {
     "name": "stderr",
     "output_type": "stream",
     "text": [
      "100%|██████████| 3696/3696 [00:20<00:00, 180.72frames/s]\n",
      "  0%|          | 12/3854 [00:00<00:33, 113.96frames/s]"
     ]
    },
    {
     "name": "stdout",
     "output_type": "stream",
     "text": [
      "Finding cuts of Video ../../data/OlhLOWTnVoQ.mp4: 1954/2002\r"
     ]
    },
    {
     "name": "stderr",
     "output_type": "stream",
     "text": [
      "100%|██████████| 3854/3854 [00:22<00:00, 173.92frames/s]\n",
      "  1%|          | 28/2284 [00:00<00:08, 279.31frames/s]"
     ]
    },
    {
     "name": "stdout",
     "output_type": "stream",
     "text": [
      "Finding cuts of Video ../../data/1Rl1TJG17Wk.mp4: 1955/2002\r"
     ]
    },
    {
     "name": "stderr",
     "output_type": "stream",
     "text": [
      "100%|██████████| 2284/2284 [00:06<00:00, 343.84frames/s]\n",
      "  0%|          | 15/3563 [00:00<00:24, 147.20frames/s]"
     ]
    },
    {
     "name": "stdout",
     "output_type": "stream",
     "text": [
      "Finding cuts of Video ../../data/cRbAXWfthtA.mp4: 1956/2002\r"
     ]
    },
    {
     "name": "stderr",
     "output_type": "stream",
     "text": [
      "100%|██████████| 3563/3563 [00:19<00:00, 180.29frames/s]\n",
      "  1%|▏         | 49/3652 [00:00<00:07, 486.27frames/s]"
     ]
    },
    {
     "name": "stdout",
     "output_type": "stream",
     "text": [
      "Finding cuts of Video ../../data/reo7zqvpdi0.mp4: 1957/2002\r"
     ]
    },
    {
     "name": "stderr",
     "output_type": "stream",
     "text": [
      "3653frames [00:08, 429.18frames/s]                      \n",
      "  0%|          | 17/3543 [00:00<00:21, 166.32frames/s]"
     ]
    },
    {
     "name": "stdout",
     "output_type": "stream",
     "text": [
      "Finding cuts of Video ../../data/xhYUaR5QiUs.mp4: 1958/2002\r"
     ]
    },
    {
     "name": "stderr",
     "output_type": "stream",
     "text": [
      "3544frames [00:20, 174.96frames/s]                      \n",
      "  1%|          | 15/2796 [00:00<00:20, 138.60frames/s]"
     ]
    },
    {
     "name": "stdout",
     "output_type": "stream",
     "text": [
      "Finding cuts of Video ../../data/-UaGUdNJdRQ.mp4: 1959/2002\r"
     ]
    },
    {
     "name": "stderr",
     "output_type": "stream",
     "text": [
      "100%|██████████| 2796/2796 [00:16<00:00, 174.34frames/s]\n",
      "  0%|          | 15/4026 [00:00<00:27, 145.27frames/s]"
     ]
    },
    {
     "name": "stdout",
     "output_type": "stream",
     "text": [
      "Finding cuts of Video ../../data/HddkucqSzSM.mp4: 1960/2002\r"
     ]
    },
    {
     "name": "stderr",
     "output_type": "stream",
     "text": [
      "100%|██████████| 4026/4026 [00:22<00:00, 177.42frames/s]\n",
      "  1%|          | 20/3648 [00:00<00:18, 193.58frames/s]"
     ]
    },
    {
     "name": "stdout",
     "output_type": "stream",
     "text": [
      "Finding cuts of Video ../../data/1-q8C_c-nlM.mp4: 1961/2002\r"
     ]
    },
    {
     "name": "stderr",
     "output_type": "stream",
     "text": [
      "100%|██████████| 3648/3648 [00:20<00:00, 179.57frames/s]\n",
      "  0%|          | 16/3439 [00:00<00:22, 154.06frames/s]"
     ]
    },
    {
     "name": "stdout",
     "output_type": "stream",
     "text": [
      "Finding cuts of Video ../../data/fUjicxMPDzs.mp4: 1962/2002\r"
     ]
    },
    {
     "name": "stderr",
     "output_type": "stream",
     "text": [
      "100%|██████████| 3439/3439 [00:19<00:00, 180.56frames/s]\n",
      "  0%|          | 15/4131 [00:00<00:27, 147.94frames/s]"
     ]
    },
    {
     "name": "stdout",
     "output_type": "stream",
     "text": [
      "Finding cuts of Video ../../data/Im4odVLNxqo.mp4: 1963/2002\r"
     ]
    },
    {
     "name": "stderr",
     "output_type": "stream",
     "text": [
      "100%|██████████| 4131/4131 [00:23<00:00, 177.17frames/s]\n",
      "  2%|▏         | 35/2135 [00:00<00:06, 343.82frames/s]"
     ]
    },
    {
     "name": "stdout",
     "output_type": "stream",
     "text": [
      "Finding cuts of Video ../../data/mwbLivFNZok.mp4: 1964/2002\r"
     ]
    },
    {
     "name": "stderr",
     "output_type": "stream",
     "text": [
      "100%|██████████| 2135/2135 [00:04<00:00, 522.86frames/s]\n",
      "  1%|          | 35/3601 [00:00<00:10, 348.92frames/s]"
     ]
    },
    {
     "name": "stdout",
     "output_type": "stream",
     "text": [
      "Finding cuts of Video ../../data/iojhqm0JTW4.mp4: 1965/2002\r"
     ]
    },
    {
     "name": "stderr",
     "output_type": "stream",
     "text": [
      "100%|██████████| 3601/3601 [00:08<00:00, 441.08frames/s]\n",
      "  3%|▎         | 64/1867 [00:00<00:02, 636.37frames/s]"
     ]
    },
    {
     "name": "stdout",
     "output_type": "stream",
     "text": [
      "Finding cuts of Video ../../data/4t2tdKD9tPs.mp4: 1966/2002\r"
     ]
    },
    {
     "name": "stderr",
     "output_type": "stream",
     "text": [
      "100%|██████████| 1867/1867 [00:02<00:00, 823.10frames/s]\n",
      "  1%|          | 30/4375 [00:00<00:14, 299.53frames/s]"
     ]
    },
    {
     "name": "stdout",
     "output_type": "stream",
     "text": [
      "Finding cuts of Video ../../data/2gx8Sx8Ushk.mp4: 1967/2002\r"
     ]
    },
    {
     "name": "stderr",
     "output_type": "stream",
     "text": [
      "100%|██████████| 4375/4375 [00:05<00:00, 836.61frames/s]\n",
      "  1%|          | 14/1450 [00:00<00:10, 137.94frames/s]"
     ]
    },
    {
     "name": "stdout",
     "output_type": "stream",
     "text": [
      "Finding cuts of Video ../../data/6UjbmIoM_aE.mp4: 1968/2002\r"
     ]
    },
    {
     "name": "stderr",
     "output_type": "stream",
     "text": [
      "100%|██████████| 1450/1450 [00:08<00:00, 177.71frames/s]\n",
      "  0%|          | 16/3517 [00:00<00:22, 158.51frames/s]"
     ]
    },
    {
     "name": "stdout",
     "output_type": "stream",
     "text": [
      "Finding cuts of Video ../../data/dLmKio67pVQ.mp4: 1969/2002\r"
     ]
    },
    {
     "name": "stderr",
     "output_type": "stream",
     "text": [
      "100%|██████████| 3517/3517 [00:19<00:00, 177.15frames/s]\n",
      "  1%|          | 37/3638 [00:00<00:09, 368.94frames/s]"
     ]
    },
    {
     "name": "stdout",
     "output_type": "stream",
     "text": [
      "Finding cuts of Video ../../data/kJ27kgmhI6Q.mp4: 1970/2002\r"
     ]
    },
    {
     "name": "stderr",
     "output_type": "stream",
     "text": [
      "100%|██████████| 3638/3638 [00:10<00:00, 333.61frames/s]\n",
      "  0%|          | 9/3753 [00:00<00:44, 84.71frames/s]"
     ]
    },
    {
     "name": "stdout",
     "output_type": "stream",
     "text": [
      "Finding cuts of Video ../../data/z7zl_t48CMc.mp4: 1971/2002\r"
     ]
    },
    {
     "name": "stderr",
     "output_type": "stream",
     "text": [
      "100%|██████████| 3753/3753 [00:21<00:00, 174.40frames/s]\n",
      "  3%|▎         | 55/2175 [00:00<00:03, 543.36frames/s]"
     ]
    },
    {
     "name": "stdout",
     "output_type": "stream",
     "text": [
      "Finding cuts of Video ../../data/y0f_e0ZJLvA.mp4: 1972/2002\r"
     ]
    },
    {
     "name": "stderr",
     "output_type": "stream",
     "text": [
      "100%|██████████| 2175/2175 [00:03<00:00, 549.43frames/s]\n",
      "  1%|          | 18/2528 [00:00<00:14, 175.99frames/s]"
     ]
    },
    {
     "name": "stdout",
     "output_type": "stream",
     "text": [
      "Finding cuts of Video ../../data/JOsEU5oYpTA.mp4: 1973/2002\r"
     ]
    },
    {
     "name": "stderr",
     "output_type": "stream",
     "text": [
      "100%|██████████| 2528/2528 [00:14<00:00, 175.38frames/s]\n",
      "  0%|          | 0/3392 [00:00<?, ?frames/s]"
     ]
    },
    {
     "name": "stdout",
     "output_type": "stream",
     "text": [
      "Finding cuts of Video ../../data/21jdGrCtSak.mp4: 1974/2002\r"
     ]
    },
    {
     "name": "stderr",
     "output_type": "stream",
     "text": [
      "100%|██████████| 3392/3392 [00:06<00:00, 550.47frames/s]\n",
      "  1%|          | 41/4260 [00:00<00:10, 404.15frames/s]"
     ]
    },
    {
     "name": "stdout",
     "output_type": "stream",
     "text": [
      "Finding cuts of Video ../../data/BoohRoVA9WQ.mp4: 1975/2002\r"
     ]
    },
    {
     "name": "stderr",
     "output_type": "stream",
     "text": [
      "100%|██████████| 4260/4260 [00:12<00:00, 337.91frames/s]\n",
      "  1%|          | 15/2117 [00:00<00:14, 144.96frames/s]"
     ]
    },
    {
     "name": "stdout",
     "output_type": "stream",
     "text": [
      "Finding cuts of Video ../../data/C6PbWhWGUrY.mp4: 1976/2002\r"
     ]
    },
    {
     "name": "stderr",
     "output_type": "stream",
     "text": [
      "100%|██████████| 2117/2117 [00:12<00:00, 175.19frames/s]\n",
      "  1%|          | 20/3239 [00:00<00:16, 193.59frames/s]"
     ]
    },
    {
     "name": "stdout",
     "output_type": "stream",
     "text": [
      "Finding cuts of Video ../../data/cMKX2tE5Luk.mp4: 1977/2002\r"
     ]
    },
    {
     "name": "stderr",
     "output_type": "stream",
     "text": [
      "100%|██████████| 3239/3239 [00:17<00:00, 180.21frames/s]\n",
      "  1%|          | 33/3113 [00:00<00:09, 321.93frames/s]"
     ]
    },
    {
     "name": "stdout",
     "output_type": "stream",
     "text": [
      "Finding cuts of Video ../../data/Sq5CIH0duMk.mp4: 1978/2002\r"
     ]
    },
    {
     "name": "stderr",
     "output_type": "stream",
     "text": [
      "100%|██████████| 3113/3113 [00:09<00:00, 338.22frames/s]\n",
      "  0%|          | 15/3766 [00:00<00:26, 143.96frames/s]"
     ]
    },
    {
     "name": "stdout",
     "output_type": "stream",
     "text": [
      "Finding cuts of Video ../../data/bN7ksFEVO9U.mp4: 1979/2002\r"
     ]
    },
    {
     "name": "stderr",
     "output_type": "stream",
     "text": [
      "100%|██████████| 3766/3766 [00:20<00:00, 179.42frames/s]\n",
      "  2%|▏         | 55/3533 [00:00<00:06, 538.89frames/s]"
     ]
    },
    {
     "name": "stdout",
     "output_type": "stream",
     "text": [
      "Finding cuts of Video ../../data/pnzLRDDijW0.mp4: 1980/2002\r"
     ]
    },
    {
     "name": "stderr",
     "output_type": "stream",
     "text": [
      "100%|██████████| 3533/3533 [00:06<00:00, 585.41frames/s]\n",
      "  0%|          | 11/3624 [00:00<00:35, 102.00frames/s]"
     ]
    },
    {
     "name": "stdout",
     "output_type": "stream",
     "text": [
      "Finding cuts of Video ../../data/MFWF9dU5Zc0.webm: 1981/2002\r"
     ]
    },
    {
     "name": "stderr",
     "output_type": "stream",
     "text": [
      " 96%|█████████▌| 3466/3624 [00:19<00:00, 181.17frames/s]\n",
      "  0%|          | 15/3479 [00:00<00:24, 143.71frames/s]"
     ]
    },
    {
     "name": "stdout",
     "output_type": "stream",
     "text": [
      "Finding cuts of Video ../../data/cSp1dM2Vj48.mp4: 1982/2002\r"
     ]
    },
    {
     "name": "stderr",
     "output_type": "stream",
     "text": [
      "100%|██████████| 3479/3479 [00:20<00:00, 172.19frames/s]\n",
      "  3%|▎         | 72/2443 [00:00<00:03, 715.09frames/s]"
     ]
    },
    {
     "name": "stdout",
     "output_type": "stream",
     "text": [
      "Finding cuts of Video ../../data/kDP8ERAUnZc.mp4: 1983/2002\r"
     ]
    },
    {
     "name": "stderr",
     "output_type": "stream",
     "text": [
      "100%|██████████| 2443/2443 [00:03<00:00, 812.26frames/s]\n",
      "  1%|          | 39/3678 [00:00<00:09, 388.27frames/s]"
     ]
    },
    {
     "name": "stdout",
     "output_type": "stream",
     "text": [
      "Finding cuts of Video ../../data/N4wNv1zuYDc.mp4: 1984/2002\r"
     ]
    },
    {
     "name": "stderr",
     "output_type": "stream",
     "text": [
      "100%|██████████| 3678/3678 [00:07<00:00, 465.40frames/s]\n",
      "  1%|▏         | 39/2640 [00:00<00:06, 387.50frames/s]"
     ]
    },
    {
     "name": "stdout",
     "output_type": "stream",
     "text": [
      "Finding cuts of Video ../../data/PzzzdDW6HDo.mp4: 1985/2002\r"
     ]
    },
    {
     "name": "stderr",
     "output_type": "stream",
     "text": [
      "100%|██████████| 2640/2640 [00:05<00:00, 499.39frames/s]\n",
      "  1%|          | 19/3463 [00:00<00:18, 188.12frames/s]"
     ]
    },
    {
     "name": "stdout",
     "output_type": "stream",
     "text": [
      "Finding cuts of Video ../../data/oDcaZ3StTfI.mp4: 1986/2002\r"
     ]
    },
    {
     "name": "stderr",
     "output_type": "stream",
     "text": [
      "100%|██████████| 3463/3463 [00:14<00:00, 236.37frames/s]\n",
      "  1%|▏         | 51/3578 [00:00<00:07, 501.18frames/s]"
     ]
    },
    {
     "name": "stdout",
     "output_type": "stream",
     "text": [
      "Finding cuts of Video ../../data/3zuRkQSx5gs.mp4: 1987/2002\r"
     ]
    },
    {
     "name": "stderr",
     "output_type": "stream",
     "text": [
      "100%|██████████| 3578/3578 [00:05<00:00, 602.16frames/s]\n",
      "  2%|▏         | 35/1440 [00:00<00:04, 349.16frames/s]"
     ]
    },
    {
     "name": "stdout",
     "output_type": "stream",
     "text": [
      "Finding cuts of Video ../../data/eh_qPcQoFK0.mp4: 1988/2002\r"
     ]
    },
    {
     "name": "stderr",
     "output_type": "stream",
     "text": [
      "100%|██████████| 1440/1440 [00:04<00:00, 332.90frames/s]\n",
      "  1%|          | 35/4812 [00:00<00:13, 348.09frames/s]"
     ]
    },
    {
     "name": "stdout",
     "output_type": "stream",
     "text": [
      "Finding cuts of Video ../../data/aStYWD25fAQ.mp4: 1989/2002\r"
     ]
    },
    {
     "name": "stderr",
     "output_type": "stream",
     "text": [
      "100%|██████████| 4812/4812 [00:14<00:00, 337.93frames/s]\n",
      "  1%|          | 15/2906 [00:00<00:19, 148.36frames/s]"
     ]
    },
    {
     "name": "stdout",
     "output_type": "stream",
     "text": [
      "Finding cuts of Video ../../data/F_PfTl63qQQ.mp4: 1990/2002\r"
     ]
    },
    {
     "name": "stderr",
     "output_type": "stream",
     "text": [
      "100%|██████████| 2906/2906 [00:16<00:00, 177.01frames/s]\n",
      "  0%|          | 18/3737 [00:00<00:21, 177.03frames/s]"
     ]
    },
    {
     "name": "stdout",
     "output_type": "stream",
     "text": [
      "Finding cuts of Video ../../data/zutiIw_2e2g.mp4: 1991/2002\r"
     ]
    },
    {
     "name": "stderr",
     "output_type": "stream",
     "text": [
      "100%|██████████| 3737/3737 [00:21<00:00, 175.20frames/s]\n",
      "  1%|          | 17/3203 [00:00<00:19, 165.38frames/s]"
     ]
    },
    {
     "name": "stdout",
     "output_type": "stream",
     "text": [
      "Finding cuts of Video ../../data/D_PQhGHnU8Q.mp4: 1992/2002\r"
     ]
    },
    {
     "name": "stderr",
     "output_type": "stream",
     "text": [
      "100%|██████████| 3203/3203 [00:17<00:00, 181.57frames/s]\n",
      "  1%|          | 30/3756 [00:00<00:12, 299.69frames/s]"
     ]
    },
    {
     "name": "stdout",
     "output_type": "stream",
     "text": [
      "Finding cuts of Video ../../data/4RI0QvaGoiI.mp4: 1993/2002\r"
     ]
    },
    {
     "name": "stderr",
     "output_type": "stream",
     "text": [
      "100%|██████████| 3756/3756 [00:11<00:00, 328.46frames/s]\n",
      "  0%|          | 14/3849 [00:00<00:27, 139.84frames/s]"
     ]
    },
    {
     "name": "stdout",
     "output_type": "stream",
     "text": [
      "Finding cuts of Video ../../data/rnjuh5dXk-g.mp4: 1994/2002\r"
     ]
    },
    {
     "name": "stderr",
     "output_type": "stream",
     "text": [
      "100%|██████████| 3849/3849 [00:21<00:00, 180.69frames/s]\n",
      "  1%|          | 23/3281 [00:00<00:14, 226.06frames/s]"
     ]
    },
    {
     "name": "stdout",
     "output_type": "stream",
     "text": [
      "Finding cuts of Video ../../data/UUkn-enk2RU.mp4: 1995/2002\r"
     ]
    },
    {
     "name": "stderr",
     "output_type": "stream",
     "text": [
      "100%|██████████| 3281/3281 [00:14<00:00, 227.74frames/s]\n",
      "  0%|          | 10/3337 [00:00<00:34, 95.15frames/s]"
     ]
    },
    {
     "name": "stdout",
     "output_type": "stream",
     "text": [
      "Finding cuts of Video ../../data/fcb68kAOvt4.webm: 1996/2002\r"
     ]
    },
    {
     "name": "stderr",
     "output_type": "stream",
     "text": [
      " 93%|█████████▎| 3087/3337 [00:17<00:01, 180.35frames/s]\n",
      "  1%|          | 18/3240 [00:00<00:17, 179.32frames/s]"
     ]
    },
    {
     "name": "stdout",
     "output_type": "stream",
     "text": [
      "Finding cuts of Video ../../data/N0WUpsErUBA.mp4: 1997/2002\r"
     ]
    },
    {
     "name": "stderr",
     "output_type": "stream",
     "text": [
      "100%|██████████| 3240/3240 [00:17<00:00, 185.15frames/s]\n",
      "  0%|          | 15/3478 [00:00<00:23, 147.14frames/s]"
     ]
    },
    {
     "name": "stdout",
     "output_type": "stream",
     "text": [
      "Finding cuts of Video ../../data/-CKPj4O5_9s.mp4: 1998/2002\r"
     ]
    },
    {
     "name": "stderr",
     "output_type": "stream",
     "text": [
      "100%|██████████| 3478/3478 [00:19<00:00, 175.18frames/s]\n",
      "  0%|          | 15/3509 [00:00<00:24, 142.78frames/s]"
     ]
    },
    {
     "name": "stdout",
     "output_type": "stream",
     "text": [
      "Finding cuts of Video ../../data/iZbTLdDHRvs.mp4: 1999/2002\r"
     ]
    },
    {
     "name": "stderr",
     "output_type": "stream",
     "text": [
      "100%|██████████| 3509/3509 [00:19<00:00, 177.26frames/s]\n",
      "  1%|          | 15/2229 [00:00<00:15, 145.74frames/s]"
     ]
    },
    {
     "name": "stdout",
     "output_type": "stream",
     "text": [
      "Finding cuts of Video ../../data/ymPUAsPsTwg.mp4: 2000/2002\r"
     ]
    },
    {
     "name": "stderr",
     "output_type": "stream",
     "text": [
      "100%|██████████| 2229/2229 [00:12<00:00, 175.08frames/s]\n",
      "  6%|▌         | 53/921 [00:00<00:01, 523.62frames/s]"
     ]
    },
    {
     "name": "stdout",
     "output_type": "stream",
     "text": [
      "Finding cuts of Video ../../data/VPg4RgEapwo.mp4: 2001/2002\r"
     ]
    },
    {
     "name": "stderr",
     "output_type": "stream",
     "text": [
      "100%|██████████| 921/921 [00:01<00:00, 644.78frames/s]\n",
      "  1%|          | 18/2606 [00:00<00:14, 174.38frames/s]"
     ]
    },
    {
     "name": "stdout",
     "output_type": "stream",
     "text": [
      "Finding cuts of Video ../../data/7TavVZMewpY.mp4: 2002/2002\r"
     ]
    },
    {
     "name": "stderr",
     "output_type": "stream",
     "text": [
      "100%|██████████| 2606/2606 [00:14<00:00, 178.91frames/s]\n"
     ]
    }
   ],
   "source": [
    "for i, vid_file in enumerate(downloaded):\n",
    "    video_dir = os.path.join(dataset_folder, vid_file)\n",
    "    print(f\"Finding cuts of Video {video_dir}: {i+1}/{len(downloaded)}\", end='\\r')\n",
    "    \n",
    "    # Check for already existing files and skip if already calculated\n",
    "    yt_id = vid_file.split('.')[0]\n",
    "    vid_cut_file = f'{yt_id}_cuts.npy'\n",
    "    vid_cut_dir = os.path.join(cuts_folder, vid_cut_file)\n",
    "    if os.path.exists(vid_cut_dir):\n",
    "        continue\n",
    "    \n",
    "    # Create a video_manager point to video file testvideo.mp4. Note that multiple\n",
    "    # videos can be appended by simply specifying more file paths in the list\n",
    "    # passed to the VideoManager constructor. Note that appending multiple videos\n",
    "    # requires that they all have the same frame size, and optionally, framerate.\n",
    "    try:\n",
    "        video_manager = VideoManager([video_dir])\n",
    "        stats_manager = StatsManager()\n",
    "        scene_manager = SceneManager(stats_manager)\n",
    "        # Add ContentDetector algorithm (constructor takes detector options like threshold).\n",
    "        scene_manager.add_detector(ContentDetector())\n",
    "        base_timecode = video_manager.get_base_timecode()\n",
    "\n",
    "        try:\n",
    "            # Set downscale factor to improve processing speed (no args means default).\n",
    "            video_manager.set_downscale_factor()\n",
    "\n",
    "            # Start video_manager.\n",
    "            video_manager.start()\n",
    "\n",
    "            # Perform scene detection on video_manager.\n",
    "            scene_manager.detect_scenes(frame_source=video_manager)\n",
    "\n",
    "            # Obtain list of detected scenes.\n",
    "            scene_list = scene_manager.get_scene_list(base_timecode)\n",
    "            # Like FrameTimecodes, each scene in the scene_list can be sorted if the\n",
    "            # list of scenes becomes unsorted.\n",
    "\n",
    "            times = np.array([s[0].get_frames() for s in scene_list])\n",
    "            np.save(vid_cut_dir, times)\n",
    "        finally:\n",
    "            video_manager.release()\n",
    "    except:\n",
    "        pass"
   ]
  },
  {
   "cell_type": "markdown",
   "metadata": {},
   "source": [
    "# Collect histogram variation between frames and cuts"
   ]
  },
  {
   "cell_type": "code",
   "execution_count": 23,
   "metadata": {},
   "outputs": [],
   "source": [
    "# histogram similarity metrics\n",
    "def norm_hist(H):\n",
    "    return H / H.size\n",
    "\n",
    "def hist_correlation(H1, H2):\n",
    "    H1_bar = H1.mean()\n",
    "    H2_bar = H2.mean()\n",
    "    num = ((H1 - H1_bar)*(H2 - H2_bar)).sum()\n",
    "    denom = ((H1 - H1_bar)**2).sum() * ((H2 - H2_bar)**2).sum()\n",
    "    denom = denom ** 0.5\n",
    "    return num / denom\n",
    "\n",
    "def hist_intersection(H1, H2):\n",
    "    return np.minimum(H1, H2).sum()\n",
    "\n",
    "def hist_bhattacharyya(H1, H2):\n",
    "    return -np.log(np.sqrt(H1*H2).sum())\n",
    "\n",
    "def compare_histograms(H1, H2, data_dict=None, comparison_functions=[hist_correlation, hist_intersection, hist_bhattacharyya]):\n",
    "    H1, H2 = norm_hist(H1), norm_hist(H2) # Convert to probability distribution\n",
    "    if data_dict is None:\n",
    "        data_dict = {f.__name__: [] for f in comparison_functions} \n",
    "    for f in comparison_functions:\n",
    "        data_dict[f.__name__].append(f(H1, H2))\n",
    "    return data_dict"
   ]
  },
  {
   "cell_type": "code",
   "execution_count": 24,
   "metadata": {},
   "outputs": [],
   "source": [
    "def collect_video_stats(video_file_name):\n",
    "    vid_file = os.path.basename(video_file_name)\n",
    "    yt_id = vid_file.split(\".\")[0]\n",
    "    vid_cut_file = f'{yt_id}_cuts.npy'\n",
    "    vid_cut_dir = os.path.join(cuts_folder, vid_cut_file)\n",
    "    vid_cuts = np.load(vid_cut_dir)\n",
    "    print(f\"Vid Cuts: {vid_cuts}\")\n",
    "    \n",
    "    vid = cv2.VideoCapture(video_file_name)\n",
    "    frame_count = int(vid.get(cv2.CAP_PROP_FRAME_COUNT))\n",
    "    \n",
    "    i = 0\n",
    "    H_frame_prev = None\n",
    "    H_cut = None\n",
    "    H_cut_prev = None\n",
    "    frame_wise_data = None # Signals to compare_histograms that we need to replace this with a data structure\n",
    "    cut_wise_data = None # Signals to compare_histograms that we need to replace this with a data structure\n",
    "\n",
    "    while True:\n",
    "        # Read image and make histogram\n",
    "        success, im = vid.read()\n",
    "        \n",
    "        # Break if no more frames left\n",
    "        if not success or i > 100:\n",
    "            break\n",
    "        \n",
    "        # Print status update if there are more frames to process\n",
    "        print(f\"Processing Frame {i}/{frame_count}\", end=\"\\r\")\n",
    "        \n",
    "        # Reset our histogram and collect data if we have encountered a cut\n",
    "        if i in vid_cuts:\n",
    "            \n",
    "            # Collect cut_wise stats\n",
    "            if H_cut_prev is not None:\n",
    "                cut_wise_data = compare_histograms(H_cut, H_cut_prev, cut_wise_data)\n",
    "            # (Re)set aggregation variables\n",
    "            H_cut_prev = H_cut\n",
    "            H_cut = np.zeros((255, 255, 255))\n",
    "\n",
    "        # Make Histogram\n",
    "        im = np.flip(im, axis=2) # Switch BGR (openCV standard) to RGB\n",
    "        im = color.rgb2hsv(im) # Convert RGB to space for different viewing\n",
    "        H_frame, _ = np.histogramdd(\n",
    "            im.reshape(-1, im.shape[-1]),  #flattened image for input to histogramdd\n",
    "            bins=(255, 255, 255)\n",
    "        )\n",
    "        \n",
    "        # Collect frame_wise stats\n",
    "        if H_cut_prev is not None:\n",
    "            frame_wise_data = compare_histograms(H_frame, H_frame_prev, frame_wise_data)\n",
    "\n",
    "        # Increment\n",
    "        H_cut += H_frame\n",
    "        H_frame_prev = H_frame\n",
    "        i += 1\n",
    "    \n",
    "    # Make DataFrame\n",
    "    return pd.DataFrame(frame_wise_data), pd.DataFrame(cut_wise_data)"
   ]
  },
  {
   "cell_type": "code",
   "execution_count": 25,
   "metadata": {},
   "outputs": [
    {
     "name": "stdout",
     "output_type": "stream",
     "text": [
      "Processing Video ../../data/xV5udqNpP94.mp4\n",
      "Vid Cuts: [   0   39   89  207  251  290  341  368  389  423  459  480  615  646\n",
      "  663  687  711  744  775  827  878  915  971  991 1014 1040 1064 1095\n",
      " 1115 1141 1193 1227 1271 1300 1339 1365 1402 1463 1503 1535 1599 1620\n",
      " 1643 1687 1747 1823 1838 1877 1942 1982 2001 2041 2082 2099 2139 2154\n",
      " 2173 2194 2213 2231 2252 2299 2324 2341 2360 2383 2408 2427 2451 2470\n",
      " 2491 2515 2535 2555 2659 2680 2757]\n",
      "Processing Frame 0/2954\r"
     ]
    },
    {
     "name": "stderr",
     "output_type": "stream",
     "text": [
      "/home/bmild/anaconda2/envs/comp-color/lib/python3.7/site-packages/skimage/color/colorconv.py:264: RuntimeWarning: divide by zero encountered in true_divide\n",
      "  out[idx, 0] = (arr[idx, 1] - arr[idx, 2]) / delta[idx]\n",
      "/home/bmild/anaconda2/envs/comp-color/lib/python3.7/site-packages/skimage/color/colorconv.py:268: RuntimeWarning: divide by zero encountered in true_divide\n",
      "  out[idx, 0] = 2. + (arr[idx, 2] - arr[idx, 0]) / delta[idx]\n",
      "/home/bmild/anaconda2/envs/comp-color/lib/python3.7/site-packages/skimage/color/colorconv.py:272: RuntimeWarning: divide by zero encountered in true_divide\n",
      "  out[idx, 0] = 4. + (arr[idx, 0] - arr[idx, 1]) / delta[idx]\n"
     ]
    },
    {
     "name": "stdout",
     "output_type": "stream",
     "text": [
      "Processing Frame 39/2954\r"
     ]
    },
    {
     "name": "stderr",
     "output_type": "stream",
     "text": [
      "/home/bmild/anaconda2/envs/comp-color/lib/python3.7/site-packages/ipykernel_launcher.py:17: RuntimeWarning: divide by zero encountered in log\n"
     ]
    },
    {
     "name": "stdout",
     "output_type": "stream",
     "text": [
      "Processing Frame 42/2954\r"
     ]
    },
    {
     "name": "stderr",
     "output_type": "stream",
     "text": [
      "/home/bmild/anaconda2/envs/comp-color/lib/python3.7/site-packages/skimage/color/colorconv.py:258: RuntimeWarning: divide by zero encountered in true_divide\n",
      "  out_s = delta / out_v\n"
     ]
    },
    {
     "name": "stdout",
     "output_type": "stream",
     "text": [
      "Processing Video ../../data/TKPmGjVFbrY.mp4\n",
      "Vid Cuts: [   0  546  644  662  682  783  958 1005 1073 1147 1218 1279 1327 1414\n",
      " 1509 1552 1716 1786 1813 1920 1968 1983 2005 2027 2046 2080 2172 2211\n",
      " 2228 2255 2278 2304 2462 2595 2628 2670 2709 2806 2821 2860 2961 3104\n",
      " 3120 3147 3207 3238 3253 3291 3323 3342 3393 3412 3434 3470 3760 3866\n",
      " 4117 4211]\n",
      "Processing Frame 25/4269\r"
     ]
    },
    {
     "ename": "KeyboardInterrupt",
     "evalue": "",
     "output_type": "error",
     "traceback": [
      "\u001b[0;31m---------------------------------------------------------------------------\u001b[0m",
      "\u001b[0;31mKeyboardInterrupt\u001b[0m                         Traceback (most recent call last)",
      "\u001b[0;32m<ipython-input-25-0593237bdbd9>\u001b[0m in \u001b[0;36m<module>\u001b[0;34m\u001b[0m\n\u001b[1;32m      3\u001b[0m     \u001b[0mfile_dir\u001b[0m \u001b[0;34m=\u001b[0m \u001b[0mos\u001b[0m\u001b[0;34m.\u001b[0m\u001b[0mpath\u001b[0m\u001b[0;34m.\u001b[0m\u001b[0mjoin\u001b[0m\u001b[0;34m(\u001b[0m\u001b[0mdataset_folder\u001b[0m\u001b[0;34m,\u001b[0m \u001b[0mvid_file\u001b[0m\u001b[0;34m)\u001b[0m\u001b[0;34m\u001b[0m\u001b[0;34m\u001b[0m\u001b[0m\n\u001b[1;32m      4\u001b[0m     \u001b[0mprint\u001b[0m\u001b[0;34m(\u001b[0m\u001b[0;34mf\"Processing Video {file_dir}\"\u001b[0m\u001b[0;34m)\u001b[0m\u001b[0;34m\u001b[0m\u001b[0;34m\u001b[0m\u001b[0m\n\u001b[0;32m----> 5\u001b[0;31m     \u001b[0mframe_wise_stats\u001b[0m\u001b[0;34m,\u001b[0m \u001b[0mcut_wise_stats\u001b[0m \u001b[0;34m=\u001b[0m \u001b[0mcollect_video_stats\u001b[0m\u001b[0;34m(\u001b[0m\u001b[0mfile_dir\u001b[0m\u001b[0;34m)\u001b[0m\u001b[0;34m\u001b[0m\u001b[0;34m\u001b[0m\u001b[0m\n\u001b[0m\u001b[1;32m      6\u001b[0m     \u001b[0mframe_wise_stats\u001b[0m\u001b[0;34m.\u001b[0m\u001b[0mto_csv\u001b[0m\u001b[0;34m(\u001b[0m\u001b[0mos\u001b[0m\u001b[0;34m.\u001b[0m\u001b[0mpath\u001b[0m\u001b[0;34m.\u001b[0m\u001b[0mjoin\u001b[0m\u001b[0;34m(\u001b[0m\u001b[0manalysis_folder\u001b[0m\u001b[0;34m,\u001b[0m \u001b[0;34mf\"{yt_id}_byFrame.csv\"\u001b[0m\u001b[0;34m)\u001b[0m\u001b[0;34m)\u001b[0m\u001b[0;34m\u001b[0m\u001b[0;34m\u001b[0m\u001b[0m\n\u001b[1;32m      7\u001b[0m     \u001b[0mcut_wise_stats\u001b[0m\u001b[0;34m.\u001b[0m\u001b[0mto_csv\u001b[0m\u001b[0;34m(\u001b[0m\u001b[0mos\u001b[0m\u001b[0;34m.\u001b[0m\u001b[0mpath\u001b[0m\u001b[0;34m.\u001b[0m\u001b[0mjoin\u001b[0m\u001b[0;34m(\u001b[0m\u001b[0manalysis_folder\u001b[0m\u001b[0;34m,\u001b[0m \u001b[0;34mf\"{yt_id}_byCut.csv\"\u001b[0m\u001b[0;34m)\u001b[0m\u001b[0;34m)\u001b[0m\u001b[0;34m\u001b[0m\u001b[0;34m\u001b[0m\u001b[0m\n",
      "\u001b[0;32m<ipython-input-24-01297e6d3dd9>\u001b[0m in \u001b[0;36mcollect_video_stats\u001b[0;34m(video_file_name)\u001b[0m\n\u001b[1;32m     42\u001b[0m         H_frame, _ = np.histogramdd(\n\u001b[1;32m     43\u001b[0m             \u001b[0mim\u001b[0m\u001b[0;34m.\u001b[0m\u001b[0mreshape\u001b[0m\u001b[0;34m(\u001b[0m\u001b[0;34m-\u001b[0m\u001b[0;36m1\u001b[0m\u001b[0;34m,\u001b[0m \u001b[0mim\u001b[0m\u001b[0;34m.\u001b[0m\u001b[0mshape\u001b[0m\u001b[0;34m[\u001b[0m\u001b[0;34m-\u001b[0m\u001b[0;36m1\u001b[0m\u001b[0;34m]\u001b[0m\u001b[0;34m)\u001b[0m\u001b[0;34m,\u001b[0m  \u001b[0;31m#flattened image for input to histogramdd\u001b[0m\u001b[0;34m\u001b[0m\u001b[0;34m\u001b[0m\u001b[0m\n\u001b[0;32m---> 44\u001b[0;31m             \u001b[0mbins\u001b[0m\u001b[0;34m=\u001b[0m\u001b[0;34m(\u001b[0m\u001b[0;36m255\u001b[0m\u001b[0;34m,\u001b[0m \u001b[0;36m255\u001b[0m\u001b[0;34m,\u001b[0m \u001b[0;36m255\u001b[0m\u001b[0;34m)\u001b[0m\u001b[0;34m\u001b[0m\u001b[0;34m\u001b[0m\u001b[0m\n\u001b[0m\u001b[1;32m     45\u001b[0m         )\n\u001b[1;32m     46\u001b[0m \u001b[0;34m\u001b[0m\u001b[0m\n",
      "\u001b[0;32m~/anaconda2/envs/comp-color/lib/python3.7/site-packages/numpy/lib/histograms.py\u001b[0m in \u001b[0;36mhistogramdd\u001b[0;34m(sample, bins, range, normed, weights, density)\u001b[0m\n\u001b[1;32m   1058\u001b[0m         \u001b[0;31m# avoid np.digitize to work around gh-11022\u001b[0m\u001b[0;34m\u001b[0m\u001b[0;34m\u001b[0m\u001b[0;34m\u001b[0m\u001b[0m\n\u001b[1;32m   1059\u001b[0m         \u001b[0mnp\u001b[0m\u001b[0;34m.\u001b[0m\u001b[0msearchsorted\u001b[0m\u001b[0;34m(\u001b[0m\u001b[0medges\u001b[0m\u001b[0;34m[\u001b[0m\u001b[0mi\u001b[0m\u001b[0;34m]\u001b[0m\u001b[0;34m,\u001b[0m \u001b[0msample\u001b[0m\u001b[0;34m[\u001b[0m\u001b[0;34m:\u001b[0m\u001b[0;34m,\u001b[0m \u001b[0mi\u001b[0m\u001b[0;34m]\u001b[0m\u001b[0;34m,\u001b[0m \u001b[0mside\u001b[0m\u001b[0;34m=\u001b[0m\u001b[0;34m'right'\u001b[0m\u001b[0;34m)\u001b[0m\u001b[0;34m\u001b[0m\u001b[0;34m\u001b[0m\u001b[0m\n\u001b[0;32m-> 1060\u001b[0;31m         \u001b[0;32mfor\u001b[0m \u001b[0mi\u001b[0m \u001b[0;32min\u001b[0m \u001b[0m_range\u001b[0m\u001b[0;34m(\u001b[0m\u001b[0mD\u001b[0m\u001b[0;34m)\u001b[0m\u001b[0;34m\u001b[0m\u001b[0;34m\u001b[0m\u001b[0m\n\u001b[0m\u001b[1;32m   1061\u001b[0m     )\n\u001b[1;32m   1062\u001b[0m \u001b[0;34m\u001b[0m\u001b[0m\n",
      "\u001b[0;32m~/anaconda2/envs/comp-color/lib/python3.7/site-packages/numpy/lib/histograms.py\u001b[0m in \u001b[0;36m<genexpr>\u001b[0;34m(.0)\u001b[0m\n\u001b[1;32m   1058\u001b[0m         \u001b[0;31m# avoid np.digitize to work around gh-11022\u001b[0m\u001b[0;34m\u001b[0m\u001b[0;34m\u001b[0m\u001b[0;34m\u001b[0m\u001b[0m\n\u001b[1;32m   1059\u001b[0m         \u001b[0mnp\u001b[0m\u001b[0;34m.\u001b[0m\u001b[0msearchsorted\u001b[0m\u001b[0;34m(\u001b[0m\u001b[0medges\u001b[0m\u001b[0;34m[\u001b[0m\u001b[0mi\u001b[0m\u001b[0;34m]\u001b[0m\u001b[0;34m,\u001b[0m \u001b[0msample\u001b[0m\u001b[0;34m[\u001b[0m\u001b[0;34m:\u001b[0m\u001b[0;34m,\u001b[0m \u001b[0mi\u001b[0m\u001b[0;34m]\u001b[0m\u001b[0;34m,\u001b[0m \u001b[0mside\u001b[0m\u001b[0;34m=\u001b[0m\u001b[0;34m'right'\u001b[0m\u001b[0;34m)\u001b[0m\u001b[0;34m\u001b[0m\u001b[0;34m\u001b[0m\u001b[0m\n\u001b[0;32m-> 1060\u001b[0;31m         \u001b[0;32mfor\u001b[0m \u001b[0mi\u001b[0m \u001b[0;32min\u001b[0m \u001b[0m_range\u001b[0m\u001b[0;34m(\u001b[0m\u001b[0mD\u001b[0m\u001b[0;34m)\u001b[0m\u001b[0;34m\u001b[0m\u001b[0;34m\u001b[0m\u001b[0m\n\u001b[0m\u001b[1;32m   1061\u001b[0m     )\n\u001b[1;32m   1062\u001b[0m \u001b[0;34m\u001b[0m\u001b[0m\n",
      "\u001b[0;32m~/anaconda2/envs/comp-color/lib/python3.7/site-packages/numpy/core/fromnumeric.py\u001b[0m in \u001b[0;36msearchsorted\u001b[0;34m(a, v, side, sorter)\u001b[0m\n\u001b[1;32m   1244\u001b[0m \u001b[0;34m\u001b[0m\u001b[0m\n\u001b[1;32m   1245\u001b[0m     \"\"\"\n\u001b[0;32m-> 1246\u001b[0;31m     \u001b[0;32mreturn\u001b[0m \u001b[0m_wrapfunc\u001b[0m\u001b[0;34m(\u001b[0m\u001b[0ma\u001b[0m\u001b[0;34m,\u001b[0m \u001b[0;34m'searchsorted'\u001b[0m\u001b[0;34m,\u001b[0m \u001b[0mv\u001b[0m\u001b[0;34m,\u001b[0m \u001b[0mside\u001b[0m\u001b[0;34m=\u001b[0m\u001b[0mside\u001b[0m\u001b[0;34m,\u001b[0m \u001b[0msorter\u001b[0m\u001b[0;34m=\u001b[0m\u001b[0msorter\u001b[0m\u001b[0;34m)\u001b[0m\u001b[0;34m\u001b[0m\u001b[0;34m\u001b[0m\u001b[0m\n\u001b[0m\u001b[1;32m   1247\u001b[0m \u001b[0;34m\u001b[0m\u001b[0m\n\u001b[1;32m   1248\u001b[0m \u001b[0;34m\u001b[0m\u001b[0m\n",
      "\u001b[0;32m~/anaconda2/envs/comp-color/lib/python3.7/site-packages/numpy/core/fromnumeric.py\u001b[0m in \u001b[0;36m_wrapfunc\u001b[0;34m(obj, method, *args, **kwds)\u001b[0m\n\u001b[1;32m     54\u001b[0m \u001b[0;32mdef\u001b[0m \u001b[0m_wrapfunc\u001b[0m\u001b[0;34m(\u001b[0m\u001b[0mobj\u001b[0m\u001b[0;34m,\u001b[0m \u001b[0mmethod\u001b[0m\u001b[0;34m,\u001b[0m \u001b[0;34m*\u001b[0m\u001b[0margs\u001b[0m\u001b[0;34m,\u001b[0m \u001b[0;34m**\u001b[0m\u001b[0mkwds\u001b[0m\u001b[0;34m)\u001b[0m\u001b[0;34m:\u001b[0m\u001b[0;34m\u001b[0m\u001b[0;34m\u001b[0m\u001b[0m\n\u001b[1;32m     55\u001b[0m     \u001b[0;32mtry\u001b[0m\u001b[0;34m:\u001b[0m\u001b[0;34m\u001b[0m\u001b[0;34m\u001b[0m\u001b[0m\n\u001b[0;32m---> 56\u001b[0;31m         \u001b[0;32mreturn\u001b[0m \u001b[0mgetattr\u001b[0m\u001b[0;34m(\u001b[0m\u001b[0mobj\u001b[0m\u001b[0;34m,\u001b[0m \u001b[0mmethod\u001b[0m\u001b[0;34m)\u001b[0m\u001b[0;34m(\u001b[0m\u001b[0;34m*\u001b[0m\u001b[0margs\u001b[0m\u001b[0;34m,\u001b[0m \u001b[0;34m**\u001b[0m\u001b[0mkwds\u001b[0m\u001b[0;34m)\u001b[0m\u001b[0;34m\u001b[0m\u001b[0;34m\u001b[0m\u001b[0m\n\u001b[0m\u001b[1;32m     57\u001b[0m \u001b[0;34m\u001b[0m\u001b[0m\n\u001b[1;32m     58\u001b[0m     \u001b[0;31m# An AttributeError occurs if the object does not have\u001b[0m\u001b[0;34m\u001b[0m\u001b[0;34m\u001b[0m\u001b[0;34m\u001b[0m\u001b[0m\n",
      "\u001b[0;31mKeyboardInterrupt\u001b[0m: "
     ]
    }
   ],
   "source": [
    "for vid_file in downloaded:\n",
    "    yt_id = vid_file.split(\".\")[0]\n",
    "    file_dir = os.path.join(dataset_folder, vid_file)\n",
    "    print(f\"Processing Video {file_dir}\")\n",
    "    frame_wise_stats, cut_wise_stats = collect_video_stats(file_dir)\n",
    "    frame_wise_stats.to_csv(os.path.join(analysis_folder, f\"{yt_id}_byFrame.csv\"))\n",
    "    cut_wise_stats.to_csv(os.path.join(analysis_folder, f\"{yt_id}_byCut.csv\"))"
   ]
  },
  {
   "cell_type": "code",
   "execution_count": null,
   "metadata": {},
   "outputs": [],
   "source": []
  }
 ],
 "metadata": {
  "kernelspec": {
   "display_name": "Python 3",
   "language": "python",
   "name": "python3"
  },
  "language_info": {
   "codemirror_mode": {
    "name": "ipython",
    "version": 3
   },
   "file_extension": ".py",
   "mimetype": "text/x-python",
   "name": "python",
   "nbconvert_exporter": "python",
   "pygments_lexer": "ipython3",
   "version": "3.7.4"
  }
 },
 "nbformat": 4,
 "nbformat_minor": 4
}
